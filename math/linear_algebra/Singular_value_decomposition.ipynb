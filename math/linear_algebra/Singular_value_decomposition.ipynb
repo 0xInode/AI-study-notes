{
  "cells": [
    {
      "cell_type": "markdown",
      "id": "52e42082-5f23-485d-962e-3fd7da97e0ab",
      "metadata": {
        "id": "52e42082-5f23-485d-962e-3fd7da97e0ab"
      },
      "source": [
        "[![Open In Colab](https://colab.research.google.com/assets/colab-badge.svg)](https://colab.research.google.com/github/0xInode/AI-study-notes/blob/main/math/linear_algebra/singular_value_decomposition.ipynb)\n"
      ]
    },
    {
      "cell_type": "markdown",
      "source": [
        "$$\n",
        "f(x) = \\text{sign}(w^T \\phi(x) + b)\n",
        "$$\n"
      ],
      "metadata": {
        "id": "CicrfWleNr4B"
      },
      "id": "CicrfWleNr4B"
    },
    {
      "cell_type": "markdown",
      "source": [],
      "metadata": {
        "id": "8AhIFA9oNv9G"
      },
      "id": "8AhIFA9oNv9G"
    }
  ],
  "metadata": {
    "kernelspec": {
      "display_name": "Python 3 (ipykernel)",
      "language": "python",
      "name": "python3"
    },
    "language_info": {
      "codemirror_mode": {
        "name": "ipython",
        "version": 3
      },
      "file_extension": ".py",
      "mimetype": "text/x-python",
      "name": "python",
      "nbconvert_exporter": "python",
      "pygments_lexer": "ipython3",
      "version": "3.13.5"
    },
    "colab": {
      "provenance": []
    }
  },
  "nbformat": 4,
  "nbformat_minor": 5
}