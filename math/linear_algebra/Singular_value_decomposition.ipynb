{
  "cells": [
    {
      "cell_type": "markdown",
      "id": "52e42082-5f23-485d-962e-3fd7da97e0ab",
      "metadata": {
        "id": "52e42082-5f23-485d-962e-3fd7da97e0ab"
      },
      "source": [
        "[![Open In Colab](https://colab.research.google.com/assets/colab-badge.svg)](https://colab.research.google.com/github/0xInode/AI-study-notes/blob/main/math/linear_algebra/singular_value_decomposition.ipynb)\n"
      ]
    },
    {
      "cell_type": "markdown",
      "source": [
        "선형대수를 활용한 이미지 처리  \n",
        "1. 이미지는 각 픽셀과 색상마다 그레이스케일(회색조) 값이 들어 있는 큰 행렬\n",
        "2. 인접한 픽셀들이 서로 상관되어 있다면(무작위가 아니라면), 이미지를 압축할 수 있음\n",
        "3. SVD는 어떤 행렬 $𝐴$도 랭크 1의 조각들 $𝑢𝑣^𝑇$으로 나눔  \n",
        "여기서 이는 (열벡터)(행벡터) 꼴\n",
        "4. 그 열벡터와 행벡터는 대칭 행렬 $𝐴𝐴^𝑇$와 $𝐴^𝑇$$𝐴$의 고유벡터(eigenvector)  \n",
        "→ 즉, 행렬 $𝐴$에 대한 특이값 정리(SVD 정리)는 $𝐴^𝑇$$𝐴$와 $𝐴𝐴^𝑇$에 대한 고윳값 정리\n"
      ],
      "metadata": {
        "id": "CicrfWleNr4B"
      },
      "id": "CicrfWleNr4B"
    },
    {
      "cell_type": "markdown",
      "source": [],
      "metadata": {
        "id": "8AhIFA9oNv9G"
      },
      "id": "8AhIFA9oNv9G"
    }
  ],
  "metadata": {
    "kernelspec": {
      "display_name": "Python 3 (ipykernel)",
      "language": "python",
      "name": "python3"
    },
    "language_info": {
      "codemirror_mode": {
        "name": "ipython",
        "version": 3
      },
      "file_extension": ".py",
      "mimetype": "text/x-python",
      "name": "python",
      "nbconvert_exporter": "python",
      "pygments_lexer": "ipython3",
      "version": "3.13.5"
    },
    "colab": {
      "provenance": []
    }
  },
  "nbformat": 4,
  "nbformat_minor": 5
}