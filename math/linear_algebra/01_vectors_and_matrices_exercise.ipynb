{
  "cells": [
    {
      "cell_type": "markdown",
      "id": "ea2fb8f6-5f4f-4150-896c-c762caa212d3",
      "metadata": {
        "id": "ea2fb8f6-5f4f-4150-896c-c762caa212d3"
      },
      "source": [
        "[![Open In Colab](https://colab.research.google.com/assets/colab-badge.svg)](https://colab.research.google.com/github/0xInode/AI-study-notes/blob/main/math/linear_algebra/01_vectors_and_matrices_exercise.ipynb)\n"
      ]
    },
    {
      "cell_type": "markdown",
      "source": [
        "# 01. Vectors and Matrices - Exercise\n",
        "\n",
        "벡터와 행렬의 기본 개념 실습용"
      ],
      "metadata": {
        "id": "vuBg7Rq434cy"
      },
      "id": "vuBg7Rq434cy"
    },
    {
      "cell_type": "code",
      "source": [
        "import numpy as np"
      ],
      "metadata": {
        "id": "dTWoOKJe3_Ko"
      },
      "id": "dTWoOKJe3_Ko",
      "execution_count": 1,
      "outputs": []
    },
    {
      "cell_type": "code",
      "source": [
        "# 벡터 생성\n",
        "v1 = np.array([1, 2])\n",
        "v2 = np.array([3, 4])\n",
        "\n",
        "print(\"v1 =\", v1)\n",
        "print(\"v2 =\", v2)\n"
      ],
      "metadata": {
        "id": "8J2MbVyB4AcZ",
        "outputId": "309da6e8-717f-49c1-ea2e-b4bc35f02a74",
        "colab": {
          "base_uri": "https://localhost:8080/"
        }
      },
      "id": "8J2MbVyB4AcZ",
      "execution_count": 3,
      "outputs": [
        {
          "output_type": "stream",
          "name": "stdout",
          "text": [
            "v1 = [1 2]\n",
            "v2 = [3 4]\n"
          ]
        }
      ]
    },
    {
      "cell_type": "code",
      "source": [
        "# 벡터 덧셈 및 스칼라 곱\n",
        "print(\"v1 + v2 =\", v1 + v2)\n",
        "print(\"3 * v1 =\", 3 * v1)\n"
      ],
      "metadata": {
        "id": "OjG03nST4DZJ",
        "outputId": "e69c0fe5-47d3-4066-f1c9-301be403f0fb",
        "colab": {
          "base_uri": "https://localhost:8080/"
        }
      },
      "id": "OjG03nST4DZJ",
      "execution_count": 4,
      "outputs": [
        {
          "output_type": "stream",
          "name": "stdout",
          "text": [
            "v1 + v2 = [4 6]\n",
            "3 * v1 = [3 6]\n"
          ]
        }
      ]
    },
    {
      "cell_type": "code",
      "source": [
        "# 행렬 생성\n",
        "A = np.array([[1, 2], [3, 4]])\n",
        "B = np.array([[5, 6], [7, 8]])\n",
        "\n",
        "print(\"A =\\n\", A)\n",
        "print(\"B =\\n\", B)\n"
      ],
      "metadata": {
        "id": "b3HdHXH44Gkc",
        "outputId": "ec67c9b5-319c-4639-9c8b-9c77c81a12dd",
        "colab": {
          "base_uri": "https://localhost:8080/"
        }
      },
      "id": "b3HdHXH44Gkc",
      "execution_count": 5,
      "outputs": [
        {
          "output_type": "stream",
          "name": "stdout",
          "text": [
            "A =\n",
            " [[1 2]\n",
            " [3 4]]\n",
            "B =\n",
            " [[5 6]\n",
            " [7 8]]\n"
          ]
        }
      ]
    },
    {
      "cell_type": "code",
      "source": [
        "# 행렬-벡터 곱\n",
        "result = A @ v1\n",
        "print(\"A @ v1 =\", result)"
      ],
      "metadata": {
        "id": "_MrSxqoY4IXp",
        "outputId": "f72fadce-acda-4d64-ff34-e891f508be04",
        "colab": {
          "base_uri": "https://localhost:8080/"
        }
      },
      "id": "_MrSxqoY4IXp",
      "execution_count": 6,
      "outputs": [
        {
          "output_type": "stream",
          "name": "stdout",
          "text": [
            "A @ v1 = [ 5 11]\n"
          ]
        }
      ]
    },
    {
      "cell_type": "code",
      "source": [
        "# 행렬 곱\n",
        "C = A @ B\n",
        "print(\"A @ B =\\n\", C)"
      ],
      "metadata": {
        "id": "8PU_ARDL4MOI",
        "outputId": "78cee608-2ad6-4111-fa13-89aa15c5f966",
        "colab": {
          "base_uri": "https://localhost:8080/"
        }
      },
      "id": "8PU_ARDL4MOI",
      "execution_count": 7,
      "outputs": [
        {
          "output_type": "stream",
          "name": "stdout",
          "text": [
            "A @ B =\n",
            " [[19 22]\n",
            " [43 50]]\n"
          ]
        }
      ]
    },
    {
      "cell_type": "code",
      "source": [
        "# 전치\n",
        "print(\"A^T =\\n\", A.T)"
      ],
      "metadata": {
        "id": "BIDwKJg54PM4",
        "outputId": "89f50af3-c108-4ae2-af73-4b0ec5899039",
        "colab": {
          "base_uri": "https://localhost:8080/"
        }
      },
      "id": "BIDwKJg54PM4",
      "execution_count": 8,
      "outputs": [
        {
          "output_type": "stream",
          "name": "stdout",
          "text": [
            "A^T =\n",
            " [[1 3]\n",
            " [2 4]]\n"
          ]
        }
      ]
    },
    {
      "cell_type": "code",
      "source": [],
      "metadata": {
        "id": "pZItH9YM4R8o"
      },
      "id": "pZItH9YM4R8o",
      "execution_count": null,
      "outputs": []
    }
  ],
  "metadata": {
    "kernelspec": {
      "display_name": "Python 3 (ipykernel)",
      "language": "python",
      "name": "python3"
    },
    "language_info": {
      "codemirror_mode": {
        "name": "ipython",
        "version": 3
      },
      "file_extension": ".py",
      "mimetype": "text/x-python",
      "name": "python",
      "nbconvert_exporter": "python",
      "pygments_lexer": "ipython3",
      "version": "3.13.5"
    },
    "colab": {
      "provenance": []
    }
  },
  "nbformat": 4,
  "nbformat_minor": 5
}