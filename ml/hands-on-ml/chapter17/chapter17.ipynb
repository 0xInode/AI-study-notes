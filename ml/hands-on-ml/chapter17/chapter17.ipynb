{
 "cells": [
  {
   "cell_type": "markdown",
   "id": "f75dbb98-8670-4309-ae03-f004fea9bfea",
   "metadata": {},
   "source": [
    "[![Open In Colab](https://colab.research.google.com/assets/colab-badge.svg)](https://colab.research.google.com/github/0xInode/AI-study-notes/blob/main/ml/hands-on-ml/chapter17/chapter17.ipynb)\n"
   ]
  },
  {
   "cell_type": "markdown",
   "id": "a12e765a-2c64-4478-8eea-fe7bc1a7a5b9",
   "metadata": {},
   "source": []
  }
 ],
 "metadata": {
  "kernelspec": {
   "display_name": "Python 3 (ipykernel)",
   "language": "python",
   "name": "python3"
  },
  "language_info": {
   "codemirror_mode": {
    "name": "ipython",
    "version": 3
   },
   "file_extension": ".py",
   "mimetype": "text/x-python",
   "name": "python",
   "nbconvert_exporter": "python",
   "pygments_lexer": "ipython3",
   "version": "3.13.5"
  }
 },
 "nbformat": 4,
 "nbformat_minor": 5
}
