{
 "cells": [
  {
   "cell_type": "markdown",
   "id": "2bb8e089-dfee-4eb8-9144-13868c5a6bae",
   "metadata": {},
   "source": [
    "# 1. MNIST"
   ]
  },
  {
   "cell_type": "code",
   "execution_count": 2,
   "id": "8fb2eb84-3dc6-41c5-bb50-28cd8abec4cb",
   "metadata": {},
   "outputs": [],
   "source": [
    "# Python 3.5 이상 필요\n",
    "import sys\n",
    "assert sys.version_info >= (3, 5)\n",
    "\n",
    "# Colab 또는 Kaggle 실행 여부 확인\n",
    "IS_COLAB = \"google.colab\" in sys.modules\n",
    "IS_KAGGLE = \"kaggle_secrets\" in sys.modules\n",
    "\n",
    "# Scikit-Learn 0.20 이상 필요\n",
    "import sklearn\n",
    "assert sklearn.__version__ >= \"0.20\"\n",
    "\n",
    "# 공통 모듈 임포트\n",
    "import numpy as np\n",
    "import os\n",
    "\n",
    "# 랜덤 시드 고정\n",
    "np.random.seed(42)\n",
    "\n",
    "# 그래프 설정\n",
    "%matplotlib inline\n",
    "import matplotlib as mpl\n",
    "import matplotlib.pyplot as plt\n",
    "mpl.rc('axes', labelsize=14)   # 축 라벨 크기\n",
    "mpl.rc('xtick', labelsize=12)  # x축 눈금 크기\n",
    "mpl.rc('ytick', labelsize=12)  # y축 눈금 크기\n",
    "\n",
    "# 이미지 저장 경로 설정\n",
    "PROJECT_ROOT_DIR = \".\"\n",
    "CHAPTER_ID = \"classification\"\n",
    "IMAGES_PATH = os.path.join(PROJECT_ROOT_DIR, \"images\", CHAPTER_ID)\n",
    "os.makedirs(IMAGES_PATH, exist_ok=True)\n",
    "\n",
    "# 이미지 저장 함수\n",
    "def save_fig(fig_id, tight_layout=True, fig_extension=\"png\", resolution=300):\n",
    "    path = os.path.join(IMAGES_PATH, fig_id + \".\" + fig_extension)\n",
    "    print(\"Saving figure\", fig_id)\n",
    "    if tight_layout:\n",
    "        plt.tight_layout()  # 여백 정리\n",
    "    plt.savefig(path, format=fig_extension, dpi=resolution)\n"
   ]
  },
  {
   "cell_type": "code",
   "execution_count": 6,
   "id": "3467d5c5-d3ed-4490-8c0b-d4562c1aa805",
   "metadata": {},
   "outputs": [
    {
     "data": {
      "text/plain": [
       "dict_keys(['data', 'target', 'frame', 'categories', 'feature_names', 'target_names', 'DESCR', 'details', 'url'])"
      ]
     },
     "execution_count": 6,
     "metadata": {},
     "output_type": "execute_result"
    }
   ],
   "source": [
    "from sklearn.datasets import fetch_openml\n",
    "mnist = fetch_openml('mnist_784', version=1, as_frame=False)\n",
    "mnist.keys()\n",
    "# data: 각 행이 하나의 샘플(이미지), 각 열이 하나의 특성(피처)인 배열\n",
    "# target: 레이블(정답)을 담고 있는 배열\n",
    "# DESCR: 데이터셋에 대한 설명"
   ]
  },
  {
   "cell_type": "code",
   "execution_count": 14,
   "id": "da97d3c7-537e-4817-a8d2-9a1db6debb1f",
   "metadata": {},
   "outputs": [
    {
     "data": {
      "text/plain": [
       "(70000, 784)"
      ]
     },
     "execution_count": 14,
     "metadata": {},
     "output_type": "execute_result"
    }
   ],
   "source": [
    "X, y = mnist[\"data\"], mnist[\"target\"]    # 입력 데이터와 레이블 분리\n",
    "X.shape    # 총 70,000개의 이미지가 있으며, 각 이미지는 784개의 특성(feature) 가짐!"
   ]
  },
  {
   "cell_type": "code",
   "execution_count": 4,
   "id": "acb4ef8a-77ba-4a8b-823f-69defbb87cb0",
   "metadata": {},
   "outputs": [
    {
     "data": {
      "text/plain": [
       "(70000,)"
      ]
     },
     "execution_count": 4,
     "metadata": {},
     "output_type": "execute_result"
    }
   ],
   "source": [
    "y.shape"
   ]
  },
  {
   "cell_type": "code",
   "execution_count": 13,
   "id": "f1e312e2-91ca-470a-a40c-af5c541435dd",
   "metadata": {},
   "outputs": [
    {
     "data": {
      "text/plain": [
       "784"
      ]
     },
     "execution_count": 13,
     "metadata": {},
     "output_type": "execute_result"
    }
   ],
   "source": [
    "28 * 28    # 28 × 28 = 784개의 픽셀\n",
    "           # 각 특성 = 픽셀 하나의 밝기 값(0 ~ 255)"
   ]
  },
  {
   "cell_type": "code",
   "execution_count": 24,
   "id": "4a4e1ab0-0fdb-423e-950f-76503455d9b3",
   "metadata": {},
   "outputs": [
    {
     "name": "stdout",
     "output_type": "stream",
     "text": [
      "Saving figure some_digit_plot\n"
     ]
    },
    {
     "data": {
      "image/png": "[encoded data removed]",
      "text/plain": [
       "<Figure size 640x480 with 1 Axes>"
      ]
     },
     "metadata": {},
     "output_type": "display_data"
    }
   ],
   "source": [
    "%matplotlib inline \n",
    "import matplotlib as mpl\n",
    "import matplotlib.pyplot as plt   # 노트북에 그래프 출력\n",
    "\n",
    "some_digit = X[0]  # 첫 번째 샘플\n",
    "some_digit_image = some_digit.reshape(28, 28)  # 28×28 이미지로 변환\n",
    "\n",
    "plt.imshow(some_digit_image, cmap=mpl.cm.binary)  # 흑백 이미지 출력\n",
    "                                                  # binary\t밝은 배경에 어두운 전경\n",
    "                                                  # gray / Greys\t어두운 배경에 밝은 전경\n",
    "                                                  # viridis\t기본 컬러맵 (녹색-보라 등)\n",
    "                                                  # hot\t빨강-노랑 계열의 열 이미지\n",
    "plt.axis(\"off\")  # 축 제거\n",
    "\n",
    "save_fig(\"some_digit_plot\")  # 이미지 저장\n",
    "plt.show()  # 화면에 출력\n"
   ]
  },
  {
   "cell_type": "code",
   "execution_count": 32,
   "id": "207ffe90-d998-4972-bbf8-1c16283050ba",
   "metadata": {},
   "outputs": [
    {
     "data": {
      "text/plain": [
       "np.uint8(5)"
      ]
     },
     "execution_count": 32,
     "metadata": {},
     "output_type": "execute_result"
    }
   ],
   "source": [
    "y[0]  # 실제 레이블 확인"
   ]
  },
  {
   "cell_type": "code",
   "execution_count": 28,
   "id": "6e4edb4a-aba9-44e6-b39c-efd290f23914",
   "metadata": {},
   "outputs": [],
   "source": [
    "y = y.astype(np.uint8) # 현재 레이블은 string이고, 대부분의 머신러닝 알고리즘은 숫자 형식의 레이블을 기대함\n",
    "                       # y를 정수형으로 변환"
   ]
  },
  {
   "cell_type": "code",
   "execution_count": 151,
   "id": "15ffc3aa-0007-42f0-bb00-554cd51f75d9",
   "metadata": {},
   "outputs": [],
   "source": [
    "def plot_digit(data):\n",
    "    image = data.reshape(28, 28)                         # 1차원 벡터를 28x28 이미지로 변환\n",
    "    plt.imshow(image, cmap=mpl.cm.binary,               # 흑백 이미지로 표시\n",
    "               interpolation=\"nearest\")                 # 보간 없이 픽셀 그대로 표시\n",
    "    plt.axis(\"off\")                                     # 축 숨기기\n"
   ]
  },
  {
   "cell_type": "code",
   "execution_count": 34,
   "id": "21040c40-360e-44ed-87c2-1f564eac6f0e",
   "metadata": {},
   "outputs": [],
   "source": [
    "# 여러 숫자 이미지 한꺼번에 출력\n",
    "def plot_digits(instances, images_per_row=10, **options):\n",
    "    size = 28\n",
    "    images_per_row = min(len(instances), images_per_row)  # 행당 최대 이미지 수\n",
    "    n_rows = (len(instances) - 1) // images_per_row + 1  # 전체 행 수 계산\n",
    "\n",
    "    # 빈 이미지 추가 (모양 맞추기)\n",
    "    n_empty = n_rows * images_per_row - len(instances)\n",
    "    padded_instances = np.concatenate([instances, np.zeros((n_empty, size * size))], axis=0)\n",
    "\n",
    "    # (행, 열, 28, 28) 형태로 변환\n",
    "    image_grid = padded_instances.reshape((n_rows, images_per_row, size, size))\n",
    "\n",
    "    # 2D 큰 이미지로 결합\n",
    "    big_image = image_grid.transpose(0, 2, 1, 3).reshape(n_rows * size,\n",
    "                                                         images_per_row * size)\n",
    "    # 출력\n",
    "    plt.imshow(big_image, cmap=mpl.cm.binary, **options)\n",
    "    plt.axis(\"off\")\n"
   ]
  },
  {
   "cell_type": "code",
   "execution_count": 35,
   "id": "676a1c69-6ffb-4767-91da-0f7f8714ea8e",
   "metadata": {},
   "outputs": [
    {
     "name": "stdout",
     "output_type": "stream",
     "text": [
      "Saving figure more_digits_plot\n"
     ]
    },
    {
     "data": {
      "image/png": "[encoded data removed]",
      "text/plain": [
       "<Figure size 900x900 with 1 Axes>"
      ]
     },
     "metadata": {},
     "output_type": "display_data"
    }
   ],
   "source": [
    "plt.figure(figsize=(9, 9))  # 그림 크기 설정 (9x9인치)\n",
    "example_images = X[:100]  # 앞에서 100개 이미지 선택\n",
    "plot_digits(example_images, images_per_row=10)  # 10개씩 가로로 출력\n",
    "save_fig(\"more_digits_plot\")  # 이미지 저장\n",
    "plt.show()  # 화면에 출력\n"
   ]
  },
  {
   "cell_type": "code",
   "execution_count": 37,
   "id": "4f3e1558-31ff-467b-a132-dbc7391061c1",
   "metadata": {},
   "outputs": [],
   "source": [
    "X_train, X_test = X[:60000], X[60000:]  # 입력 데이터 분할 (훈련/테스트)\n",
    "y_train, y_test = y[:60000], y[60000:]  # 레이블 분할 (훈련/테스트)\n",
    "# 데이터는 이미 섞여 있음 -> 교차 검증 공정성 확보, 순서 민감도 완화"
   ]
  },
  {
   "cell_type": "markdown",
   "id": "7e034128-3fbc-4f8f-bf7c-8467590c886f",
   "metadata": {},
   "source": [
    "# 2. Training a Binary Classifier"
   ]
  },
  {
   "cell_type": "markdown",
   "id": "2f7f736f-278b-4fe3-9006-26a282ea1eee",
   "metadata": {},
   "source": [
    "특정 숫자 하나만 식별하기(숫자 5)  \n",
    "-> 이진 분류기(binary classifier)의 예"
   ]
  },
  {
   "cell_type": "code",
   "execution_count": 41,
   "id": "609e6e87-2368-4105-8c14-5cced9afe3b8",
   "metadata": {},
   "outputs": [],
   "source": [
    "# 분류 작업을 위한 타깃 벡터 생성\n",
    "y_train_5 = (y_train == 5)  # 5이면 True, 아니면 False\n",
    "y_test_5 = (y_test == 5)"
   ]
  },
  {
   "cell_type": "code",
   "execution_count": 42,
   "id": "190fb264-8d94-404c-92de-01c0c9df5114",
   "metadata": {},
   "outputs": [
    {
     "data": {
      "text/html": [
       "<style>#sk-container-id-1 {\n",
       "  /* Definition of color scheme common for light and dark mode */\n",
       "  --sklearn-color-text: #000;\n",
       "  --sklearn-color-text-muted: #666;\n",
       "  --sklearn-color-line: gray;\n",
       "  /* Definition of color scheme for unfitted estimators */\n",
       "  --sklearn-color-unfitted-level-0: #fff5e6;\n",
       "  --sklearn-color-unfitted-level-1: #f6e4d2;\n",
       "  --sklearn-color-unfitted-level-2: #ffe0b3;\n",
       "  --sklearn-color-unfitted-level-3: chocolate;\n",
       "  /* Definition of color scheme for fitted estimators */\n",
       "  --sklearn-color-fitted-level-0: #f0f8ff;\n",
       "  --sklearn-color-fitted-level-1: #d4ebff;\n",
       "  --sklearn-color-fitted-level-2: #b3dbfd;\n",
       "  --sklearn-color-fitted-level-3: cornflowerblue;\n",
       "\n",
       "  /* Specific color for light theme */\n",
       "  --sklearn-color-text-on-default-background: var(--sg-text-color, var(--theme-code-foreground, var(--jp-content-font-color1, black)));\n",
       "  --sklearn-color-background: var(--sg-background-color, var(--theme-background, var(--jp-layout-color0, white)));\n",
       "  --sklearn-color-border-box: var(--sg-text-color, var(--theme-code-foreground, var(--jp-content-font-color1, black)));\n",
       "  --sklearn-color-icon: #696969;\n",
       "\n",
       "  @media (prefers-color-scheme: dark) {\n",
       "    /* Redefinition of color scheme for dark theme */\n",
       "    --sklearn-color-text-on-default-background: var(--sg-text-color, var(--theme-code-foreground, var(--jp-content-font-color1, white)));\n",
       "    --sklearn-color-background: var(--sg-background-color, var(--theme-background, var(--jp-layout-color0, #111)));\n",
       "    --sklearn-color-border-box: var(--sg-text-color, var(--theme-code-foreground, var(--jp-content-font-color1, white)));\n",
       "    --sklearn-color-icon: #878787;\n",
       "  }\n",
       "}\n",
       "\n",
       "#sk-container-id-1 {\n",
       "  color: var(--sklearn-color-text);\n",
       "}\n",
       "\n",
       "#sk-container-id-1 pre {\n",
       "  padding: 0;\n",
       "}\n",
       "\n",
       "#sk-container-id-1 input.sk-hidden--visually {\n",
       "  border: 0;\n",
       "  clip: rect(1px 1px 1px 1px);\n",
       "  clip: rect(1px, 1px, 1px, 1px);\n",
       "  height: 1px;\n",
       "  margin: -1px;\n",
       "  overflow: hidden;\n",
       "  padding: 0;\n",
       "  position: absolute;\n",
       "  width: 1px;\n",
       "}\n",
       "\n",
       "#sk-container-id-1 div.sk-dashed-wrapped {\n",
       "  border: 1px dashed var(--sklearn-color-line);\n",
       "  margin: 0 0.4em 0.5em 0.4em;\n",
       "  box-sizing: border-box;\n",
       "  padding-bottom: 0.4em;\n",
       "  background-color: var(--sklearn-color-background);\n",
       "}\n",
       "\n",
       "#sk-container-id-1 div.sk-container {\n",
       "  /* jupyter's `normalize.less` sets `[hidden] { display: none; }`\n",
       "     but bootstrap.min.css set `[hidden] { display: none !important; }`\n",
       "     so we also need the `!important` here to be able to override the\n",
       "     default hidden behavior on the sphinx rendered scikit-learn.org.\n",
       "     See: https://github.com/scikit-learn/scikit-learn/issues/21755 */\n",
       "  display: inline-block !important;\n",
       "  position: relative;\n",
       "}\n",
       "\n",
       "#sk-container-id-1 div.sk-text-repr-fallback {\n",
       "  display: none;\n",
       "}\n",
       "\n",
       "div.sk-parallel-item,\n",
       "div.sk-serial,\n",
       "div.sk-item {\n",
       "  /* draw centered vertical line to link estimators */\n",
       "  background-image: linear-gradient(var(--sklearn-color-text-on-default-background), var(--sklearn-color-text-on-default-background));\n",
       "  background-size: 2px 100%;\n",
       "  background-repeat: no-repeat;\n",
       "  background-position: center center;\n",
       "}\n",
       "\n",
       "/* Parallel-specific style estimator block */\n",
       "\n",
       "#sk-container-id-1 div.sk-parallel-item::after {\n",
       "  content: \"\";\n",
       "  width: 100%;\n",
       "  border-bottom: 2px solid var(--sklearn-color-text-on-default-background);\n",
       "  flex-grow: 1;\n",
       "}\n",
       "\n",
       "#sk-container-id-1 div.sk-parallel {\n",
       "  display: flex;\n",
       "  align-items: stretch;\n",
       "  justify-content: center;\n",
       "  background-color: var(--sklearn-color-background);\n",
       "  position: relative;\n",
       "}\n",
       "\n",
       "#sk-container-id-1 div.sk-parallel-item {\n",
       "  display: flex;\n",
       "  flex-direction: column;\n",
       "}\n",
       "\n",
       "#sk-container-id-1 div.sk-parallel-item:first-child::after {\n",
       "  align-self: flex-end;\n",
       "  width: 50%;\n",
       "}\n",
       "\n",
       "#sk-container-id-1 div.sk-parallel-item:last-child::after {\n",
       "  align-self: flex-start;\n",
       "  width: 50%;\n",
       "}\n",
       "\n",
       "#sk-container-id-1 div.sk-parallel-item:only-child::after {\n",
       "  width: 0;\n",
       "}\n",
       "\n",
       "/* Serial-specific style estimator block */\n",
       "\n",
       "#sk-container-id-1 div.sk-serial {\n",
       "  display: flex;\n",
       "  flex-direction: column;\n",
       "  align-items: center;\n",
       "  background-color: var(--sklearn-color-background);\n",
       "  padding-right: 1em;\n",
       "  padding-left: 1em;\n",
       "}\n",
       "\n",
       "\n",
       "/* Toggleable style: style used for estimator/Pipeline/ColumnTransformer box that is\n",
       "clickable and can be expanded/collapsed.\n",
       "- Pipeline and ColumnTransformer use this feature and define the default style\n",
       "- Estimators will overwrite some part of the style using the `sk-estimator` class\n",
       "*/\n",
       "\n",
       "/* Pipeline and ColumnTransformer style (default) */\n",
       "\n",
       "#sk-container-id-1 div.sk-toggleable {\n",
       "  /* Default theme specific background. It is overwritten whether we have a\n",
       "  specific estimator or a Pipeline/ColumnTransformer */\n",
       "  background-color: var(--sklearn-color-background);\n",
       "}\n",
       "\n",
       "/* Toggleable label */\n",
       "#sk-container-id-1 label.sk-toggleable__label {\n",
       "  cursor: pointer;\n",
       "  display: flex;\n",
       "  width: 100%;\n",
       "  margin-bottom: 0;\n",
       "  padding: 0.5em;\n",
       "  box-sizing: border-box;\n",
       "  text-align: center;\n",
       "  align-items: start;\n",
       "  justify-content: space-between;\n",
       "  gap: 0.5em;\n",
       "}\n",
       "\n",
       "#sk-container-id-1 label.sk-toggleable__label .caption {\n",
       "  font-size: 0.6rem;\n",
       "  font-weight: lighter;\n",
       "  color: var(--sklearn-color-text-muted);\n",
       "}\n",
       "\n",
       "#sk-container-id-1 label.sk-toggleable__label-arrow:before {\n",
       "  /* Arrow on the left of the label */\n",
       "  content: \"▸\";\n",
       "  float: left;\n",
       "  margin-right: 0.25em;\n",
       "  color: var(--sklearn-color-icon);\n",
       "}\n",
       "\n",
       "#sk-container-id-1 label.sk-toggleable__label-arrow:hover:before {\n",
       "  color: var(--sklearn-color-text);\n",
       "}\n",
       "\n",
       "/* Toggleable content - dropdown */\n",
       "\n",
       "#sk-container-id-1 div.sk-toggleable__content {\n",
       "  display: none;\n",
       "  text-align: left;\n",
       "  /* unfitted */\n",
       "  background-color: var(--sklearn-color-unfitted-level-0);\n",
       "}\n",
       "\n",
       "#sk-container-id-1 div.sk-toggleable__content.fitted {\n",
       "  /* fitted */\n",
       "  background-color: var(--sklearn-color-fitted-level-0);\n",
       "}\n",
       "\n",
       "#sk-container-id-1 div.sk-toggleable__content pre {\n",
       "  margin: 0.2em;\n",
       "  border-radius: 0.25em;\n",
       "  color: var(--sklearn-color-text);\n",
       "  /* unfitted */\n",
       "  background-color: var(--sklearn-color-unfitted-level-0);\n",
       "}\n",
       "\n",
       "#sk-container-id-1 div.sk-toggleable__content.fitted pre {\n",
       "  /* unfitted */\n",
       "  background-color: var(--sklearn-color-fitted-level-0);\n",
       "}\n",
       "\n",
       "#sk-container-id-1 input.sk-toggleable__control:checked~div.sk-toggleable__content {\n",
       "  /* Expand drop-down */\n",
       "  display: block;\n",
       "  width: 100%;\n",
       "  overflow: visible;\n",
       "}\n",
       "\n",
       "#sk-container-id-1 input.sk-toggleable__control:checked~label.sk-toggleable__label-arrow:before {\n",
       "  content: \"▾\";\n",
       "}\n",
       "\n",
       "/* Pipeline/ColumnTransformer-specific style */\n",
       "\n",
       "#sk-container-id-1 div.sk-label input.sk-toggleable__control:checked~label.sk-toggleable__label {\n",
       "  color: var(--sklearn-color-text);\n",
       "  background-color: var(--sklearn-color-unfitted-level-2);\n",
       "}\n",
       "\n",
       "#sk-container-id-1 div.sk-label.fitted input.sk-toggleable__control:checked~label.sk-toggleable__label {\n",
       "  background-color: var(--sklearn-color-fitted-level-2);\n",
       "}\n",
       "\n",
       "/* Estimator-specific style */\n",
       "\n",
       "/* Colorize estimator box */\n",
       "#sk-container-id-1 div.sk-estimator input.sk-toggleable__control:checked~label.sk-toggleable__label {\n",
       "  /* unfitted */\n",
       "  background-color: var(--sklearn-color-unfitted-level-2);\n",
       "}\n",
       "\n",
       "#sk-container-id-1 div.sk-estimator.fitted input.sk-toggleable__control:checked~label.sk-toggleable__label {\n",
       "  /* fitted */\n",
       "  background-color: var(--sklearn-color-fitted-level-2);\n",
       "}\n",
       "\n",
       "#sk-container-id-1 div.sk-label label.sk-toggleable__label,\n",
       "#sk-container-id-1 div.sk-label label {\n",
       "  /* The background is the default theme color */\n",
       "  color: var(--sklearn-color-text-on-default-background);\n",
       "}\n",
       "\n",
       "/* On hover, darken the color of the background */\n",
       "#sk-container-id-1 div.sk-label:hover label.sk-toggleable__label {\n",
       "  color: var(--sklearn-color-text);\n",
       "  background-color: var(--sklearn-color-unfitted-level-2);\n",
       "}\n",
       "\n",
       "/* Label box, darken color on hover, fitted */\n",
       "#sk-container-id-1 div.sk-label.fitted:hover label.sk-toggleable__label.fitted {\n",
       "  color: var(--sklearn-color-text);\n",
       "  background-color: var(--sklearn-color-fitted-level-2);\n",
       "}\n",
       "\n",
       "/* Estimator label */\n",
       "\n",
       "#sk-container-id-1 div.sk-label label {\n",
       "  font-family: monospace;\n",
       "  font-weight: bold;\n",
       "  display: inline-block;\n",
       "  line-height: 1.2em;\n",
       "}\n",
       "\n",
       "#sk-container-id-1 div.sk-label-container {\n",
       "  text-align: center;\n",
       "}\n",
       "\n",
       "/* Estimator-specific */\n",
       "#sk-container-id-1 div.sk-estimator {\n",
       "  font-family: monospace;\n",
       "  border: 1px dotted var(--sklearn-color-border-box);\n",
       "  border-radius: 0.25em;\n",
       "  box-sizing: border-box;\n",
       "  margin-bottom: 0.5em;\n",
       "  /* unfitted */\n",
       "  background-color: var(--sklearn-color-unfitted-level-0);\n",
       "}\n",
       "\n",
       "#sk-container-id-1 div.sk-estimator.fitted {\n",
       "  /* fitted */\n",
       "  background-color: var(--sklearn-color-fitted-level-0);\n",
       "}\n",
       "\n",
       "/* on hover */\n",
       "#sk-container-id-1 div.sk-estimator:hover {\n",
       "  /* unfitted */\n",
       "  background-color: var(--sklearn-color-unfitted-level-2);\n",
       "}\n",
       "\n",
       "#sk-container-id-1 div.sk-estimator.fitted:hover {\n",
       "  /* fitted */\n",
       "  background-color: var(--sklearn-color-fitted-level-2);\n",
       "}\n",
       "\n",
       "/* Specification for estimator info (e.g. \"i\" and \"?\") */\n",
       "\n",
       "/* Common style for \"i\" and \"?\" */\n",
       "\n",
       ".sk-estimator-doc-link,\n",
       "a:link.sk-estimator-doc-link,\n",
       "a:visited.sk-estimator-doc-link {\n",
       "  float: right;\n",
       "  font-size: smaller;\n",
       "  line-height: 1em;\n",
       "  font-family: monospace;\n",
       "  background-color: var(--sklearn-color-background);\n",
       "  border-radius: 1em;\n",
       "  height: 1em;\n",
       "  width: 1em;\n",
       "  text-decoration: none !important;\n",
       "  margin-left: 0.5em;\n",
       "  text-align: center;\n",
       "  /* unfitted */\n",
       "  border: var(--sklearn-color-unfitted-level-1) 1pt solid;\n",
       "  color: var(--sklearn-color-unfitted-level-1);\n",
       "}\n",
       "\n",
       ".sk-estimator-doc-link.fitted,\n",
       "a:link.sk-estimator-doc-link.fitted,\n",
       "a:visited.sk-estimator-doc-link.fitted {\n",
       "  /* fitted */\n",
       "  border: var(--sklearn-color-fitted-level-1) 1pt solid;\n",
       "  color: var(--sklearn-color-fitted-level-1);\n",
       "}\n",
       "\n",
       "/* On hover */\n",
       "div.sk-estimator:hover .sk-estimator-doc-link:hover,\n",
       ".sk-estimator-doc-link:hover,\n",
       "div.sk-label-container:hover .sk-estimator-doc-link:hover,\n",
       ".sk-estimator-doc-link:hover {\n",
       "  /* unfitted */\n",
       "  background-color: var(--sklearn-color-unfitted-level-3);\n",
       "  color: var(--sklearn-color-background);\n",
       "  text-decoration: none;\n",
       "}\n",
       "\n",
       "div.sk-estimator.fitted:hover .sk-estimator-doc-link.fitted:hover,\n",
       ".sk-estimator-doc-link.fitted:hover,\n",
       "div.sk-label-container:hover .sk-estimator-doc-link.fitted:hover,\n",
       ".sk-estimator-doc-link.fitted:hover {\n",
       "  /* fitted */\n",
       "  background-color: var(--sklearn-color-fitted-level-3);\n",
       "  color: var(--sklearn-color-background);\n",
       "  text-decoration: none;\n",
       "}\n",
       "\n",
       "/* Span, style for the box shown on hovering the info icon */\n",
       ".sk-estimator-doc-link span {\n",
       "  display: none;\n",
       "  z-index: 9999;\n",
       "  position: relative;\n",
       "  font-weight: normal;\n",
       "  right: .2ex;\n",
       "  padding: .5ex;\n",
       "  margin: .5ex;\n",
       "  width: min-content;\n",
       "  min-width: 20ex;\n",
       "  max-width: 50ex;\n",
       "  color: var(--sklearn-color-text);\n",
       "  box-shadow: 2pt 2pt 4pt #999;\n",
       "  /* unfitted */\n",
       "  background: var(--sklearn-color-unfitted-level-0);\n",
       "  border: .5pt solid var(--sklearn-color-unfitted-level-3);\n",
       "}\n",
       "\n",
       ".sk-estimator-doc-link.fitted span {\n",
       "  /* fitted */\n",
       "  background: var(--sklearn-color-fitted-level-0);\n",
       "  border: var(--sklearn-color-fitted-level-3);\n",
       "}\n",
       "\n",
       ".sk-estimator-doc-link:hover span {\n",
       "  display: block;\n",
       "}\n",
       "\n",
       "/* \"?\"-specific style due to the `<a>` HTML tag */\n",
       "\n",
       "#sk-container-id-1 a.estimator_doc_link {\n",
       "  float: right;\n",
       "  font-size: 1rem;\n",
       "  line-height: 1em;\n",
       "  font-family: monospace;\n",
       "  background-color: var(--sklearn-color-background);\n",
       "  border-radius: 1rem;\n",
       "  height: 1rem;\n",
       "  width: 1rem;\n",
       "  text-decoration: none;\n",
       "  /* unfitted */\n",
       "  color: var(--sklearn-color-unfitted-level-1);\n",
       "  border: var(--sklearn-color-unfitted-level-1) 1pt solid;\n",
       "}\n",
       "\n",
       "#sk-container-id-1 a.estimator_doc_link.fitted {\n",
       "  /* fitted */\n",
       "  border: var(--sklearn-color-fitted-level-1) 1pt solid;\n",
       "  color: var(--sklearn-color-fitted-level-1);\n",
       "}\n",
       "\n",
       "/* On hover */\n",
       "#sk-container-id-1 a.estimator_doc_link:hover {\n",
       "  /* unfitted */\n",
       "  background-color: var(--sklearn-color-unfitted-level-3);\n",
       "  color: var(--sklearn-color-background);\n",
       "  text-decoration: none;\n",
       "}\n",
       "\n",
       "#sk-container-id-1 a.estimator_doc_link.fitted:hover {\n",
       "  /* fitted */\n",
       "  background-color: var(--sklearn-color-fitted-level-3);\n",
       "}\n",
       "\n",
       ".estimator-table summary {\n",
       "    padding: .5rem;\n",
       "    font-family: monospace;\n",
       "    cursor: pointer;\n",
       "}\n",
       "\n",
       ".estimator-table details[open] {\n",
       "    padding-left: 0.1rem;\n",
       "    padding-right: 0.1rem;\n",
       "    padding-bottom: 0.3rem;\n",
       "}\n",
       "\n",
       ".estimator-table .parameters-table {\n",
       "    margin-left: auto !important;\n",
       "    margin-right: auto !important;\n",
       "}\n",
       "\n",
       ".estimator-table .parameters-table tr:nth-child(odd) {\n",
       "    background-color: #fff;\n",
       "}\n",
       "\n",
       ".estimator-table .parameters-table tr:nth-child(even) {\n",
       "    background-color: #f6f6f6;\n",
       "}\n",
       "\n",
       ".estimator-table .parameters-table tr:hover {\n",
       "    background-color: #e0e0e0;\n",
       "}\n",
       "\n",
       ".estimator-table table td {\n",
       "    border: 1px solid rgba(106, 105, 104, 0.232);\n",
       "}\n",
       "\n",
       ".user-set td {\n",
       "    color:rgb(255, 94, 0);\n",
       "    text-align: left;\n",
       "}\n",
       "\n",
       ".user-set td.value pre {\n",
       "    color:rgb(255, 94, 0) !important;\n",
       "    background-color: transparent !important;\n",
       "}\n",
       "\n",
       ".default td {\n",
       "    color: black;\n",
       "    text-align: left;\n",
       "}\n",
       "\n",
       ".user-set td i,\n",
       ".default td i {\n",
       "    color: black;\n",
       "}\n",
       "\n",
       ".copy-paste-icon {\n",
       "    background-image: url(data:image/svg+xml;base64,PHN2ZyB4bWxucz0iaHR0cDovL3d3dy53My5vcmcvMjAwMC9zdmciIHZpZXdCb3g9IjAgMCA0NDggNTEyIj48IS0tIUZvbnQgQXdlc29tZSBGcmVlIDYuNy4yIGJ5IEBmb250YXdlc29tZSAtIGh0dHBzOi8vZm9udGF3ZXNvbWUuY29tIExpY2Vuc2UgLSBodHRwczovL2ZvbnRhd2Vzb21lLmNvbS9saWNlbnNlL2ZyZWUgQ29weXJpZ2h0IDIwMjUgRm9udGljb25zLCBJbmMuLS0+PHBhdGggZD0iTTIwOCAwTDMzMi4xIDBjMTIuNyAwIDI0LjkgNS4xIDMzLjkgMTQuMWw2Ny45IDY3LjljOSA5IDE0LjEgMjEuMiAxNC4xIDMzLjlMNDQ4IDMzNmMwIDI2LjUtMjEuNSA0OC00OCA0OGwtMTkyIDBjLTI2LjUgMC00OC0yMS41LTQ4LTQ4bDAtMjg4YzAtMjYuNSAyMS41LTQ4IDQ4LTQ4ek00OCAxMjhsODAgMCAwIDY0LTY0IDAgMCAyNTYgMTkyIDAgMC0zMiA2NCAwIDAgNDhjMCAyNi41LTIxLjUgNDgtNDggNDhMNDggNTEyYy0yNi41IDAtNDgtMjEuNS00OC00OEwwIDE3NmMwLTI2LjUgMjEuNS00OCA0OC00OHoiLz48L3N2Zz4=);\n",
       "    background-repeat: no-repeat;\n",
       "    background-size: 14px 14px;\n",
       "    background-position: 0;\n",
       "    display: inline-block;\n",
       "    width: 14px;\n",
       "    height: 14px;\n",
       "    cursor: pointer;\n",
       "}\n",
       "</style><body><div id=\"sk-container-id-1\" class=\"sk-top-container\"><div class=\"sk-text-repr-fallback\"><pre>SGDClassifier(random_state=42)</pre><b>In a Jupyter environment, please rerun this cell to show the HTML representation or trust the notebook. <br />On GitHub, the HTML representation is unable to render, please try loading this page with nbviewer.org.</b></div><div class=\"sk-container\" hidden><div class=\"sk-item\"><div class=\"sk-estimator fitted sk-toggleable\"><input class=\"sk-toggleable__control sk-hidden--visually\" id=\"sk-estimator-id-1\" type=\"checkbox\" checked><label for=\"sk-estimator-id-1\" class=\"sk-toggleable__label fitted sk-toggleable__label-arrow\"><div><div>SGDClassifier</div></div><div><a class=\"sk-estimator-doc-link fitted\" rel=\"noreferrer\" target=\"_blank\" href=\"https://scikit-learn.org/1.7/modules/generated/sklearn.linear_model.SGDClassifier.html\">?<span>Documentation for SGDClassifier</span></a><span class=\"sk-estimator-doc-link fitted\">i<span>Fitted</span></span></div></label><div class=\"sk-toggleable__content fitted\" data-param-prefix=\"\">\n",
       "        <div class=\"estimator-table\">\n",
       "            <details>\n",
       "                <summary>Parameters</summary>\n",
       "                <table class=\"parameters-table\">\n",
       "                  <tbody>\n",
       "                    \n",
       "        <tr class=\"default\">\n",
       "            <td><i class=\"copy-paste-icon\"\n",
       "                 onclick=\"copyToClipboard('loss',\n",
       "                          this.parentElement.nextElementSibling)\"\n",
       "            ></i></td>\n",
       "            <td class=\"param\">loss&nbsp;</td>\n",
       "            <td class=\"value\">&#x27;hinge&#x27;</td>\n",
       "        </tr>\n",
       "    \n",
       "\n",
       "        <tr class=\"default\">\n",
       "            <td><i class=\"copy-paste-icon\"\n",
       "                 onclick=\"copyToClipboard('penalty',\n",
       "                          this.parentElement.nextElementSibling)\"\n",
       "            ></i></td>\n",
       "            <td class=\"param\">penalty&nbsp;</td>\n",
       "            <td class=\"value\">&#x27;l2&#x27;</td>\n",
       "        </tr>\n",
       "    \n",
       "\n",
       "        <tr class=\"default\">\n",
       "            <td><i class=\"copy-paste-icon\"\n",
       "                 onclick=\"copyToClipboard('alpha',\n",
       "                          this.parentElement.nextElementSibling)\"\n",
       "            ></i></td>\n",
       "            <td class=\"param\">alpha&nbsp;</td>\n",
       "            <td class=\"value\">0.0001</td>\n",
       "        </tr>\n",
       "    \n",
       "\n",
       "        <tr class=\"default\">\n",
       "            <td><i class=\"copy-paste-icon\"\n",
       "                 onclick=\"copyToClipboard('l1_ratio',\n",
       "                          this.parentElement.nextElementSibling)\"\n",
       "            ></i></td>\n",
       "            <td class=\"param\">l1_ratio&nbsp;</td>\n",
       "            <td class=\"value\">0.15</td>\n",
       "        </tr>\n",
       "    \n",
       "\n",
       "        <tr class=\"default\">\n",
       "            <td><i class=\"copy-paste-icon\"\n",
       "                 onclick=\"copyToClipboard('fit_intercept',\n",
       "                          this.parentElement.nextElementSibling)\"\n",
       "            ></i></td>\n",
       "            <td class=\"param\">fit_intercept&nbsp;</td>\n",
       "            <td class=\"value\">True</td>\n",
       "        </tr>\n",
       "    \n",
       "\n",
       "        <tr class=\"default\">\n",
       "            <td><i class=\"copy-paste-icon\"\n",
       "                 onclick=\"copyToClipboard('max_iter',\n",
       "                          this.parentElement.nextElementSibling)\"\n",
       "            ></i></td>\n",
       "            <td class=\"param\">max_iter&nbsp;</td>\n",
       "            <td class=\"value\">1000</td>\n",
       "        </tr>\n",
       "    \n",
       "\n",
       "        <tr class=\"default\">\n",
       "            <td><i class=\"copy-paste-icon\"\n",
       "                 onclick=\"copyToClipboard('tol',\n",
       "                          this.parentElement.nextElementSibling)\"\n",
       "            ></i></td>\n",
       "            <td class=\"param\">tol&nbsp;</td>\n",
       "            <td class=\"value\">0.001</td>\n",
       "        </tr>\n",
       "    \n",
       "\n",
       "        <tr class=\"default\">\n",
       "            <td><i class=\"copy-paste-icon\"\n",
       "                 onclick=\"copyToClipboard('shuffle',\n",
       "                          this.parentElement.nextElementSibling)\"\n",
       "            ></i></td>\n",
       "            <td class=\"param\">shuffle&nbsp;</td>\n",
       "            <td class=\"value\">True</td>\n",
       "        </tr>\n",
       "    \n",
       "\n",
       "        <tr class=\"default\">\n",
       "            <td><i class=\"copy-paste-icon\"\n",
       "                 onclick=\"copyToClipboard('verbose',\n",
       "                          this.parentElement.nextElementSibling)\"\n",
       "            ></i></td>\n",
       "            <td class=\"param\">verbose&nbsp;</td>\n",
       "            <td class=\"value\">0</td>\n",
       "        </tr>\n",
       "    \n",
       "\n",
       "        <tr class=\"default\">\n",
       "            <td><i class=\"copy-paste-icon\"\n",
       "                 onclick=\"copyToClipboard('epsilon',\n",
       "                          this.parentElement.nextElementSibling)\"\n",
       "            ></i></td>\n",
       "            <td class=\"param\">epsilon&nbsp;</td>\n",
       "            <td class=\"value\">0.1</td>\n",
       "        </tr>\n",
       "    \n",
       "\n",
       "        <tr class=\"default\">\n",
       "            <td><i class=\"copy-paste-icon\"\n",
       "                 onclick=\"copyToClipboard('n_jobs',\n",
       "                          this.parentElement.nextElementSibling)\"\n",
       "            ></i></td>\n",
       "            <td class=\"param\">n_jobs&nbsp;</td>\n",
       "            <td class=\"value\">None</td>\n",
       "        </tr>\n",
       "    \n",
       "\n",
       "        <tr class=\"user-set\">\n",
       "            <td><i class=\"copy-paste-icon\"\n",
       "                 onclick=\"copyToClipboard('random_state',\n",
       "                          this.parentElement.nextElementSibling)\"\n",
       "            ></i></td>\n",
       "            <td class=\"param\">random_state&nbsp;</td>\n",
       "            <td class=\"value\">42</td>\n",
       "        </tr>\n",
       "    \n",
       "\n",
       "        <tr class=\"default\">\n",
       "            <td><i class=\"copy-paste-icon\"\n",
       "                 onclick=\"copyToClipboard('learning_rate',\n",
       "                          this.parentElement.nextElementSibling)\"\n",
       "            ></i></td>\n",
       "            <td class=\"param\">learning_rate&nbsp;</td>\n",
       "            <td class=\"value\">&#x27;optimal&#x27;</td>\n",
       "        </tr>\n",
       "    \n",
       "\n",
       "        <tr class=\"default\">\n",
       "            <td><i class=\"copy-paste-icon\"\n",
       "                 onclick=\"copyToClipboard('eta0',\n",
       "                          this.parentElement.nextElementSibling)\"\n",
       "            ></i></td>\n",
       "            <td class=\"param\">eta0&nbsp;</td>\n",
       "            <td class=\"value\">0.0</td>\n",
       "        </tr>\n",
       "    \n",
       "\n",
       "        <tr class=\"default\">\n",
       "            <td><i class=\"copy-paste-icon\"\n",
       "                 onclick=\"copyToClipboard('power_t',\n",
       "                          this.parentElement.nextElementSibling)\"\n",
       "            ></i></td>\n",
       "            <td class=\"param\">power_t&nbsp;</td>\n",
       "            <td class=\"value\">0.5</td>\n",
       "        </tr>\n",
       "    \n",
       "\n",
       "        <tr class=\"default\">\n",
       "            <td><i class=\"copy-paste-icon\"\n",
       "                 onclick=\"copyToClipboard('early_stopping',\n",
       "                          this.parentElement.nextElementSibling)\"\n",
       "            ></i></td>\n",
       "            <td class=\"param\">early_stopping&nbsp;</td>\n",
       "            <td class=\"value\">False</td>\n",
       "        </tr>\n",
       "    \n",
       "\n",
       "        <tr class=\"default\">\n",
       "            <td><i class=\"copy-paste-icon\"\n",
       "                 onclick=\"copyToClipboard('validation_fraction',\n",
       "                          this.parentElement.nextElementSibling)\"\n",
       "            ></i></td>\n",
       "            <td class=\"param\">validation_fraction&nbsp;</td>\n",
       "            <td class=\"value\">0.1</td>\n",
       "        </tr>\n",
       "    \n",
       "\n",
       "        <tr class=\"default\">\n",
       "            <td><i class=\"copy-paste-icon\"\n",
       "                 onclick=\"copyToClipboard('n_iter_no_change',\n",
       "                          this.parentElement.nextElementSibling)\"\n",
       "            ></i></td>\n",
       "            <td class=\"param\">n_iter_no_change&nbsp;</td>\n",
       "            <td class=\"value\">5</td>\n",
       "        </tr>\n",
       "    \n",
       "\n",
       "        <tr class=\"default\">\n",
       "            <td><i class=\"copy-paste-icon\"\n",
       "                 onclick=\"copyToClipboard('class_weight',\n",
       "                          this.parentElement.nextElementSibling)\"\n",
       "            ></i></td>\n",
       "            <td class=\"param\">class_weight&nbsp;</td>\n",
       "            <td class=\"value\">None</td>\n",
       "        </tr>\n",
       "    \n",
       "\n",
       "        <tr class=\"default\">\n",
       "            <td><i class=\"copy-paste-icon\"\n",
       "                 onclick=\"copyToClipboard('warm_start',\n",
       "                          this.parentElement.nextElementSibling)\"\n",
       "            ></i></td>\n",
       "            <td class=\"param\">warm_start&nbsp;</td>\n",
       "            <td class=\"value\">False</td>\n",
       "        </tr>\n",
       "    \n",
       "\n",
       "        <tr class=\"default\">\n",
       "            <td><i class=\"copy-paste-icon\"\n",
       "                 onclick=\"copyToClipboard('average',\n",
       "                          this.parentElement.nextElementSibling)\"\n",
       "            ></i></td>\n",
       "            <td class=\"param\">average&nbsp;</td>\n",
       "            <td class=\"value\">False</td>\n",
       "        </tr>\n",
       "    \n",
       "                  </tbody>\n",
       "                </table>\n",
       "            </details>\n",
       "        </div>\n",
       "    </div></div></div></div></div><script>function copyToClipboard(text, element) {\n",
       "    // Get the parameter prefix from the closest toggleable content\n",
       "    const toggleableContent = element.closest('.sk-toggleable__content');\n",
       "    const paramPrefix = toggleableContent ? toggleableContent.dataset.paramPrefix : '';\n",
       "    const fullParamName = paramPrefix ? `${paramPrefix}${text}` : text;\n",
       "\n",
       "    const originalStyle = element.style;\n",
       "    const computedStyle = window.getComputedStyle(element);\n",
       "    const originalWidth = computedStyle.width;\n",
       "    const originalHTML = element.innerHTML.replace('Copied!', '');\n",
       "\n",
       "    navigator.clipboard.writeText(fullParamName)\n",
       "        .then(() => {\n",
       "            element.style.width = originalWidth;\n",
       "            element.style.color = 'green';\n",
       "            element.innerHTML = \"Copied!\";\n",
       "\n",
       "            setTimeout(() => {\n",
       "                element.innerHTML = originalHTML;\n",
       "                element.style = originalStyle;\n",
       "            }, 2000);\n",
       "        })\n",
       "        .catch(err => {\n",
       "            console.error('Failed to copy:', err);\n",
       "            element.style.color = 'red';\n",
       "            element.innerHTML = \"Failed!\";\n",
       "            setTimeout(() => {\n",
       "                element.innerHTML = originalHTML;\n",
       "                element.style = originalStyle;\n",
       "            }, 2000);\n",
       "        });\n",
       "    return false;\n",
       "}\n",
       "\n",
       "document.querySelectorAll('.fa-regular.fa-copy').forEach(function(element) {\n",
       "    const toggleableContent = element.closest('.sk-toggleable__content');\n",
       "    const paramPrefix = toggleableContent ? toggleableContent.dataset.paramPrefix : '';\n",
       "    const paramName = element.parentElement.nextElementSibling.textContent.trim();\n",
       "    const fullParamName = paramPrefix ? `${paramPrefix}${paramName}` : paramName;\n",
       "\n",
       "    element.setAttribute('title', fullParamName);\n",
       "});\n",
       "</script></body>"
      ],
      "text/plain": [
       "SGDClassifier(random_state=42)"
      ]
     },
     "execution_count": 42,
     "metadata": {},
     "output_type": "execute_result"
    }
   ],
   "source": [
    "# SGDClassifier: 큰 데이터셋도 효율적으로 처리할 수 있음\n",
    "# -> SGD(확률적 경사 하강법)가 한 번에 하나의 훈련 샘플만 처리하기 때문!(온라인 학습에 적합)\n",
    "\n",
    "# SGDClassifier 생성, 전체 훈련 데이터에 대해 학습\n",
    "from sklearn.linear_model import SGDClassifier  # SGD 분류기 불러오기\n",
    "sgd_clf = SGDClassifier(random_state=42)       # 모델 생성 (랜덤 고정: SGDClassifier는 학습 과정에서 무작위성 사용, 재현 가능하도록 매개변수 설정)\n",
    "sgd_clf.fit(X_train, y_train_5)                # 훈련 (5 vs not 5)"
   ]
  },
  {
   "cell_type": "code",
   "execution_count": 43,
   "id": "f42aeab0-7196-4784-a84f-739e2d361196",
   "metadata": {},
   "outputs": [
    {
     "data": {
      "text/plain": [
       "array([ True])"
      ]
     },
     "execution_count": 43,
     "metadata": {},
     "output_type": "execute_result"
    }
   ],
   "source": [
    "sgd_clf.predict([some_digit])  # 숫자 5인지 예측 (True: 5, False: 다른 숫자)\n"
   ]
  },
  {
   "cell_type": "code",
   "execution_count": 44,
   "id": "845e7647-3a52-4433-8b26-c5f89e8deb7a",
   "metadata": {},
   "outputs": [
    {
     "data": {
      "text/plain": [
       "array([0.95035, 0.96035, 0.9604 ])"
      ]
     },
     "execution_count": 44,
     "metadata": {},
     "output_type": "execute_result"
    }
   ],
   "source": [
    "# SGD 분류기(sgd_clf)의 정확도 평가\n",
    "# 3-폴드 교차 검증(cross-validation) -> 5 vs 나머지에 대한 정확도(accuracy) 계산\n",
    "from sklearn.model_selection import cross_val_score  # 교차 검증 함수 불러오기\n",
    "cross_val_score(sgd_clf, X_train, y_train_5, cv=3, scoring=\"accuracy\")  # 정확도 기준 3폴드 교차 검증"
   ]
  },
  {
   "cell_type": "markdown",
   "id": "0f6ee554-1893-486a-bd77-362cf0ea2996",
   "metadata": {},
   "source": [
    "# 3. Performance Measures"
   ]
  },
  {
   "cell_type": "markdown",
   "id": "a506bcba-4794-4502-a76b-61783ca3dfdc",
   "metadata": {},
   "source": [
    "## Measuring Accuracy Using Cross-Validation"
   ]
  },
  {
   "cell_type": "code",
   "execution_count": 46,
   "id": "5c128bfe-1917-4da0-af1b-4f00bed49b10",
   "metadata": {},
   "outputs": [
    {
     "name": "stdout",
     "output_type": "stream",
     "text": [
      "0.9669\n",
      "0.91625\n",
      "0.96785\n"
     ]
    }
   ],
   "source": [
    "# 교차 검증 구현(Implementing Cross-Validation)\n",
    "\n",
    "# Scikit-Learn에서 기본으로 제공하는 것보다 교차 검증 프로세스를 더 세부적으로 제어하기(교차 검증 직접 구현)\n",
    "# Scikit-Learn의 cross_val_score() 함수와 거의 동일한 작업을 수행하며, 동일한 결과 출력\n",
    "\n",
    "from sklearn.model_selection import StratifiedKFold  # 층화 K-폴드 분할\n",
    "from sklearn.base import clone  # 모델 복제용\n",
    "\n",
    "skfolds = StratifiedKFold(n_splits=3, shuffle=True, random_state=42)  # 3폴드 교차 검증 설정\n",
    "# StratifiedKFold 클래스는 층화 샘플링을 수행하여 각 클래스의 대표 비율을 포함하는 폴드 생성\n",
    "\n",
    "for train_index, test_index in skfolds.split(X_train, y_train_5):\n",
    "    clone_clf = clone(sgd_clf)  # 분류기 복제 (초기화 상태로)\n",
    "    \n",
    "    # 훈련 폴드와 검증 폴드 분리\n",
    "    X_train_folds = X_train[train_index]\n",
    "    y_train_folds = y_train_5[train_index]\n",
    "    X_test_fold = X_train[test_index]\n",
    "    y_test_fold = y_train_5[test_index]\n",
    "\n",
    "    clone_clf.fit(X_train_folds, y_train_folds)  # 모델 훈련\n",
    "    y_pred = clone_clf.predict(X_test_fold)      # 예측 수행\n",
    "    n_correct = sum(y_pred == y_test_fold)       # 맞춘 개수 계산\n",
    "    print(n_correct / len(y_pred))               # 정확도 출력\n"
   ]
  },
  {
   "cell_type": "code",
   "execution_count": 47,
   "id": "758ddc09-7317-4343-abe9-1c9b3080244d",
   "metadata": {},
   "outputs": [],
   "source": [
    "from sklearn.base import BaseEstimator\n",
    "\n",
    "# 항상 \"5가 아님\"이라고 예측하는 더미 분류기 정의\n",
    "# 목적: 진짜 모델(SGDClassifier 등)의 성능이 '무식한 분류기'보다 나은지 비교하기 위한 기준선(baseline) 생성\n",
    "class Never5Classifier(BaseEstimator):\n",
    "    def fit(self, X, y=None):\n",
    "        pass  # 학습 과정 없음 (형식상 메서드만 정의)\n",
    "\n",
    "    def predict(self, X):\n",
    "        return np.zeros((len(X), 1), dtype=bool)  # 항상 False 반환 (즉, 절대 5라고 예측하지 않음)\n"
   ]
  },
  {
   "cell_type": "code",
   "execution_count": 51,
   "id": "f96a3686-f602-40b7-a954-c1a9a32a0a2c",
   "metadata": {},
   "outputs": [
    {
     "data": {
      "text/plain": [
       "array([0.91125, 0.90855, 0.90915])"
      ]
     },
     "execution_count": 51,
     "metadata": {},
     "output_type": "execute_result"
    }
   ],
   "source": [
    "never_5_clf = Never5Classifier()  # 항상 5가 아니라고 예측하는 기준선 모델 생성\n",
    "cross_val_score(never_5_clf, X_train, y_train_5, cv=3, scoring=\"accuracy\")  # 기준선 모델 정확도 평가 (3폴드 교차 검증)\n",
    "# -> 정확도 90% 이상: 10%만 숫자 5이기 때문에, 무조건 \"5가 아니다\"라고 예측하면 약 90%는 맞게 됨\n",
    "# 정확도(accuracy)는 특히 데이터가 불균형할 때는 더더욱 좋은 분류 성능 지표가 아님"
   ]
  },
  {
   "cell_type": "markdown",
   "id": "1b139683-a5a0-46e2-b21c-c4a40e36962b",
   "metadata": {},
   "source": [
    "## Confusion Matrix"
   ]
  },
  {
   "cell_type": "markdown",
   "id": "b82211c4-e0ff-4c72-a164-25a4f47ef2f4",
   "metadata": {},
   "source": [
    "분류기의 성능을 평가하는 훨씬 더 나은 방법: 혼동 행렬(confusion matrix) 살펴보기  \n",
    "\"클래스 A의 샘플이 클래스 B로 잘못 분류된 횟수를 세는 것\"  \n",
    "목적: 모델이 어디서 얼마나 자주 틀리는지 구체적으로 파악  \n",
    "\n",
    "혼동 행렬을 계산하려면, 먼저 모델의 예측 결과가 있어야 그것을 정답 레이블과 비교할 수 있음  \n",
    "(테스트 세트에 대해 예측할 수도 있지만, 테스트 세트는 프로젝트 마지막 단계, 모델이 완성되었을 때만 사용)"
   ]
  },
  {
   "cell_type": "code",
   "execution_count": 55,
   "id": "92857340-3ac1-438a-9227-8668cc513a0b",
   "metadata": {},
   "outputs": [],
   "source": [
    "# 대안: cross_val_predict() 사용하기\n",
    "\n",
    "from sklearn.model_selection import cross_val_predict\n",
    "y_train_pred = cross_val_predict(sgd_clf, X_train, y_train_5, cv=3)\n",
    "\n",
    "# cross_val_predict(): cross_val_score()처럼 K-겹 교차 검증을 수행하지만, 점수 대신 각 샘플의 예측 결과 반환\n",
    "# clean prediction: 훈련 데이터의 각 샘플마다, 그 샘플을 보지 않고 훈련된 모델이 예측한 결과 반환"
   ]
  },
  {
   "cell_type": "code",
   "execution_count": 58,
   "id": "cc9a8357-8395-41b6-82e4-2200192c0b79",
   "metadata": {},
   "outputs": [
    {
     "data": {
      "text/plain": [
       "array([[53892,   687],\n",
       "       [ 1891,  3530]])"
      ]
     },
     "execution_count": 58,
     "metadata": {},
     "output_type": "execute_result"
    }
   ],
   "source": [
    "from sklearn.metrics import confusion_matrix\n",
    "\n",
    "confusion_matrix(y_train_5, y_train_pred)\n",
    "# [[TN, FP] TN(True Negative):\t실제 0이고 예측도 0, FP(False Positive): 실제 0인데 예측은 1\n",
    "# [FN, TP]] FN(False Negative):\t실제 1인데 예측은 0, TP(True Positive):\t실제 1이고 예측도 1"
   ]
  },
  {
   "cell_type": "code",
   "execution_count": 59,
   "id": "f4b38d0b-52c7-4866-b15f-408aabad8fb7",
   "metadata": {},
   "outputs": [
    {
     "data": {
      "text/plain": [
       "array([[54579,     0],\n",
       "       [    0,  5421]])"
      ]
     },
     "execution_count": 59,
     "metadata": {},
     "output_type": "execute_result"
    }
   ],
   "source": [
    "y_train_perfect_predictions = y_train_5  # 완벽한 예측이라고 가정 (실제값과 동일하게 설정)\n",
    "confusion_matrix(y_train_5, y_train_perfect_predictions)  # 혼동 행렬 계산 (예측 = 실제일 때)\n"
   ]
  },
  {
   "cell_type": "markdown",
   "id": "637bd349-9bd7-4791-b0fc-49809e811487",
   "metadata": {},
   "source": [
    "양성 예측의 정확도를 정밀도(Precision)라고 한다.  \n",
    "\n",
    "$$\n",
    "\\text{Precision} = \\frac{TP}{TP + FP}\n",
    "$$\n"
   ]
  },
  {
   "cell_type": "markdown",
   "id": "e2ad7f30-08e4-4f56-9d29-33e9818f2afd",
   "metadata": {},
   "source": [
    "정밀도는 일반적으로 재현율(recall)이라는 또 다른 지표와 함께 사용되며,   \n",
    "민감도(sensitivity) 또는 참 양성률(TPR)이라고도 한다.  \n",
    "이는 분류기가 올바르게 감지한 양성 인스턴스의 비율이다!\n",
    "\n",
    "$$\n",
    "\\text{Recall} = \\frac{TP}{TP + FN}\n",
    "$$\n"
   ]
  },
  {
   "cell_type": "markdown",
   "id": "ec6acace-6f46-4154-8291-79a42b92e8e0",
   "metadata": {},
   "source": [
    "![참 부정(왼쪽 상단), 거짓 긍정(오른쪽 상단), 거짓 부정(왼쪽 하단), 참 긍정(오른쪽 하단)](3-2.jpg)\n"
   ]
  },
  {
   "cell_type": "markdown",
   "id": "f937a614-9670-44cd-8d25-9b9e039d6f85",
   "metadata": {},
   "source": [
    "## Precision and Recall"
   ]
  },
  {
   "cell_type": "code",
   "execution_count": 66,
   "id": "88450108-0a3b-453f-9549-6e45b4c33ea4",
   "metadata": {},
   "outputs": [
    {
     "data": {
      "text/plain": [
       "0.8370879772350012"
      ]
     },
     "execution_count": 66,
     "metadata": {},
     "output_type": "execute_result"
    }
   ],
   "source": [
    "# Scikit-Learn은 정확도와 재현율을 포함하여 분류기 지표를 계산하는 여러 함수를 제공\n",
    "\n",
    "from sklearn.metrics import precision_score, recall_score  # 정밀도와 재현율 계산 함수 import\n",
    "precision_score(y_train_5, y_train_pred)    # 정밀도 계산: 예측한 양성 중 실제 양성 비율"
   ]
  },
  {
   "cell_type": "code",
   "execution_count": 67,
   "id": "d8712161-7c81-4edf-9103-260ecac3989c",
   "metadata": {},
   "outputs": [
    {
     "data": {
      "text/plain": [
       "np.float64(0.8370879772350012)"
      ]
     },
     "execution_count": 67,
     "metadata": {},
     "output_type": "execute_result"
    }
   ],
   "source": [
    "cm = confusion_matrix(y_train_5, y_train_pred)  # 혼동 행렬 생성\n",
    "cm[1, 1] / (cm[0, 1] + cm[1, 1])  # 정밀도 계산: TP / (FP + TP)\n"
   ]
  },
  {
   "cell_type": "code",
   "execution_count": 70,
   "id": "eca84416-8414-47e9-a473-4ba07fe0caa3",
   "metadata": {},
   "outputs": [
    {
     "data": {
      "text/plain": [
       "0.6511713705958311"
      ]
     },
     "execution_count": 70,
     "metadata": {},
     "output_type": "execute_result"
    }
   ],
   "source": [
    "recall_score(y_train_5, y_train_pred)  # 재현율 계산: 실제 양성 중에서 맞춘 비율\n"
   ]
  },
  {
   "cell_type": "code",
   "execution_count": 71,
   "id": "92a7a1c5-c507-48a8-9ac4-189721fa19cc",
   "metadata": {},
   "outputs": [
    {
     "data": {
      "text/plain": [
       "np.float64(0.6511713705958311)"
      ]
     },
     "execution_count": 71,
     "metadata": {},
     "output_type": "execute_result"
    }
   ],
   "source": [
    "cm[1, 1] / (cm[1, 0] + cm[1, 1])"
   ]
  },
  {
   "cell_type": "markdown",
   "id": "1f133671-b392-4d19-b5ff-450bd3b48330",
   "metadata": {},
   "source": [
    "두 분류기를 간단하게 비교해야 할 때, 정밀도와 재현율을 F1 점수라는 단일 지표로 결합하는 것이 편리  \n",
    "(F1 점수: 정밀도와 재현율의 조화 평균)  \n",
    "일반 평균은 모든 값을 동등하게 처리하는 반면, 조화 평균은 낮은 값에 훨씬 더 큰 가중치를 부여  \n",
    "결과적으로, 분류기는 재현율과 정밀도가 모두 높은 경우에만 높은 F1 점수를 받게 됨"
   ]
  },
  {
   "cell_type": "markdown",
   "id": "bcf87f5c-ddec-4586-b029-d5ab0965a59a",
   "metadata": {},
   "source": [
    "$$\n",
    "F_1 = \\frac{2}{\\frac{1}{\\text{precision}} + \\frac{1}{\\text{recall}}} \n",
    "= 2 \\times \\frac{\\text{precision} \\times \\text{recall}}{\\text{precision} + \\text{recall}} \n",
    "= \\frac{TP}{TP + \\frac{FN + FP}{2}}\n",
    "$$\n"
   ]
  },
  {
   "cell_type": "code",
   "execution_count": 72,
   "id": "a54d6e8b-4cc7-477a-b893-184026bf8fde",
   "metadata": {},
   "outputs": [
    {
     "data": {
      "text/plain": [
       "0.7325171197343847"
      ]
     },
     "execution_count": 72,
     "metadata": {},
     "output_type": "execute_result"
    }
   ],
   "source": [
    "from sklearn.metrics import f1_score\n",
    "\n",
    "f1_score(y_train_5, y_train_pred)"
   ]
  },
  {
   "cell_type": "code",
   "execution_count": 75,
   "id": "aef7641d-ad3b-49c7-8059-078996aeadbc",
   "metadata": {},
   "outputs": [
    {
     "data": {
      "text/plain": [
       "np.float64(0.7325171197343847)"
      ]
     },
     "execution_count": 75,
     "metadata": {},
     "output_type": "execute_result"
    }
   ],
   "source": [
    "cm[1, 1] / (cm[1, 1] + (cm[1, 0] + cm[0, 1]) / 2)   #  F1 점수를 직접 근사"
   ]
  },
  {
   "cell_type": "markdown",
   "id": "a4ee13ab-6c27-4fbd-b410-4682ed558a1d",
   "metadata": {},
   "source": [
    "F1 점수는 유사한 정밀도와 재현율을 가진 분류기를 선호하지만, 항상 원하는 것은 X  \n",
    "어떤 상황에서는 정밀도가 더 중요하고, 다른 상황에서는 재현율이 더 중요  \n",
    "\n",
    "예를 들어, 어린이에게 안전한 비디오 감지하도록 분류기 훈련 \n",
    "\n",
    " - 재현율이 훨씬 높지만 제품에 몇 개의 정말 나쁜 비디오가 표시되는 분류기보다\n",
    " - 좋은 비디오를 많이 거부하고(재현율이 낮음) 안전한 비디오만 유지하는(정밀도가 높음) 분류기를 선호할 것\n",
    " - (이 경우 분류기의 비디오 선택을 확인하기 위해 인적 파이프라인 추가)\n",
    "\n",
    "반면, 감시 이미지에서 만취범을 감지하도록 분류기 훈련\n",
    "\n",
    " - 분류기의 정밀도가 30%에 불과하더라도 재현율이 99%라면 괜찮음\n",
    "\n",
    "두 가지 효과를 동시에 얻을 수는 없음  \n",
    " -> 정밀도를 높이면 재현율이 떨어지고, 그 반대의 경우도 마찬가지(정밀도/재현율 트레이드오프 Precision/Recall Trade-off)"
   ]
  },
  {
   "cell_type": "markdown",
   "id": "acce9681-8113-4362-8cae-8dbf6c3b7c9f",
   "metadata": {},
   "source": [
    "## Precision/Recall Trade-off"
   ]
  },
  {
   "cell_type": "markdown",
   "id": "362a771d-bbf6-4c6c-b6ee-8cf43b2a26b1",
   "metadata": {},
   "source": [
    "이 정밀도-재현율 간의 균형(trade-off)을 이해하기 위해, SGDClassifier가 어떻게 분류 결정을 내리는지 살펴보기  \n",
    "이 모델은 각 샘플에 대해 결정 함수(decision function)를 통해 점수를 계산  \n",
    "이 점수가 기준 임계값(threshold)보다 크면 양성 클래스(positive class)  \n",
    "그렇지 않으면 음성 클래스(negative class)로 분류  "
   ]
  },
  {
   "cell_type": "markdown",
   "id": "cc24b748-c9b9-44fe-a50b-7ddc94902575",
   "metadata": {},
   "source": [
    "![정밀도/재현율 균형](3-3.jpg)\n"
   ]
  },
  {
   "cell_type": "markdown",
   "id": "34dccede-8aff-446f-9b97-87cc308bc5fc",
   "metadata": {},
   "source": [
    "임계값이 가운데 화살표(두 개의 5 사이)에 위치해 있다고 가정\n",
    "\n",
    " - 이 기준보다 오른쪽에 실제 숫자 5가 4개 있고, 실제 숫자 6이 1개 있음\n",
    " - 즉, 이 기준에서는 4개의 TP와 1개의 FP 발생\n",
    " - 따라서 이 임계값에서 정밀도는 80%(양성으로 분류된 5개 중 4개가 실제 5)\n",
    " - 그러나 실제로는 5가 6개, 이중 4개만 감지 -> 재현율은 67%(6개 중 4개 감지)\n",
    "\n",
    "임계값을 오른쪽 화살표로 높인다고 가정\n",
    " - FN(실제로는 6)이 음성으로 바뀌면서 정밀도는 100%\n",
    " - 하지만 그 과정에서 하나의 참 양성이 감지되지 못해 재현율은 50%\n",
    "\n",
    "반대로 임계값을 낮추면 더 많은 양성을 잡아내 재현율은 높아지지만, 정밀도는 낮아짐  \n",
    "=> 임계값을 어떻게 조정하느냐에 따라 정밀도와 재현율 사이에 균형 조절"
   ]
  },
  {
   "cell_type": "markdown",
   "id": "f28d3c15-65c0-4e83-a7d3-c4a7ceb9e0dc",
   "metadata": {},
   "source": [
    "Scikit-Learn에서는 임계값 직접 설정 불가하지만,  \n",
    "분류기가 예측을 내릴 때 사용하는 결정 점수(decision score)에 접근은 가능\n",
    "\n",
    "predict() 메서드를 사용하는 대신, decision_function() 메서드를 호출하면 각 샘플에 대한 점수 반환  \n",
    " - predict() 메서드 -> 최종 예측값(True/False 또는 클래스 번호)을 바로 줌\n",
    " - decision_function() 메서드 -> 예측의 근거가 되는 숫자를 줌\n",
    "\n",
    "이 점수를 바탕으로 원하는 임계값을 직접 설정해 예측"
   ]
  },
  {
   "cell_type": "code",
   "execution_count": 77,
   "id": "ebc45fdc-bc5a-4d1b-b517-c379b7374789",
   "metadata": {},
   "outputs": [
    {
     "data": {
      "text/plain": [
       "array([2164.22030239])"
      ]
     },
     "execution_count": 77,
     "metadata": {},
     "output_type": "execute_result"
    }
   ],
   "source": [
    "y_scores = sgd_clf.decision_function([some_digit]) # 이렇게 하면 y_scores에는 해당 샘플의 점수가 들어감\n",
    "y_scores\n"
   ]
  },
  {
   "cell_type": "code",
   "execution_count": 80,
   "id": "4801755b-a27d-429f-b2cb-468c739e9e91",
   "metadata": {},
   "outputs": [],
   "source": [
    "threshold = 0   # 기본적으로 SGDClassifier는 임계값 0 \n",
    "y_some_digit_pred = (y_scores > threshold)  # 점수가 0보다 크면 양성(True)으로 예측"
   ]
  },
  {
   "cell_type": "code",
   "execution_count": 82,
   "id": "b1ab3aa5-c3e0-4f00-a187-56869a854641",
   "metadata": {},
   "outputs": [
    {
     "data": {
      "text/plain": [
       "array([ True])"
      ]
     },
     "execution_count": 82,
     "metadata": {},
     "output_type": "execute_result"
    }
   ],
   "source": [
    "y_some_digit_pred  # predict() 메서드와 동일한 결과 반환"
   ]
  },
  {
   "cell_type": "code",
   "execution_count": 83,
   "id": "48dddf4d-22be-44a9-80fa-2aae137632cc",
   "metadata": {},
   "outputs": [
    {
     "data": {
      "text/plain": [
       "array([False])"
      ]
     },
     "execution_count": 83,
     "metadata": {},
     "output_type": "execute_result"
    }
   ],
   "source": [
    "threshold = 8000\n",
    "y_some_digit_pred = (y_scores > threshold)\n",
    "y_some_digit_pred"
   ]
  },
  {
   "cell_type": "markdown",
   "id": "7a13548d-53a4-40c8-a1bd-c0fbd2f3b79a",
   "metadata": {},
   "source": [
    "임계값을 8000으로 올리니 예측 결과가 False  \n",
    " -> 이 이미지가 실제로는 숫자 5였기 때문에, 임계값이 0일 때는 감지했으나 8000일 때는 감지하지 못함  \n",
    " => 임계값을 높이면 재현율(recall)이 낮아진다"
   ]
  },
  {
   "cell_type": "markdown",
   "id": "2433cf1c-4e62-4fd7-b03a-24b6e7f9fc2c",
   "metadata": {},
   "source": [
    "__적절한 임계값 고르기__\n",
    "\n",
    "1. cross_val_predict() 함수를 사용해서 훈련 세트 전체에 대한 결정 점수를 얻기\n",
    "2. 이때 method=\"decision_function\" 옵션을 주면 예측값이 아니라 점수를 얻을 수 있다"
   ]
  },
  {
   "cell_type": "code",
   "execution_count": 84,
   "id": "ada0ce46-be5d-4dee-85dd-44fb0f5c4b64",
   "metadata": {},
   "outputs": [],
   "source": [
    "y_scores = cross_val_predict(sgd_clf, X_train, y_train_5, cv=3,\n",
    "                             method=\"decision_function\")"
   ]
  },
  {
   "cell_type": "code",
   "execution_count": 86,
   "id": "e3fe7702-f970-4252-9d12-0e1869520e16",
   "metadata": {},
   "outputs": [],
   "source": [
    "from sklearn.metrics import precision_recall_curve\n",
    "\n",
    "precisions, recalls, thresholds = precision_recall_curve(y_train_5, y_scores)\n",
    "# 결정 점수에 대해 가능한 모든 임계값을 기준으로 정밀도와 재현율 계산"
   ]
  },
  {
   "cell_type": "code",
   "execution_count": 87,
   "id": "2a8c4ffe-c6cc-48a6-a542-f1264d838885",
   "metadata": {},
   "outputs": [
    {
     "name": "stdout",
     "output_type": "stream",
     "text": [
      "Saving figure precision_recall_vs_threshold_plot\n"
     ]
    },
    {
     "data": {
      "image/png": "[encoded data removed]",
      "text/plain": [
       "<Figure size 800x400 with 1 Axes>"
      ]
     },
     "metadata": {},
     "output_type": "display_data"
    }
   ],
   "source": [
    "def plot_precision_recall_vs_threshold(precisions, recalls, thresholds):\n",
    "    # 임계값에 따른 정밀도와 재현율 그래프를 그리는 함수\n",
    "    plt.plot(thresholds, precisions[:-1], \"b--\", label=\"Precision\", linewidth=2)  # 정밀도 (파란 점선)\n",
    "    plt.plot(thresholds, recalls[:-1], \"g-\", label=\"Recall\", linewidth=2)         # 재현율 (초록 실선)\n",
    "    plt.legend(loc=\"center right\", fontsize=16)  # 범례 표시\n",
    "    plt.xlabel(\"Threshold\", fontsize=16)         # x축: 임계값\n",
    "    plt.grid(True)                               # 그리드 표시\n",
    "    plt.axis([-50000, 50000, 0, 1])              # x축, y축 범위 설정\n",
    "\n",
    "# 정밀도가 90% 이상인 지점 중 가장 먼저 나오는 지점의 재현율을 가져옴\n",
    "recall_90_precision = recalls[np.argmax(precisions >= 0.90)]\n",
    "\n",
    "# 정밀도가 90% 이상이 되는 최초의 임계값\n",
    "threshold_90_precision = thresholds[np.argmax(precisions >= 0.90)]\n",
    "\n",
    "# 그림 크기 설정\n",
    "plt.figure(figsize=(8, 4))\n",
    "\n",
    "# 정밀도-재현율 vs 임계값 그래프 그리기\n",
    "plot_precision_recall_vs_threshold(precisions, recalls, thresholds)\n",
    "\n",
    "# 수직선: 정밀도 90%가 되는 임계값 위치\n",
    "plt.plot([threshold_90_precision, threshold_90_precision], [0., 0.9], \"r:\")\n",
    "\n",
    "# 수평선: 정밀도 0.9 라인 (왼쪽 끝부터 임계값까지)\n",
    "plt.plot([-50000, threshold_90_precision], [0.9, 0.9], \"r:\")\n",
    "\n",
    "# 수평선: 해당 임계값에서의 재현율 위치 표시\n",
    "plt.plot([-50000, threshold_90_precision], [recall_90_precision, recall_90_precision], \"r:\")\n",
    "\n",
    "# 붉은 원으로 정밀도 90% 지점 표시\n",
    "plt.plot([threshold_90_precision], [0.9], \"ro\")\n",
    "\n",
    "# 붉은 원으로 재현율 값 지점도 표시\n",
    "plt.plot([threshold_90_precision], [recall_90_precision], \"ro\")\n",
    "\n",
    "# 그래프 저장\n",
    "save_fig(\"precision_recall_vs_threshold_plot\")\n",
    "\n",
    "# 그래프 표시\n",
    "plt.show()\n"
   ]
  },
  {
   "cell_type": "markdown",
   "id": "3168cf46-9bc4-4fe7-83e7-1b50c6bbbb90",
   "metadata": {},
   "source": [
    "정밀도 곡선이 재현율 곡선보다 울퉁불퉁한 이유\n",
    " - 임계값을 높이면 정밀도가 낮아질 수 있기 때문(일반적으로는 높아짐)\n",
    "\n",
    "임계값 중앙에서 시작하여 오른쪽으로 한 자릿수 이동했을 때,  \n",
    "\n",
    " - 정밀도는 4/5(80%)에서 3/4(75%)로 낮아짐\n",
    "\n",
    "재현율은 임계값을 높일 때만 낮아지므로 곡선이 매끈해 보인다!"
   ]
  },
  {
   "cell_type": "code",
   "execution_count": 89,
   "id": "37ca9c8d-07bf-4afa-b7ca-b9a5111b76bb",
   "metadata": {},
   "outputs": [
    {
     "data": {
      "text/plain": [
       "np.True_"
      ]
     },
     "execution_count": 89,
     "metadata": {},
     "output_type": "execute_result"
    }
   ],
   "source": [
    "(y_train_pred == (y_scores > 0)).all()  # y_train_pred(predict()의 결과) == y_scores > 0(직접 만든 조건부 예측)"
   ]
  },
  {
   "cell_type": "code",
   "execution_count": 90,
   "id": "92d3f306-f8fe-4315-ab6a-ab67e271d3e4",
   "metadata": {},
   "outputs": [
    {
     "name": "stdout",
     "output_type": "stream",
     "text": [
      "Saving figure precision_vs_recall_plot\n"
     ]
    },
    {
     "data": {
      "image/png": "[encoded data removed]",
      "text/plain": [
       "<Figure size 800x600 with 1 Axes>"
      ]
     },
     "metadata": {},
     "output_type": "display_data"
    }
   ],
   "source": [
    "def plot_precision_vs_recall(precisions, recalls):\n",
    "    plt.plot(recalls, precisions, \"b-\", linewidth=2)     # 재현율 vs 정밀도 그래프\n",
    "    plt.xlabel(\"Recall\", fontsize=16)                    # x축: 재현율\n",
    "    plt.ylabel(\"Precision\", fontsize=16)                 # y축: 정밀도\n",
    "    plt.axis([0, 1, 0, 1])                               # 축 범위 설정\n",
    "    plt.grid(True)                                       # 격자 표시\n",
    "\n",
    "plt.figure(figsize=(8, 6))                               # 그래프 크기 설정\n",
    "plot_precision_vs_recall(precisions, recalls)           # 정밀도-재현율 그래프 그리기\n",
    "plt.plot([recall_90_precision, recall_90_precision], [0., 0.9], \"r:\")  # 수직선 (재현율 위치)\n",
    "plt.plot([0.0, recall_90_precision], [0.9, 0.9], \"r:\")                 # 수평선 (정밀도 기준선)\n",
    "plt.plot([recall_90_precision], [0.9], \"ro\")                            # 기준점 강조 (붉은 점)\n",
    "save_fig(\"precision_vs_recall_plot\")                     # 그래프 이미지 저장\n",
    "plt.show()                                               # 그래프 출력\n"
   ]
  },
  {
   "cell_type": "markdown",
   "id": "07cd66fc-c761-49a6-9831-904318d1cfdf",
   "metadata": {},
   "source": [
    "정밀도가 재현율 80% 부근에서 급격히 떨어지기 시작\n",
    " -> 따라서 그 직전, 재현율 60% 부근에서 정밀도/재현율 트레이드오프를 선택하는 것이 좋음\n",
    " (하지만 선택은 프로젝트에 따라 달라짐)\n",
    " \n",
    "<90%의 정밀도를 목표로 한다고 가정>\n",
    " - 첫 번째 플롯을 확인해 보니 약 8,000의 임계값을 사용해야 함\n",
    " - 더 정확하게 하려면 최소 90%의 정밀도를 제공하는 가장 낮은 임계값을 검색(np.argmax()는 최대값의 첫 번째 인덱스를 제공하며, 이 경우 첫 번째 True 값을 의미)"
   ]
  },
  {
   "cell_type": "code",
   "execution_count": 91,
   "id": "ce5c8f82-1d7f-4d3b-bf31-7eeb5ae3a43a",
   "metadata": {},
   "outputs": [],
   "source": [
    "threshold_90_precision = thresholds[np.argmax(precisions >= 0.90)]"
   ]
  },
  {
   "cell_type": "code",
   "execution_count": 92,
   "id": "3a33f246-d22f-4ac2-af9d-1a854fb3d4a9",
   "metadata": {},
   "outputs": [
    {
     "data": {
      "text/plain": [
       "np.float64(3370.0194991439557)"
      ]
     },
     "execution_count": 92,
     "metadata": {},
     "output_type": "execute_result"
    }
   ],
   "source": [
    "threshold_90_precision"
   ]
  },
  {
   "cell_type": "code",
   "execution_count": 93,
   "id": "e6e7a0d6-6a78-4436-a68c-113e75127be4",
   "metadata": {},
   "outputs": [],
   "source": [
    "y_train_pred_90 = (y_scores >= threshold_90_precision)"
   ]
  },
  {
   "cell_type": "code",
   "execution_count": 100,
   "id": "6189d060-c7ce-43d0-a71c-c12e58ba61ea",
   "metadata": {},
   "outputs": [
    {
     "data": {
      "text/plain": [
       "0.9000345901072293"
      ]
     },
     "execution_count": 100,
     "metadata": {},
     "output_type": "execute_result"
    }
   ],
   "source": [
    "precision_score(y_train_5, y_train_pred_90)  # 정밀도 확인 "
   ]
  },
  {
   "cell_type": "code",
   "execution_count": 101,
   "id": "f604e69d-9c2c-4e2e-961d-f9c72ca77b60",
   "metadata": {},
   "outputs": [
    {
     "data": {
      "text/plain": [
       "0.4799852425751706"
      ]
     },
     "execution_count": 101,
     "metadata": {},
     "output_type": "execute_result"
    }
   ],
   "source": [
    "recall_score(y_train_5, y_train_pred_90)  # 재현율 확인"
   ]
  },
  {
   "cell_type": "markdown",
   "id": "4320ea84-fe59-4b8b-a452-e430a43ee8fe",
   "metadata": {},
   "source": [
    "90% 정밀도 분류기 -> 높은 정밀도 분류기라도 재현율이 너무 낮으면 별로 유용하지 않음 주의"
   ]
  },
  {
   "cell_type": "markdown",
   "id": "1d59cb99-e740-404b-a7e2-dac198aae6ac",
   "metadata": {},
   "source": [
    "## The ROC Curve"
   ]
  },
  {
   "cell_type": "markdown",
   "id": "3aacfef7-ac8f-447c-9c92-f2155bb35901",
   "metadata": {},
   "source": [
    "수신자 조작 특성(ROC) 곡선: 이진 분류기와 함께 사용되는 또 다른 일반적인 도구\n",
    " - 정밀도/재현율 곡선과 매우 유사\n",
    " - ROC 곡선은 정밀도 대 재현율을 그리는 대신 참긍정률(== 민감도, 재현율)과 참부정률(FPR) 표시\n",
    " - FPR: 양성으로 잘못 분류된 음성 사례의 비율, 1 - 참부정률(TNR)과 같음\n",
    " - TNR(True Negative Rate): 음성으로 올바르게 분류된 음성 사례의 비율, 특이도라고도 함\n",
    " - ROC 곡선은 민감도(재현율) 대 1 - 특이도를 표시\n",
    "\n",
    "ROC 곡선을 그리기 위해 roc_curve() 함수를 사용하여 다양한 임계값에 대한 TPR과 FPR을 계산 선행"
   ]
  },
  {
   "cell_type": "code",
   "execution_count": 102,
   "id": "94cc45b2-20a7-44c8-96ae-e59bed85b4b9",
   "metadata": {},
   "outputs": [],
   "source": [
    "from sklearn.metrics import roc_curve\n",
    "\n",
    "fpr, tpr, thresholds = roc_curve(y_train_5, y_scores)"
   ]
  },
  {
   "cell_type": "code",
   "execution_count": 103,
   "id": "18de7f15-29b0-4387-9014-27ebece7e63d",
   "metadata": {},
   "outputs": [
    {
     "name": "stdout",
     "output_type": "stream",
     "text": [
      "Saving figure roc_curve_plot\n"
     ]
    },
    {
     "data": {
      "image/png": "[encoded data removed]",
      "text/plain": [
       "<Figure size 800x600 with 1 Axes>"
      ]
     },
     "metadata": {},
     "output_type": "display_data"
    }
   ],
   "source": [
    "def plot_roc_curve(fpr, tpr, label=None):\n",
    "    plt.plot(fpr, tpr, linewidth=2, label=label)                   # ROC 곡선 그리기\n",
    "    plt.plot([0, 1], [0, 1], 'k--')                                 # 기준선 (랜덤 분류기)\n",
    "    plt.axis([0, 1, 0, 1])                                          # 축 범위 설정\n",
    "    plt.xlabel('False Positive Rate (Fall-Out)', fontsize=16)      # x축: 거짓 양성 비율\n",
    "    plt.ylabel('True Positive Rate (Recall)', fontsize=16)         # y축: 참 양성 비율 (재현율)\n",
    "    plt.grid(True)                                                 # 그리드 표시\n",
    "\n",
    "plt.figure(figsize=(8, 6))                                         # 그래프 크기 설정\n",
    "plot_roc_curve(fpr, tpr)                                          # ROC 곡선 그리기\n",
    "\n",
    "fpr_90 = fpr[np.argmax(tpr >= recall_90_precision)]               # 재현율 90% 이상인 지점의 FPR 추출\n",
    "plt.plot([fpr_90, fpr_90], [0., recall_90_precision], \"r:\")       # FPR 기준선 (수직)\n",
    "plt.plot([0.0, fpr_90], [recall_90_precision, recall_90_precision], \"r:\")  # 재현율 기준선 (수평)\n",
    "plt.plot([fpr_90], [recall_90_precision], \"ro\")                   # 기준점 강조 (붉은 점)\n",
    "\n",
    "save_fig(\"roc_curve_plot\")                                        # 그래프 저장\n",
    "plt.show()                                                        # 그래프 표시\n"
   ]
  },
  {
   "cell_type": "markdown",
   "id": "faa6cbb3-8978-4dea-b370-9472703cf1d4",
   "metadata": {},
   "source": [
    "재현율(TPR)이 높을수록 분류기가 생성하는 거짓긍정률(FPR)도 높아짐  \n",
    "점선은 순수 무작위 분류기의 ROC 곡선  \n",
    "좋은 분류기는 이 선에서 가능한 한 멀리(좌상단 모서리 쪽) 떨어져 있다!"
   ]
  },
  {
   "cell_type": "markdown",
   "id": "01164265-9d95-4fd2-a691-3045f621ab4c",
   "metadata": {},
   "source": [
    "분류기를 비교하는 방법 중 하나 -> 곡선 아래 면적(AUC)을 측정  \n",
    "완벽한 분류기는 ROC AUC가 1, 순수 무작위 분류기는 ROC AUC가 0.5  "
   ]
  },
  {
   "cell_type": "code",
   "execution_count": 104,
   "id": "4ee3aa8c-bbbb-4390-993f-4b1619c90f97",
   "metadata": {},
   "outputs": [
    {
     "data": {
      "text/plain": [
       "0.9604938554008616"
      ]
     },
     "execution_count": 104,
     "metadata": {},
     "output_type": "execute_result"
    }
   ],
   "source": [
    "from sklearn.metrics import roc_auc_score\n",
    "\n",
    "roc_auc_score(y_train_5, y_scores)"
   ]
  },
  {
   "cell_type": "markdown",
   "id": "9a67cc93-eb1d-4dab-a915-fa2c37c84af1",
   "metadata": {},
   "source": [
    "ROC 곡선은 정밀도/재현율(PR) 곡선과 매우 유사함!  \n",
    "일반적으로 양성 클래스가 드물거나 거짓 음성보다 거짓 양성이 더 중요할 때는 PR 곡선을 사용, 아니면 ROC 곡선 사용\n",
    "\n",
    "이전 ROC 곡선(및 ROC AUC 점수)을 보면 분류기가 정말 좋다고 생각할 수 있으나,  \n",
    "하지만 이는 대부분 음성(5가 아닌)에 비해 양성(5)이 적기 때문  \n",
    " -> 반면 PR 곡선은 분류기에 개선의 여지가 있음을  보여 줌(곡선이 왼쪽 상단 모서리에 더 가까울 수 있음)"
   ]
  },
  {
   "cell_type": "markdown",
   "id": "3f22c9c7-a64f-4039-a34f-317a0ccb3e48",
   "metadata": {},
   "source": [
    "이제 RandomForestClassifier를 학습시키고 ROC 곡선과 ROC AUC 점수를 SGDClassifier의 점수와 비교\n",
    "\n",
    "먼저, 학습 세트의 각 인스턴스에 대한 점수를 얻어야 함  \n",
    "하지만 작동 방식 때문에 Random ForestClassifier 클래스에는 decision_function() 메서드가 없음  \n",
    "대신 predict_proba() 메서드가 있음\n",
    "\n",
    "Scikit-Learn 분류기는 일반적으로 이 두 가지 메서드 중 하나, 또는 둘 다를 가지고 있음   \n",
    "predict_proba() 메서드는 인스턴스당 행과 클래스당 열을 포함하는 배열을 반환  \n",
    "각 행에는 주어진 인스턴스가 주어진 클래스에 속할 확률이 포함(예: 이미지가 5를 나타낼 확률 70%)"
   ]
  },
  {
   "cell_type": "code",
   "execution_count": 107,
   "id": "cd4996b5-f8c8-4d2b-af6f-96adfc42e31a",
   "metadata": {},
   "outputs": [],
   "source": [
    "from sklearn.ensemble import RandomForestClassifier\n",
    "\n",
    "# 랜덤 포레스트 분류기 생성 (100개의 트리, 랜덤 시드 42)\n",
    "forest_clf = RandomForestClassifier(n_estimators=100, random_state=42)\n",
    "\n",
    "# 교차 검증을 통해 각 샘플에 대한 클래스 확률 예측\n",
    "y_probas_forest = cross_val_predict(forest_clf, X_train, y_train_5, cv=3,\n",
    "                                    method=\"predict_proba\")\n"
   ]
  },
  {
   "cell_type": "markdown",
   "id": "10886f15-603e-4273-9833-201ce15e8309",
   "metadata": {},
   "source": [
    "roc_curve() 함수는 레이블과 점수를 필요로 하지만,   \n",
    "점수 대신 클래스 확률을 지정할 수 있음 -> 긍정 클래스의 확률을 점수로 사용"
   ]
  },
  {
   "cell_type": "code",
   "execution_count": 109,
   "id": "0daec3c1-8b2c-47e6-b09a-020cb1637ca8",
   "metadata": {},
   "outputs": [],
   "source": [
    "y_scores_forest = y_probas_forest[:, 1]  # 점수 = 양성 클래스의 확률\n",
    "fpr_forest, tpr_forest, thresholds_forest = roc_curve(y_train_5,y_scores_forest)"
   ]
  },
  {
   "cell_type": "code",
   "execution_count": 154,
   "id": "ec19be51-5143-43b2-bb9a-06f1fbbe8490",
   "metadata": {},
   "outputs": [
    {
     "name": "stdout",
     "output_type": "stream",
     "text": [
      "Saving figure roc_curve_comparison_plot\n"
     ]
    },
    {
     "data": {
      "image/png": "[encoded data removed]",
      "text/plain": [
       "<Figure size 800x600 with 1 Axes>"
      ]
     },
     "metadata": {},
     "output_type": "display_data"
    }
   ],
   "source": [
    "# 랜덤 포레스트에서 fpr_90 이상일 때의 재현율 추출\n",
    "recall_for_forest = tpr_forest[np.argmax(fpr_forest >= fpr_90)]\n",
    "\n",
    "plt.figure(figsize=(8, 6))  # 그래프 크기 설정\n",
    "\n",
    "# SGDClassifier의 ROC 곡선 (점선)\n",
    "plt.plot(fpr, tpr, \"b:\", linewidth=2, label=\"SGD\")\n",
    "\n",
    "# 랜덤 포레스트의 ROC 곡선\n",
    "plot_roc_curve(fpr_forest, tpr_forest, \"Random Forest\")\n",
    "\n",
    "# 기준점 (fpr_90, recall_90_precision) 표시\n",
    "plt.plot([fpr_90, fpr_90], [0., recall_90_precision], \"r:\")\n",
    "plt.plot([0.0, fpr_90], [recall_90_precision, recall_90_precision], \"r:\")\n",
    "plt.plot([fpr_90], [recall_90_precision], \"ro\")\n",
    "\n",
    "# 랜덤 포레스트 기준점 표시\n",
    "plt.plot([fpr_90, fpr_90], [0., recall_for_forest], \"r:\")\n",
    "plt.plot([fpr_90], [recall_for_forest], \"ro\")\n",
    "\n",
    "plt.grid(True)\n",
    "plt.legend(loc=\"lower right\", fontsize=16)\n",
    "save_fig(\"roc_curve_comparison_plot\")  # 그래프 저장\n",
    "plt.show()  # 그래프 출력\n"
   ]
  },
  {
   "cell_type": "markdown",
   "id": "fc285629-3d60-4725-a395-03075275e852",
   "metadata": {},
   "source": [
    "랜덤 포레스트 분류기는 SGD 분류기보다 ROC 곡선이 좌측 상단 모서리에 훨씬 가깝고 AUC가 더 크기 때문에 더 __우수하다!__"
   ]
  },
  {
   "cell_type": "code",
   "execution_count": 111,
   "id": "737ac4be-8e9b-48b9-97c8-ab3e227f68ca",
   "metadata": {},
   "outputs": [
    {
     "data": {
      "text/plain": [
       "0.9983436731328145"
      ]
     },
     "execution_count": 111,
     "metadata": {},
     "output_type": "execute_result"
    }
   ],
   "source": [
    "roc_auc_score(y_train_5, y_scores_forest)"
   ]
  },
  {
   "cell_type": "code",
   "execution_count": 112,
   "id": "498162e3-bcd2-4d8c-aa36-12a063d509db",
   "metadata": {},
   "outputs": [
    {
     "data": {
      "text/plain": [
       "0.9905083315756169"
      ]
     },
     "execution_count": 112,
     "metadata": {},
     "output_type": "execute_result"
    }
   ],
   "source": [
    "y_train_pred_forest = cross_val_predict(forest_clf, X_train, y_train_5, cv=3)\n",
    "precision_score(y_train_5, y_train_pred_forest)"
   ]
  },
  {
   "cell_type": "code",
   "execution_count": 113,
   "id": "b6e1a4a0-e418-4a9b-af88-fc301db9493c",
   "metadata": {},
   "outputs": [
    {
     "data": {
      "text/plain": [
       "0.8662608374838591"
      ]
     },
     "execution_count": 113,
     "metadata": {},
     "output_type": "execute_result"
    }
   ],
   "source": [
    "recall_score(y_train_5, y_train_pred_forest)"
   ]
  },
  {
   "cell_type": "markdown",
   "id": "df08be7e-d9c5-4ee4-bb74-73dcd470fde5",
   "metadata": {},
   "source": [
    "ROC AUC 점수도 더 좋고, 정밀도와 재현율 점수도 좋음\n",
    "\n",
    "이제 5점 이상의 값을 검출해 보기!"
   ]
  },
  {
   "cell_type": "markdown",
   "id": "9824c522-d86c-4101-b3e1-11bffcb49be5",
   "metadata": {},
   "source": [
    "# 4. Multiclass Classification"
   ]
  },
  {
   "cell_type": "markdown",
   "id": "5d673ec6-3b3c-4b10-9b32-e86c81821b2b",
   "metadata": {},
   "source": [
    "이진 분류기는 두 클래스를 구분, 다중 클래스 분류기(다항 분류기)는 두 개 이상의 클래스 구분\n",
    "\n",
    "SGD 분류기, 랜덤 포레스트 분류기, 나이브 베이즈 분류기 등은 여러 클래스를 처리  \n",
    "로지스틱 회귀 또는 지원 벡터 머신 분류기는 엄격한 이진 분류기\n",
    "\n",
    "여러 이진 분류기를 사용하여 다중 클래스 분류 수행 가능\n",
    "\n",
    "숫자 이미지를 10개의 클래스(0~9)로 분류할 수 있는 시스템 전략\n",
    "1. 일대나머지(OvR) 전략\n",
    "- 각 숫자에 대해 하나씩(0 검출기, 1 검출기, 2 검출기 등) 10개의 이진 분류기 훈련\n",
    "- 그런 다음 이미지를 분류하려면 해당 이미지에 대한 각 분류기에서 결정 점수를 얻고\n",
    "- 분류기에서 가장 높은 점수를 출력하는 클래스 선택\n",
    "\n",
    "2.  일대일(OvO) 전략\n",
    "- 모든 숫자 쌍에 대해 이진 분류기 학습시키기\n",
    "- 하나는 0과 1을 구분하고, 다른 하나는 0과 2를 구분하고, 또 다른 하나는 1과 2를 구분하는 식으로 진행\n",
    "- 클래스가 N개이면 N × (N – 1) / 2개의 분류기를 학습해야 함\n",
    "\n",
    "MNIST 문제의 경우 45개의 이진 분류기 학습임  \n",
    "이미지를 분류하려면 45개의 분류기 모두에 이미지를 통과시키고 어느 클래스가 가장 많은 승리에서 승리하는지 확인\n",
    "\n",
    "OvO의 주요 장점: 각 분류기가 구분해야 하는 두 클래스에 대한 학습 세트의 일부에 대해서만 학습하면 된다  \n",
    "일부 알고리즘(예: 지원 벡터 머신 분류기)은 학습 세트 크기에 따라 확장성이 떨어지므로 OvO가 선호됨  \n",
    "-> 작은 학습 세트에서 여러 분류기를 학습하는 것이 큰 학습 세트에서 적은 분류기를 학습하는 것보다 빠르기 때문  \n",
    "그러나 대부분의 이진 분류 알고리즘에서는 OvR이 선호  "
   ]
  },
  {
   "cell_type": "markdown",
   "id": "927201ee-4fe4-4959-b3b5-6192c49e8c85",
   "metadata": {},
   "source": [
    "Scikit-Learn은 다중 클래스 분류 작업에 이진 분류 알고리즘을 사용하려고 할 때 이를 감지하고,  \n",
    "알고리즘에 따라 OvR 또는 OvO를 자동으로 실행함  \n",
    "sklearn.svm.SVC 클래스를 사용하여 지원 벡터 머신 분류기로 이 과정 시도"
   ]
  },
  {
   "cell_type": "code",
   "execution_count": 120,
   "id": "6b16cdf8-c4f6-49eb-9360-8fe4b853442d",
   "metadata": {},
   "outputs": [
    {
     "data": {
      "text/plain": [
       "array([5], dtype=uint8)"
      ]
     },
     "execution_count": 120,
     "metadata": {},
     "output_type": "execute_result"
    }
   ],
   "source": [
    "from sklearn.svm import SVC\n",
    "\n",
    "svm_clf = SVC(gamma=\"auto\", random_state=42)                    # SVM 분류기 생성\n",
    "svm_clf.fit(X_train[:1000], y_train[:1000])                     # 전체 다섯이 아닌 원래 숫자 레이블로 학습\n",
    "svm_clf.predict([some_digit])                                   # 숫자 예측\n"
   ]
  },
  {
   "cell_type": "code",
   "execution_count": 121,
   "id": "c5a36cd5-5476-4bb2-9636-f9553da69f43",
   "metadata": {},
   "outputs": [
    {
     "data": {
      "text/plain": [
       "array([[ 2.81585438,  7.09167958,  3.82972099,  0.79365551,  5.8885703 ,\n",
       "         9.29718395,  1.79862509,  8.10392157, -0.228207  ,  4.83753243]])"
      ]
     },
     "execution_count": 121,
     "metadata": {},
     "output_type": "execute_result"
    }
   ],
   "source": [
    "some_digit_scores = svm_clf.decision_function([some_digit])\n",
    "some_digit_scores"
   ]
  },
  {
   "cell_type": "markdown",
   "id": "c01a9edd-7b45-42ed-9a8f-ba91f5ed9a5d",
   "metadata": {},
   "source": [
    "decision_function() 메서드를 호출하면 인스턴스당 1개가 아닌 10개의 점수를 반환  \n",
    "-> 즉, 클래스당 하나의 점수가 반환되는 것"
   ]
  },
  {
   "cell_type": "code",
   "execution_count": 123,
   "id": "ccca6210-1a01-4ce6-96d4-27b556b9638a",
   "metadata": {},
   "outputs": [
    {
     "data": {
      "text/plain": [
       "np.int64(5)"
      ]
     },
     "execution_count": 123,
     "metadata": {},
     "output_type": "execute_result"
    }
   ],
   "source": [
    "np.argmax(some_digit_scores)  # 가장 큰 값을 가진 인덱스(위치)은 5"
   ]
  },
  {
   "cell_type": "code",
   "execution_count": 125,
   "id": "dc56c8ae-2bc9-45e0-b6b9-c7ace95edc2f",
   "metadata": {},
   "outputs": [
    {
     "data": {
      "text/plain": [
       "array([0, 1, 2, 3, 4, 5, 6, 7, 8, 9], dtype=uint8)"
      ]
     },
     "execution_count": 125,
     "metadata": {},
     "output_type": "execute_result"
    }
   ],
   "source": [
    "svm_clf.classes_  # 모델이 학습한 클래스(레이블)들의 목록"
   ]
  },
  {
   "cell_type": "code",
   "execution_count": 126,
   "id": "7f61dc1b-2349-4dea-bed5-df0ef2e97c98",
   "metadata": {},
   "outputs": [
    {
     "data": {
      "text/plain": [
       "np.uint8(5)"
      ]
     },
     "execution_count": 126,
     "metadata": {},
     "output_type": "execute_result"
    }
   ],
   "source": [
    "svm_clf.classes_[5]  # 모델이 학습한 클래스 중 5번째 인덱스에 해당하는 클래스 라벨"
   ]
  },
  {
   "cell_type": "markdown",
   "id": "3f6e7f57-88ed-408f-a87c-83fdcd02ce60",
   "metadata": {},
   "source": [
    "분류기가 학습되면 대상 클래스 목록을 classes_ 속성에 값 순으로 저장  \n",
    "이 경우 classes_ 배열의 각 클래스 인덱스는 클래스 자체와 일치(예: 인덱스 5에 있는 클래스는 클래스 5)  \n",
    "일반적으로는 아님!"
   ]
  },
  {
   "cell_type": "markdown",
   "id": "c61a0f36-4458-45e9-b580-31d60d049a0f",
   "metadata": {},
   "source": [
    "Scikit-Learn에서 일대일 또는 일대다 분류를 사용하도록 강제하기  \n",
    " -> OneVsOneClassifier 또는 OneVsRestClassifier 클래스  \n",
    "인스턴스를 생성하고 생성자에 분류기 전달  \n",
    "\n",
    "예를 들어, 다음 코드는 SVC를 기반으로 OvR 전략을 사용하여 다중 클래스 분류기를 생성"
   ]
  },
  {
   "cell_type": "code",
   "execution_count": 127,
   "id": "c04c0c45-5597-491f-b5f3-6f12822b67d2",
   "metadata": {},
   "outputs": [
    {
     "data": {
      "text/plain": [
       "array([5], dtype=uint8)"
      ]
     },
     "execution_count": 127,
     "metadata": {},
     "output_type": "execute_result"
    }
   ],
   "source": [
    "from sklearn.multiclass import OneVsRestClassifier\n",
    "ovr_clf = OneVsRestClassifier(SVC(gamma=\"auto\", random_state=42))\n",
    "ovr_clf.fit(X_train[:1000], y_train[:1000])\n",
    "ovr_clf.predict([some_digit])"
   ]
  },
  {
   "cell_type": "code",
   "execution_count": 128,
   "id": "a7fe6150-07b3-442b-932c-e9e0582b7d3d",
   "metadata": {},
   "outputs": [
    {
     "data": {
      "text/plain": [
       "10"
      ]
     },
     "execution_count": 128,
     "metadata": {},
     "output_type": "execute_result"
    }
   ],
   "source": [
    "len(ovr_clf.estimators_)"
   ]
  },
  {
   "cell_type": "markdown",
   "id": "b3ed1e86-2374-4f7f-b136-0a6e8d218257",
   "metadata": {},
   "source": [
    "SGDClassifier(또는 RandomForestClassifier) 훈련하기"
   ]
  },
  {
   "cell_type": "code",
   "execution_count": 129,
   "id": "bc85f68a-e5f9-47b3-8466-dc3ab20c3eb4",
   "metadata": {},
   "outputs": [
    {
     "data": {
      "text/plain": [
       "array([3], dtype=uint8)"
      ]
     },
     "execution_count": 129,
     "metadata": {},
     "output_type": "execute_result"
    }
   ],
   "source": [
    "sgd_clf.fit(X_train, y_train)\n",
    "sgd_clf.predict([some_digit])"
   ]
  },
  {
   "cell_type": "code",
   "execution_count": 130,
   "id": "ce6162d8-af98-4e7a-873d-46a94f735e1d",
   "metadata": {},
   "outputs": [
    {
     "data": {
      "text/plain": [
       "array([[-31893.03095419, -34419.69069632,  -9530.63950739,\n",
       "          1823.73154031, -22320.14822878,  -1385.80478895,\n",
       "        -26188.91070951, -16147.51323997,  -4604.35491274,\n",
       "        -12050.767298  ]])"
      ]
     },
     "execution_count": 130,
     "metadata": {},
     "output_type": "execute_result"
    }
   ],
   "source": [
    "sgd_clf.decision_function([some_digit])"
   ]
  },
  {
   "cell_type": "code",
   "execution_count": 133,
   "id": "fa057cbc-41ce-43f5-a2ac-d37f7ae9177f",
   "metadata": {},
   "outputs": [
    {
     "data": {
      "text/plain": [
       "array([0.87365, 0.85835, 0.8689 ])"
      ]
     },
     "execution_count": 133,
     "metadata": {},
     "output_type": "execute_result"
    }
   ],
   "source": [
    "# 분류기 평가하기\n",
    "cross_val_score(sgd_clf, X_train, y_train, cv=3, scoring=\"accuracy\")"
   ]
  },
  {
   "cell_type": "code",
   "execution_count": 134,
   "id": "00bd0f34-422c-415b-be0f-6f742341c46d",
   "metadata": {},
   "outputs": [
    {
     "data": {
      "text/plain": [
       "array([0.8983, 0.891 , 0.9018])"
      ]
     },
     "execution_count": 134,
     "metadata": {},
     "output_type": "execute_result"
    }
   ],
   "source": [
    "from sklearn.preprocessing import StandardScaler\n",
    "scaler = StandardScaler()\n",
    "\n",
    "# 훈련 데이터를 표준화 (평균 0, 분산 1)\n",
    "X_train_scaled = scaler.fit_transform(X_train.astype(np.float64))\n",
    "\n",
    "# 표준화된 데이터로 SGDClassifier 정확도 평가 (3-폴드 교차 검증)\n",
    "cross_val_score(sgd_clf, X_train_scaled, y_train, cv=3, scoring=\"accuracy\")\n"
   ]
  },
  {
   "cell_type": "markdown",
   "id": "5ba4f875-7812-4d68-930f-9d3b5eb27251",
   "metadata": {},
   "source": [
    "# 5. Error Analysis"
   ]
  },
  {
   "cell_type": "markdown",
   "id": "1cd22183-daa1-4718-af01-feb8bc326594",
   "metadata": {},
   "source": [
    "실제 프로젝트라고 가정하면, 머신 러닝 프로젝트 체크리스트(부록 B 참조)의 단계를 따른다  \n",
    "1. 데이터 준비 옵션을 살펴보기\n",
    "2. 여러 모델을 시도해 보기(가장 적합한 모델을 선정하고 GridSearchCV를 사용하여 하이퍼파라미터 미세 조정)\n",
    "3. 가능한 한 많은 부분 자동화\n",
    "\n",
    "여기서는 유망한 모델을 찾았고 이를 개선할 방법을 찾고 있다고 가정함  \n",
    "이를 위한 한 가지 방법은 모델에서 발생하는 오류 유형을 분석하는 것"
   ]
  },
  {
   "cell_type": "code",
   "execution_count": 135,
   "id": "663ff553-e28e-4d19-baf3-a03c6c842912",
   "metadata": {},
   "outputs": [
    {
     "data": {
      "text/plain": [
       "array([[5577,    0,   22,    5,    8,   43,   36,    6,  225,    1],\n",
       "       [   0, 6400,   37,   24,    4,   44,    4,    7,  212,   10],\n",
       "       [  27,   27, 5220,   92,   73,   27,   67,   36,  378,   11],\n",
       "       [  22,   17,  117, 5227,    2,  203,   27,   40,  403,   73],\n",
       "       [  12,   14,   41,    9, 5182,   12,   34,   27,  347,  164],\n",
       "       [  27,   15,   30,  168,   53, 4444,   75,   14,  535,   60],\n",
       "       [  30,   15,   42,    3,   44,   97, 5552,    3,  131,    1],\n",
       "       [  21,   10,   51,   30,   49,   12,    3, 5684,  195,  210],\n",
       "       [  17,   63,   48,   86,    3,  126,   25,   10, 5429,   44],\n",
       "       [  25,   18,   30,   64,  118,   36,    1,  179,  371, 5107]])"
      ]
     },
     "execution_count": 135,
     "metadata": {},
     "output_type": "execute_result"
    }
   ],
   "source": [
    "# 혼동행렬 살펴보기\n",
    "y_train_pred = cross_val_predict(sgd_clf, X_train_scaled, y_train, cv=3)\n",
    "conf_mx = confusion_matrix(y_train, y_train_pred)\n",
    "conf_mx"
   ]
  },
  {
   "cell_type": "code",
   "execution_count": 136,
   "id": "1a69bfbc-3ddb-470a-b6ae-8cdf9bc5a1a8",
   "metadata": {},
   "outputs": [
    {
     "name": "stdout",
     "output_type": "stream",
     "text": [
      "Saving figure confusion_matrix_plot\n"
     ]
    },
    {
     "data": {
      "image/png": "[encoded data removed]",
      "text/plain": [
       "<Figure size 480x480 with 1 Axes>"
      ]
     },
     "metadata": {},
     "output_type": "display_data"
    }
   ],
   "source": [
    "# 숫자가 많으므로 Matplotlib의 matshow() 함수를 사용하여 혼동 행렬의 이미지 표현\n",
    "plt.matshow(conf_mx, cmap=plt.cm.gray)\n",
    "save_fig(\"confusion_matrix_plot\", tight_layout=False)\n",
    "plt.show()"
   ]
  },
  {
   "cell_type": "markdown",
   "id": "d7db7da4-5320-47c1-8b87-dd681145ff4e",
   "metadata": {},
   "source": [
    "대부분의 이미지가 주 대각선에 있음 -> 이미지가 올바르게 분류됨  \n",
    "5는 다른 숫자보다 약간 어둡게 보이는데, \n",
    " - 데이터셋에 5 이미지가 적거나 \n",
    " - 분류기가 숫자 5를 다른 숫자보다 잘 분류하지 못한다는 뜻(실제로 두 경우 모두 해당)\n",
    "\n",
    "오류에 집중한 그래프를 살펴보기  \n",
    "먼저 혼동 행렬의 각 값을 해당 클래스(실제 숫자)에 속한 이미지 수로 나누어야  \n",
    "오류 개수 자체가 아니라 오류 비율(오류율)을 비교할 수 있음!  \n",
    "(단순 오류 개수를 보면 많이 등장하는 숫자 클래스가 더 나쁘게 보일 수 있기 때문)"
   ]
  },
  {
   "cell_type": "code",
   "execution_count": 137,
   "id": "a20f04a3-7178-4a78-bc70-32edc9501171",
   "metadata": {},
   "outputs": [],
   "source": [
    "row_sums = conf_mx.sum(axis=1, keepdims=True)  # 각 클래스별 전체 이미지 수\n",
    "norm_conf_mx = conf_mx / row_sums              # 클래스별로 정규화된 혼동 행렬 (비율로 변환)\n"
   ]
  },
  {
   "cell_type": "code",
   "execution_count": 139,
   "id": "4eb61db1-dfb3-4982-9aa7-7607fdfe07b5",
   "metadata": {},
   "outputs": [
    {
     "name": "stdout",
     "output_type": "stream",
     "text": [
      "Saving figure confusion_matrix_errors_plot\n"
     ]
    },
    {
     "data": {
      "image/png": "[encoded data removed]",
      "text/plain": [
       "<Figure size 480x480 with 1 Axes>"
      ]
     },
     "metadata": {},
     "output_type": "display_data"
    }
   ],
   "source": [
    "np.fill_diagonal(norm_conf_mx, 0)                # 정확히 맞춘 항목(대각선)을 0으로 설정 → 오류만 강조\n",
    "plt.matshow(norm_conf_mx, cmap=plt.cm.gray)      # 정규화된 오류 행렬 시각화 (회색톤)\n",
    "save_fig(\"confusion_matrix_errors_plot\", tight_layout=False)  # 그래프 저장\n",
    "plt.show()                                       # 그래프 출력\n"
   ]
  },
  {
   "cell_type": "markdown",
   "id": "68145df3-4a0c-497c-bece-ed87ad784aec",
   "metadata": {},
   "source": [
    "분류기가 어떤 종류의 오류를 자주 범하는지 확실히 확인할 수 있음\n",
    " - 혼동 행렬에서 행은 실제 클래스(정답)\n",
    " - 열은 예측한 클래스\n",
    "\n",
    "클래스 8의 열이 상당히 밝게 보임  \n",
    "-> 다른 숫자들이 8로 잘못 분류되는 경우가 많다  \n",
    "\n",
    "하지만 클래스 8의 행은 그렇게 나쁘지 않음  \n",
    "-> 실제 숫자 8은 대부분 정확히 8로 잘 분류되고 있다  \n",
    "=> 혼동 행렬은 대칭이 아닐 수도 있다  \n",
    "\n",
    "숫자 3과 5가 서로 자주 혼동(양방향으로 오답이 많이 발생함)\n",
    "\n",
    "_이런 혼동 행렬 분석은 분류기를 개선하는 데 좋은 힌트!_  \n",
    "-> false 8 문제를 줄이는 데 노력을 집중해야 함!\n",
    "\n",
    "__문제 개선 방법__\n",
    "1. 8처럼 생겼지만 실제로는 다른 숫자인 이미지들을 더 많이 수집해\n",
    " - 분류기가 8과 비슷한 다른 숫자들을 더 잘 구분하도록 훈련시키기\n",
    "\n",
    "2. 새로운 특성(feature)을 설계하기\n",
    " - 숫자 내부의 닫힌 고리 수(폐곡선)를 세는 알고리즘 만들기\n",
    " - 8은 고리가 2개, 6은 1개, 5는 없음\n",
    "\n",
    "3. 이미지를 전처리(preprocessing)\n",
    " - Scikit-Image, Pillow, OpenCV 등 이용\n",
    " - 닫힌 고리 같은 시각적 패턴을 더 잘 드러나게 만들기"
   ]
  },
  {
   "cell_type": "markdown",
   "id": "87ecf789-dd48-4101-b1cf-29812f949698",
   "metadata": {},
   "source": [
    "cl_a, cl_b = 3, 5  # 비교할 두 숫자 클래스\n",
    "\n",
    "# 실제 3인데 3으로 예측\n",
    "X_aa = X_train[(y_train == cl_a) & (y_train_pred == cl_a)]\n",
    "# 실제 3인데 5로 예측 (오답)\n",
    "X_ab = X_train[(y_train == cl_a) & (y_train_pred == cl_b)]\n",
    "# 실제 5인데 3으로 예측 (오답)\n",
    "X_ba = X_train[(y_train == cl_b) & (y_train_pred == cl_a)]\n",
    "# 실제 5인데 5로 예측\n",
    "X_bb = X_train[(y_train == cl_b) & (y_train_pred == cl_b)]\n",
    "\n",
    "plt.figure(figsize=(8,8))  # 전체 그림 크기 설정\n",
    "plt.subplot(221); plot_digits(X_aa[:25], images_per_row=5)  # 정답: 3, 예측: 3\n",
    "plt.subplot(222); plot_digits(X_ab[:25], images_per_row=5)  # 정답: 3, 예측: 5\n",
    "plt.subplot(223); plot_digits(X_ba[:25], images_per_row=5)  # 정답: 5, 예측: 3\n",
    "plt.subplot(224); plot_digits(X_bb[:25], images_per_row=5)  # 정답: 5, 예측: 5\n",
    "\n",
    "save_fig(\"error_analysis_digits_plot\")  # 그림 저장\n",
    "plt.show()  # 그림 출력\n"
   ]
  },
  {
   "cell_type": "markdown",
   "id": "df2e8005-f34c-45b1-a68b-bae9d77b31bd",
   "metadata": {},
   "source": [
    "왼쪽에 있는 두 개의 5×5 블록은 모델이 3이라고 분류한 이미지들이고  \n",
    "오른쪽의 두 블록은 모델이 5라고 분류한 이미지들\n",
    "\n",
    "왼쪽 아래(실제 5인데 3으로 예측)와 오른쪽 위(실제 3인데 5로 예측) 블록을 보면  \n",
    "몇몇 숫자는 정말 너무 엉망으로 쓰여 있어서 사람조차도 구별하기 어려운 경우가 있음\n",
    "\n",
    "하지만 대부분의 오답 이미지는 사람 입장에서 보면 분명히 잘못 분류된 것처럼 보이고  \n",
    "모델이 왜 그렇게 예측했는지 이해하기 어렵다,,  \n",
    " -> 우리가 사용한 분류기가 SGDClassifier(선형 모델)이기 때문\n",
    "\n",
    " - 각 픽셀에 대해 클래스별 가중치를 부여\n",
    " - 새로운 이미지를 볼 때는 단순히 픽셀 값 × 가중치를 다 더해서 각 클래스의 점수를 계산\n",
    "\n",
    "=> 숫자 3과 5는 몇 개의 픽셀만 다르고 전체적인 모양이 비슷하기 때문에, 이 모델은 쉽게 둘을 헷갈림"
   ]
  },
  {
   "cell_type": "markdown",
   "id": "d88c1bce-730e-4c2b-85b2-b0dd0d13a9c1",
   "metadata": {},
   "source": [
    "# 6. Multilabel Classification(다중 레이블 분류)"
   ]
  },
  {
   "cell_type": "markdown",
   "id": "05d82200-aad5-481d-a5a2-aff2d0c15238",
   "metadata": {},
   "source": [
    "지금까지는 각 샘플(이미지 등)에 대해 항상 하나의 클래스만 예측했으나  \n",
    "어떤 경우에는 하나의 샘플에 대해 여러 개의 클래스를 예측해야 할 수도 있다!  \n",
    "(예, 얼굴 인식(facerecognition) 분류기)  \n",
    "한 사진에 여러 사람이 등장하면 사진 속에서 인식한 사람마다 하나씩 태그를 붙여야  \n",
    "\n",
    "**다중 레이블 분류(multilabel classification)**: 각 클래스마다 이진(yes/no) 형태의 태그를 여러 개 출력하는 분류 시스템"
   ]
  },
  {
   "cell_type": "code",
   "execution_count": 144,
   "id": "de7bb9d3-4725-4dc2-adc2-072489bf5e8a",
   "metadata": {},
   "outputs": [
    {
     "data": {
      "text/html": [
       "<style>#sk-container-id-3 {\n",
       "  /* Definition of color scheme common for light and dark mode */\n",
       "  --sklearn-color-text: #000;\n",
       "  --sklearn-color-text-muted: #666;\n",
       "  --sklearn-color-line: gray;\n",
       "  /* Definition of color scheme for unfitted estimators */\n",
       "  --sklearn-color-unfitted-level-0: #fff5e6;\n",
       "  --sklearn-color-unfitted-level-1: #f6e4d2;\n",
       "  --sklearn-color-unfitted-level-2: #ffe0b3;\n",
       "  --sklearn-color-unfitted-level-3: chocolate;\n",
       "  /* Definition of color scheme for fitted estimators */\n",
       "  --sklearn-color-fitted-level-0: #f0f8ff;\n",
       "  --sklearn-color-fitted-level-1: #d4ebff;\n",
       "  --sklearn-color-fitted-level-2: #b3dbfd;\n",
       "  --sklearn-color-fitted-level-3: cornflowerblue;\n",
       "\n",
       "  /* Specific color for light theme */\n",
       "  --sklearn-color-text-on-default-background: var(--sg-text-color, var(--theme-code-foreground, var(--jp-content-font-color1, black)));\n",
       "  --sklearn-color-background: var(--sg-background-color, var(--theme-background, var(--jp-layout-color0, white)));\n",
       "  --sklearn-color-border-box: var(--sg-text-color, var(--theme-code-foreground, var(--jp-content-font-color1, black)));\n",
       "  --sklearn-color-icon: #696969;\n",
       "\n",
       "  @media (prefers-color-scheme: dark) {\n",
       "    /* Redefinition of color scheme for dark theme */\n",
       "    --sklearn-color-text-on-default-background: var(--sg-text-color, var(--theme-code-foreground, var(--jp-content-font-color1, white)));\n",
       "    --sklearn-color-background: var(--sg-background-color, var(--theme-background, var(--jp-layout-color0, #111)));\n",
       "    --sklearn-color-border-box: var(--sg-text-color, var(--theme-code-foreground, var(--jp-content-font-color1, white)));\n",
       "    --sklearn-color-icon: #878787;\n",
       "  }\n",
       "}\n",
       "\n",
       "#sk-container-id-3 {\n",
       "  color: var(--sklearn-color-text);\n",
       "}\n",
       "\n",
       "#sk-container-id-3 pre {\n",
       "  padding: 0;\n",
       "}\n",
       "\n",
       "#sk-container-id-3 input.sk-hidden--visually {\n",
       "  border: 0;\n",
       "  clip: rect(1px 1px 1px 1px);\n",
       "  clip: rect(1px, 1px, 1px, 1px);\n",
       "  height: 1px;\n",
       "  margin: -1px;\n",
       "  overflow: hidden;\n",
       "  padding: 0;\n",
       "  position: absolute;\n",
       "  width: 1px;\n",
       "}\n",
       "\n",
       "#sk-container-id-3 div.sk-dashed-wrapped {\n",
       "  border: 1px dashed var(--sklearn-color-line);\n",
       "  margin: 0 0.4em 0.5em 0.4em;\n",
       "  box-sizing: border-box;\n",
       "  padding-bottom: 0.4em;\n",
       "  background-color: var(--sklearn-color-background);\n",
       "}\n",
       "\n",
       "#sk-container-id-3 div.sk-container {\n",
       "  /* jupyter's `normalize.less` sets `[hidden] { display: none; }`\n",
       "     but bootstrap.min.css set `[hidden] { display: none !important; }`\n",
       "     so we also need the `!important` here to be able to override the\n",
       "     default hidden behavior on the sphinx rendered scikit-learn.org.\n",
       "     See: https://github.com/scikit-learn/scikit-learn/issues/21755 */\n",
       "  display: inline-block !important;\n",
       "  position: relative;\n",
       "}\n",
       "\n",
       "#sk-container-id-3 div.sk-text-repr-fallback {\n",
       "  display: none;\n",
       "}\n",
       "\n",
       "div.sk-parallel-item,\n",
       "div.sk-serial,\n",
       "div.sk-item {\n",
       "  /* draw centered vertical line to link estimators */\n",
       "  background-image: linear-gradient(var(--sklearn-color-text-on-default-background), var(--sklearn-color-text-on-default-background));\n",
       "  background-size: 2px 100%;\n",
       "  background-repeat: no-repeat;\n",
       "  background-position: center center;\n",
       "}\n",
       "\n",
       "/* Parallel-specific style estimator block */\n",
       "\n",
       "#sk-container-id-3 div.sk-parallel-item::after {\n",
       "  content: \"\";\n",
       "  width: 100%;\n",
       "  border-bottom: 2px solid var(--sklearn-color-text-on-default-background);\n",
       "  flex-grow: 1;\n",
       "}\n",
       "\n",
       "#sk-container-id-3 div.sk-parallel {\n",
       "  display: flex;\n",
       "  align-items: stretch;\n",
       "  justify-content: center;\n",
       "  background-color: var(--sklearn-color-background);\n",
       "  position: relative;\n",
       "}\n",
       "\n",
       "#sk-container-id-3 div.sk-parallel-item {\n",
       "  display: flex;\n",
       "  flex-direction: column;\n",
       "}\n",
       "\n",
       "#sk-container-id-3 div.sk-parallel-item:first-child::after {\n",
       "  align-self: flex-end;\n",
       "  width: 50%;\n",
       "}\n",
       "\n",
       "#sk-container-id-3 div.sk-parallel-item:last-child::after {\n",
       "  align-self: flex-start;\n",
       "  width: 50%;\n",
       "}\n",
       "\n",
       "#sk-container-id-3 div.sk-parallel-item:only-child::after {\n",
       "  width: 0;\n",
       "}\n",
       "\n",
       "/* Serial-specific style estimator block */\n",
       "\n",
       "#sk-container-id-3 div.sk-serial {\n",
       "  display: flex;\n",
       "  flex-direction: column;\n",
       "  align-items: center;\n",
       "  background-color: var(--sklearn-color-background);\n",
       "  padding-right: 1em;\n",
       "  padding-left: 1em;\n",
       "}\n",
       "\n",
       "\n",
       "/* Toggleable style: style used for estimator/Pipeline/ColumnTransformer box that is\n",
       "clickable and can be expanded/collapsed.\n",
       "- Pipeline and ColumnTransformer use this feature and define the default style\n",
       "- Estimators will overwrite some part of the style using the `sk-estimator` class\n",
       "*/\n",
       "\n",
       "/* Pipeline and ColumnTransformer style (default) */\n",
       "\n",
       "#sk-container-id-3 div.sk-toggleable {\n",
       "  /* Default theme specific background. It is overwritten whether we have a\n",
       "  specific estimator or a Pipeline/ColumnTransformer */\n",
       "  background-color: var(--sklearn-color-background);\n",
       "}\n",
       "\n",
       "/* Toggleable label */\n",
       "#sk-container-id-3 label.sk-toggleable__label {\n",
       "  cursor: pointer;\n",
       "  display: flex;\n",
       "  width: 100%;\n",
       "  margin-bottom: 0;\n",
       "  padding: 0.5em;\n",
       "  box-sizing: border-box;\n",
       "  text-align: center;\n",
       "  align-items: start;\n",
       "  justify-content: space-between;\n",
       "  gap: 0.5em;\n",
       "}\n",
       "\n",
       "#sk-container-id-3 label.sk-toggleable__label .caption {\n",
       "  font-size: 0.6rem;\n",
       "  font-weight: lighter;\n",
       "  color: var(--sklearn-color-text-muted);\n",
       "}\n",
       "\n",
       "#sk-container-id-3 label.sk-toggleable__label-arrow:before {\n",
       "  /* Arrow on the left of the label */\n",
       "  content: \"▸\";\n",
       "  float: left;\n",
       "  margin-right: 0.25em;\n",
       "  color: var(--sklearn-color-icon);\n",
       "}\n",
       "\n",
       "#sk-container-id-3 label.sk-toggleable__label-arrow:hover:before {\n",
       "  color: var(--sklearn-color-text);\n",
       "}\n",
       "\n",
       "/* Toggleable content - dropdown */\n",
       "\n",
       "#sk-container-id-3 div.sk-toggleable__content {\n",
       "  display: none;\n",
       "  text-align: left;\n",
       "  /* unfitted */\n",
       "  background-color: var(--sklearn-color-unfitted-level-0);\n",
       "}\n",
       "\n",
       "#sk-container-id-3 div.sk-toggleable__content.fitted {\n",
       "  /* fitted */\n",
       "  background-color: var(--sklearn-color-fitted-level-0);\n",
       "}\n",
       "\n",
       "#sk-container-id-3 div.sk-toggleable__content pre {\n",
       "  margin: 0.2em;\n",
       "  border-radius: 0.25em;\n",
       "  color: var(--sklearn-color-text);\n",
       "  /* unfitted */\n",
       "  background-color: var(--sklearn-color-unfitted-level-0);\n",
       "}\n",
       "\n",
       "#sk-container-id-3 div.sk-toggleable__content.fitted pre {\n",
       "  /* unfitted */\n",
       "  background-color: var(--sklearn-color-fitted-level-0);\n",
       "}\n",
       "\n",
       "#sk-container-id-3 input.sk-toggleable__control:checked~div.sk-toggleable__content {\n",
       "  /* Expand drop-down */\n",
       "  display: block;\n",
       "  width: 100%;\n",
       "  overflow: visible;\n",
       "}\n",
       "\n",
       "#sk-container-id-3 input.sk-toggleable__control:checked~label.sk-toggleable__label-arrow:before {\n",
       "  content: \"▾\";\n",
       "}\n",
       "\n",
       "/* Pipeline/ColumnTransformer-specific style */\n",
       "\n",
       "#sk-container-id-3 div.sk-label input.sk-toggleable__control:checked~label.sk-toggleable__label {\n",
       "  color: var(--sklearn-color-text);\n",
       "  background-color: var(--sklearn-color-unfitted-level-2);\n",
       "}\n",
       "\n",
       "#sk-container-id-3 div.sk-label.fitted input.sk-toggleable__control:checked~label.sk-toggleable__label {\n",
       "  background-color: var(--sklearn-color-fitted-level-2);\n",
       "}\n",
       "\n",
       "/* Estimator-specific style */\n",
       "\n",
       "/* Colorize estimator box */\n",
       "#sk-container-id-3 div.sk-estimator input.sk-toggleable__control:checked~label.sk-toggleable__label {\n",
       "  /* unfitted */\n",
       "  background-color: var(--sklearn-color-unfitted-level-2);\n",
       "}\n",
       "\n",
       "#sk-container-id-3 div.sk-estimator.fitted input.sk-toggleable__control:checked~label.sk-toggleable__label {\n",
       "  /* fitted */\n",
       "  background-color: var(--sklearn-color-fitted-level-2);\n",
       "}\n",
       "\n",
       "#sk-container-id-3 div.sk-label label.sk-toggleable__label,\n",
       "#sk-container-id-3 div.sk-label label {\n",
       "  /* The background is the default theme color */\n",
       "  color: var(--sklearn-color-text-on-default-background);\n",
       "}\n",
       "\n",
       "/* On hover, darken the color of the background */\n",
       "#sk-container-id-3 div.sk-label:hover label.sk-toggleable__label {\n",
       "  color: var(--sklearn-color-text);\n",
       "  background-color: var(--sklearn-color-unfitted-level-2);\n",
       "}\n",
       "\n",
       "/* Label box, darken color on hover, fitted */\n",
       "#sk-container-id-3 div.sk-label.fitted:hover label.sk-toggleable__label.fitted {\n",
       "  color: var(--sklearn-color-text);\n",
       "  background-color: var(--sklearn-color-fitted-level-2);\n",
       "}\n",
       "\n",
       "/* Estimator label */\n",
       "\n",
       "#sk-container-id-3 div.sk-label label {\n",
       "  font-family: monospace;\n",
       "  font-weight: bold;\n",
       "  display: inline-block;\n",
       "  line-height: 1.2em;\n",
       "}\n",
       "\n",
       "#sk-container-id-3 div.sk-label-container {\n",
       "  text-align: center;\n",
       "}\n",
       "\n",
       "/* Estimator-specific */\n",
       "#sk-container-id-3 div.sk-estimator {\n",
       "  font-family: monospace;\n",
       "  border: 1px dotted var(--sklearn-color-border-box);\n",
       "  border-radius: 0.25em;\n",
       "  box-sizing: border-box;\n",
       "  margin-bottom: 0.5em;\n",
       "  /* unfitted */\n",
       "  background-color: var(--sklearn-color-unfitted-level-0);\n",
       "}\n",
       "\n",
       "#sk-container-id-3 div.sk-estimator.fitted {\n",
       "  /* fitted */\n",
       "  background-color: var(--sklearn-color-fitted-level-0);\n",
       "}\n",
       "\n",
       "/* on hover */\n",
       "#sk-container-id-3 div.sk-estimator:hover {\n",
       "  /* unfitted */\n",
       "  background-color: var(--sklearn-color-unfitted-level-2);\n",
       "}\n",
       "\n",
       "#sk-container-id-3 div.sk-estimator.fitted:hover {\n",
       "  /* fitted */\n",
       "  background-color: var(--sklearn-color-fitted-level-2);\n",
       "}\n",
       "\n",
       "/* Specification for estimator info (e.g. \"i\" and \"?\") */\n",
       "\n",
       "/* Common style for \"i\" and \"?\" */\n",
       "\n",
       ".sk-estimator-doc-link,\n",
       "a:link.sk-estimator-doc-link,\n",
       "a:visited.sk-estimator-doc-link {\n",
       "  float: right;\n",
       "  font-size: smaller;\n",
       "  line-height: 1em;\n",
       "  font-family: monospace;\n",
       "  background-color: var(--sklearn-color-background);\n",
       "  border-radius: 1em;\n",
       "  height: 1em;\n",
       "  width: 1em;\n",
       "  text-decoration: none !important;\n",
       "  margin-left: 0.5em;\n",
       "  text-align: center;\n",
       "  /* unfitted */\n",
       "  border: var(--sklearn-color-unfitted-level-1) 1pt solid;\n",
       "  color: var(--sklearn-color-unfitted-level-1);\n",
       "}\n",
       "\n",
       ".sk-estimator-doc-link.fitted,\n",
       "a:link.sk-estimator-doc-link.fitted,\n",
       "a:visited.sk-estimator-doc-link.fitted {\n",
       "  /* fitted */\n",
       "  border: var(--sklearn-color-fitted-level-1) 1pt solid;\n",
       "  color: var(--sklearn-color-fitted-level-1);\n",
       "}\n",
       "\n",
       "/* On hover */\n",
       "div.sk-estimator:hover .sk-estimator-doc-link:hover,\n",
       ".sk-estimator-doc-link:hover,\n",
       "div.sk-label-container:hover .sk-estimator-doc-link:hover,\n",
       ".sk-estimator-doc-link:hover {\n",
       "  /* unfitted */\n",
       "  background-color: var(--sklearn-color-unfitted-level-3);\n",
       "  color: var(--sklearn-color-background);\n",
       "  text-decoration: none;\n",
       "}\n",
       "\n",
       "div.sk-estimator.fitted:hover .sk-estimator-doc-link.fitted:hover,\n",
       ".sk-estimator-doc-link.fitted:hover,\n",
       "div.sk-label-container:hover .sk-estimator-doc-link.fitted:hover,\n",
       ".sk-estimator-doc-link.fitted:hover {\n",
       "  /* fitted */\n",
       "  background-color: var(--sklearn-color-fitted-level-3);\n",
       "  color: var(--sklearn-color-background);\n",
       "  text-decoration: none;\n",
       "}\n",
       "\n",
       "/* Span, style for the box shown on hovering the info icon */\n",
       ".sk-estimator-doc-link span {\n",
       "  display: none;\n",
       "  z-index: 9999;\n",
       "  position: relative;\n",
       "  font-weight: normal;\n",
       "  right: .2ex;\n",
       "  padding: .5ex;\n",
       "  margin: .5ex;\n",
       "  width: min-content;\n",
       "  min-width: 20ex;\n",
       "  max-width: 50ex;\n",
       "  color: var(--sklearn-color-text);\n",
       "  box-shadow: 2pt 2pt 4pt #999;\n",
       "  /* unfitted */\n",
       "  background: var(--sklearn-color-unfitted-level-0);\n",
       "  border: .5pt solid var(--sklearn-color-unfitted-level-3);\n",
       "}\n",
       "\n",
       ".sk-estimator-doc-link.fitted span {\n",
       "  /* fitted */\n",
       "  background: var(--sklearn-color-fitted-level-0);\n",
       "  border: var(--sklearn-color-fitted-level-3);\n",
       "}\n",
       "\n",
       ".sk-estimator-doc-link:hover span {\n",
       "  display: block;\n",
       "}\n",
       "\n",
       "/* \"?\"-specific style due to the `<a>` HTML tag */\n",
       "\n",
       "#sk-container-id-3 a.estimator_doc_link {\n",
       "  float: right;\n",
       "  font-size: 1rem;\n",
       "  line-height: 1em;\n",
       "  font-family: monospace;\n",
       "  background-color: var(--sklearn-color-background);\n",
       "  border-radius: 1rem;\n",
       "  height: 1rem;\n",
       "  width: 1rem;\n",
       "  text-decoration: none;\n",
       "  /* unfitted */\n",
       "  color: var(--sklearn-color-unfitted-level-1);\n",
       "  border: var(--sklearn-color-unfitted-level-1) 1pt solid;\n",
       "}\n",
       "\n",
       "#sk-container-id-3 a.estimator_doc_link.fitted {\n",
       "  /* fitted */\n",
       "  border: var(--sklearn-color-fitted-level-1) 1pt solid;\n",
       "  color: var(--sklearn-color-fitted-level-1);\n",
       "}\n",
       "\n",
       "/* On hover */\n",
       "#sk-container-id-3 a.estimator_doc_link:hover {\n",
       "  /* unfitted */\n",
       "  background-color: var(--sklearn-color-unfitted-level-3);\n",
       "  color: var(--sklearn-color-background);\n",
       "  text-decoration: none;\n",
       "}\n",
       "\n",
       "#sk-container-id-3 a.estimator_doc_link.fitted:hover {\n",
       "  /* fitted */\n",
       "  background-color: var(--sklearn-color-fitted-level-3);\n",
       "}\n",
       "\n",
       ".estimator-table summary {\n",
       "    padding: .5rem;\n",
       "    font-family: monospace;\n",
       "    cursor: pointer;\n",
       "}\n",
       "\n",
       ".estimator-table details[open] {\n",
       "    padding-left: 0.1rem;\n",
       "    padding-right: 0.1rem;\n",
       "    padding-bottom: 0.3rem;\n",
       "}\n",
       "\n",
       ".estimator-table .parameters-table {\n",
       "    margin-left: auto !important;\n",
       "    margin-right: auto !important;\n",
       "}\n",
       "\n",
       ".estimator-table .parameters-table tr:nth-child(odd) {\n",
       "    background-color: #fff;\n",
       "}\n",
       "\n",
       ".estimator-table .parameters-table tr:nth-child(even) {\n",
       "    background-color: #f6f6f6;\n",
       "}\n",
       "\n",
       ".estimator-table .parameters-table tr:hover {\n",
       "    background-color: #e0e0e0;\n",
       "}\n",
       "\n",
       ".estimator-table table td {\n",
       "    border: 1px solid rgba(106, 105, 104, 0.232);\n",
       "}\n",
       "\n",
       ".user-set td {\n",
       "    color:rgb(255, 94, 0);\n",
       "    text-align: left;\n",
       "}\n",
       "\n",
       ".user-set td.value pre {\n",
       "    color:rgb(255, 94, 0) !important;\n",
       "    background-color: transparent !important;\n",
       "}\n",
       "\n",
       ".default td {\n",
       "    color: black;\n",
       "    text-align: left;\n",
       "}\n",
       "\n",
       ".user-set td i,\n",
       ".default td i {\n",
       "    color: black;\n",
       "}\n",
       "\n",
       ".copy-paste-icon {\n",
       "    background-image: url(data:image/svg+xml;base64,PHN2ZyB4bWxucz0iaHR0cDovL3d3dy53My5vcmcvMjAwMC9zdmciIHZpZXdCb3g9IjAgMCA0NDggNTEyIj48IS0tIUZvbnQgQXdlc29tZSBGcmVlIDYuNy4yIGJ5IEBmb250YXdlc29tZSAtIGh0dHBzOi8vZm9udGF3ZXNvbWUuY29tIExpY2Vuc2UgLSBodHRwczovL2ZvbnRhd2Vzb21lLmNvbS9saWNlbnNlL2ZyZWUgQ29weXJpZ2h0IDIwMjUgRm9udGljb25zLCBJbmMuLS0+PHBhdGggZD0iTTIwOCAwTDMzMi4xIDBjMTIuNyAwIDI0LjkgNS4xIDMzLjkgMTQuMWw2Ny45IDY3LjljOSA5IDE0LjEgMjEuMiAxNC4xIDMzLjlMNDQ4IDMzNmMwIDI2LjUtMjEuNSA0OC00OCA0OGwtMTkyIDBjLTI2LjUgMC00OC0yMS41LTQ4LTQ4bDAtMjg4YzAtMjYuNSAyMS41LTQ4IDQ4LTQ4ek00OCAxMjhsODAgMCAwIDY0LTY0IDAgMCAyNTYgMTkyIDAgMC0zMiA2NCAwIDAgNDhjMCAyNi41LTIxLjUgNDgtNDggNDhMNDggNTEyYy0yNi41IDAtNDgtMjEuNS00OC00OEwwIDE3NmMwLTI2LjUgMjEuNS00OCA0OC00OHoiLz48L3N2Zz4=);\n",
       "    background-repeat: no-repeat;\n",
       "    background-size: 14px 14px;\n",
       "    background-position: 0;\n",
       "    display: inline-block;\n",
       "    width: 14px;\n",
       "    height: 14px;\n",
       "    cursor: pointer;\n",
       "}\n",
       "</style><body><div id=\"sk-container-id-3\" class=\"sk-top-container\"><div class=\"sk-text-repr-fallback\"><pre>KNeighborsClassifier()</pre><b>In a Jupyter environment, please rerun this cell to show the HTML representation or trust the notebook. <br />On GitHub, the HTML representation is unable to render, please try loading this page with nbviewer.org.</b></div><div class=\"sk-container\" hidden><div class=\"sk-item\"><div class=\"sk-estimator fitted sk-toggleable\"><input class=\"sk-toggleable__control sk-hidden--visually\" id=\"sk-estimator-id-3\" type=\"checkbox\" checked><label for=\"sk-estimator-id-3\" class=\"sk-toggleable__label fitted sk-toggleable__label-arrow\"><div><div>KNeighborsClassifier</div></div><div><a class=\"sk-estimator-doc-link fitted\" rel=\"noreferrer\" target=\"_blank\" href=\"https://scikit-learn.org/1.7/modules/generated/sklearn.neighbors.KNeighborsClassifier.html\">?<span>Documentation for KNeighborsClassifier</span></a><span class=\"sk-estimator-doc-link fitted\">i<span>Fitted</span></span></div></label><div class=\"sk-toggleable__content fitted\" data-param-prefix=\"\">\n",
       "        <div class=\"estimator-table\">\n",
       "            <details>\n",
       "                <summary>Parameters</summary>\n",
       "                <table class=\"parameters-table\">\n",
       "                  <tbody>\n",
       "                    \n",
       "        <tr class=\"default\">\n",
       "            <td><i class=\"copy-paste-icon\"\n",
       "                 onclick=\"copyToClipboard('n_neighbors',\n",
       "                          this.parentElement.nextElementSibling)\"\n",
       "            ></i></td>\n",
       "            <td class=\"param\">n_neighbors&nbsp;</td>\n",
       "            <td class=\"value\">5</td>\n",
       "        </tr>\n",
       "    \n",
       "\n",
       "        <tr class=\"default\">\n",
       "            <td><i class=\"copy-paste-icon\"\n",
       "                 onclick=\"copyToClipboard('weights',\n",
       "                          this.parentElement.nextElementSibling)\"\n",
       "            ></i></td>\n",
       "            <td class=\"param\">weights&nbsp;</td>\n",
       "            <td class=\"value\">&#x27;uniform&#x27;</td>\n",
       "        </tr>\n",
       "    \n",
       "\n",
       "        <tr class=\"default\">\n",
       "            <td><i class=\"copy-paste-icon\"\n",
       "                 onclick=\"copyToClipboard('algorithm',\n",
       "                          this.parentElement.nextElementSibling)\"\n",
       "            ></i></td>\n",
       "            <td class=\"param\">algorithm&nbsp;</td>\n",
       "            <td class=\"value\">&#x27;auto&#x27;</td>\n",
       "        </tr>\n",
       "    \n",
       "\n",
       "        <tr class=\"default\">\n",
       "            <td><i class=\"copy-paste-icon\"\n",
       "                 onclick=\"copyToClipboard('leaf_size',\n",
       "                          this.parentElement.nextElementSibling)\"\n",
       "            ></i></td>\n",
       "            <td class=\"param\">leaf_size&nbsp;</td>\n",
       "            <td class=\"value\">30</td>\n",
       "        </tr>\n",
       "    \n",
       "\n",
       "        <tr class=\"default\">\n",
       "            <td><i class=\"copy-paste-icon\"\n",
       "                 onclick=\"copyToClipboard('p',\n",
       "                          this.parentElement.nextElementSibling)\"\n",
       "            ></i></td>\n",
       "            <td class=\"param\">p&nbsp;</td>\n",
       "            <td class=\"value\">2</td>\n",
       "        </tr>\n",
       "    \n",
       "\n",
       "        <tr class=\"default\">\n",
       "            <td><i class=\"copy-paste-icon\"\n",
       "                 onclick=\"copyToClipboard('metric',\n",
       "                          this.parentElement.nextElementSibling)\"\n",
       "            ></i></td>\n",
       "            <td class=\"param\">metric&nbsp;</td>\n",
       "            <td class=\"value\">&#x27;minkowski&#x27;</td>\n",
       "        </tr>\n",
       "    \n",
       "\n",
       "        <tr class=\"default\">\n",
       "            <td><i class=\"copy-paste-icon\"\n",
       "                 onclick=\"copyToClipboard('metric_params',\n",
       "                          this.parentElement.nextElementSibling)\"\n",
       "            ></i></td>\n",
       "            <td class=\"param\">metric_params&nbsp;</td>\n",
       "            <td class=\"value\">None</td>\n",
       "        </tr>\n",
       "    \n",
       "\n",
       "        <tr class=\"default\">\n",
       "            <td><i class=\"copy-paste-icon\"\n",
       "                 onclick=\"copyToClipboard('n_jobs',\n",
       "                          this.parentElement.nextElementSibling)\"\n",
       "            ></i></td>\n",
       "            <td class=\"param\">n_jobs&nbsp;</td>\n",
       "            <td class=\"value\">None</td>\n",
       "        </tr>\n",
       "    \n",
       "                  </tbody>\n",
       "                </table>\n",
       "            </details>\n",
       "        </div>\n",
       "    </div></div></div></div></div><script>function copyToClipboard(text, element) {\n",
       "    // Get the parameter prefix from the closest toggleable content\n",
       "    const toggleableContent = element.closest('.sk-toggleable__content');\n",
       "    const paramPrefix = toggleableContent ? toggleableContent.dataset.paramPrefix : '';\n",
       "    const fullParamName = paramPrefix ? `${paramPrefix}${text}` : text;\n",
       "\n",
       "    const originalStyle = element.style;\n",
       "    const computedStyle = window.getComputedStyle(element);\n",
       "    const originalWidth = computedStyle.width;\n",
       "    const originalHTML = element.innerHTML.replace('Copied!', '');\n",
       "\n",
       "    navigator.clipboard.writeText(fullParamName)\n",
       "        .then(() => {\n",
       "            element.style.width = originalWidth;\n",
       "            element.style.color = 'green';\n",
       "            element.innerHTML = \"Copied!\";\n",
       "\n",
       "            setTimeout(() => {\n",
       "                element.innerHTML = originalHTML;\n",
       "                element.style = originalStyle;\n",
       "            }, 2000);\n",
       "        })\n",
       "        .catch(err => {\n",
       "            console.error('Failed to copy:', err);\n",
       "            element.style.color = 'red';\n",
       "            element.innerHTML = \"Failed!\";\n",
       "            setTimeout(() => {\n",
       "                element.innerHTML = originalHTML;\n",
       "                element.style = originalStyle;\n",
       "            }, 2000);\n",
       "        });\n",
       "    return false;\n",
       "}\n",
       "\n",
       "document.querySelectorAll('.fa-regular.fa-copy').forEach(function(element) {\n",
       "    const toggleableContent = element.closest('.sk-toggleable__content');\n",
       "    const paramPrefix = toggleableContent ? toggleableContent.dataset.paramPrefix : '';\n",
       "    const paramName = element.parentElement.nextElementSibling.textContent.trim();\n",
       "    const fullParamName = paramPrefix ? `${paramPrefix}${paramName}` : paramName;\n",
       "\n",
       "    element.setAttribute('title', fullParamName);\n",
       "});\n",
       "</script></body>"
      ],
      "text/plain": [
       "KNeighborsClassifier()"
      ]
     },
     "execution_count": 144,
     "metadata": {},
     "output_type": "execute_result"
    }
   ],
   "source": [
    "from sklearn.neighbors import KNeighborsClassifier\n",
    "\n",
    "y_train_large = (y_train >= 7)               # 7 이상이면 True\n",
    "y_train_odd = (y_train % 2 == 1)             # 홀수면 True\n",
    "y_multilabel = np.c_[y_train_large, y_train_odd]  # 다중 레이블 배열 생성\n",
    "\n",
    "knn_clf = KNeighborsClassifier()              # 다중 레이블 분류를 지원하지만 모든 분류기가 지원하는 것은 아님\n",
    "knn_clf.fit(X_train, y_multilabel)           # 다중 레이블 학습\n"
   ]
  },
  {
   "cell_type": "code",
   "execution_count": 145,
   "id": "912bc51d-628f-4cb2-bc4f-2c2bee8998f2",
   "metadata": {},
   "outputs": [
    {
     "data": {
      "text/plain": [
       "array([[False,  True]])"
      ]
     },
     "execution_count": 145,
     "metadata": {},
     "output_type": "execute_result"
    }
   ],
   "source": [
    "knn_clf.predict([some_digit])"
   ]
  },
  {
   "cell_type": "markdown",
   "id": "362f1335-41e5-4314-9e9b-91ebdf7cb21a",
   "metadata": {},
   "source": [
    "모델이 맞힘: 숫자 5는 실제로 크지 않음(False)이고 홀수(True)\n",
    "\n",
    "다중 레이블 분류기(multilabel classifier)를 평가하는 방법에는 여러 가지가 있으며,  \n",
    "어떤 평가 지표를 사용할지는 프로젝트의 목적에 따라 달라짐\n",
    "\n",
    "한 가지 방법은  \n",
    "각 레이블(태그)에 대해 F1 점수(또는 앞서 배운 다른 이진 분류 지표)를 개별적으로 계산한 뒤,  \n",
    "그 점수들의 평균을 구하는 방식  \n",
    "\n",
    "모든 레이블에 대해 평균 F1 점수를 계산하는 예시:"
   ]
  },
  {
   "cell_type": "code",
   "execution_count": 147,
   "id": "0a1fc670-f05c-46a7-b6dc-7508fc141a0a",
   "metadata": {},
   "outputs": [
    {
     "data": {
      "text/plain": [
       "0.9764102655606048"
      ]
     },
     "execution_count": 147,
     "metadata": {},
     "output_type": "execute_result"
    }
   ],
   "source": [
    "y_train_knn_pred = cross_val_predict(knn_clf, X_train, y_multilabel, cv=3)\n",
    "f1_score(y_multilabel, y_train_knn_pred, average=\"macro\") "
   ]
  },
  {
   "cell_type": "markdown",
   "id": "0bb13a64-765f-4777-80ff-b2af5643e64f",
   "metadata": {},
   "source": [
    "이는 모든 레이블이 동등하게 중요하다고 가정하지만, 실제로는 그렇지 않을 수 있음\n",
    "특히 A나 B보다 C 사진이 훨씬 더 많은 경우, C 사진에 대한 분류기의 점수에 더 많은 가중치 부여\n",
    "\n",
    "한 가지 간단한 방법은  \n",
    "각 레이블에 해당 레이블의 지지도(즉, 해당 대상 레이블을 가진 인스턴스의 수)와 동일한 가중치 부여   \n",
    "-> average=\"weighted\" 설정"
   ]
  },
  {
   "cell_type": "markdown",
   "id": "d7a432d0-0428-4410-9bcd-83b66796947e",
   "metadata": {},
   "source": [
    "# 7. Multioutput Classification"
   ]
  },
  {
   "cell_type": "markdown",
   "id": "d3bdf59f-33bc-4c95-b2ed-9b07ccd577c5",
   "metadata": {},
   "source": [
    "다중 출력-다중 클래스 분류(또는 다중 출력 분류)\n",
    "이는 다중 레이블 분류를 일반화한 것\n",
    "각 레이블이 다중 클래스일 수 있다(즉, 두 개 이상의 가능한 값을 가질 수 있음)\n",
    "\n",
    "이를 설명하기 위해 이미지에서 노이즈를 제거하는 시스템 만들기\n",
    " - 노이즈가 있는 숫자 이미지를 입력으로 받고\n",
    " - MNIST 이미지처럼 픽셀 강도 배열로 표현된 깨끗한 숫자 이미지를 출력(바람직하게)\n",
    " - 분류기의 출력은 다중 레이블(픽셀당 하나의 레이블)이고 각 레이블은 여러 값을 가질 수 있음(픽셀 강도 범위는 0~255)"
   ]
  },
  {
   "cell_type": "markdown",
   "id": "88ead6db-9e82-4aad-9611-5584f19116de",
   "metadata": {},
   "source": [
    "※ 주의  \n",
    "분류와 회귀의 경계는 모호할 때가 있다.    \n",
    "픽셀 강도를 예측하는 것은 분류보다는 회귀에 더 가까움   \n",
    "더욱이 다중 출력 시스템은 분류 작업에만 국한되지 X  \n",
    "클래스 레이블과 값 레이블을 모두 포함하여 인스턴스당 여러 레이블을 출력하는 시스템을 구축할 수도 있음"
   ]
  },
  {
   "cell_type": "code",
   "execution_count": 149,
   "id": "50a5fa0e-8832-450d-aad8-a49fd32b7751",
   "metadata": {},
   "outputs": [],
   "source": [
    "noise = np.random.randint(0, 100, (len(X_train), 784))  # 훈련용 랜덤 노이즈 생성\n",
    "X_train_mod = X_train + noise                           # 훈련 이미지에 노이즈 추가\n",
    "\n",
    "noise = np.random.randint(0, 100, (len(X_test), 784))   # 테스트용 랜덤 노이즈 생성\n",
    "X_test_mod = X_test + noise                             # 테스트 이미지에 노이즈 추가\n",
    "\n",
    "y_train_mod = X_train                                   # 원본 이미지(정답) 저장\n",
    "y_test_mod = X_test\n"
   ]
  },
  {
   "cell_type": "code",
   "execution_count": 152,
   "id": "dc5c060d-4735-4f76-8486-1951dcf73b98",
   "metadata": {},
   "outputs": [
    {
     "name": "stdout",
     "output_type": "stream",
     "text": [
      "Saving figure noisy_digit_example_plot\n"
     ]
    },
    {
     "data": {
      "image/png": "[encoded data removed]",
      "text/plain": [
       "<Figure size 640x480 with 2 Axes>"
      ]
     },
     "metadata": {},
     "output_type": "display_data"
    }
   ],
   "source": [
    "some_index = 0\n",
    "plt.subplot(121); plot_digit(X_test_mod[some_index])  # 노이즈 추가된 이미지 표시\n",
    "plt.subplot(122); plot_digit(y_test_mod[some_index])  # 원본 이미지 표시\n",
    "save_fig(\"noisy_digit_example_plot\")                  # 이미지 저장\n",
    "plt.show()                                            # 그래프 출력\n"
   ]
  },
  {
   "cell_type": "code",
   "execution_count": 153,
   "id": "7c5594bc-448c-48d0-af75-c0d2f42b1951",
   "metadata": {},
   "outputs": [
    {
     "name": "stdout",
     "output_type": "stream",
     "text": [
      "Saving figure cleaned_digit_example_plot\n"
     ]
    },
    {
     "data": {
      "image/png": "[encoded data removed]",
      "text/plain": [
       "<Figure size 640x480 with 1 Axes>"
      ]
     },
     "metadata": {},
     "output_type": "display_data"
    }
   ],
   "source": [
    "knn_clf.fit(X_train_mod, y_train_mod)                     # 노이즈 이미지 → 원본 이미지로 학습\n",
    "clean_digit = knn_clf.predict([X_test_mod[some_index]])   # 노이즈 이미지 복원 예측\n",
    "plot_digit(clean_digit)                                   # 복원된 이미지 시각화\n",
    "save_fig(\"cleaned_digit_example_plot\")                    # 이미지 저장\n"
   ]
  },
  {
   "cell_type": "code",
   "execution_count": null,
   "id": "6646e6cd-ea5c-475b-8381-39b02174724e",
   "metadata": {},
   "outputs": [],
   "source": []
  }
 ],
 "metadata": {
  "kernelspec": {
   "display_name": "Python 3 (ipykernel)",
   "language": "python",
   "name": "python3"
  },
  "language_info": {
   "codemirror_mode": {
    "name": "ipython",
    "version": 3
   },
   "file_extension": ".py",
   "mimetype": "text/x-python",
   "name": "python",
   "nbconvert_exporter": "python",
   "pygments_lexer": "ipython3",
   "version": "3.13.4"
  }
 },
 "nbformat": 4,
 "nbformat_minor": 5
}
