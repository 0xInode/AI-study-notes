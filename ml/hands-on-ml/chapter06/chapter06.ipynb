{
  "cells": [
    {
      "cell_type": "markdown",
      "source": [
        "[![Open In Colab](https://colab.research.google.com/assets/colab-badge.svg)](https://colab.research.google.com/github/0xInode/AI-study-notes/blob/main/ml/hands-on-ml/chapter06/chapter06.ipynb)\n"
      ],
      "metadata": {
        "id": "1V0oO8IKk9nA"
      },
      "id": "1V0oO8IKk9nA"
    },
    {
      "cell_type": "code",
      "source": [],
      "metadata": {
        "id": "l2jgOCVTk9-3"
      },
      "id": "l2jgOCVTk9-3",
      "execution_count": null,
      "outputs": []
    }
  ],
  "metadata": {
    "kernelspec": {
      "display_name": "Python 3 (ipykernel)",
      "language": "python",
      "name": "python3"
    },
    "language_info": {
      "codemirror_mode": {
        "name": "ipython",
        "version": 3
      },
      "file_extension": ".py",
      "mimetype": "text/x-python",
      "name": "python",
      "nbconvert_exporter": "python",
      "pygments_lexer": "ipython3",
      "version": "3.13.5"
    },
    "colab": {
      "provenance": []
    }
  },
  "nbformat": 4,
  "nbformat_minor": 5
}