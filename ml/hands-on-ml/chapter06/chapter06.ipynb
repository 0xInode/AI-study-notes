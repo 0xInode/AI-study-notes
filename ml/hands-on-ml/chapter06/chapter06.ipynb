{
  "cells": [
    {
      "cell_type": "markdown",
      "source": [
        "[![Open In Colab](https://colab.research.google.com/assets/colab-badge.svg)](https://colab.research.google.com/github/0xInode/AI-study-notes/blob/main/ml/hands-on-ml/chapter06/chapter06.ipynb)\n"
      ],
      "metadata": {
        "id": "1V0oO8IKk9nA"
      },
      "id": "1V0oO8IKk9nA"
    },
    {
      "cell_type": "markdown",
      "source": [
        "# Decision Trees"
      ],
      "metadata": {
        "id": "p__Lq2-p0cpr"
      },
      "id": "p__Lq2-p0cpr"
    },
    {
      "cell_type": "markdown",
      "source": [
        "SVM과 마찬가지로 결정 트리(Decision Trees)는 분류(classification) 회귀(regression) 작업 모두에 사용 가능  \n",
        "다중 출력 작업(multioutput tasks)에도 사용 가능  \n",
        "복잡한 데이터셋에도 잘 맞출 수 있을 정도로 강력한 알고리즘  \n",
        "2장에서 캘리포니아 주택 데이터셋에 대해 DecisionTreeRegressor 모델을 훈련시켜 완벽하게(사실 과적합되도록) 학습시킨 적 있음\n",
        "\n",
        "결정 트리는 랜덤 포레스트(Random Forests, 7장)의 핵심 구성 요소  \n",
        "랜덤 포레스트는 현재 가장 강력한 머신러닝 알고리즘 중 하나\n",
        "\n",
        "- 결정 트리 훈련, 시각화, 예측  \n",
        "- Scikit-Learn에서 사용하는 CART 훈련 알고리즘  \n",
        "- 트리의 규제 방법과 회귀 작업에서의 활용 방법  \n",
        "- 결정 트리의 한계점"
      ],
      "metadata": {
        "id": "BY3XzuO2lzRF"
      },
      "id": "BY3XzuO2lzRF"
    },
    {
      "cell_type": "markdown",
      "source": [
        "## Set up"
      ],
      "metadata": {
        "id": "MShOV9Wf01Jh"
      },
      "id": "MShOV9Wf01Jh"
    },
    {
      "cell_type": "code",
      "source": [
        "import sys\n",
        "\n",
        "assert sys.version_info >= (3, 7)"
      ],
      "metadata": {
        "id": "VMStHNge03Id"
      },
      "id": "VMStHNge03Id",
      "execution_count": 1,
      "outputs": []
    },
    {
      "cell_type": "code",
      "source": [
        "from packaging import version\n",
        "import sklearn\n",
        "\n",
        "assert version.parse(sklearn.__version__) >= version.parse(\"1.0.1\")"
      ],
      "metadata": {
        "id": "yet85vM_05MR"
      },
      "id": "yet85vM_05MR",
      "execution_count": 2,
      "outputs": []
    },
    {
      "cell_type": "code",
      "source": [
        "import matplotlib.pyplot as plt\n",
        "\n",
        "plt.rc('font', size=14)\n",
        "plt.rc('axes', labelsize=14, titlesize=14)\n",
        "plt.rc('legend', fontsize=14)\n",
        "plt.rc('xtick', labelsize=10)\n",
        "plt.rc('ytick', labelsize=10)"
      ],
      "metadata": {
        "id": "5l_YSbWy05Ro"
      },
      "id": "5l_YSbWy05Ro",
      "execution_count": 3,
      "outputs": []
    },
    {
      "cell_type": "code",
      "source": [
        "from pathlib import Path\n",
        "\n",
        "IMAGES_PATH = Path() / \"images\" / \"decision_trees\"\n",
        "IMAGES_PATH.mkdir(parents=True, exist_ok=True)\n",
        "\n",
        "def save_fig(fig_id, tight_layout=True, fig_extension=\"png\", resolution=300):\n",
        "    path = IMAGES_PATH / f\"{fig_id}.{fig_extension}\"\n",
        "    if tight_layout:\n",
        "        plt.tight_layout()\n",
        "    plt.savefig(path, format=fig_extension, dpi=resolution)"
      ],
      "metadata": {
        "id": "RR6Ui_xe05WY"
      },
      "id": "RR6Ui_xe05WY",
      "execution_count": 4,
      "outputs": []
    },
    {
      "cell_type": "markdown",
      "source": [
        "## Training and Visualizing a Decision Tree"
      ],
      "metadata": {
        "id": "VOoUAl1E0fPK"
      },
      "id": "VOoUAl1E0fPK"
    },
    {
      "cell_type": "code",
      "source": [
        "from sklearn.datasets import load_iris\n",
        "from sklearn.tree import DecisionTreeClassifier\n",
        "\n",
        "iris = load_iris(as_frame=True)  # Iris 데이터셋 불러옴 (DataFrame 형태)\n",
        "X_iris = iris.data[[\"petal length (cm)\", \"petal width (cm)\"]].values  # 특성: 꽃잎 길이와 너비만 선택\n",
        "y_iris = iris.target  # 타깃: 꽃 종류\n",
        "\n",
        "tree_clf = DecisionTreeClassifier(max_depth=2, random_state=42)  # 최대 깊이 2인 결정 트리 모델 생성\n",
        "tree_clf.fit(X_iris, y_iris)  # 모델 학습\n"
      ],
      "metadata": {
        "id": "oknal1Wi2mGm",
        "outputId": "68a44f36-6ddc-470c-9620-97dec611e43f",
        "colab": {
          "base_uri": "https://localhost:8080/",
          "height": 80
        }
      },
      "id": "oknal1Wi2mGm",
      "execution_count": 6,
      "outputs": [
        {
          "output_type": "execute_result",
          "data": {
            "text/plain": [
              "DecisionTreeClassifier(max_depth=2, random_state=42)"
            ],
            "text/html": [
              "<style>#sk-container-id-2 {\n",
              "  /* Definition of color scheme common for light and dark mode */\n",
              "  --sklearn-color-text: #000;\n",
              "  --sklearn-color-text-muted: #666;\n",
              "  --sklearn-color-line: gray;\n",
              "  /* Definition of color scheme for unfitted estimators */\n",
              "  --sklearn-color-unfitted-level-0: #fff5e6;\n",
              "  --sklearn-color-unfitted-level-1: #f6e4d2;\n",
              "  --sklearn-color-unfitted-level-2: #ffe0b3;\n",
              "  --sklearn-color-unfitted-level-3: chocolate;\n",
              "  /* Definition of color scheme for fitted estimators */\n",
              "  --sklearn-color-fitted-level-0: #f0f8ff;\n",
              "  --sklearn-color-fitted-level-1: #d4ebff;\n",
              "  --sklearn-color-fitted-level-2: #b3dbfd;\n",
              "  --sklearn-color-fitted-level-3: cornflowerblue;\n",
              "\n",
              "  /* Specific color for light theme */\n",
              "  --sklearn-color-text-on-default-background: var(--sg-text-color, var(--theme-code-foreground, var(--jp-content-font-color1, black)));\n",
              "  --sklearn-color-background: var(--sg-background-color, var(--theme-background, var(--jp-layout-color0, white)));\n",
              "  --sklearn-color-border-box: var(--sg-text-color, var(--theme-code-foreground, var(--jp-content-font-color1, black)));\n",
              "  --sklearn-color-icon: #696969;\n",
              "\n",
              "  @media (prefers-color-scheme: dark) {\n",
              "    /* Redefinition of color scheme for dark theme */\n",
              "    --sklearn-color-text-on-default-background: var(--sg-text-color, var(--theme-code-foreground, var(--jp-content-font-color1, white)));\n",
              "    --sklearn-color-background: var(--sg-background-color, var(--theme-background, var(--jp-layout-color0, #111)));\n",
              "    --sklearn-color-border-box: var(--sg-text-color, var(--theme-code-foreground, var(--jp-content-font-color1, white)));\n",
              "    --sklearn-color-icon: #878787;\n",
              "  }\n",
              "}\n",
              "\n",
              "#sk-container-id-2 {\n",
              "  color: var(--sklearn-color-text);\n",
              "}\n",
              "\n",
              "#sk-container-id-2 pre {\n",
              "  padding: 0;\n",
              "}\n",
              "\n",
              "#sk-container-id-2 input.sk-hidden--visually {\n",
              "  border: 0;\n",
              "  clip: rect(1px 1px 1px 1px);\n",
              "  clip: rect(1px, 1px, 1px, 1px);\n",
              "  height: 1px;\n",
              "  margin: -1px;\n",
              "  overflow: hidden;\n",
              "  padding: 0;\n",
              "  position: absolute;\n",
              "  width: 1px;\n",
              "}\n",
              "\n",
              "#sk-container-id-2 div.sk-dashed-wrapped {\n",
              "  border: 1px dashed var(--sklearn-color-line);\n",
              "  margin: 0 0.4em 0.5em 0.4em;\n",
              "  box-sizing: border-box;\n",
              "  padding-bottom: 0.4em;\n",
              "  background-color: var(--sklearn-color-background);\n",
              "}\n",
              "\n",
              "#sk-container-id-2 div.sk-container {\n",
              "  /* jupyter's `normalize.less` sets `[hidden] { display: none; }`\n",
              "     but bootstrap.min.css set `[hidden] { display: none !important; }`\n",
              "     so we also need the `!important` here to be able to override the\n",
              "     default hidden behavior on the sphinx rendered scikit-learn.org.\n",
              "     See: https://github.com/scikit-learn/scikit-learn/issues/21755 */\n",
              "  display: inline-block !important;\n",
              "  position: relative;\n",
              "}\n",
              "\n",
              "#sk-container-id-2 div.sk-text-repr-fallback {\n",
              "  display: none;\n",
              "}\n",
              "\n",
              "div.sk-parallel-item,\n",
              "div.sk-serial,\n",
              "div.sk-item {\n",
              "  /* draw centered vertical line to link estimators */\n",
              "  background-image: linear-gradient(var(--sklearn-color-text-on-default-background), var(--sklearn-color-text-on-default-background));\n",
              "  background-size: 2px 100%;\n",
              "  background-repeat: no-repeat;\n",
              "  background-position: center center;\n",
              "}\n",
              "\n",
              "/* Parallel-specific style estimator block */\n",
              "\n",
              "#sk-container-id-2 div.sk-parallel-item::after {\n",
              "  content: \"\";\n",
              "  width: 100%;\n",
              "  border-bottom: 2px solid var(--sklearn-color-text-on-default-background);\n",
              "  flex-grow: 1;\n",
              "}\n",
              "\n",
              "#sk-container-id-2 div.sk-parallel {\n",
              "  display: flex;\n",
              "  align-items: stretch;\n",
              "  justify-content: center;\n",
              "  background-color: var(--sklearn-color-background);\n",
              "  position: relative;\n",
              "}\n",
              "\n",
              "#sk-container-id-2 div.sk-parallel-item {\n",
              "  display: flex;\n",
              "  flex-direction: column;\n",
              "}\n",
              "\n",
              "#sk-container-id-2 div.sk-parallel-item:first-child::after {\n",
              "  align-self: flex-end;\n",
              "  width: 50%;\n",
              "}\n",
              "\n",
              "#sk-container-id-2 div.sk-parallel-item:last-child::after {\n",
              "  align-self: flex-start;\n",
              "  width: 50%;\n",
              "}\n",
              "\n",
              "#sk-container-id-2 div.sk-parallel-item:only-child::after {\n",
              "  width: 0;\n",
              "}\n",
              "\n",
              "/* Serial-specific style estimator block */\n",
              "\n",
              "#sk-container-id-2 div.sk-serial {\n",
              "  display: flex;\n",
              "  flex-direction: column;\n",
              "  align-items: center;\n",
              "  background-color: var(--sklearn-color-background);\n",
              "  padding-right: 1em;\n",
              "  padding-left: 1em;\n",
              "}\n",
              "\n",
              "\n",
              "/* Toggleable style: style used for estimator/Pipeline/ColumnTransformer box that is\n",
              "clickable and can be expanded/collapsed.\n",
              "- Pipeline and ColumnTransformer use this feature and define the default style\n",
              "- Estimators will overwrite some part of the style using the `sk-estimator` class\n",
              "*/\n",
              "\n",
              "/* Pipeline and ColumnTransformer style (default) */\n",
              "\n",
              "#sk-container-id-2 div.sk-toggleable {\n",
              "  /* Default theme specific background. It is overwritten whether we have a\n",
              "  specific estimator or a Pipeline/ColumnTransformer */\n",
              "  background-color: var(--sklearn-color-background);\n",
              "}\n",
              "\n",
              "/* Toggleable label */\n",
              "#sk-container-id-2 label.sk-toggleable__label {\n",
              "  cursor: pointer;\n",
              "  display: flex;\n",
              "  width: 100%;\n",
              "  margin-bottom: 0;\n",
              "  padding: 0.5em;\n",
              "  box-sizing: border-box;\n",
              "  text-align: center;\n",
              "  align-items: start;\n",
              "  justify-content: space-between;\n",
              "  gap: 0.5em;\n",
              "}\n",
              "\n",
              "#sk-container-id-2 label.sk-toggleable__label .caption {\n",
              "  font-size: 0.6rem;\n",
              "  font-weight: lighter;\n",
              "  color: var(--sklearn-color-text-muted);\n",
              "}\n",
              "\n",
              "#sk-container-id-2 label.sk-toggleable__label-arrow:before {\n",
              "  /* Arrow on the left of the label */\n",
              "  content: \"▸\";\n",
              "  float: left;\n",
              "  margin-right: 0.25em;\n",
              "  color: var(--sklearn-color-icon);\n",
              "}\n",
              "\n",
              "#sk-container-id-2 label.sk-toggleable__label-arrow:hover:before {\n",
              "  color: var(--sklearn-color-text);\n",
              "}\n",
              "\n",
              "/* Toggleable content - dropdown */\n",
              "\n",
              "#sk-container-id-2 div.sk-toggleable__content {\n",
              "  max-height: 0;\n",
              "  max-width: 0;\n",
              "  overflow: hidden;\n",
              "  text-align: left;\n",
              "  /* unfitted */\n",
              "  background-color: var(--sklearn-color-unfitted-level-0);\n",
              "}\n",
              "\n",
              "#sk-container-id-2 div.sk-toggleable__content.fitted {\n",
              "  /* fitted */\n",
              "  background-color: var(--sklearn-color-fitted-level-0);\n",
              "}\n",
              "\n",
              "#sk-container-id-2 div.sk-toggleable__content pre {\n",
              "  margin: 0.2em;\n",
              "  border-radius: 0.25em;\n",
              "  color: var(--sklearn-color-text);\n",
              "  /* unfitted */\n",
              "  background-color: var(--sklearn-color-unfitted-level-0);\n",
              "}\n",
              "\n",
              "#sk-container-id-2 div.sk-toggleable__content.fitted pre {\n",
              "  /* unfitted */\n",
              "  background-color: var(--sklearn-color-fitted-level-0);\n",
              "}\n",
              "\n",
              "#sk-container-id-2 input.sk-toggleable__control:checked~div.sk-toggleable__content {\n",
              "  /* Expand drop-down */\n",
              "  max-height: 200px;\n",
              "  max-width: 100%;\n",
              "  overflow: auto;\n",
              "}\n",
              "\n",
              "#sk-container-id-2 input.sk-toggleable__control:checked~label.sk-toggleable__label-arrow:before {\n",
              "  content: \"▾\";\n",
              "}\n",
              "\n",
              "/* Pipeline/ColumnTransformer-specific style */\n",
              "\n",
              "#sk-container-id-2 div.sk-label input.sk-toggleable__control:checked~label.sk-toggleable__label {\n",
              "  color: var(--sklearn-color-text);\n",
              "  background-color: var(--sklearn-color-unfitted-level-2);\n",
              "}\n",
              "\n",
              "#sk-container-id-2 div.sk-label.fitted input.sk-toggleable__control:checked~label.sk-toggleable__label {\n",
              "  background-color: var(--sklearn-color-fitted-level-2);\n",
              "}\n",
              "\n",
              "/* Estimator-specific style */\n",
              "\n",
              "/* Colorize estimator box */\n",
              "#sk-container-id-2 div.sk-estimator input.sk-toggleable__control:checked~label.sk-toggleable__label {\n",
              "  /* unfitted */\n",
              "  background-color: var(--sklearn-color-unfitted-level-2);\n",
              "}\n",
              "\n",
              "#sk-container-id-2 div.sk-estimator.fitted input.sk-toggleable__control:checked~label.sk-toggleable__label {\n",
              "  /* fitted */\n",
              "  background-color: var(--sklearn-color-fitted-level-2);\n",
              "}\n",
              "\n",
              "#sk-container-id-2 div.sk-label label.sk-toggleable__label,\n",
              "#sk-container-id-2 div.sk-label label {\n",
              "  /* The background is the default theme color */\n",
              "  color: var(--sklearn-color-text-on-default-background);\n",
              "}\n",
              "\n",
              "/* On hover, darken the color of the background */\n",
              "#sk-container-id-2 div.sk-label:hover label.sk-toggleable__label {\n",
              "  color: var(--sklearn-color-text);\n",
              "  background-color: var(--sklearn-color-unfitted-level-2);\n",
              "}\n",
              "\n",
              "/* Label box, darken color on hover, fitted */\n",
              "#sk-container-id-2 div.sk-label.fitted:hover label.sk-toggleable__label.fitted {\n",
              "  color: var(--sklearn-color-text);\n",
              "  background-color: var(--sklearn-color-fitted-level-2);\n",
              "}\n",
              "\n",
              "/* Estimator label */\n",
              "\n",
              "#sk-container-id-2 div.sk-label label {\n",
              "  font-family: monospace;\n",
              "  font-weight: bold;\n",
              "  display: inline-block;\n",
              "  line-height: 1.2em;\n",
              "}\n",
              "\n",
              "#sk-container-id-2 div.sk-label-container {\n",
              "  text-align: center;\n",
              "}\n",
              "\n",
              "/* Estimator-specific */\n",
              "#sk-container-id-2 div.sk-estimator {\n",
              "  font-family: monospace;\n",
              "  border: 1px dotted var(--sklearn-color-border-box);\n",
              "  border-radius: 0.25em;\n",
              "  box-sizing: border-box;\n",
              "  margin-bottom: 0.5em;\n",
              "  /* unfitted */\n",
              "  background-color: var(--sklearn-color-unfitted-level-0);\n",
              "}\n",
              "\n",
              "#sk-container-id-2 div.sk-estimator.fitted {\n",
              "  /* fitted */\n",
              "  background-color: var(--sklearn-color-fitted-level-0);\n",
              "}\n",
              "\n",
              "/* on hover */\n",
              "#sk-container-id-2 div.sk-estimator:hover {\n",
              "  /* unfitted */\n",
              "  background-color: var(--sklearn-color-unfitted-level-2);\n",
              "}\n",
              "\n",
              "#sk-container-id-2 div.sk-estimator.fitted:hover {\n",
              "  /* fitted */\n",
              "  background-color: var(--sklearn-color-fitted-level-2);\n",
              "}\n",
              "\n",
              "/* Specification for estimator info (e.g. \"i\" and \"?\") */\n",
              "\n",
              "/* Common style for \"i\" and \"?\" */\n",
              "\n",
              ".sk-estimator-doc-link,\n",
              "a:link.sk-estimator-doc-link,\n",
              "a:visited.sk-estimator-doc-link {\n",
              "  float: right;\n",
              "  font-size: smaller;\n",
              "  line-height: 1em;\n",
              "  font-family: monospace;\n",
              "  background-color: var(--sklearn-color-background);\n",
              "  border-radius: 1em;\n",
              "  height: 1em;\n",
              "  width: 1em;\n",
              "  text-decoration: none !important;\n",
              "  margin-left: 0.5em;\n",
              "  text-align: center;\n",
              "  /* unfitted */\n",
              "  border: var(--sklearn-color-unfitted-level-1) 1pt solid;\n",
              "  color: var(--sklearn-color-unfitted-level-1);\n",
              "}\n",
              "\n",
              ".sk-estimator-doc-link.fitted,\n",
              "a:link.sk-estimator-doc-link.fitted,\n",
              "a:visited.sk-estimator-doc-link.fitted {\n",
              "  /* fitted */\n",
              "  border: var(--sklearn-color-fitted-level-1) 1pt solid;\n",
              "  color: var(--sklearn-color-fitted-level-1);\n",
              "}\n",
              "\n",
              "/* On hover */\n",
              "div.sk-estimator:hover .sk-estimator-doc-link:hover,\n",
              ".sk-estimator-doc-link:hover,\n",
              "div.sk-label-container:hover .sk-estimator-doc-link:hover,\n",
              ".sk-estimator-doc-link:hover {\n",
              "  /* unfitted */\n",
              "  background-color: var(--sklearn-color-unfitted-level-3);\n",
              "  color: var(--sklearn-color-background);\n",
              "  text-decoration: none;\n",
              "}\n",
              "\n",
              "div.sk-estimator.fitted:hover .sk-estimator-doc-link.fitted:hover,\n",
              ".sk-estimator-doc-link.fitted:hover,\n",
              "div.sk-label-container:hover .sk-estimator-doc-link.fitted:hover,\n",
              ".sk-estimator-doc-link.fitted:hover {\n",
              "  /* fitted */\n",
              "  background-color: var(--sklearn-color-fitted-level-3);\n",
              "  color: var(--sklearn-color-background);\n",
              "  text-decoration: none;\n",
              "}\n",
              "\n",
              "/* Span, style for the box shown on hovering the info icon */\n",
              ".sk-estimator-doc-link span {\n",
              "  display: none;\n",
              "  z-index: 9999;\n",
              "  position: relative;\n",
              "  font-weight: normal;\n",
              "  right: .2ex;\n",
              "  padding: .5ex;\n",
              "  margin: .5ex;\n",
              "  width: min-content;\n",
              "  min-width: 20ex;\n",
              "  max-width: 50ex;\n",
              "  color: var(--sklearn-color-text);\n",
              "  box-shadow: 2pt 2pt 4pt #999;\n",
              "  /* unfitted */\n",
              "  background: var(--sklearn-color-unfitted-level-0);\n",
              "  border: .5pt solid var(--sklearn-color-unfitted-level-3);\n",
              "}\n",
              "\n",
              ".sk-estimator-doc-link.fitted span {\n",
              "  /* fitted */\n",
              "  background: var(--sklearn-color-fitted-level-0);\n",
              "  border: var(--sklearn-color-fitted-level-3);\n",
              "}\n",
              "\n",
              ".sk-estimator-doc-link:hover span {\n",
              "  display: block;\n",
              "}\n",
              "\n",
              "/* \"?\"-specific style due to the `<a>` HTML tag */\n",
              "\n",
              "#sk-container-id-2 a.estimator_doc_link {\n",
              "  float: right;\n",
              "  font-size: 1rem;\n",
              "  line-height: 1em;\n",
              "  font-family: monospace;\n",
              "  background-color: var(--sklearn-color-background);\n",
              "  border-radius: 1rem;\n",
              "  height: 1rem;\n",
              "  width: 1rem;\n",
              "  text-decoration: none;\n",
              "  /* unfitted */\n",
              "  color: var(--sklearn-color-unfitted-level-1);\n",
              "  border: var(--sklearn-color-unfitted-level-1) 1pt solid;\n",
              "}\n",
              "\n",
              "#sk-container-id-2 a.estimator_doc_link.fitted {\n",
              "  /* fitted */\n",
              "  border: var(--sklearn-color-fitted-level-1) 1pt solid;\n",
              "  color: var(--sklearn-color-fitted-level-1);\n",
              "}\n",
              "\n",
              "/* On hover */\n",
              "#sk-container-id-2 a.estimator_doc_link:hover {\n",
              "  /* unfitted */\n",
              "  background-color: var(--sklearn-color-unfitted-level-3);\n",
              "  color: var(--sklearn-color-background);\n",
              "  text-decoration: none;\n",
              "}\n",
              "\n",
              "#sk-container-id-2 a.estimator_doc_link.fitted:hover {\n",
              "  /* fitted */\n",
              "  background-color: var(--sklearn-color-fitted-level-3);\n",
              "}\n",
              "</style><div id=\"sk-container-id-2\" class=\"sk-top-container\"><div class=\"sk-text-repr-fallback\"><pre>DecisionTreeClassifier(max_depth=2, random_state=42)</pre><b>In a Jupyter environment, please rerun this cell to show the HTML representation or trust the notebook. <br />On GitHub, the HTML representation is unable to render, please try loading this page with nbviewer.org.</b></div><div class=\"sk-container\" hidden><div class=\"sk-item\"><div class=\"sk-estimator fitted sk-toggleable\"><input class=\"sk-toggleable__control sk-hidden--visually\" id=\"sk-estimator-id-2\" type=\"checkbox\" checked><label for=\"sk-estimator-id-2\" class=\"sk-toggleable__label fitted sk-toggleable__label-arrow\"><div><div>DecisionTreeClassifier</div></div><div><a class=\"sk-estimator-doc-link fitted\" rel=\"noreferrer\" target=\"_blank\" href=\"https://scikit-learn.org/1.6/modules/generated/sklearn.tree.DecisionTreeClassifier.html\">?<span>Documentation for DecisionTreeClassifier</span></a><span class=\"sk-estimator-doc-link fitted\">i<span>Fitted</span></span></div></label><div class=\"sk-toggleable__content fitted\"><pre>DecisionTreeClassifier(max_depth=2, random_state=42)</pre></div> </div></div></div></div>"
            ]
          },
          "metadata": {},
          "execution_count": 6
        }
      ]
    },
    {
      "cell_type": "markdown",
      "source": [
        "학습된 Decision Tree를 시각화  \n",
        "`export_graphviz()` 메서드 사용-> `iris_tree.dot`이라는 그래프 정의 파일 출력"
      ],
      "metadata": {
        "id": "ZTbqosRL3J9p"
      },
      "id": "ZTbqosRL3J9p"
    },
    {
      "cell_type": "code",
      "source": [
        "from sklearn.tree import export_graphviz\n",
        "\n",
        "export_graphviz(\n",
        "        tree_clf,\n",
        "        out_file=str(IMAGES_PATH / \"iris_tree.dot\"),  # 트리 구조를 .dot 파일로 저장함 (시각화를 위한 중간 파일)\n",
        "        feature_names=[\"petal length (cm)\", \"petal width (cm)\"],  # 트리 노드에 표시할 특성 이름 지정\n",
        "        class_names=iris.target_names,  # 클래스(품종) 이름을 보기 좋게 표시\n",
        "        rounded=True,  # 트리 노드 모양을 둥글게 만들어 가독성 높임\n",
        "        filled=True  # 노드에 클래스별 색을 채워 시각적으로 구분\n",
        "    )\n"
      ],
      "metadata": {
        "id": "rPx1pJ-n20jq"
      },
      "id": "rPx1pJ-n20jq",
      "execution_count": 7,
      "outputs": []
    },
    {
      "cell_type": "code",
      "source": [
        "from graphviz import Source\n",
        "\n",
        "Source.from_file(IMAGES_PATH / \"iris_tree.dot\")"
      ],
      "metadata": {
        "id": "5rODQ0wp24Fm",
        "outputId": "68dfd4c9-b867-4f71-c091-738705997f65",
        "colab": {
          "base_uri": "https://localhost:8080/",
          "height": 439
        }
      },
      "id": "5rODQ0wp24Fm",
      "execution_count": 9,
      "outputs": [
        {
          "output_type": "execute_result",
          "data": {
            "image/svg+xml": "<?xml version=\"1.0\" encoding=\"UTF-8\" standalone=\"no\"?>\n<!DOCTYPE svg PUBLIC \"-//W3C//DTD SVG 1.1//EN\"\n \"http://www.w3.org/Graphics/SVG/1.1/DTD/svg11.dtd\">\n<!-- Generated by graphviz version 2.43.0 (0)\n -->\n<!-- Title: Tree Pages: 1 -->\n<svg width=\"351pt\" height=\"314pt\"\n viewBox=\"0.00 0.00 351.00 314.00\" xmlns=\"http://www.w3.org/2000/svg\" xmlns:xlink=\"http://www.w3.org/1999/xlink\">\n<g id=\"graph0\" class=\"graph\" transform=\"scale(1 1) rotate(0) translate(4 310)\">\n<title>Tree</title>\n<polygon fill=\"white\" stroke=\"transparent\" points=\"-4,4 -4,-310 347,-310 347,4 -4,4\"/>\n<!-- 0 -->\n<g id=\"node1\" class=\"node\">\n<title>0</title>\n<path fill=\"#ffffff\" stroke=\"black\" d=\"M209.5,-306C209.5,-306 65.5,-306 65.5,-306 59.5,-306 53.5,-300 53.5,-294 53.5,-294 53.5,-235 53.5,-235 53.5,-229 59.5,-223 65.5,-223 65.5,-223 209.5,-223 209.5,-223 215.5,-223 221.5,-229 221.5,-235 221.5,-235 221.5,-294 221.5,-294 221.5,-300 215.5,-306 209.5,-306\"/>\n<text text-anchor=\"middle\" x=\"137.5\" y=\"-290.8\" font-family=\"Helvetica,sans-Serif\" font-size=\"14.00\">petal length (cm) &lt;= 2.45</text>\n<text text-anchor=\"middle\" x=\"137.5\" y=\"-275.8\" font-family=\"Helvetica,sans-Serif\" font-size=\"14.00\">gini = 0.667</text>\n<text text-anchor=\"middle\" x=\"137.5\" y=\"-260.8\" font-family=\"Helvetica,sans-Serif\" font-size=\"14.00\">samples = 150</text>\n<text text-anchor=\"middle\" x=\"137.5\" y=\"-245.8\" font-family=\"Helvetica,sans-Serif\" font-size=\"14.00\">value = [50, 50, 50]</text>\n<text text-anchor=\"middle\" x=\"137.5\" y=\"-230.8\" font-family=\"Helvetica,sans-Serif\" font-size=\"14.00\">class = setosa</text>\n</g>\n<!-- 1 -->\n<g id=\"node2\" class=\"node\">\n<title>1</title>\n<path fill=\"#e58139\" stroke=\"black\" d=\"M105,-179.5C105,-179.5 12,-179.5 12,-179.5 6,-179.5 0,-173.5 0,-167.5 0,-167.5 0,-123.5 0,-123.5 0,-117.5 6,-111.5 12,-111.5 12,-111.5 105,-111.5 105,-111.5 111,-111.5 117,-117.5 117,-123.5 117,-123.5 117,-167.5 117,-167.5 117,-173.5 111,-179.5 105,-179.5\"/>\n<text text-anchor=\"middle\" x=\"58.5\" y=\"-164.3\" font-family=\"Helvetica,sans-Serif\" font-size=\"14.00\">gini = 0.0</text>\n<text text-anchor=\"middle\" x=\"58.5\" y=\"-149.3\" font-family=\"Helvetica,sans-Serif\" font-size=\"14.00\">samples = 50</text>\n<text text-anchor=\"middle\" x=\"58.5\" y=\"-134.3\" font-family=\"Helvetica,sans-Serif\" font-size=\"14.00\">value = [50, 0, 0]</text>\n<text text-anchor=\"middle\" x=\"58.5\" y=\"-119.3\" font-family=\"Helvetica,sans-Serif\" font-size=\"14.00\">class = setosa</text>\n</g>\n<!-- 0&#45;&gt;1 -->\n<g id=\"edge1\" class=\"edge\">\n<title>0&#45;&gt;1</title>\n<path fill=\"none\" stroke=\"black\" d=\"M110.09,-222.91C102.49,-211.65 94.23,-199.42 86.59,-188.11\"/>\n<polygon fill=\"black\" stroke=\"black\" points=\"89.39,-186 80.89,-179.67 83.59,-189.91 89.39,-186\"/>\n<text text-anchor=\"middle\" x=\"76.14\" y=\"-200.51\" font-family=\"Helvetica,sans-Serif\" font-size=\"14.00\">True</text>\n</g>\n<!-- 2 -->\n<g id=\"node3\" class=\"node\">\n<title>2</title>\n<path fill=\"#ffffff\" stroke=\"black\" d=\"M286,-187C286,-187 147,-187 147,-187 141,-187 135,-181 135,-175 135,-175 135,-116 135,-116 135,-110 141,-104 147,-104 147,-104 286,-104 286,-104 292,-104 298,-110 298,-116 298,-116 298,-175 298,-175 298,-181 292,-187 286,-187\"/>\n<text text-anchor=\"middle\" x=\"216.5\" y=\"-171.8\" font-family=\"Helvetica,sans-Serif\" font-size=\"14.00\">petal width (cm) &lt;= 1.75</text>\n<text text-anchor=\"middle\" x=\"216.5\" y=\"-156.8\" font-family=\"Helvetica,sans-Serif\" font-size=\"14.00\">gini = 0.5</text>\n<text text-anchor=\"middle\" x=\"216.5\" y=\"-141.8\" font-family=\"Helvetica,sans-Serif\" font-size=\"14.00\">samples = 100</text>\n<text text-anchor=\"middle\" x=\"216.5\" y=\"-126.8\" font-family=\"Helvetica,sans-Serif\" font-size=\"14.00\">value = [0, 50, 50]</text>\n<text text-anchor=\"middle\" x=\"216.5\" y=\"-111.8\" font-family=\"Helvetica,sans-Serif\" font-size=\"14.00\">class = versicolor</text>\n</g>\n<!-- 0&#45;&gt;2 -->\n<g id=\"edge2\" class=\"edge\">\n<title>0&#45;&gt;2</title>\n<path fill=\"none\" stroke=\"black\" d=\"M164.91,-222.91C170.91,-214.01 177.33,-204.51 183.53,-195.33\"/>\n<polygon fill=\"black\" stroke=\"black\" points=\"186.44,-197.27 189.14,-187.02 180.64,-193.35 186.44,-197.27\"/>\n<text text-anchor=\"middle\" x=\"193.9\" y=\"-207.86\" font-family=\"Helvetica,sans-Serif\" font-size=\"14.00\">False</text>\n</g>\n<!-- 3 -->\n<g id=\"node4\" class=\"node\">\n<title>3</title>\n<path fill=\"#4de88e\" stroke=\"black\" d=\"M196,-68C196,-68 99,-68 99,-68 93,-68 87,-62 87,-56 87,-56 87,-12 87,-12 87,-6 93,0 99,0 99,0 196,0 196,0 202,0 208,-6 208,-12 208,-12 208,-56 208,-56 208,-62 202,-68 196,-68\"/>\n<text text-anchor=\"middle\" x=\"147.5\" y=\"-52.8\" font-family=\"Helvetica,sans-Serif\" font-size=\"14.00\">gini = 0.168</text>\n<text text-anchor=\"middle\" x=\"147.5\" y=\"-37.8\" font-family=\"Helvetica,sans-Serif\" font-size=\"14.00\">samples = 54</text>\n<text text-anchor=\"middle\" x=\"147.5\" y=\"-22.8\" font-family=\"Helvetica,sans-Serif\" font-size=\"14.00\">value = [0, 49, 5]</text>\n<text text-anchor=\"middle\" x=\"147.5\" y=\"-7.8\" font-family=\"Helvetica,sans-Serif\" font-size=\"14.00\">class = versicolor</text>\n</g>\n<!-- 2&#45;&gt;3 -->\n<g id=\"edge3\" class=\"edge\">\n<title>2&#45;&gt;3</title>\n<path fill=\"none\" stroke=\"black\" d=\"M190.81,-103.73C185.29,-94.97 179.45,-85.7 173.91,-76.91\"/>\n<polygon fill=\"black\" stroke=\"black\" points=\"176.78,-74.89 168.48,-68.3 170.85,-78.63 176.78,-74.89\"/>\n</g>\n<!-- 4 -->\n<g id=\"node5\" class=\"node\">\n<title>4</title>\n<path fill=\"#843de6\" stroke=\"black\" d=\"M331,-68C331,-68 238,-68 238,-68 232,-68 226,-62 226,-56 226,-56 226,-12 226,-12 226,-6 232,0 238,0 238,0 331,0 331,0 337,0 343,-6 343,-12 343,-12 343,-56 343,-56 343,-62 337,-68 331,-68\"/>\n<text text-anchor=\"middle\" x=\"284.5\" y=\"-52.8\" font-family=\"Helvetica,sans-Serif\" font-size=\"14.00\">gini = 0.043</text>\n<text text-anchor=\"middle\" x=\"284.5\" y=\"-37.8\" font-family=\"Helvetica,sans-Serif\" font-size=\"14.00\">samples = 46</text>\n<text text-anchor=\"middle\" x=\"284.5\" y=\"-22.8\" font-family=\"Helvetica,sans-Serif\" font-size=\"14.00\">value = [0, 1, 45]</text>\n<text text-anchor=\"middle\" x=\"284.5\" y=\"-7.8\" font-family=\"Helvetica,sans-Serif\" font-size=\"14.00\">class = virginica</text>\n</g>\n<!-- 2&#45;&gt;4 -->\n<g id=\"edge4\" class=\"edge\">\n<title>2&#45;&gt;4</title>\n<path fill=\"none\" stroke=\"black\" d=\"M241.82,-103.73C247.26,-94.97 253.01,-85.7 258.48,-76.91\"/>\n<polygon fill=\"black\" stroke=\"black\" points=\"261.52,-78.64 263.82,-68.3 255.57,-74.95 261.52,-78.64\"/>\n</g>\n</g>\n</svg>\n",
            "text/plain": [
              "<graphviz.sources.Source at 0x7f5bf87ec490>"
            ]
          },
          "metadata": {},
          "execution_count": 9
        }
      ]
    },
    {
      "cell_type": "code",
      "source": [
        "!dot -Tpng {IMAGES_PATH / \"iris_tree.dot\"} -o {IMAGES_PATH / \"iris_tree.png\"} # .dot 파일을 .png 파일로"
      ],
      "metadata": {
        "id": "0_stHosi2_bJ"
      },
      "id": "0_stHosi2_bJ",
      "execution_count": 11,
      "outputs": []
    },
    {
      "cell_type": "markdown",
      "source": [
        "## Making Predictions"
      ],
      "metadata": {
        "id": "NgLHJA7X0gEG"
      },
      "id": "NgLHJA7X0gEG"
    },
    {
      "cell_type": "markdown",
      "source": [
        "위 트리가 어떻게 예측을 수행하는지 살펴보기\n",
        "\n",
        "어떤 붓꽃을 발견해서 분류하고 싶다고 가정  \n",
        "먼저 트리의 루트 노드(깊이 0, 가장 위)에서 시작  \n",
        "이 노드는 꽃잎의 길이가 2.45cm보다 짧은지 질문\n",
        "\n",
        "만약 그렇다면 루트의 왼쪽 자식 노드(깊이 1, 왼쪽)로  \n",
        "이 경우 해당 노드는 리프 노드(자식 노드가 없음)  \n",
        "질문 없이 바로 해당 노드의 예측 클래스를 확인  \n",
        "-> Iris setosa (class=setosa)라고 예측\n",
        "\n",
        "다른 꽃의 꽃잎 길이가 2.45cm보다 큼  \n",
        "그러면 루트의 오른쪽 자식 노드(깊이 1, 오른쪽)로 이동  \n",
        "이 노드는 리프가 아니므로 또 다른 질문   \n",
        "꽃잎의 너비가 1.75cm보다 작은가?   \n",
        "만약 그렇다면 이 꽃은 Iris versicolor일 가능성이 높음(깊이 2, 왼쪽)   \n",
        "그렇지 않다면 Iris virginica일 가능성이 높음(깊이 2, 오른쪽)\n",
        "\n",
        "Decision Tree의 장점 중 하나는 데이터 전처리를 거의 필요로 하지 않는다는 것    \n",
        "특징 스케일링이나 정규화를 전혀 하지 않아도 됨\n",
        "   \n",
        "samples 속성: 해당 노드에 해당하는 훈련 샘플의 개수  \n",
        "꽃잎 길이가 2.45cm보다 큰 훈련 샘플은 100개(깊이 1, 오른쪽)  \n",
        "그중에서 꽃잎 너비가 1.75cm보다 작은 샘플은 54개(깊이 2, 왼쪽)  \n",
        "\n",
        "value 속성: 해당 노드에 포함된 각 클래스별 샘플 수  \n",
        "맨 아래 오른쪽 노드는 Iris setosa: 0, Iris versicolor: 1, Iris virginica: 45개의 샘플\n",
        "\n",
        "gini 속성: 불순도  \n",
        "모든 샘플이 같은 클래스일 경우 gini=0(이 노드는 \"순수\")  \n",
        "깊이 1 왼쪽 노드는 오직 Iris setosa 샘플만 포함하므로 gini 점수 0\n",
        "\n",
        "다음 식은 i번째 노드의 지니 점수 𝐺𝑖 계산"
      ],
      "metadata": {
        "id": "0OxQvNRE2V9B"
      },
      "id": "0OxQvNRE2V9B"
    },
    {
      "cell_type": "markdown",
      "source": [
        "$$\n",
        "G_i = 1 - \\sum_{k=1}^{n} p_{i,k}^2\n",
        "$$\n"
      ],
      "metadata": {
        "id": "SOyiniHf5dG_"
      },
      "id": "SOyiniHf5dG_"
    },
    {
      "cell_type": "markdown",
      "source": [
        "$p_{i,k}$는 i번째 노드에 있는 훈련 샘플 중 클래스 k에 속하는 샘플의 비율\n",
        "\n",
        "Scikit-Learn은 CART 알고리즘 사용 -> **항상 이진 트리(binary tree)** 생성  \n",
        "=> 리프 노드가 아닌 노드는 항상 자식 노드가 두 개, 질문의 결과는 항상 yes/no\n",
        "\n",
        "ID3 같은 다른 알고리즘은 두 개 이상 자식을 가진 트리를 만들 수 있음\n"
      ],
      "metadata": {
        "id": "rfTcIR525uyd"
      },
      "id": "rfTcIR525uyd"
    },
    {
      "cell_type": "code",
      "source": [
        "import numpy as np\n",
        "import matplotlib.pyplot as plt\n",
        "\n",
        "# 시각화를 위한 컬러맵 설정\n",
        "from matplotlib.colors import ListedColormap\n",
        "custom_cmap = ListedColormap(['#fafab0', '#9898ff', '#a0faa0'])\n",
        "plt.figure(figsize=(8, 4))\n",
        "\n",
        "# 꽃잎 길이/너비 값들의 조합으로 2D 그리드 생성\n",
        "lengths, widths = np.meshgrid(np.linspace(0, 7.2, 100), np.linspace(0, 3, 100))\n",
        "X_iris_all = np.c_[lengths.ravel(), widths.ravel()]\n",
        "\n",
        "# 전체 그리드에 대해 트리 모델의 예측 수행\n",
        "y_pred = tree_clf.predict(X_iris_all).reshape(lengths.shape)\n",
        "\n",
        "# 결정 경계 시각화\n",
        "plt.contourf(lengths, widths, y_pred, alpha=0.3, cmap=custom_cmap)\n",
        "\n",
        "# 실제 데이터 포인트 시각화\n",
        "for idx, (name, style) in enumerate(zip(iris.target_names, (\"yo\", \"bs\", \"g^\"))):\n",
        "    plt.plot(X_iris[:, 0][y_iris == idx], X_iris[:, 1][y_iris == idx],\n",
        "             style, label=f\"Iris {name}\")\n",
        "\n",
        "# max_depth=3인 새로운 트리 학습 → 더 깊은 경계를 그리기 위함\n",
        "tree_clf_deeper = DecisionTreeClassifier(max_depth=3, random_state=42)\n",
        "tree_clf_deeper.fit(X_iris, y_iris)\n",
        "\n",
        "# 트리에서 사용된 분할 기준 추출\n",
        "th0, th1, th2a, th2b = tree_clf_deeper.tree_.threshold[[0, 2, 3, 6]]\n",
        "\n",
        "# 트리 깊이별 경계선 시각화\n",
        "plt.xlabel(\"Petal length (cm)\")\n",
        "plt.ylabel(\"Petal width (cm)\")\n",
        "plt.plot([th0, th0], [0, 3], \"k-\", linewidth=2)        # Depth 0\n",
        "plt.plot([th0, 7.2], [th1, th1], \"k--\", linewidth=2)   # Depth 1\n",
        "plt.plot([th2a, th2a], [0, th1], \"k:\", linewidth=2)    # Depth 2 왼쪽\n",
        "plt.plot([th2b, th2b], [th1, 3], \"k:\", linewidth=2)    # Depth 2 오른쪽\n",
        "\n",
        "# 텍스트 라벨 표시\n",
        "plt.text(th0 - 0.05, 1.0, \"Depth=0\", horizontalalignment=\"right\", fontsize=15)\n",
        "plt.text(3.2, th1 + 0.02, \"Depth=1\", verticalalignment=\"bottom\", fontsize=13)\n",
        "plt.text(th2a + 0.05, 0.5, \"(Depth=2)\", fontsize=11)\n",
        "\n",
        "# 축 범위 및 범례 설정\n",
        "plt.axis([0, 7.2, 0, 3])\n",
        "plt.legend()\n",
        "\n",
        "# 이미지 저장 (save_fig는 따로 정의되어 있어야 함)\n",
        "save_fig(\"decision_tree_decision_boundaries_plot\")\n",
        "\n",
        "# 그래프 출력\n",
        "plt.show()\n"
      ],
      "metadata": {
        "id": "-WhaXK_Z6gBO",
        "outputId": "aaa45489-5228-44a9-a0ea-f346610ccd73",
        "colab": {
          "base_uri": "https://localhost:8080/",
          "height": 395
        }
      },
      "id": "-WhaXK_Z6gBO",
      "execution_count": 12,
      "outputs": [
        {
          "output_type": "display_data",
          "data": {
            "text/plain": [
              "<Figure size 800x400 with 1 Axes>"
            ],
            "image/png": "[encoded data removed]"
          },
          "metadata": {}
        }
      ]
    },
    {
      "cell_type": "markdown",
      "source": [
        "위 그림은 이 결정 트리의 **결정 경계(decision boundaries)**를 보여 줌  \n",
        "- 굵은 세로선: 루트 노드(깊이 0)의 결정 경계(꽃잎 길이 = 2.45cm)  \n",
        "- 왼쪽 영역: 순수(Iris setosa만 있음) → 더 이상 분할 X\n",
        "- 오른쪽 영역: 불순 → 깊이 1의 오른쪽 노드가 꽃잎 너비 = 1.75cm에서 다시 분할(점선)  \n",
        "\n",
        "max_depth가 2로 설정되어 있었기 때문에 트리는 여기서 멈춤  \n",
        "max_depth=3으로 설정했다면, 깊이 2의 두 노드도 추가로 결정 경계 생성했을 것 (점선보다 더 얇은 점선으로 표시)"
      ],
      "metadata": {
        "id": "j4Ripyo37Ehl"
      },
      "id": "j4Ripyo37Ehl"
    },
    {
      "cell_type": "code",
      "source": [
        "tree_clf.tree_ # 실제 트리 구조에 접근"
      ],
      "metadata": {
        "id": "e3tAZE0072ri",
        "outputId": "bfc11d66-18b7-4a2b-9999-f379b3408bbd",
        "colab": {
          "base_uri": "https://localhost:8080/"
        }
      },
      "id": "e3tAZE0072ri",
      "execution_count": 14,
      "outputs": [
        {
          "output_type": "execute_result",
          "data": {
            "text/plain": [
              "<sklearn.tree._tree.Tree at 0x7f5bf8221300>"
            ]
          },
          "metadata": {},
          "execution_count": 14
        }
      ]
    },
    {
      "cell_type": "markdown",
      "source": [
        "**모델 해석: 화이트 박스 vs 블랙 박스**\n",
        "\n",
        "Decision Tree는 직관적, 결정 과정 이해 쉬움\n",
        "-> **화이트 박스 모델(white box model)**이라고 불림\n",
        "\n",
        "Random Forest나 Neural Network 같은 모델 -> **블랙 박스 모델(black box model)**로 간주  \n",
        "예측 성능은 뛰어나고, 예측 과정에서 어떤 계산이 이뤄졌는지는 확인할 수 있음  \n",
        "하지만 왜 그런 예측이 나왔는지를 단순하게 설명하기 어려움\n",
        "\n",
        "어떤 신경망 모델이 사진 속 인물이 누구인지를 예측했다고 해도  \n",
        "그 예측에 무엇이 영향을 줬는지는 알기 어려움  \n",
        "(눈, 입, 신발, 소파 때문인지 알 수 없음)\n",
        "\n",
        "Decision Tree는 간단하고 명확한 분류 규칙 제공  \n",
        "필요하다면 사람이 수동으로 적용할 수도(예: 꽃 분류)"
      ],
      "metadata": {
        "id": "Lba1MIPA7d0S"
      },
      "id": "Lba1MIPA7d0S"
    },
    {
      "cell_type": "markdown",
      "source": [
        "## Estimating Class Probabilities"
      ],
      "metadata": {
        "id": "g0VBPXl80gZ2"
      },
      "id": "g0VBPXl80gZ2"
    },
    {
      "cell_type": "markdown",
      "source": [
        "결정 트리는 어떤 샘플이 특정 클래스 𝑘에 속할 확률도 예측할 수 있음\n",
        "1. 해당 샘플이 도달하는 리프 노드를 찾고\n",
        "2. 그 노드에 있는 훈련 샘플 중 클래스 𝑘의 비율을 확률로 반환\n",
        "\n",
        "예를 들어 꽃잎 길이가 5cm, 너비가 1.5cm인 꽃이라면  \n",
        "이 샘플은 깊이 2의 왼쪽 노드에 도달\n",
        "\n",
        "이 노드에는 다음과 같은 클래스 분포:\n",
        "- Iris setosa: 0개 → 확률 0% (0/54)\n",
        "- Iris versicolor: 49개 → 확률 약 90.7% (49/54)\n",
        "- Iris virginica: 5개 → 확률 약 9.3% (5/54)\n",
        "\n",
        "따라서 클래스 예측 결과는 가장 높은 확률을 가진  \n",
        "**Iris versicolor (클래스 1)**가 됨"
      ],
      "metadata": {
        "id": "ywIurnpU8I6e"
      },
      "id": "ywIurnpU8I6e"
    },
    {
      "cell_type": "code",
      "source": [
        "# [5, 1.5] 특성값에 대한 각 클래스별 예측 확률을 소수점 3자리로 반올림해 출력\n",
        "tree_clf.predict_proba([[5, 1.5]]).round(3)\n"
      ],
      "metadata": {
        "id": "89L1jtAP8fpV",
        "outputId": "265479a9-c68b-4bd0-9079-100cac188a97",
        "colab": {
          "base_uri": "https://localhost:8080/"
        }
      },
      "id": "89L1jtAP8fpV",
      "execution_count": 15,
      "outputs": [
        {
          "output_type": "execute_result",
          "data": {
            "text/plain": [
              "array([[0.   , 0.907, 0.093]])"
            ]
          },
          "metadata": {},
          "execution_count": 15
        }
      ]
    },
    {
      "cell_type": "code",
      "source": [
        "# [5, 1.5] 특성값에 대해 가장 확률이 높은 클래스를 예측\n",
        "tree_clf.predict([[5, 1.5]])\n"
      ],
      "metadata": {
        "id": "uvanB4TN8kPc",
        "outputId": "933c1d33-760d-4fc3-8f60-dfc853be89f8",
        "colab": {
          "base_uri": "https://localhost:8080/"
        }
      },
      "id": "uvanB4TN8kPc",
      "execution_count": 16,
      "outputs": [
        {
          "output_type": "execute_result",
          "data": {
            "text/plain": [
              "array([1])"
            ]
          },
          "metadata": {},
          "execution_count": 16
        }
      ]
    },
    {
      "cell_type": "markdown",
      "source": [
        "아까 그래프의 오른쪽 아래 사각형 내에서는 어떤 좌표든 같은 리프 노드에 도달하므로 확률 예측은 항상 동일  \n",
        "예: 꽃잎 길이가 6cm이고 너비가 1.5cm여도 마찬가지\n",
        "\n",
        "비록 육안으로 봤을 땐 Iris virginica일 가능성이 더 커 보이지만,  \n",
        "트리는 현재의 학습 데이터와 구조만 보고 판단하기 때문에 그렇게 예측하지 않음"
      ],
      "metadata": {
        "id": "fZspVxi28q0A"
      },
      "id": "fZspVxi28q0A"
    },
    {
      "cell_type": "markdown",
      "source": [
        "## The CART Training Algorithm"
      ],
      "metadata": {
        "id": "_AExk8Xr0gxX"
      },
      "id": "_AExk8Xr0gxX"
    },
    {
      "cell_type": "markdown",
      "source": [
        "Scikit-Learn은 결정 트리를 학습할 때   \n",
        "CART(Classification and Regression Tree) 알고리즘 사용  \n",
        "(결정 트리를 “성장시킨다”라고도 표현)\n",
        "\n",
        "이 알고리즘은 먼저 훈련 데이터를 하나의 특성 𝑘와 임계값 $𝑡_𝑘$를 사용해서 두 부분으로 나눔  \n",
        "(예: petal length ≤ 2.45 cm)\n",
        "\n",
        "𝑘와 $𝑡_𝑘$ 선택 방법  \n",
        "→ 알고리즘은 (k, $𝑡_𝑘$)의 조합 중에서 두 개의 부분 집합이 가장 순수해지는 조합을 찾음(단, 각 집합의 크기에 따라 가중치 줌)"
      ],
      "metadata": {
        "id": "sUMK853r86Jd"
      },
      "id": "sUMK853r86Jd"
    },
    {
      "cell_type": "markdown",
      "source": [
        "$$\n",
        "J(k, t_k) = \\frac{m_{\\text{left}}}{m} G_{\\text{left}} + \\frac{m_{\\text{right}}}{m} G_{\\text{right}}\n",
        "$$\n"
      ],
      "metadata": {
        "id": "7zK1kTVr9r8g"
      },
      "id": "7zK1kTVr9r8g"
    },
    {
      "cell_type": "markdown",
      "source": [
        "$𝐺_{left/right}$: 좌/우 노드의 불순도 (예: gini)\n",
        "\n",
        "$𝑚_{left/right}$: 좌/우 노드에 속한 샘플 수\n",
        "\n",
        "𝑚: 현재 노드의 총 샘플 수\n",
        "→ 전체 불순도를 최소화하는 분할 선택"
      ],
      "metadata": {
        "id": "4Al2GtRd9sng"
      },
      "id": "4Al2GtRd9sng"
    },
    {
      "cell_type": "markdown",
      "source": [
        "[트리 생성 과정]\n",
        "1. 위 방식으로 데이터를 두 개로 나눔\n",
        "2. 각 부분 집합에 대해 같은 과정을 재귀적으로 반복\n",
        "3. 아래 조건 중 하나라도 만족하면 멈춤:\n",
        "- 최대 깊이 (max_depth)에 도달함\n",
        "- 더 이상 불순도를 줄일 분할을 찾을 수 없음\n",
        "- 기타 하이퍼파라미터 조건 도달:\n",
        "  - min_samples_split\n",
        "  - min_samples_leaf\n",
        "  - min_weight_fraction_leaf\n",
        "  - max_leaf_nodes\n",
        "\n",
        "CART는 탐욕 알고리즘(Greedy Algorithm)이므로  \n",
        "매 단계마다 즉시 가장 좋은 분할만 선택함  \n",
        "몇 단계 뒤까지 고려해서 최적을 찾지 않음  \n",
        "그래서 결과가 전역 최적 트리가 될 보장은 없음\n",
        "\n",
        "최적 트리를 찾는 건 NP-완전 문제  \n",
        "최적 트리를 찾으려면 $O(\\exp(m))$ 시간 필요  \n",
        "-> 훈련 샘플이 조금만 많아도 계산 불가능\n",
        "\n",
        "그래서 현실적으로는 **괜찮은 수준의 트리**에 만족해야"
      ],
      "metadata": {
        "id": "vD5lwVq--FlB"
      },
      "id": "vD5lwVq--FlB"
    },
    {
      "cell_type": "markdown",
      "source": [
        "## Computational Complexity"
      ],
      "metadata": {
        "id": "imP0RaVj0gzs"
      },
      "id": "imP0RaVj0gzs"
    },
    {
      "cell_type": "markdown",
      "source": [
        "예측을 수행하려면 결정 트리를 루트에서 리프까지 따라 내려가야 함\n",
        "결정 트리는 일반적으로 대략적으로 균형 잡혀 있으므로, 예측을 위해 약\n",
        "$O(\\log_2 (m))$\n",
        "개의 노드 통과  \n",
        "각 노드에서는 한 개의 특성 값만 확인하면 되므로,   \n",
        "전체 예측 복잡도는 $O(\\log_2 (m))$\n",
        "이며 특성 수와는 무관  \n",
        "따라서 훈련 샘플 수가 많더라도 예측은 매우 빠르게 수행됨  \n",
        "\n",
        "훈련 알고리즘은 각 노드에서 모든 특성(또는 max_features가 설정된 경우 그보다 적은 수의 특성)을 모든 샘플에 대해 비교  \n",
        "각 노드에서 모든 특성과 모든 샘플을 비교하는 것은   \n",
        "$O(n \\times m \\log_2(m))$의 훈련 복잡도를 가짐  \n",
        "\n",
        "훈련 샘플 수가 수천 개 이하로 작은 경우에는  \n",
        "Scikit-Learn이 데이터를 미리 정렬함으로써 훈련 속도를 높일 수 있음(presort=True)  \n",
        "하지만 훈련 샘플 수가 많은 경우에는 훈련 속도를 상당히 느리게 만듦\n",
        "\n"
      ],
      "metadata": {
        "id": "xgbYzfvQ_sXP"
      },
      "id": "xgbYzfvQ_sXP"
    },
    {
      "cell_type": "markdown",
      "source": [
        "## Gini Impurity or Entropy?"
      ],
      "metadata": {
        "id": "3GLZi5iY0g2F"
      },
      "id": "3GLZi5iY0g2F"
    },
    {
      "cell_type": "markdown",
      "source": [
        "기본적으로는 **지니 불순도(Gini impurity)**가 사용되지만,  \n",
        "criterion 하이퍼파라미터를 \"entropy\"로 설정하면 엔트로피(Entropy) 불순도 측정을 대신 사용할 수 있음\n",
        "\n",
        "엔트로피라는 개념은 원래 **열역학(thermodynamics)**에서 시작되었고,  \n",
        "분자의 무질서도를 측정하는 데 사용:  \n",
        "→ 분자들이 정지해 있고 정돈돼 있을수록 엔트로피는 0에 가까움\n",
        "\n",
        "이 개념은 이후 다양한 분야로 확산되었고,  \n",
        "특히 **Shannon의 정보 이론(information theory)**에서는  \n",
        "메시지 하나가 담고 있는 평균 정보량을 측정하는 데 사용됨  \n",
        "→ 모든 메시지가 동일하면 엔트로피는 0이 됨\n",
        "\n",
        "머신러닝에서는 엔트로피가 자주 불순도 측정 방법으로 쓰임  \n",
        "→ 하나의 클래스만 포함된 집합의 엔트로피는 0임"
      ],
      "metadata": {
        "id": "GDicnwHLB770"
      },
      "id": "GDicnwHLB770"
    },
    {
      "cell_type": "markdown",
      "source": [
        "$$\n",
        "H_i = - \\sum_{\\substack{k=1 \\\\ p_{i,k} \\ne 0}}^{n} p_{i,k} \\log_2 (p_{i,k})\n",
        "$$\n"
      ],
      "metadata": {
        "id": "wIMk6G8uCDjH"
      },
      "id": "wIMk6G8uCDjH"
    },
    {
      "cell_type": "markdown",
      "source": [
        "깊이 2 왼쪽 노드의 엔트로피는 $-\\left( \\frac{49}{54} \\log_2 \\frac{49}{54} + \\frac{5}{54} \\log_2 \\frac{5}{54} \\right) \\approx 0.445$\n"
      ],
      "metadata": {
        "id": "ADoxcnenCPM9"
      },
      "id": "ADoxcnenCPM9"
    },
    {
      "cell_type": "markdown",
      "source": [
        "Gini 불순도와 엔트로피 중 무엇을 써야 할까?\n",
        "\n",
        "대부분의 경우 둘 중 무엇을 사용해도 큰 차이 X  \n",
        "→ 결과적으로 비슷한 트리\n",
        "\n",
        "Gini 불순도는 계산이 조금 더 빠르기 때문에 기본값으로 적절\n",
        "\n",
        "서로 다른 결과가 나올 경우:\n",
        "- Gini 불순도: 가장 자주 나오는 클래스를 빠르게 분리하는 경향\n",
        "- 엔트로피: 좀 더 균형 잡힌 트리를 만드는 경향"
      ],
      "metadata": {
        "id": "3X6suKSOCSvJ"
      },
      "id": "3X6suKSOCSvJ"
    },
    {
      "cell_type": "markdown",
      "source": [
        "## Regularization Hyperparameters"
      ],
      "metadata": {
        "id": "QLWis2S90g4X"
      },
      "id": "QLWis2S90g4X"
    },
    {
      "cell_type": "markdown",
      "source": [
        "결정 트리는 훈련 데이터에 대해 거의 아무런 가정도 하지 않음\n",
        "(예: 선형 모델은 데이터가 선형이라는 가정)\n",
        "\n",
        "제약을 걸지 않으면 트리는 훈련 데이터에 매우 잘 맞도록 구조를 스스로 조정  →  대부분 과적합(**비모수 모델(nonparametric model)**)  \n",
        "→ 매개변수가 없어서가 아니라 훈련 전에 매개변수의 수가 정해져 있지 않기 때문  \n",
        "→ 모델 구조가 자유롭게 데이터에 맞춰질 수 있음\n",
        "\n",
        "반대로, 선형 모델 같은 **모수 모델(parametric model)**은  \n",
        "미리 정해진 수의 매개변수를 가지므로  \n",
        "자유도가 제한되어 있어 과적합 위험은 줄지만 과소적합 위험은 커짐\n",
        "\n",
        "과적합을 피하려면 훈련 중 결정 트리의 자유도 제한  \n",
        "→ **규제(regularization)**\n",
        "\n",
        "규제 하이퍼파라미터는 알고리즘에 따라 다르지만,  \n",
        "보통은 **트리의 최대 깊이(max_depth)**를 제한하는 방식이 기본  \n",
        "→ Scikit-Learn에서는 max_depth 하이퍼파라미터로 설정  \n",
        "(기본값은 None, 제한 없음)\n",
        "\n",
        "max_depth를 줄이면 모델 규제, 과적합 위험 감소\n",
        "\n",
        "DecisionTreeClassifier에 트리의 형태를 제한하는\n",
        "다른 하이퍼파라미터\n",
        "- min_samples_split: 노드를 분할하기 위한 최소 샘플 수\n",
        "- min_samples_leaf: 리프 노드가 가져야 할 최소 샘플 수\n",
        "- min_weight_fraction_leaf: min_samples_leaf와 같지만, 전체 가중 샘플 수에 대한 비율로 표현\n",
        "- max_leaf_nodes: 리프 노드의 최대 개수\n",
        "- max_features: 분할 시 고려할 최대 특성 수\n",
        "\n",
        "min_* 값을 크게 하거나, max_* 값을 작게 하면 모델이 규제\n",
        "\n",
        "일부 알고리즘은 처음에는 제약 없이 트리를 만든 뒤,  \n",
        "불필요한 노드를 **가지치기(pruning)**해서 제거하는 방식으로 작동\n",
        "\n",
        "자식 노드가 모두 리프인 노드는,  \n",
        "그 노드의 불순도 개선이 통계적으로 유의미하지 않다면  \n",
        "→ 불필요한 노드로 간주하고 제거\n",
        "\n",
        "이때는 $\\chi^2$검정(chi-squared test) 같은 표준 통계 검정 사용  \n",
        "→ 불순도 감소가 우연일 확률(귀무가설)인 p-value 계산  \n",
        "→ p-value가 설정된 임계값(보통 5%)보다 크면 노드는 제거 대상\n",
        "\n",
        "이 과정을 반복해 모든 불필요한 노드가 제거될 때까지 가지치기를 계속함"
      ],
      "metadata": {
        "id": "muMXcJkMCil-"
      },
      "id": "muMXcJkMCil-"
    },
    {
      "cell_type": "code",
      "source": [
        "from sklearn.datasets import make_moons\n",
        "\n",
        "# 노이즈가 포함된 2차원 반달형 데이터셋 생성\n",
        "X_moons, y_moons = make_moons(n_samples=150, noise=0.2, random_state=42)\n",
        "\n",
        "# 기본 결정 트리 모델\n",
        "tree_clf1 = DecisionTreeClassifier(random_state=42)\n",
        "\n",
        "# 최소 리프 샘플 수를 5로 제한한 트리(일반화 성능 향상 목적)\n",
        "tree_clf2 = DecisionTreeClassifier(min_samples_leaf=5, random_state=42)\n",
        "\n",
        "# 두 모델 모두 학습\n",
        "tree_clf1.fit(X_moons, y_moons)\n",
        "tree_clf2.fit(X_moons, y_moons)\n"
      ],
      "metadata": {
        "id": "v4ibyf4s-8dJ",
        "outputId": "6748642e-7670-49da-bdbb-aac492b52b58",
        "colab": {
          "base_uri": "https://localhost:8080/",
          "height": 80
        }
      },
      "id": "v4ibyf4s-8dJ",
      "execution_count": 17,
      "outputs": [
        {
          "output_type": "execute_result",
          "data": {
            "text/plain": [
              "DecisionTreeClassifier(min_samples_leaf=5, random_state=42)"
            ],
            "text/html": [
              "<style>#sk-container-id-3 {\n",
              "  /* Definition of color scheme common for light and dark mode */\n",
              "  --sklearn-color-text: #000;\n",
              "  --sklearn-color-text-muted: #666;\n",
              "  --sklearn-color-line: gray;\n",
              "  /* Definition of color scheme for unfitted estimators */\n",
              "  --sklearn-color-unfitted-level-0: #fff5e6;\n",
              "  --sklearn-color-unfitted-level-1: #f6e4d2;\n",
              "  --sklearn-color-unfitted-level-2: #ffe0b3;\n",
              "  --sklearn-color-unfitted-level-3: chocolate;\n",
              "  /* Definition of color scheme for fitted estimators */\n",
              "  --sklearn-color-fitted-level-0: #f0f8ff;\n",
              "  --sklearn-color-fitted-level-1: #d4ebff;\n",
              "  --sklearn-color-fitted-level-2: #b3dbfd;\n",
              "  --sklearn-color-fitted-level-3: cornflowerblue;\n",
              "\n",
              "  /* Specific color for light theme */\n",
              "  --sklearn-color-text-on-default-background: var(--sg-text-color, var(--theme-code-foreground, var(--jp-content-font-color1, black)));\n",
              "  --sklearn-color-background: var(--sg-background-color, var(--theme-background, var(--jp-layout-color0, white)));\n",
              "  --sklearn-color-border-box: var(--sg-text-color, var(--theme-code-foreground, var(--jp-content-font-color1, black)));\n",
              "  --sklearn-color-icon: #696969;\n",
              "\n",
              "  @media (prefers-color-scheme: dark) {\n",
              "    /* Redefinition of color scheme for dark theme */\n",
              "    --sklearn-color-text-on-default-background: var(--sg-text-color, var(--theme-code-foreground, var(--jp-content-font-color1, white)));\n",
              "    --sklearn-color-background: var(--sg-background-color, var(--theme-background, var(--jp-layout-color0, #111)));\n",
              "    --sklearn-color-border-box: var(--sg-text-color, var(--theme-code-foreground, var(--jp-content-font-color1, white)));\n",
              "    --sklearn-color-icon: #878787;\n",
              "  }\n",
              "}\n",
              "\n",
              "#sk-container-id-3 {\n",
              "  color: var(--sklearn-color-text);\n",
              "}\n",
              "\n",
              "#sk-container-id-3 pre {\n",
              "  padding: 0;\n",
              "}\n",
              "\n",
              "#sk-container-id-3 input.sk-hidden--visually {\n",
              "  border: 0;\n",
              "  clip: rect(1px 1px 1px 1px);\n",
              "  clip: rect(1px, 1px, 1px, 1px);\n",
              "  height: 1px;\n",
              "  margin: -1px;\n",
              "  overflow: hidden;\n",
              "  padding: 0;\n",
              "  position: absolute;\n",
              "  width: 1px;\n",
              "}\n",
              "\n",
              "#sk-container-id-3 div.sk-dashed-wrapped {\n",
              "  border: 1px dashed var(--sklearn-color-line);\n",
              "  margin: 0 0.4em 0.5em 0.4em;\n",
              "  box-sizing: border-box;\n",
              "  padding-bottom: 0.4em;\n",
              "  background-color: var(--sklearn-color-background);\n",
              "}\n",
              "\n",
              "#sk-container-id-3 div.sk-container {\n",
              "  /* jupyter's `normalize.less` sets `[hidden] { display: none; }`\n",
              "     but bootstrap.min.css set `[hidden] { display: none !important; }`\n",
              "     so we also need the `!important` here to be able to override the\n",
              "     default hidden behavior on the sphinx rendered scikit-learn.org.\n",
              "     See: https://github.com/scikit-learn/scikit-learn/issues/21755 */\n",
              "  display: inline-block !important;\n",
              "  position: relative;\n",
              "}\n",
              "\n",
              "#sk-container-id-3 div.sk-text-repr-fallback {\n",
              "  display: none;\n",
              "}\n",
              "\n",
              "div.sk-parallel-item,\n",
              "div.sk-serial,\n",
              "div.sk-item {\n",
              "  /* draw centered vertical line to link estimators */\n",
              "  background-image: linear-gradient(var(--sklearn-color-text-on-default-background), var(--sklearn-color-text-on-default-background));\n",
              "  background-size: 2px 100%;\n",
              "  background-repeat: no-repeat;\n",
              "  background-position: center center;\n",
              "}\n",
              "\n",
              "/* Parallel-specific style estimator block */\n",
              "\n",
              "#sk-container-id-3 div.sk-parallel-item::after {\n",
              "  content: \"\";\n",
              "  width: 100%;\n",
              "  border-bottom: 2px solid var(--sklearn-color-text-on-default-background);\n",
              "  flex-grow: 1;\n",
              "}\n",
              "\n",
              "#sk-container-id-3 div.sk-parallel {\n",
              "  display: flex;\n",
              "  align-items: stretch;\n",
              "  justify-content: center;\n",
              "  background-color: var(--sklearn-color-background);\n",
              "  position: relative;\n",
              "}\n",
              "\n",
              "#sk-container-id-3 div.sk-parallel-item {\n",
              "  display: flex;\n",
              "  flex-direction: column;\n",
              "}\n",
              "\n",
              "#sk-container-id-3 div.sk-parallel-item:first-child::after {\n",
              "  align-self: flex-end;\n",
              "  width: 50%;\n",
              "}\n",
              "\n",
              "#sk-container-id-3 div.sk-parallel-item:last-child::after {\n",
              "  align-self: flex-start;\n",
              "  width: 50%;\n",
              "}\n",
              "\n",
              "#sk-container-id-3 div.sk-parallel-item:only-child::after {\n",
              "  width: 0;\n",
              "}\n",
              "\n",
              "/* Serial-specific style estimator block */\n",
              "\n",
              "#sk-container-id-3 div.sk-serial {\n",
              "  display: flex;\n",
              "  flex-direction: column;\n",
              "  align-items: center;\n",
              "  background-color: var(--sklearn-color-background);\n",
              "  padding-right: 1em;\n",
              "  padding-left: 1em;\n",
              "}\n",
              "\n",
              "\n",
              "/* Toggleable style: style used for estimator/Pipeline/ColumnTransformer box that is\n",
              "clickable and can be expanded/collapsed.\n",
              "- Pipeline and ColumnTransformer use this feature and define the default style\n",
              "- Estimators will overwrite some part of the style using the `sk-estimator` class\n",
              "*/\n",
              "\n",
              "/* Pipeline and ColumnTransformer style (default) */\n",
              "\n",
              "#sk-container-id-3 div.sk-toggleable {\n",
              "  /* Default theme specific background. It is overwritten whether we have a\n",
              "  specific estimator or a Pipeline/ColumnTransformer */\n",
              "  background-color: var(--sklearn-color-background);\n",
              "}\n",
              "\n",
              "/* Toggleable label */\n",
              "#sk-container-id-3 label.sk-toggleable__label {\n",
              "  cursor: pointer;\n",
              "  display: flex;\n",
              "  width: 100%;\n",
              "  margin-bottom: 0;\n",
              "  padding: 0.5em;\n",
              "  box-sizing: border-box;\n",
              "  text-align: center;\n",
              "  align-items: start;\n",
              "  justify-content: space-between;\n",
              "  gap: 0.5em;\n",
              "}\n",
              "\n",
              "#sk-container-id-3 label.sk-toggleable__label .caption {\n",
              "  font-size: 0.6rem;\n",
              "  font-weight: lighter;\n",
              "  color: var(--sklearn-color-text-muted);\n",
              "}\n",
              "\n",
              "#sk-container-id-3 label.sk-toggleable__label-arrow:before {\n",
              "  /* Arrow on the left of the label */\n",
              "  content: \"▸\";\n",
              "  float: left;\n",
              "  margin-right: 0.25em;\n",
              "  color: var(--sklearn-color-icon);\n",
              "}\n",
              "\n",
              "#sk-container-id-3 label.sk-toggleable__label-arrow:hover:before {\n",
              "  color: var(--sklearn-color-text);\n",
              "}\n",
              "\n",
              "/* Toggleable content - dropdown */\n",
              "\n",
              "#sk-container-id-3 div.sk-toggleable__content {\n",
              "  max-height: 0;\n",
              "  max-width: 0;\n",
              "  overflow: hidden;\n",
              "  text-align: left;\n",
              "  /* unfitted */\n",
              "  background-color: var(--sklearn-color-unfitted-level-0);\n",
              "}\n",
              "\n",
              "#sk-container-id-3 div.sk-toggleable__content.fitted {\n",
              "  /* fitted */\n",
              "  background-color: var(--sklearn-color-fitted-level-0);\n",
              "}\n",
              "\n",
              "#sk-container-id-3 div.sk-toggleable__content pre {\n",
              "  margin: 0.2em;\n",
              "  border-radius: 0.25em;\n",
              "  color: var(--sklearn-color-text);\n",
              "  /* unfitted */\n",
              "  background-color: var(--sklearn-color-unfitted-level-0);\n",
              "}\n",
              "\n",
              "#sk-container-id-3 div.sk-toggleable__content.fitted pre {\n",
              "  /* unfitted */\n",
              "  background-color: var(--sklearn-color-fitted-level-0);\n",
              "}\n",
              "\n",
              "#sk-container-id-3 input.sk-toggleable__control:checked~div.sk-toggleable__content {\n",
              "  /* Expand drop-down */\n",
              "  max-height: 200px;\n",
              "  max-width: 100%;\n",
              "  overflow: auto;\n",
              "}\n",
              "\n",
              "#sk-container-id-3 input.sk-toggleable__control:checked~label.sk-toggleable__label-arrow:before {\n",
              "  content: \"▾\";\n",
              "}\n",
              "\n",
              "/* Pipeline/ColumnTransformer-specific style */\n",
              "\n",
              "#sk-container-id-3 div.sk-label input.sk-toggleable__control:checked~label.sk-toggleable__label {\n",
              "  color: var(--sklearn-color-text);\n",
              "  background-color: var(--sklearn-color-unfitted-level-2);\n",
              "}\n",
              "\n",
              "#sk-container-id-3 div.sk-label.fitted input.sk-toggleable__control:checked~label.sk-toggleable__label {\n",
              "  background-color: var(--sklearn-color-fitted-level-2);\n",
              "}\n",
              "\n",
              "/* Estimator-specific style */\n",
              "\n",
              "/* Colorize estimator box */\n",
              "#sk-container-id-3 div.sk-estimator input.sk-toggleable__control:checked~label.sk-toggleable__label {\n",
              "  /* unfitted */\n",
              "  background-color: var(--sklearn-color-unfitted-level-2);\n",
              "}\n",
              "\n",
              "#sk-container-id-3 div.sk-estimator.fitted input.sk-toggleable__control:checked~label.sk-toggleable__label {\n",
              "  /* fitted */\n",
              "  background-color: var(--sklearn-color-fitted-level-2);\n",
              "}\n",
              "\n",
              "#sk-container-id-3 div.sk-label label.sk-toggleable__label,\n",
              "#sk-container-id-3 div.sk-label label {\n",
              "  /* The background is the default theme color */\n",
              "  color: var(--sklearn-color-text-on-default-background);\n",
              "}\n",
              "\n",
              "/* On hover, darken the color of the background */\n",
              "#sk-container-id-3 div.sk-label:hover label.sk-toggleable__label {\n",
              "  color: var(--sklearn-color-text);\n",
              "  background-color: var(--sklearn-color-unfitted-level-2);\n",
              "}\n",
              "\n",
              "/* Label box, darken color on hover, fitted */\n",
              "#sk-container-id-3 div.sk-label.fitted:hover label.sk-toggleable__label.fitted {\n",
              "  color: var(--sklearn-color-text);\n",
              "  background-color: var(--sklearn-color-fitted-level-2);\n",
              "}\n",
              "\n",
              "/* Estimator label */\n",
              "\n",
              "#sk-container-id-3 div.sk-label label {\n",
              "  font-family: monospace;\n",
              "  font-weight: bold;\n",
              "  display: inline-block;\n",
              "  line-height: 1.2em;\n",
              "}\n",
              "\n",
              "#sk-container-id-3 div.sk-label-container {\n",
              "  text-align: center;\n",
              "}\n",
              "\n",
              "/* Estimator-specific */\n",
              "#sk-container-id-3 div.sk-estimator {\n",
              "  font-family: monospace;\n",
              "  border: 1px dotted var(--sklearn-color-border-box);\n",
              "  border-radius: 0.25em;\n",
              "  box-sizing: border-box;\n",
              "  margin-bottom: 0.5em;\n",
              "  /* unfitted */\n",
              "  background-color: var(--sklearn-color-unfitted-level-0);\n",
              "}\n",
              "\n",
              "#sk-container-id-3 div.sk-estimator.fitted {\n",
              "  /* fitted */\n",
              "  background-color: var(--sklearn-color-fitted-level-0);\n",
              "}\n",
              "\n",
              "/* on hover */\n",
              "#sk-container-id-3 div.sk-estimator:hover {\n",
              "  /* unfitted */\n",
              "  background-color: var(--sklearn-color-unfitted-level-2);\n",
              "}\n",
              "\n",
              "#sk-container-id-3 div.sk-estimator.fitted:hover {\n",
              "  /* fitted */\n",
              "  background-color: var(--sklearn-color-fitted-level-2);\n",
              "}\n",
              "\n",
              "/* Specification for estimator info (e.g. \"i\" and \"?\") */\n",
              "\n",
              "/* Common style for \"i\" and \"?\" */\n",
              "\n",
              ".sk-estimator-doc-link,\n",
              "a:link.sk-estimator-doc-link,\n",
              "a:visited.sk-estimator-doc-link {\n",
              "  float: right;\n",
              "  font-size: smaller;\n",
              "  line-height: 1em;\n",
              "  font-family: monospace;\n",
              "  background-color: var(--sklearn-color-background);\n",
              "  border-radius: 1em;\n",
              "  height: 1em;\n",
              "  width: 1em;\n",
              "  text-decoration: none !important;\n",
              "  margin-left: 0.5em;\n",
              "  text-align: center;\n",
              "  /* unfitted */\n",
              "  border: var(--sklearn-color-unfitted-level-1) 1pt solid;\n",
              "  color: var(--sklearn-color-unfitted-level-1);\n",
              "}\n",
              "\n",
              ".sk-estimator-doc-link.fitted,\n",
              "a:link.sk-estimator-doc-link.fitted,\n",
              "a:visited.sk-estimator-doc-link.fitted {\n",
              "  /* fitted */\n",
              "  border: var(--sklearn-color-fitted-level-1) 1pt solid;\n",
              "  color: var(--sklearn-color-fitted-level-1);\n",
              "}\n",
              "\n",
              "/* On hover */\n",
              "div.sk-estimator:hover .sk-estimator-doc-link:hover,\n",
              ".sk-estimator-doc-link:hover,\n",
              "div.sk-label-container:hover .sk-estimator-doc-link:hover,\n",
              ".sk-estimator-doc-link:hover {\n",
              "  /* unfitted */\n",
              "  background-color: var(--sklearn-color-unfitted-level-3);\n",
              "  color: var(--sklearn-color-background);\n",
              "  text-decoration: none;\n",
              "}\n",
              "\n",
              "div.sk-estimator.fitted:hover .sk-estimator-doc-link.fitted:hover,\n",
              ".sk-estimator-doc-link.fitted:hover,\n",
              "div.sk-label-container:hover .sk-estimator-doc-link.fitted:hover,\n",
              ".sk-estimator-doc-link.fitted:hover {\n",
              "  /* fitted */\n",
              "  background-color: var(--sklearn-color-fitted-level-3);\n",
              "  color: var(--sklearn-color-background);\n",
              "  text-decoration: none;\n",
              "}\n",
              "\n",
              "/* Span, style for the box shown on hovering the info icon */\n",
              ".sk-estimator-doc-link span {\n",
              "  display: none;\n",
              "  z-index: 9999;\n",
              "  position: relative;\n",
              "  font-weight: normal;\n",
              "  right: .2ex;\n",
              "  padding: .5ex;\n",
              "  margin: .5ex;\n",
              "  width: min-content;\n",
              "  min-width: 20ex;\n",
              "  max-width: 50ex;\n",
              "  color: var(--sklearn-color-text);\n",
              "  box-shadow: 2pt 2pt 4pt #999;\n",
              "  /* unfitted */\n",
              "  background: var(--sklearn-color-unfitted-level-0);\n",
              "  border: .5pt solid var(--sklearn-color-unfitted-level-3);\n",
              "}\n",
              "\n",
              ".sk-estimator-doc-link.fitted span {\n",
              "  /* fitted */\n",
              "  background: var(--sklearn-color-fitted-level-0);\n",
              "  border: var(--sklearn-color-fitted-level-3);\n",
              "}\n",
              "\n",
              ".sk-estimator-doc-link:hover span {\n",
              "  display: block;\n",
              "}\n",
              "\n",
              "/* \"?\"-specific style due to the `<a>` HTML tag */\n",
              "\n",
              "#sk-container-id-3 a.estimator_doc_link {\n",
              "  float: right;\n",
              "  font-size: 1rem;\n",
              "  line-height: 1em;\n",
              "  font-family: monospace;\n",
              "  background-color: var(--sklearn-color-background);\n",
              "  border-radius: 1rem;\n",
              "  height: 1rem;\n",
              "  width: 1rem;\n",
              "  text-decoration: none;\n",
              "  /* unfitted */\n",
              "  color: var(--sklearn-color-unfitted-level-1);\n",
              "  border: var(--sklearn-color-unfitted-level-1) 1pt solid;\n",
              "}\n",
              "\n",
              "#sk-container-id-3 a.estimator_doc_link.fitted {\n",
              "  /* fitted */\n",
              "  border: var(--sklearn-color-fitted-level-1) 1pt solid;\n",
              "  color: var(--sklearn-color-fitted-level-1);\n",
              "}\n",
              "\n",
              "/* On hover */\n",
              "#sk-container-id-3 a.estimator_doc_link:hover {\n",
              "  /* unfitted */\n",
              "  background-color: var(--sklearn-color-unfitted-level-3);\n",
              "  color: var(--sklearn-color-background);\n",
              "  text-decoration: none;\n",
              "}\n",
              "\n",
              "#sk-container-id-3 a.estimator_doc_link.fitted:hover {\n",
              "  /* fitted */\n",
              "  background-color: var(--sklearn-color-fitted-level-3);\n",
              "}\n",
              "</style><div id=\"sk-container-id-3\" class=\"sk-top-container\"><div class=\"sk-text-repr-fallback\"><pre>DecisionTreeClassifier(min_samples_leaf=5, random_state=42)</pre><b>In a Jupyter environment, please rerun this cell to show the HTML representation or trust the notebook. <br />On GitHub, the HTML representation is unable to render, please try loading this page with nbviewer.org.</b></div><div class=\"sk-container\" hidden><div class=\"sk-item\"><div class=\"sk-estimator fitted sk-toggleable\"><input class=\"sk-toggleable__control sk-hidden--visually\" id=\"sk-estimator-id-3\" type=\"checkbox\" checked><label for=\"sk-estimator-id-3\" class=\"sk-toggleable__label fitted sk-toggleable__label-arrow\"><div><div>DecisionTreeClassifier</div></div><div><a class=\"sk-estimator-doc-link fitted\" rel=\"noreferrer\" target=\"_blank\" href=\"https://scikit-learn.org/1.6/modules/generated/sklearn.tree.DecisionTreeClassifier.html\">?<span>Documentation for DecisionTreeClassifier</span></a><span class=\"sk-estimator-doc-link fitted\">i<span>Fitted</span></span></div></label><div class=\"sk-toggleable__content fitted\"><pre>DecisionTreeClassifier(min_samples_leaf=5, random_state=42)</pre></div> </div></div></div></div>"
            ]
          },
          "metadata": {},
          "execution_count": 17
        }
      ]
    },
    {
      "cell_type": "code",
      "source": [
        "def plot_decision_boundary(clf, X, y, axes, cmap):\n",
        "    # 결정 경계를 시각화하기 위한 좌표 그리드 생성\n",
        "    x1, x2 = np.meshgrid(np.linspace(axes[0], axes[1], 100),\n",
        "                         np.linspace(axes[2], axes[3], 100))\n",
        "    X_new = np.c_[x1.ravel(), x2.ravel()]\n",
        "    y_pred = clf.predict(X_new).reshape(x1.shape)\n",
        "\n",
        "    # 결정 경계 색상 채우기 및 윤곽선\n",
        "    plt.contourf(x1, x2, y_pred, alpha=0.3, cmap=cmap)\n",
        "    plt.contour(x1, x2, y_pred, cmap=\"Greys\", alpha=0.8)\n",
        "\n",
        "    # 클래스별 데이터 포인트 시각화\n",
        "    colors = {\"Wistia\": [\"#78785c\", \"#c47b27\"], \"Pastel1\": [\"red\", \"blue\"]}\n",
        "    markers = (\"o\", \"^\")\n",
        "    for idx in (0, 1):\n",
        "        plt.plot(X[:, 0][y == idx], X[:, 1][y == idx],\n",
        "                 color=colors[cmap][idx], marker=markers[idx], linestyle=\"none\")\n",
        "\n",
        "    # 축 범위 및 라벨 설정\n",
        "    plt.axis(axes)\n",
        "    plt.xlabel(r\"$x_1$\")\n",
        "    plt.ylabel(r\"$x_2$\", rotation=0)\n",
        "\n",
        "# 두 개의 서브플롯 생성 (비교용)\n",
        "fig, axes = plt.subplots(ncols=2, figsize=(10, 4), sharey=True)\n",
        "\n",
        "# 첫 번째: 제약 없는 결정 트리\n",
        "plt.sca(axes[0])\n",
        "plot_decision_boundary(tree_clf1, X_moons, y_moons,\n",
        "                       axes=[-1.5, 2.4, -1, 1.5], cmap=\"Wistia\")\n",
        "plt.title(\"No restrictions\")\n",
        "\n",
        "# 두 번째: min_samples_leaf 제약 적용한 트리\n",
        "plt.sca(axes[1])\n",
        "plot_decision_boundary(tree_clf2, X_moons, y_moons,\n",
        "                       axes=[-1.5, 2.4, -1, 1.5], cmap=\"Wistia\")\n",
        "plt.title(f\"min_samples_leaf = {tree_clf2.min_samples_leaf}\")\n",
        "\n",
        "# y축 라벨 제거 (중복 방지)\n",
        "plt.ylabel(\"\")\n",
        "\n",
        "# 이미지 저장 및 출력\n",
        "save_fig(\"min_samples_leaf_plot\")\n",
        "plt.show()\n"
      ],
      "metadata": {
        "id": "7c1Dv1Jn_DqB",
        "outputId": "7ca437ef-947d-4ed1-fd40-497f01eb181e",
        "colab": {
          "base_uri": "https://localhost:8080/",
          "height": 395
        }
      },
      "id": "7c1Dv1Jn_DqB",
      "execution_count": 18,
      "outputs": [
        {
          "output_type": "display_data",
          "data": {
            "text/plain": [
              "<Figure size 1000x400 with 2 Axes>"
            ],
            "image/png": "[encoded data removed]"
          },
          "metadata": {}
        }
      ]
    },
    {
      "cell_type": "markdown",
      "source": [
        "## Regression"
      ],
      "metadata": {
        "id": "7gWQXuYG0g6l"
      },
      "id": "7gWQXuYG0g6l"
    },
    {
      "cell_type": "markdown",
      "source": [
        "## Instability"
      ],
      "metadata": {
        "id": "ddq-pL-h0g87"
      },
      "id": "ddq-pL-h0g87"
    }
  ],
  "metadata": {
    "kernelspec": {
      "display_name": "Python 3 (ipykernel)",
      "language": "python",
      "name": "python3"
    },
    "language_info": {
      "codemirror_mode": {
        "name": "ipython",
        "version": 3
      },
      "file_extension": ".py",
      "mimetype": "text/x-python",
      "name": "python",
      "nbconvert_exporter": "python",
      "pygments_lexer": "ipython3",
      "version": "3.13.5"
    },
    "colab": {
      "provenance": []
    }
  },
  "nbformat": 4,
  "nbformat_minor": 5
}