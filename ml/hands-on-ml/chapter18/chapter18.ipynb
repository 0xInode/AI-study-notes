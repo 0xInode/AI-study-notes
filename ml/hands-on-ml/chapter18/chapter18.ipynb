{
 "cells": [
  {
   "cell_type": "markdown",
   "id": "212ca5a3-2351-4f8a-8336-7beda60a0a3d",
   "metadata": {},
   "source": [
    "[![Open In Colab](https://colab.research.google.com/assets/colab-badge.svg)](https://github.com/0xInode/AI-study-notes/blob/main/ml/hands-on-ml/chapter18/chapter18.ipynb)"
   ]
  },
  {
   "cell_type": "code",
   "execution_count": null,
   "id": "3ed040b0-33b3-4b55-83f3-26797c97824b",
   "metadata": {},
   "outputs": [],
   "source": []
  }
 ],
 "metadata": {
  "kernelspec": {
   "display_name": "Python 3 (ipykernel)",
   "language": "python",
   "name": "python3"
  },
  "language_info": {
   "codemirror_mode": {
    "name": "ipython",
    "version": 3
   },
   "file_extension": ".py",
   "mimetype": "text/x-python",
   "name": "python",
   "nbconvert_exporter": "python",
   "pygments_lexer": "ipython3",
   "version": "3.13.5"
  }
 },
 "nbformat": 4,
 "nbformat_minor": 5
}
