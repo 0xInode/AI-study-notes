{
  "cells": [
    {
      "cell_type": "markdown",
      "source": [
        "# 8. Dimensionality Reduction"
      ],
      "metadata": {
        "id": "_3AY6S2scgRQ"
      },
      "id": "_3AY6S2scgRQ"
    },
    {
      "cell_type": "markdown",
      "id": "457bd544-01dd-4c80-a08e-1cb3e26ae819",
      "metadata": {
        "id": "457bd544-01dd-4c80-a08e-1cb3e26ae819"
      },
      "source": [
        "[![Open In Colab](https://colab.research.google.com/assets/colab-badge.svg)](https://colab.research.google.com/github/0xInode/AI-study-notes/blob/main/ml/hands-on-ml/chapter08/chapter08.ipynb)\n"
      ]
    },
    {
      "cell_type": "markdown",
      "source": [
        "머신러닝 문제는 각 훈련 샘플마다 수천 - 수백만 개의 특성 포함  \n",
        "이러한 모든 특성은 훈련을 매우 느리게 만들 뿐만 아니라 좋은 해법을 찾기 어렵게 만듦  \n",
        "-> 차원의 저주(curse of dimensionality)\n",
        "\n",
        "특성 수를 상당히 줄여 불가능한 문제를 해결 가능한 문제로 바꾸는 것이 종종 가능\n",
        "\n",
        "3장에서 소개된 MNIST 이미지의 경우\n",
        "- 이미지 테두리의 픽셀은 거의 항상 흰색이므로 이 픽셀을 훈련 세트에서 완전히 제거해도 정보 손실이 거의 없음\n",
        "- 또한 인접한 두 픽셀은 종종 높은 상관관계를 가지므로\n",
        "이 둘을 하나의 픽셀로 병합(예: 두 픽셀 강도의 평균 사용)하면 정보 손실이 거의 없음\n",
        "\n",
        "차원 축소는 일부 정보 손실을 수반  \n",
        "(이미지를 JPEG로 압축하면 품질이 저하되는 것과 같음)  \n",
        "-> 훈련 속도는 빨라지지만 시스템의 성능이 약간 떨어질 수 있음\n",
        "\n",
        "파이프라인을 더 복잡하게 만들어 유지 관리가 어려워짐  \n",
        "그러므로 훈련 속도가 너무 느릴 경우 차원 축소를 사용하기 전에 먼저 원본  데이터를 그대로 사용해 시스템을 훈련해 보는 것이 좋음  \n",
        "\n",
        "어떤 경우에는 차원 축소가 훈련 데이터의 노이즈나 불필요한 세부 정보를 걸러내어 성능을 높일 수도 있지만, 일반적으로는 성능 향상이 아닌 **훈련 속도 향상이 목적**\n",
        "\n",
        "훈련 속도를 높이는 것 외에도 데이터 시각화(DataViz)에 매우 유용  \n",
        "차원을 2개(또는 3개)로 줄이면 고차원 훈련 세트를 그래프 상에서 축약된 형태로 시각화할 수 있음  \n",
        "이를 통해 클러스터와 같은 패턴을 시각적으로 탐지하여 중요한 통찰을 얻을 수 있음  \n",
        "또한 DataViz는 데이터 과학자가 아닌 사람, 특히 결과를 활용할 의사결정권자에게 결론을 전달하는 데 필수적"
      ],
      "metadata": {
        "id": "x6GxJkEvdEYb"
      },
      "id": "x6GxJkEvdEYb"
    },
    {
      "cell_type": "markdown",
      "source": [
        "## Setup"
      ],
      "metadata": {
        "id": "cR7Ervs9lJAa"
      },
      "id": "cR7Ervs9lJAa"
    },
    {
      "cell_type": "code",
      "source": [
        "import sys\n",
        "\n",
        "assert sys.version_info >= (3, 7)"
      ],
      "metadata": {
        "id": "7ZyRIDWhlL0s"
      },
      "id": "7ZyRIDWhlL0s",
      "execution_count": 3,
      "outputs": []
    },
    {
      "cell_type": "code",
      "source": [
        "from packaging import version\n",
        "import sklearn\n",
        "\n",
        "assert version.parse(sklearn.__version__) >= version.parse(\"1.0.1\")"
      ],
      "metadata": {
        "id": "I0KxI8p2lL3o"
      },
      "id": "I0KxI8p2lL3o",
      "execution_count": 4,
      "outputs": []
    },
    {
      "cell_type": "code",
      "source": [
        "import matplotlib.pyplot as plt\n",
        "\n",
        "plt.rc('font', size=14)\n",
        "plt.rc('axes', labelsize=14, titlesize=14)\n",
        "plt.rc('legend', fontsize=14)\n",
        "plt.rc('xtick', labelsize=10)\n",
        "plt.rc('ytick', labelsize=10)"
      ],
      "metadata": {
        "id": "_lcjZwt1lL65"
      },
      "id": "_lcjZwt1lL65",
      "execution_count": 5,
      "outputs": []
    },
    {
      "cell_type": "code",
      "source": [
        "from pathlib import Path\n",
        "\n",
        "IMAGES_PATH = Path() / \"images\" / \"dim_reduction\"\n",
        "IMAGES_PATH.mkdir(parents=True, exist_ok=True)\n",
        "\n",
        "def save_fig(fig_id, tight_layout=True, fig_extension=\"png\", resolution=300):\n",
        "    path = IMAGES_PATH / f\"{fig_id}.{fig_extension}\"\n",
        "    if tight_layout:\n",
        "        plt.tight_layout()\n",
        "    plt.savefig(path, format=fig_extension, dpi=resolution)"
      ],
      "metadata": {
        "id": "8sPHqZzzlL-A"
      },
      "id": "8sPHqZzzlL-A",
      "execution_count": 6,
      "outputs": []
    },
    {
      "cell_type": "markdown",
      "source": [
        "## The Curse of Dimensionality"
      ],
      "metadata": {
        "id": "vKP5a9lqcgUL"
      },
      "id": "vKP5a9lqcgUL"
    },
    {
      "cell_type": "markdown",
      "source": [
        "우리는 3차원 공간에 익숙하기 때문에 고차원 공간을 상상하려 하면 직관이 무너짐  \n",
        "기본적인 4차원 초입방체조차 머릿속에서 그리기 매우 어려움  \n",
        "하물며 1,000차원 공간 속에 구부러진 200차원 타원체는 더더욱 상상하기 어려움\n",
        "\n",
        "고차원 공간에서는 많은 것이 매우 다르게 작동함  \n",
        "예를 들어 단위 정사각형(1 × 1)에서 임의의 점을 선택할 경우  \n",
        "그 점이 경계로부터 0.001보다 가까이 있을 확률은 약 0.4%에 불과함  \n",
        "즉, 임의의 점이 어떤 차원에서 극단적일 가능성은 매우 낮음  \n",
        "하지만 10,000차원 단위 초입방체에서는 이 확률이 99.999999%를 넘음  \n",
        "대부분의 점이 경계에 매우 가까움\n",
        "\n",
        "단위 정사각형에서 임의로 두 점을 고르면 두 점 사이의 평균 거리는 약 0.52  \n",
        "단위 3차원 정육면체에서는 평균 거리가 약 0.66  \n",
        "\n",
        "1,000,000차원 초입방체에서 두 점을 임의로 고르면?  \n",
        "평균 거리는 약 408.25(대략 1,000,000 ÷ 6)  \n",
        "→ **직관에 어긋남**\n",
        "\n",
        "어떻게 두 점이 같은 단위 초입방체 안에 있으면서도 이렇게 멀 수 있을까  \n",
        "그 이유는 고차원 공간에는 그만큼 엄청난 여유 공간이 있기 때문\n",
        "\n",
        "이로 인해 고차원 데이터셋은 매우 **희소(sparse)**해질 위험  \n",
        "→ 대부분의 훈련 샘플들이 서로 멀리 떨어져 있게 됨  \n",
        "→ 따라서 새로운 샘플도 기존 훈련 샘플과 멀리 떨어져 있을 가능성이 높음  \n",
        "→ 예측이 저차원보다 **훨씬 큰 외삽(extrapolation)**에 의존하게 되어 신뢰도가 떨어짐\n",
        "\n",
        "> 훈련 세트의 차원이 많아질수록 **과적합(overfitting)**의 위험이 커짐\n",
        "\n",
        "이론적으로 차원의 저주를 해결하려면 훈련 샘플 수를 증가시키는 방안이 있음  \n",
        "(훈련 샘플 간 밀도를 높이면 희소성을 줄일 수 있으므로)\n",
        "\n",
        "하지만 실제로는  \n",
        "차원이 늘어날수록 필요한 훈련 샘플 수는 지수적으로 증가  \n",
        "특성이 100개뿐이라도  \n",
        "모든 차원에 걸쳐 고르게 퍼졌다고 가정,  \n",
        "각 샘플이 평균적으로 서로 0.1 이내에 있도록 하려면  \n",
        "관측 가능한 우주의 원자 수보다 많은 훈련 샘플이 필요  "
      ],
      "metadata": {
        "id": "a86u-5gieAyG"
      },
      "id": "a86u-5gieAyG"
    },
    {
      "cell_type": "markdown",
      "source": [
        "## Main Approaches for Dimensionality Reduction"
      ],
      "metadata": {
        "id": "KG4-yq6DcgXI"
      },
      "id": "KG4-yq6DcgXI"
    },
    {
      "cell_type": "markdown",
      "source": [
        "차원 축소의 두 가지 주요 접근 방식\n",
        "- 투영(projection)\n",
        "- 매니폴드 학습(Manifold Learning)"
      ],
      "metadata": {
        "id": "fiQahyShfiGV"
      },
      "id": "fiQahyShfiGV"
    },
    {
      "cell_type": "markdown",
      "source": [
        "### Projection"
      ],
      "metadata": {
        "id": "lHpOZFIJcgZe"
      },
      "id": "lHpOZFIJcgZe"
    },
    {
      "cell_type": "markdown",
      "source": [
        "현실 세계의 대부분 문제에서 훈련 샘플은 모든 차원에 걸쳐 균일하게 퍼져 있지 않음\n",
        "- 많은 특성은 거의 값이 일정\n",
        "- 일부 특성은 서로 강한 상관관계\n",
        "- 그 결과 모든 훈련 샘플은 고차원 공간의 훨씬 낮은 차원의 부분공간(subspace) 안에(또는 그 근처에) 존재\n",
        "\n",
        "모든 훈련 샘플이 한 평면에 가까이 몰려 있음  \n",
        "→ 이는 고차원(3D) 공간의 더 낮은 차원(2D) 부분공간\n",
        "\n",
        "모든 훈련 샘플을 이 부분공간에 수직으로 투영하면    \n",
        "(각 샘플에서 평면까지 이어지는 짧은 선으로 표시됨)  \n",
        "새로운 2차원 데이터셋이 만들어짐\n",
        "\n",
        "이렇게 해서 데이터의 차원을 3D에서 2D로 줄인 것임    \n",
        "이때 축은 새로운 특성 $𝑧_1$, $𝑧_2$에 해당(평면 위 투영점의 좌표)"
      ],
      "metadata": {
        "id": "PUssKvuVfp4U"
      },
      "id": "PUssKvuVfp4U"
    },
    {
      "cell_type": "markdown",
      "source": [
        "하지만 투영이 항상 차원 축소에 최적의 방법은 아님  \n",
        "많은 경우, 부분공간이 구부러지고 뒤틀려 있음  \n",
        "→ Swiss roll(스위스 롤) 장난감 데이터셋이 대표적 예시\n",
        "\n",
        "단순히 한 평면에 투영하는 방식(예: 𝑥3을 버리는 방식)은  \n",
        "Swiss roll의 서로 다른 층들이 짓눌려 겹쳐지게 됨\n",
        "\n",
        "실제로 원하는 것은 Swiss roll을 펴서 펼친 뒤  \n",
        "진짜 2차원 구조를 얻는 것"
      ],
      "metadata": {
        "id": "XY7BcOrNhhJp"
      },
      "id": "XY7BcOrNhhJp"
    },
    {
      "cell_type": "markdown",
      "source": [
        "### Manifold Learning"
      ],
      "metadata": {
        "id": "QM89s1rLcgb5"
      },
      "id": "QM89s1rLcgb5"
    },
    {
      "cell_type": "markdown",
      "source": [
        "Swiss roll은 **2차원 매니폴드(2D manifold)**의 예시  \n",
        "2차원 매니폴드는 고차원 공간 안에서 구부러지거나 휘어질 수 있는 2차원 형태\n",
        "\n",
        "d차원 매니폴드:\n",
        "d < n인 경우, n차원 공간의 일부로서 국소적으로는 d차원 초평면처럼 보이는 구조\n",
        "\n",
        "Swiss roll의 경우 d = 2, n = 3  \n",
        "→ 지역적으로는 2D 평면처럼 보이지만, 실제로는 3차원 공간 안에서 말려 있음\n",
        "\n",
        "많은 차원 축소 알고리즘은 훈련 샘플들이 놓여 있는 이 매니폴드를 모델링함\n",
        "→ **매니폴드 학습(Manifold Learning)**\n",
        "\n",
        "이는 **매니폴드 가정(manifold assumption 또는 manifold hypothesis)**에 기반\n",
        "→ 대부분의 현실 고차원 데이터셋은 훨씬 낮은 차원의 매니폴드 근처에 존재한다는 가정(실제로 자주 관찰됨)\n",
        "\n",
        "MNIST 데이터셋의 경우  \n",
        "모든 손글씨 숫자 이미지는 몇 가지 공통된 특징 가짐\n",
        "- 선들이 연결되어 있음\n",
        "- 배경은 하얗고\n",
        "- 대체로 가운데에 위치\n",
        "\n",
        "이미지를 무작위로 생성하면 그중 극소수만이 실제 손글씨 숫자처럼 보일 것  \n",
        "→ 손글씨 숫자를 생성할 때의 **자유도(degree of freedom)**는 임의의 이미지를 생성할 때보다 훨씬 낮음\n",
        "\n",
        "이러한 제약들이 데이터셋을 더 낮은 차원의 매니폴드로 압축시키는 결과를 낳음\n",
        "\n",
        "매니폴드 가정에 또 하나의 암묵적 가정  \n",
        "→ 문제(예: 분류, 회귀)가 매니폴드 상의 저차원 공간에서 더 단순해진다는 가정\n",
        "\n",
        "Swiss roll이 두 클래스로 나뉘어 있음  \n",
        "3D 공간(왼쪽)에서는 복잡한 결정 경계가 필요  \n",
        "2D로 펼친 매니폴드 공간(오른쪽)에서는 직선 경계로 충분  \n",
        "(하지만 이 가정이 항상 맞는 것은 아님)\n",
        "\n",
        "결정 경계 𝑥1=5  \n",
        "원래 3D 공간에서는 단순한 수직 평면\n",
        "하지만 매니폴드를 펼치면 복잡한 네 개의 선분 조각\n",
        "\n",
        "\n",
        ">훈련 세트를 차원 축소하면 훈련 속도는 일반적으로 빨라지지만\n",
        "해법이 더 단순하거나 더 나은 것이 될지는 데이터셋에 따라 다름"
      ],
      "metadata": {
        "id": "gKhyHO0NhvtZ"
      },
      "id": "gKhyHO0NhvtZ"
    },
    {
      "cell_type": "markdown",
      "source": [
        "## PCA"
      ],
      "metadata": {
        "id": "W41SAadgcguJ"
      },
      "id": "W41SAadgcguJ"
    },
    {
      "cell_type": "markdown",
      "source": [
        "**주성분 분석(PCA, Principal Component Analysis)**  \n",
        "- 가장 널리 사용되는 차원 축소 알고리즘\n",
        "- 우선 데이터에 **가장 가까운 초평면(hyperplane)**을 찾고\n",
        "- 그 다음 데이터를 그 초평면에 투영\n"
      ],
      "metadata": {
        "id": "TNSNboDJjYB4"
      },
      "id": "TNSNboDJjYB4"
    },
    {
      "cell_type": "markdown",
      "source": [
        "### Preserving the Variance"
      ],
      "metadata": {
        "id": "tvVXBreUcgwS"
      },
      "id": "tvVXBreUcgwS"
    },
    {
      "cell_type": "markdown",
      "source": [
        "훈련 세트를 더 낮은 차원의 초평면에 투영하기 전에\n",
        "먼저 적절한 초평면을 선택\n",
        "\n",
        "다음 그림 왼쪽에는 세 개의 서로 다른 축(1차원 초평면)이 표시  \n",
        "오른쪽에는 각 축에 대해 데이터셋을 투영한 결과\n",
        "- 실선(solid line)에 투영한 경우: 분산이 최대로 보존됨\n",
        "- 점선(dotted line)에 투영한 경우: 분산이 거의 없음\n",
        "- 파선(dashed line)에 투영한 경우: 중간 정도 분산이 보존됨\n",
        "\n",
        "→ 가장 많은 **분산(variance)**을 보존하는 축을 선택하는 것이 합리적으로 보임  \n",
        "→ 이는 다른 축에 비해 정보 손실이 가장 적을 가능성이 높음\n",
        "\n",
        "또 다른 관점에서 보면  \n",
        "이 축은 **원본 데이터와 투영된 데이터 간 평균 제곱 거리(mean squared distance)**를 최소화하는 축  \n",
        "=> PCA의 핵심 아이디어"
      ],
      "metadata": {
        "id": "VpCK0y7YjmPu"
      },
      "id": "VpCK0y7YjmPu"
    },
    {
      "cell_type": "markdown",
      "source": [
        "![8-7.png](data:image/png;base64,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)"
      ],
      "metadata": {
        "id": "oL8TL_OxlyWv"
      },
      "id": "oL8TL_OxlyWv"
    },
    {
      "cell_type": "markdown",
      "source": [
        "### Principal Components"
      ],
      "metadata": {
        "id": "Yf9XVQeqcupf"
      },
      "id": "Yf9XVQeqcupf"
    },
    {
      "cell_type": "markdown",
      "source": [
        "1. PCA는 훈련 세트에서 분산이 가장 큰 방향의 축을 찾음(위 그림의 실선)\n",
        "2. 그 다음에는 첫 번째 축과 직교하는 두 번째 축을 찾아\n",
        "3. 남은 분산 중 가장 많은 양을 설명하는 방향을 찾음\n",
        "(2차원 예시에서는 선택의 여지가 없으며, 점선이 두 번째 축)\n",
        "4. 데이터가 더 높은 차원일 경우\n",
        "PCA는 세 번째 축, 네 번째 축 등 **모든 차원 수만큼의 직교 축(principal components, PCs)**을 찾아냄\n",
        "\n",
        "각 축은 해당 순서의 **주성분(PC, Principal Component)**  \n",
        "=> 위 그림에서 첫 번째 주성분은 벡터 𝑐1이 놓인 축  \n",
        "두 번째 주성분은 벡터 𝑐2이 놓인 축\n",
        "\n",
        "그림 8-2에서는\n",
        "첫 두 개의 주성분이 평면 위의 두 개의 직교 화살표\n",
        "세 번째 주성분은 그 평면에 수직인 축\n",
        "PCA는 각 주성분마다 방향을 나타내는\n",
        "**단위 벡터(길이 1이고 중심이 원점인 벡터)**를 구함\n",
        "\n",
        "→ 이 벡터는 방향만 정의하므로,\n",
        "벡터가 반대 방향을 가리키더라도 동일한 축임\n",
        "→ 훈련 세트에 조금이라도 변동이 생기면\n",
        "벡터 방향이 바뀔 수 있지만, 여전히 같은 축을 나타냄\n",
        "→ 경우에 따라 벡터 쌍이 서로 바뀔 수도 있음\n",
        "(해당 축들의 분산이 비슷할 경우),\n",
        "그러나 이들이 정의하는 평면 자체는 유지됨\n",
        "\n",
        "그럼 어떻게 주성분을 찾을 수 있을까?\n",
        "**특이값 분해(SVD, Singular Value Decomposition)**라는\n",
        "표준 행렬 분해 기법을 사용함\n",
        "\n",
        "→ 훈련 세트 행렬 𝑋\n",
        "X를 다음 세 행렬 곱으로 분해함\n",
        "𝑋=𝑈Σ𝑉⊤\n",
        "\n",
        "여기서 **𝑉**는 우리가 원하는\n",
        "주성분 방향 벡터들을 담고 있음\n",
        "→ 𝑉=[𝑐1  𝑐2  …  𝑐𝑛]"
      ],
      "metadata": {
        "id": "a1n518WBmG-V"
      },
      "id": "a1n518WBmG-V"
    },
    {
      "cell_type": "markdown",
      "source": [
        "### Projecting Down to d Dimensions"
      ],
      "metadata": {
        "id": "CZEVuS92curZ"
      },
      "id": "CZEVuS92curZ"
    },
    {
      "cell_type": "markdown",
      "source": [
        "### Using Scikit-Learn"
      ],
      "metadata": {
        "id": "2ECZTMbQcgyd"
      },
      "id": "2ECZTMbQcgyd"
    },
    {
      "cell_type": "markdown",
      "source": [
        "### Explained Variance Ratio"
      ],
      "metadata": {
        "id": "uOAI9kSrcg0e"
      },
      "id": "uOAI9kSrcg0e"
    },
    {
      "cell_type": "markdown",
      "source": [
        "### Choosing the Right Number of Dimensions"
      ],
      "metadata": {
        "id": "A01cfhRVczqx"
      },
      "id": "A01cfhRVczqx"
    },
    {
      "cell_type": "markdown",
      "source": [
        "### PCA for Compression"
      ],
      "metadata": {
        "id": "nRWn9n8kczs4"
      },
      "id": "nRWn9n8kczs4"
    },
    {
      "cell_type": "markdown",
      "source": [
        "### Randomized PCA"
      ],
      "metadata": {
        "id": "Z_v91uG5c4RY"
      },
      "id": "Z_v91uG5c4RY"
    },
    {
      "cell_type": "markdown",
      "source": [
        "### Incremental PCA"
      ],
      "metadata": {
        "id": "_nGnAnpic5RI"
      },
      "id": "_nGnAnpic5RI"
    },
    {
      "cell_type": "markdown",
      "source": [
        "## Kernel PCA"
      ],
      "metadata": {
        "id": "73Lkrjvdc5Td"
      },
      "id": "73Lkrjvdc5Td"
    },
    {
      "cell_type": "markdown",
      "source": [
        "### Selecting a Kernel and Tuning Hyperparameters"
      ],
      "metadata": {
        "id": "hzB3aJPKc5V8"
      },
      "id": "hzB3aJPKc5V8"
    },
    {
      "cell_type": "markdown",
      "source": [
        "## LLE"
      ],
      "metadata": {
        "id": "NC3w_gcJc8s4"
      },
      "id": "NC3w_gcJc8s4"
    },
    {
      "cell_type": "markdown",
      "source": [
        "### Other Dimensionality Reduction Techniques"
      ],
      "metadata": {
        "id": "CvUmVf6zc8w6"
      },
      "id": "CvUmVf6zc8w6"
    },
    {
      "cell_type": "markdown",
      "source": [],
      "metadata": {
        "id": "pA2El4bUc5Ym"
      },
      "id": "pA2El4bUc5Ym"
    }
  ],
  "metadata": {
    "kernelspec": {
      "display_name": "Python 3 (ipykernel)",
      "language": "python",
      "name": "python3"
    },
    "language_info": {
      "codemirror_mode": {
        "name": "ipython",
        "version": 3
      },
      "file_extension": ".py",
      "mimetype": "text/x-python",
      "name": "python",
      "nbconvert_exporter": "python",
      "pygments_lexer": "ipython3",
      "version": "3.13.5"
    },
    "colab": {
      "provenance": []
    }
  },
  "nbformat": 4,
  "nbformat_minor": 5
}