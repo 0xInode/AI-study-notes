{
  "cells": [
    {
      "cell_type": "markdown",
      "source": [
        "# Ensemble Learning and Random Forests"
      ],
      "metadata": {
        "id": "171hudT4rbJQ"
      },
      "id": "171hudT4rbJQ"
    },
    {
      "cell_type": "markdown",
      "source": [
        "집단지성과 유사하게 여러 예측기(분류기나 회귀기 등)의 예측을 집계하면  \n",
        "개별 예측기 중 가장 성능이 좋은 것보다 더 나은 예측을 얻을 수 있음  \n",
        "> 이러한 예측기의 그룹 -> **앙상블(Ensemble)**  \n",
        "이를 사용하는 기법 -> 앙상블 학습(Ensemble Learning)  \n",
        "앙상블 학습 알고리즘 -> **앙상블 방법(Ensemble method)**\n",
        "\n",
        "예를 들어, 여러 개의 결정 트리 분류기를  \n",
        "훈련 세트에서 무작위로 선택한 서로 다른 하위 집합에 대해 학습시킨 뒤  \n",
        "각 트리의 예측을 모아 다수결로 최종 클래스를 예측할 수 있음  \n",
        "이러한 결정 트리 앙상블을 **랜덤 포레스트(Random Forest)**라고 하며  \n",
        "구현이 간단함에도 불구하고 매우 강력한 머신러닝 알고리즘 중 하나  \n",
        "\n",
        "앙상블 방법은 보통 프로젝트 후반에 사용  \n",
        "이미 몇 개의 좋은 예측기를 만들어 둔 뒤 이들을 결합해 더 나은 예측기를 생성할 때 사용  \n",
        "실제로 머신러닝 대회에서의 우승 솔루션은  \n",
        "여러 앙상블 방법을 조합해 사용하는 경우가 많음  \n",
        "(대표적으로 Netflix Prize 대회)  \n",
        "\n",
        "가장 널리 사용되는 앙상블 방법\n",
        "- 배깅(Bagging)(+ 랜덤 포레스트)\n",
        "- 부스팅(Boosting)\n",
        "- 스태킹(Stacking)\n"
      ],
      "metadata": {
        "id": "vWYrXnZvr9Pf"
      },
      "id": "vWYrXnZvr9Pf"
    },
    {
      "cell_type": "markdown",
      "source": [
        "## Setup"
      ],
      "metadata": {
        "id": "_P7WCppKx4_J"
      },
      "id": "_P7WCppKx4_J"
    },
    {
      "cell_type": "code",
      "source": [
        "import sys\n",
        "\n",
        "assert sys.version_info >= (3, 7)"
      ],
      "metadata": {
        "id": "CcjBkQ3-x78a"
      },
      "id": "CcjBkQ3-x78a",
      "execution_count": 1,
      "outputs": []
    },
    {
      "cell_type": "code",
      "source": [
        "from packaging import version\n",
        "import sklearn\n",
        "\n",
        "assert version.parse(sklearn.__version__) >= version.parse(\"1.0.1\")"
      ],
      "metadata": {
        "id": "-5akh1Yrx7-y"
      },
      "id": "-5akh1Yrx7-y",
      "execution_count": 2,
      "outputs": []
    },
    {
      "cell_type": "code",
      "source": [
        "import matplotlib.pyplot as plt\n",
        "\n",
        "plt.rc('font', size=14)\n",
        "plt.rc('axes', labelsize=14, titlesize=14)\n",
        "plt.rc('legend', fontsize=14)\n",
        "plt.rc('xtick', labelsize=10)\n",
        "plt.rc('ytick', labelsize=10)"
      ],
      "metadata": {
        "id": "ca_0syrox8BF"
      },
      "id": "ca_0syrox8BF",
      "execution_count": 3,
      "outputs": []
    },
    {
      "cell_type": "code",
      "source": [
        "from pathlib import Path\n",
        "\n",
        "IMAGES_PATH = Path() / \"images\" / \"ensembles\"\n",
        "IMAGES_PATH.mkdir(parents=True, exist_ok=True)\n",
        "\n",
        "def save_fig(fig_id, tight_layout=True, fig_extension=\"png\", resolution=300):\n",
        "    path = IMAGES_PATH / f\"{fig_id}.{fig_extension}\"\n",
        "    if tight_layout:\n",
        "        plt.tight_layout()\n",
        "    plt.savefig(path, format=fig_extension, dpi=resolution)"
      ],
      "metadata": {
        "id": "pzr21ujHx8DU"
      },
      "id": "pzr21ujHx8DU",
      "execution_count": 4,
      "outputs": []
    },
    {
      "cell_type": "markdown",
      "id": "750268c5-6883-4104-a2b4-394fe81dec7c",
      "metadata": {
        "id": "750268c5-6883-4104-a2b4-394fe81dec7c"
      },
      "source": [
        "[![Open In Colab](https://colab.research.google.com/assets/colab-badge.svg)](https://colab.research.google.com/github/0xInode/AI-study-notes/blob/main/ml/hands-on-ml/chapter07/chapter07.ipynb)\n"
      ]
    },
    {
      "cell_type": "markdown",
      "source": [
        "## Voting Classifiers"
      ],
      "metadata": {
        "id": "vwvgihGRrcao"
      },
      "id": "vwvgihGRrcao"
    },
    {
      "cell_type": "markdown",
      "source": [
        "여러 분류기를 훈련시켰다고 가정  \n",
        "각 분류기는 약 80%의 정확도  \n",
        "(로지스틱 회귀 분류기, SVM 분류기, 랜덤 포레스트 분류기, K-최근접 이웃 분류기 등)\n",
        "\n",
        "**간단한 방법: 하드 보팅 분류기**  \n",
        "더 나은 분류기를 만드는 아주 간단한 방법 중 하나: 각 분류기의 예측을 집계하고, 가장 많은 표를 얻은 클래스를 예측하는 것  \n",
        "이러한 다수결 기반의 분류기 -> 하드 보팅 분류기\n",
        "\n",
        "이 보팅 분류기는 종종 앙상블 내에서 가장 좋은 분류기보다 더 높은 정확도를 보이는 경우가 있음  \n",
        "각 분류기가 약한 학습자(무작위 추측보다 약간 더 나은 수준)라고 하더라도  \n",
        "이들이 충분히 많고 서로 다양하다면  \n",
        "앙상블 전체는 강한 학습자(높은 정확도)를 이룰 수 있음\n",
        "\n",
        "왜 이런 일이 가능한가?\n",
        "앞면이 나올 확률이 51%, 뒷면이 나올 확률이 49%인 동전을 1,000번 던진다고 가정  \n",
        "보통은 약 510번 앞면, 490번 뒷면이 나와서 결국 앞면이 다수임  \n",
        "수학적으로 계산해 보면, 1,000번 던졌을 때 앞면이 과반수 이상 나올 확률은 약 75%에 달함  \n",
        "던지는 횟수를 늘리면 확률은 더 올라감(예: 10,000번이면 97% 이상)  \n",
        "이것이 바로 대수의 법칙 때문  \n",
        "반복 횟수가 많아질수록 실제 비율은 이론적 확률에 가까워짐  \n",
        "\n",
        "이와 비슷하게 1,000개의 분류기로 이루어진 앙상블을 만든다고 가정  \n",
        "각 분류기는 정확도가 51%임  \n",
        "그러나 다수결로 예측하면, 정확도가 75%까지 올라갈 수 있음  \n",
        "단, 모든 분류기가 **서로 완전히 독립적일 때만** 가능  \n",
        "실제로는 동일한 데이터를 학습하기 때문에 비슷한 오류를 범할 가능성이 높고  잘못된 예측으로 다수결이 나올 수도 있음  \n",
        "이런 경우 앙상블의 정확도는 떨어짐  \n",
        "\n",
        "**핵심: 다양한 분류기**\n",
        "앙상블 기법은 개별 모델들이 서로 독립적일수록 더 잘 작동함  \n",
        "다양한 알고리즘을 사용해 분류기를 훈련시키면 서로 다른 종류의 오류를 범하게 되고, 앙상블의 정확도가 높아짐  \n",
        "\n"
      ],
      "metadata": {
        "id": "W4LQOafewEOc"
      },
      "id": "W4LQOafewEOc"
    },
    {
      "cell_type": "markdown",
      "source": [
        "## Bagging and Pasting"
      ],
      "metadata": {
        "id": "fW4G9v9ircoJ"
      },
      "id": "fW4G9v9ircoJ"
    },
    {
      "cell_type": "markdown",
      "source": [
        "### Bagging and Pasting in Scikit-Learn"
      ],
      "metadata": {
        "id": "_LlUtluKrcqE"
      },
      "id": "_LlUtluKrcqE"
    },
    {
      "cell_type": "markdown",
      "source": [
        "### Out-of-Bag Evaluation"
      ],
      "metadata": {
        "id": "7Tn6OCxArcsP"
      },
      "id": "7Tn6OCxArcsP"
    },
    {
      "cell_type": "markdown",
      "source": [
        "## Random Patches and Random Subspaces"
      ],
      "metadata": {
        "id": "bsH0aK5vrcuK"
      },
      "id": "bsH0aK5vrcuK"
    },
    {
      "cell_type": "markdown",
      "source": [
        "## Random Forests"
      ],
      "metadata": {
        "id": "vGvVd9QjrcwT"
      },
      "id": "vGvVd9QjrcwT"
    },
    {
      "cell_type": "markdown",
      "source": [
        "### Extra-Trees"
      ],
      "metadata": {
        "id": "FWRfqdUOrcyi"
      },
      "id": "FWRfqdUOrcyi"
    },
    {
      "cell_type": "markdown",
      "source": [
        "### Feature Importance"
      ],
      "metadata": {
        "id": "mAn_ZrRmrc0a"
      },
      "id": "mAn_ZrRmrc0a"
    },
    {
      "cell_type": "markdown",
      "source": [
        "## Boosting"
      ],
      "metadata": {
        "id": "HUH1glORrc2V"
      },
      "id": "HUH1glORrc2V"
    },
    {
      "cell_type": "markdown",
      "source": [
        "### AdaBoost"
      ],
      "metadata": {
        "id": "NqrS4dterc4g"
      },
      "id": "NqrS4dterc4g"
    },
    {
      "cell_type": "markdown",
      "source": [
        "### Gradient Boosting"
      ],
      "metadata": {
        "id": "XsNX1i6zrc6-"
      },
      "id": "XsNX1i6zrc6-"
    },
    {
      "cell_type": "markdown",
      "source": [
        "## Stacking"
      ],
      "metadata": {
        "id": "65H5nyjRrc9W"
      },
      "id": "65H5nyjRrc9W"
    }
  ],
  "metadata": {
    "kernelspec": {
      "display_name": "Python 3 (ipykernel)",
      "language": "python",
      "name": "python3"
    },
    "language_info": {
      "codemirror_mode": {
        "name": "ipython",
        "version": 3
      },
      "file_extension": ".py",
      "mimetype": "text/x-python",
      "name": "python",
      "nbconvert_exporter": "python",
      "pygments_lexer": "ipython3",
      "version": "3.13.5"
    },
    "colab": {
      "provenance": []
    }
  },
  "nbformat": 4,
  "nbformat_minor": 5
}