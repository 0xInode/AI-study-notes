{
  "cells": [
    {
      "cell_type": "markdown",
      "source": [
        "[![Open In Colab](https://colab.research.google.com/assets/colab-badge.svg)](https://colab.research.google.com/github/0xInode/AI-study-notes/blob/main/ml/hands-on-ml/chapter05/chapter05.ipynb)\n"
      ],
      "metadata": {
        "id": "TPbfpxohHA8G"
      },
      "id": "TPbfpxohHA8G"
    },
    {
      "cell_type": "markdown",
      "source": [
        "# Support Vector Machines"
      ],
      "metadata": {
        "id": "nuH7_Pv8HEUE"
      },
      "id": "nuH7_Pv8HEUE"
    },
    {
      "cell_type": "markdown",
      "source": [
        "**서포트 벡터 머신(SVM)**: 선형 또는 비선형 분류, 회귀, 이상치 탐지까지 수행  \n",
        "복잡한 소규모 또는 중간 규모 데이터셋의 분류에 특히 적합"
      ],
      "metadata": {
        "id": "rEeB2HTcKMm0"
      },
      "id": "rEeB2HTcKMm0"
    },
    {
      "cell_type": "markdown",
      "source": [
        "## Set up"
      ],
      "metadata": {
        "id": "9t2ZPzIkLhPy"
      },
      "id": "9t2ZPzIkLhPy"
    },
    {
      "cell_type": "code",
      "source": [
        "import sys\n",
        "\n",
        "assert sys.version_info >= (3, 7)"
      ],
      "metadata": {
        "id": "uMmmOhz9K9e5"
      },
      "id": "uMmmOhz9K9e5",
      "execution_count": 2,
      "outputs": []
    },
    {
      "cell_type": "code",
      "source": [
        "from packaging import version\n",
        "import sklearn\n",
        "\n",
        "assert version.parse(sklearn.__version__) >= version.parse(\"1.0.1\")"
      ],
      "metadata": {
        "id": "wvjFrNVeLAtS"
      },
      "id": "wvjFrNVeLAtS",
      "execution_count": 3,
      "outputs": []
    },
    {
      "cell_type": "code",
      "source": [
        "from pathlib import Path\n",
        "\n",
        "IMAGES_PATH = Path() / \"images\" / \"svm\"\n",
        "IMAGES_PATH.mkdir(parents=True, exist_ok=True)\n",
        "\n",
        "def save_fig(fig_id, tight_layout=True, fig_extension=\"png\", resolution=300):\n",
        "    path = IMAGES_PATH / f\"{fig_id}.{fig_extension}\"\n",
        "    if tight_layout:\n",
        "        plt.tight_layout()\n",
        "    plt.savefig(path, format=fig_extension, dpi=resolution)"
      ],
      "metadata": {
        "id": "Pekt6CCpLDEc"
      },
      "id": "Pekt6CCpLDEc",
      "execution_count": 6,
      "outputs": []
    },
    {
      "cell_type": "code",
      "source": [
        "import matplotlib.pyplot as plt\n",
        "\n",
        "plt.rc('font', size=14)\n",
        "plt.rc('axes', labelsize=14, titlesize=14)\n",
        "plt.rc('legend', fontsize=14)\n",
        "plt.rc('xtick', labelsize=10)\n",
        "plt.rc('ytick', labelsize=10)"
      ],
      "metadata": {
        "id": "90gtUY14LCWi"
      },
      "id": "90gtUY14LCWi",
      "execution_count": 4,
      "outputs": []
    },
    {
      "cell_type": "markdown",
      "source": [
        "## Linear SVM Classification"
      ],
      "metadata": {
        "id": "_t3qlFByHOp4"
      },
      "id": "_t3qlFByHOp4"
    },
    {
      "cell_type": "markdown",
      "source": [
        "**선형 SVM 분류 (Linear SVM Classification)**\n",
        "\n",
        "아래 그래프에서는 4장 끝부분에서 나온 iris 데이터셋의 일부를 보여 줌\n",
        "\n",
        "두 클래스는 명확히 직선으로 쉽게 분리됨(선형적으로 구분 가능)\n",
        "\n",
        "왼쪽 그림에서는 세 개의 가능한 선형 분류기의 결정 경계(decision boundary)\n",
        "\n",
        "점선으로 표시된 모델은 너무 형편없어서 클래스조차 제대로 구분하지 못함\n",
        "\n",
        "나머지 두 모델은 학습 데이터에 대해 완벽하게 작동하지만,  \n",
        "결정 경계가 데이터 인스턴스에 너무 가까워서  \n",
        "→ 새로운 데이터에 대해서는 성능이 떨어질 가능성이 높음\n",
        "\n",
        "이에 비해, 오른쪽 그림의 실선으로 표시된 SVM 분류기의 결정 경계는  \n",
        "두 클래스를 나누면서도 가장 가까운 훈련 인스턴스로부터 최대한 멀리 떨어져 있음\n",
        "\n",
        "SVM 분류기는 두 클래스를 가로지르는\n",
        "가장 넓은 도로(widest possible street)를 찾는 것처럼 작동  \n",
        "(도로의 양 옆은 평행한 점선으로 나타남)\n",
        "\n",
        "이를 **Large Margin Classification (큰 여백 분류)** 라고 함"
      ],
      "metadata": {
        "id": "NAN4_9UEKMyM"
      },
      "id": "NAN4_9UEKMyM"
    },
    {
      "cell_type": "code",
      "source": [
        "import matplotlib.pyplot as plt\n",
        "import numpy as np\n",
        "from sklearn.svm import SVC\n",
        "from sklearn import datasets\n",
        "\n",
        "# 데이터 불러오기 (아이리스 중 setosa vs versicolor만 사용)\n",
        "iris = datasets.load_iris(as_frame=True)\n",
        "X = iris.data[[\"petal length (cm)\", \"petal width (cm)\"]].values\n",
        "y = iris.target\n",
        "setosa_or_versicolor = (y == 0) | (y == 1)\n",
        "X = X[setosa_or_versicolor]\n",
        "y = y[setosa_or_versicolor]\n",
        "\n",
        "# 선형 SVM 분류기 학습\n",
        "svm_clf = SVC(kernel=\"linear\", C=1e100)\n",
        "svm_clf.fit(X, y)\n",
        "\n",
        "# 성능이 안 좋은 분류기 예시\n",
        "x0 = np.linspace(0, 5.5, 200)\n",
        "pred_1 = 5 * x0 - 20\n",
        "pred_2 = x0 - 1.8\n",
        "pred_3 = 0.1 * x0 + 0.5\n",
        "\n",
        "# SVM 결정 경계 및 마진 시각화 함수\n",
        "def plot_svc_decision_boundary(svm_clf, xmin, xmax):\n",
        "    w = svm_clf.coef_[0]\n",
        "    b = svm_clf.intercept_[0]\n",
        "\n",
        "    x0 = np.linspace(xmin, xmax, 200)\n",
        "    decision_boundary = -w[0] / w[1] * x0 - b / w[1]\n",
        "    margin = 1 / w[1]\n",
        "    gutter_up = decision_boundary + margin\n",
        "    gutter_down = decision_boundary - margin\n",
        "    svs = svm_clf.support_vectors_\n",
        "\n",
        "    plt.plot(x0, decision_boundary, \"k-\", linewidth=2)         # 결정 경계\n",
        "    plt.plot(x0, gutter_up, \"k--\", linewidth=2)                # 위쪽 마진\n",
        "    plt.plot(x0, gutter_down, \"k--\", linewidth=2)              # 아래쪽 마진\n",
        "    plt.scatter(svs[:, 0], svs[:, 1], s=180, facecolors='#AAA') # 서포트 벡터\n",
        "\n",
        "# 시각화\n",
        "fig, axes = plt.subplots(ncols=2, figsize=(10, 2.7), sharey=True)\n",
        "\n",
        "# 왼쪽: 잘못된 분류기 예시들\n",
        "plt.sca(axes[0])\n",
        "plt.plot(x0, pred_1, \"g--\", linewidth=2)\n",
        "plt.plot(x0, pred_2, \"m-\", linewidth=2)\n",
        "plt.plot(x0, pred_3, \"r-\", linewidth=2)\n",
        "plt.plot(X[:, 0][y==1], X[:, 1][y==1], \"bs\", label=\"Iris versicolor\")\n",
        "plt.plot(X[:, 0][y==0], X[:, 1][y==0], \"yo\", label=\"Iris setosa\")\n",
        "plt.xlabel(\"Petal length\")\n",
        "plt.ylabel(\"Petal width\")\n",
        "plt.legend(loc=\"upper left\")\n",
        "plt.axis([0, 5.5, 0, 2])\n",
        "plt.gca().set_aspect(\"equal\")\n",
        "plt.grid()\n",
        "\n",
        "# 오른쪽: SVM의 large margin 분류기\n",
        "plt.sca(axes[1])\n",
        "plot_svc_decision_boundary(svm_clf, 0, 5.5)\n",
        "plt.plot(X[:, 0][y==1], X[:, 1][y==1], \"bs\")\n",
        "plt.plot(X[:, 0][y==0], X[:, 1][y==0], \"yo\")\n",
        "plt.xlabel(\"Petal length\")\n",
        "plt.axis([0, 5.5, 0, 2])\n",
        "plt.gca().set_aspect(\"equal\")\n",
        "plt.grid()\n",
        "\n",
        "save_fig(\"large_margin_classification_plot\")  # 그림 저장 함수 (정의돼 있어야 작동함)\n",
        "plt.show()\n"
      ],
      "metadata": {
        "id": "Pcxztc3TMZHD",
        "outputId": "4ed24157-3ea6-4cf3-f474-e1bfab1d3caf",
        "colab": {
          "base_uri": "https://localhost:8080/",
          "height": 250
        }
      },
      "id": "Pcxztc3TMZHD",
      "execution_count": 7,
      "outputs": [
        {
          "output_type": "display_data",
          "data": {
            "text/plain": [
              "<Figure size 1000x270 with 2 Axes>"
            ],
            "image/png": "[encoded data removed]"
          },
          "metadata": {}
        }
      ]
    },
    {
      "cell_type": "markdown",
      "source": [
        "도로(street) 바깥에 더 많은 훈련 샘플을 추가하더라도 결정 경계에는 전혀 영향을 주지 않음  \n",
        "→ 결정 경계는 도로의 경계에 위치한 샘플들만으로 완전히 결정됨(또는 지지됨)  \n",
        "→ 이러한 샘플들을 **서포트 벡터(support vectors)** 라고 부름(위 그림의 원)"
      ],
      "metadata": {
        "id": "DABx9bixMYXS"
      },
      "id": "DABx9bixMYXS"
    },
    {
      "cell_type": "code",
      "source": [
        "from sklearn.preprocessing import StandardScaler\n",
        "\n",
        "# 간단한 2D 샘플 데이터 (x0, x1)\n",
        "Xs = np.array([[1, 50], [5, 20], [3, 80], [5, 60]]).astype(np.float64)\n",
        "ys = np.array([0, 0, 1, 1])  # 클래스 라벨\n",
        "\n",
        "# 스케일링 없이 선형 SVM 학습\n",
        "svm_clf = SVC(kernel=\"linear\", C=100).fit(Xs, ys)\n",
        "\n",
        "# 특성 스케일 조정 (표준화)\n",
        "scaler = StandardScaler()\n",
        "X_scaled = scaler.fit_transform(Xs)\n",
        "\n",
        "# 스케일링된 데이터로 선형 SVM 재학습\n",
        "svm_clf_scaled = SVC(kernel=\"linear\", C=100).fit(X_scaled, ys)\n",
        "\n",
        "plt.figure(figsize=(9, 2.7))\n",
        "\n",
        "# 왼쪽: 스케일 조정 전\n",
        "plt.subplot(121)\n",
        "plt.plot(Xs[:, 0][ys==1], Xs[:, 1][ys==1], \"bo\")  # 클래스 1\n",
        "plt.plot(Xs[:, 0][ys==0], Xs[:, 1][ys==0], \"ms\")  # 클래스 0\n",
        "plot_svc_decision_boundary(svm_clf, 0, 6)         # 결정 경계 시각화\n",
        "plt.xlabel(\"$x_0$\")\n",
        "plt.ylabel(\"$x_1$    \", rotation=0)\n",
        "plt.title(\"Unscaled\")  # 스케일 조정 전\n",
        "plt.axis([0, 6, 0, 90])\n",
        "plt.grid()\n",
        "\n",
        "# 오른쪽: 스케일 조정 후\n",
        "plt.subplot(122)\n",
        "plt.plot(X_scaled[:, 0][ys==1], X_scaled[:, 1][ys==1], \"bo\")\n",
        "plt.plot(X_scaled[:, 0][ys==0], X_scaled[:, 1][ys==0], \"ms\")\n",
        "plot_svc_decision_boundary(svm_clf_scaled, -2, 2)\n",
        "plt.xlabel(\"$x'_0$\")\n",
        "plt.ylabel(\"$x'_1$  \", rotation=0)\n",
        "plt.title(\"Scaled\")  # 스케일 조정 후\n",
        "plt.axis([-2, 2, -2, 2])\n",
        "plt.grid()\n",
        "\n",
        "save_fig(\"sensitivity_to_feature_scales_plot\")  # 그림 저장\n",
        "plt.show()\n"
      ],
      "metadata": {
        "id": "VHNnAqL0R3DI",
        "outputId": "335391c9-7929-40ab-c1de-a6a762c19db2",
        "colab": {
          "base_uri": "https://localhost:8080/",
          "height": 264
        }
      },
      "id": "VHNnAqL0R3DI",
      "execution_count": 10,
      "outputs": [
        {
          "output_type": "display_data",
          "data": {
            "text/plain": [
              "<Figure size 900x270 with 2 Axes>"
            ],
            "image/png": "[encoded data removed]"
          },
          "metadata": {}
        }
      ]
    },
    {
      "cell_type": "markdown",
      "source": [
        "SVM은 특성 스케일(feature scale)에 민감함\n",
        "\n",
        "왼쪽 그림에서는 세로 축 범위가 가로 축보다 훨씬 큼  \n",
        "→ 따라서 가능한 가장 넓은 도로는 수평에 가깝게 형성됨\n",
        "\n",
        "Scikit-Learn의 StandardScaler 같은 방법으로 특성 스케일을 조정한 뒤에는  \n",
        "→ 오른쪽 그림처럼 결정 경계가 훨씬 더 적절하게 보임"
      ],
      "metadata": {
        "id": "tTs4ypMHSDla"
      },
      "id": "tTs4ypMHSDla"
    },
    {
      "cell_type": "markdown",
      "source": [
        "### Soft Margin Classification"
      ],
      "metadata": {
        "id": "XH6xFd4SHTBE"
      },
      "id": "XH6xFd4SHTBE"
    },
    {
      "cell_type": "markdown",
      "source": [
        "**하드 마진 분류(hard margin classification)**: 모든 샘플이 도로(street) 바깥에 있어야 하고, 또한 올바른 쪽에 위치해야 한다는 조건을 엄격하게 적용\n",
        "\n",
        "하드 마진 분류의 두 가지 문제\n",
        "1. 데이터가 선형적으로 완벽히 분리(linearly separable) 되어 있어야만 작동함\n",
        "2. 이상치(outlier)에 매우 민감함\n",
        "\n",
        "다음 그림에서는 아이리스 데이터셋에 이상치 한 개만 추가된 상황을 보여 줌\n",
        "\n"
      ],
      "metadata": {
        "id": "ju49-bs-SPmq"
      },
      "id": "ju49-bs-SPmq"
    },
    {
      "cell_type": "code",
      "source": [
        "# 이상치(outlier) 2개 추가\n",
        "X_outliers = np.array([[3.4, 1.3], [3.2, 0.8]])\n",
        "y_outliers = np.array([0, 0])\n",
        "\n",
        "# 첫 번째 이상치만 포함 (하드 마진 불가능한 경우)\n",
        "Xo1 = np.concatenate([X, X_outliers[:1]], axis=0)\n",
        "yo1 = np.concatenate([y, y_outliers[:1]], axis=0)\n",
        "\n",
        "# 두 번째 이상치만 포함 (마진이 왜곡되는 경우)\n",
        "Xo2 = np.concatenate([X, X_outliers[1:]], axis=0)\n",
        "yo2 = np.concatenate([y, y_outliers[1:]], axis=0)\n",
        "\n",
        "# 하드 마진 SVM 학습\n",
        "svm_clf2 = SVC(kernel=\"linear\", C=10**9)\n",
        "svm_clf2.fit(Xo2, yo2)\n",
        "\n",
        "fig, axes = plt.subplots(ncols=2, figsize=(10, 2.7), sharey=True)\n",
        "\n",
        "# 왼쪽: 이상치 때문에 완벽 분리가 불가능한 상황\n",
        "plt.sca(axes[0])\n",
        "plt.plot(Xo1[:, 0][yo1==1], Xo1[:, 1][yo1==1], \"bs\")\n",
        "plt.plot(Xo1[:, 0][yo1==0], Xo1[:, 1][yo1==0], \"yo\")\n",
        "plt.text(0.3, 1.0, \"Impossible!\", color=\"red\", fontsize=18)\n",
        "plt.annotate(\"Outlier\", xy=(X_outliers[0][0], X_outliers[0][1]),\n",
        "             xytext=(2.5, 1.7), ha=\"center\",\n",
        "             arrowprops=dict(facecolor='black', shrink=0.1))\n",
        "plt.xlabel(\"Petal length\")\n",
        "plt.ylabel(\"Petal width\")\n",
        "plt.axis([0, 5.5, 0, 2])\n",
        "plt.grid()\n",
        "\n",
        "# 오른쪽: 이상치로 인해 결정 경계가 크게 왜곡된 경우\n",
        "plt.sca(axes[1])\n",
        "plt.plot(Xo2[:, 0][yo2==1], Xo2[:, 1][yo2==1], \"bs\")\n",
        "plt.plot(Xo2[:, 0][yo2==0], Xo2[:, 1][yo2==0], \"yo\")\n",
        "plot_svc_decision_boundary(svm_clf2, 0, 5.5)\n",
        "plt.annotate(\"Outlier\", xy=(X_outliers[1][0], X_outliers[1][1]),\n",
        "             xytext=(3.2, 0.08), ha=\"center\",\n",
        "             arrowprops=dict(facecolor='black', shrink=0.1))\n",
        "plt.xlabel(\"Petal length\")\n",
        "plt.axis([0, 5.5, 0, 2])\n",
        "plt.grid()\n",
        "\n",
        "save_fig(\"sensitivity_to_outliers_plot\")\n",
        "plt.show()\n"
      ],
      "metadata": {
        "id": "xkRFsiLySbpC",
        "outputId": "7b633fea-83ee-41f5-a63a-82f08f6f58b4",
        "colab": {
          "base_uri": "https://localhost:8080/",
          "height": 265
        }
      },
      "id": "xkRFsiLySbpC",
      "execution_count": 11,
      "outputs": [
        {
          "output_type": "display_data",
          "data": {
            "text/plain": [
              "<Figure size 1000x270 with 2 Axes>"
            ],
            "image/png": "[encoded data removed]"
          },
          "metadata": {}
        }
      ]
    },
    {
      "cell_type": "markdown",
      "source": [
        "왼쪽 그림에서는 하드 마진을 만족하는 분류 경계를 찾을 수 없음\n",
        "\n",
        "오른쪽 그림에서는 결정 경계가 이상치의 영향으로 많이 달라짐  \n",
        "→ 아까 그림에서 봤던 결정 경계와는 매우 다름  \n",
        "→ 결과적으로 일반화 성능이 나빠질 가능성이 높음"
      ],
      "metadata": {
        "id": "JHWUTCWGSbAL"
      },
      "id": "JHWUTCWGSbAL"
    },
    {
      "cell_type": "markdown",
      "source": [
        "이러한 문제들을 피하기 위해서는 좀 더 유연한 모델을 사용하는 것이 좋음\n",
        "목표는 다음 두 가지 사이의 좋은 균형을 찾는 것:\n",
        "\n",
        "1. 도로(street)를 최대한 넓게 유지함\n",
        "2. 마진 위반(margin violation)을 줄임  \n",
        "→ 즉, 샘플이 도로 한가운데나 잘못된 쪽에 위치하는 상황 제한\n",
        "\n",
        "이러한 방식을 **소프트 마진 분류(soft margin classification)**\n",
        "\n"
      ],
      "metadata": {
        "id": "hg3eKQtFSxPL"
      },
      "id": "hg3eKQtFSxPL"
    },
    {
      "cell_type": "code",
      "source": [
        "import numpy as np\n",
        "from sklearn.datasets import load_iris\n",
        "from sklearn.pipeline import make_pipeline\n",
        "from sklearn.preprocessing import StandardScaler\n",
        "from sklearn.svm import LinearSVC\n",
        "\n",
        "# 아이리스 데이터 불러오기\n",
        "iris = load_iris(as_frame=True)\n",
        "\n",
        "# 특성: 꽃잎 길이와 너비 / 타깃: Iris virginica 여부 (이진 분류)\n",
        "X = iris.data[[\"petal length (cm)\", \"petal width (cm)\"]].values\n",
        "y = (iris.target == 2)  # virginica면 True, 아니면 False\n",
        "\n",
        "# SVM 분류기 구성: 표준화 + 선형 SVM\n",
        "svm_clf = make_pipeline(StandardScaler(),\n",
        "                        LinearSVC(C=1, dual=True, random_state=42))\n",
        "\n",
        "# 모델 학습\n",
        "svm_clf.fit(X, y)\n"
      ],
      "metadata": {
        "id": "ZP77qxdPT3Sc",
        "outputId": "d3b390fc-ced1-463a-e046-5f01bd6fabc2",
        "colab": {
          "base_uri": "https://localhost:8080/",
          "height": 157
        }
      },
      "id": "ZP77qxdPT3Sc",
      "execution_count": 12,
      "outputs": [
        {
          "output_type": "execute_result",
          "data": {
            "text/plain": [
              "Pipeline(steps=[('standardscaler', StandardScaler()),\n",
              "                ('linearsvc', LinearSVC(C=1, dual=True, random_state=42))])"
            ],
            "text/html": [
              "<style>#sk-container-id-1 {\n",
              "  /* Definition of color scheme common for light and dark mode */\n",
              "  --sklearn-color-text: #000;\n",
              "  --sklearn-color-text-muted: #666;\n",
              "  --sklearn-color-line: gray;\n",
              "  /* Definition of color scheme for unfitted estimators */\n",
              "  --sklearn-color-unfitted-level-0: #fff5e6;\n",
              "  --sklearn-color-unfitted-level-1: #f6e4d2;\n",
              "  --sklearn-color-unfitted-level-2: #ffe0b3;\n",
              "  --sklearn-color-unfitted-level-3: chocolate;\n",
              "  /* Definition of color scheme for fitted estimators */\n",
              "  --sklearn-color-fitted-level-0: #f0f8ff;\n",
              "  --sklearn-color-fitted-level-1: #d4ebff;\n",
              "  --sklearn-color-fitted-level-2: #b3dbfd;\n",
              "  --sklearn-color-fitted-level-3: cornflowerblue;\n",
              "\n",
              "  /* Specific color for light theme */\n",
              "  --sklearn-color-text-on-default-background: var(--sg-text-color, var(--theme-code-foreground, var(--jp-content-font-color1, black)));\n",
              "  --sklearn-color-background: var(--sg-background-color, var(--theme-background, var(--jp-layout-color0, white)));\n",
              "  --sklearn-color-border-box: var(--sg-text-color, var(--theme-code-foreground, var(--jp-content-font-color1, black)));\n",
              "  --sklearn-color-icon: #696969;\n",
              "\n",
              "  @media (prefers-color-scheme: dark) {\n",
              "    /* Redefinition of color scheme for dark theme */\n",
              "    --sklearn-color-text-on-default-background: var(--sg-text-color, var(--theme-code-foreground, var(--jp-content-font-color1, white)));\n",
              "    --sklearn-color-background: var(--sg-background-color, var(--theme-background, var(--jp-layout-color0, #111)));\n",
              "    --sklearn-color-border-box: var(--sg-text-color, var(--theme-code-foreground, var(--jp-content-font-color1, white)));\n",
              "    --sklearn-color-icon: #878787;\n",
              "  }\n",
              "}\n",
              "\n",
              "#sk-container-id-1 {\n",
              "  color: var(--sklearn-color-text);\n",
              "}\n",
              "\n",
              "#sk-container-id-1 pre {\n",
              "  padding: 0;\n",
              "}\n",
              "\n",
              "#sk-container-id-1 input.sk-hidden--visually {\n",
              "  border: 0;\n",
              "  clip: rect(1px 1px 1px 1px);\n",
              "  clip: rect(1px, 1px, 1px, 1px);\n",
              "  height: 1px;\n",
              "  margin: -1px;\n",
              "  overflow: hidden;\n",
              "  padding: 0;\n",
              "  position: absolute;\n",
              "  width: 1px;\n",
              "}\n",
              "\n",
              "#sk-container-id-1 div.sk-dashed-wrapped {\n",
              "  border: 1px dashed var(--sklearn-color-line);\n",
              "  margin: 0 0.4em 0.5em 0.4em;\n",
              "  box-sizing: border-box;\n",
              "  padding-bottom: 0.4em;\n",
              "  background-color: var(--sklearn-color-background);\n",
              "}\n",
              "\n",
              "#sk-container-id-1 div.sk-container {\n",
              "  /* jupyter's `normalize.less` sets `[hidden] { display: none; }`\n",
              "     but bootstrap.min.css set `[hidden] { display: none !important; }`\n",
              "     so we also need the `!important` here to be able to override the\n",
              "     default hidden behavior on the sphinx rendered scikit-learn.org.\n",
              "     See: https://github.com/scikit-learn/scikit-learn/issues/21755 */\n",
              "  display: inline-block !important;\n",
              "  position: relative;\n",
              "}\n",
              "\n",
              "#sk-container-id-1 div.sk-text-repr-fallback {\n",
              "  display: none;\n",
              "}\n",
              "\n",
              "div.sk-parallel-item,\n",
              "div.sk-serial,\n",
              "div.sk-item {\n",
              "  /* draw centered vertical line to link estimators */\n",
              "  background-image: linear-gradient(var(--sklearn-color-text-on-default-background), var(--sklearn-color-text-on-default-background));\n",
              "  background-size: 2px 100%;\n",
              "  background-repeat: no-repeat;\n",
              "  background-position: center center;\n",
              "}\n",
              "\n",
              "/* Parallel-specific style estimator block */\n",
              "\n",
              "#sk-container-id-1 div.sk-parallel-item::after {\n",
              "  content: \"\";\n",
              "  width: 100%;\n",
              "  border-bottom: 2px solid var(--sklearn-color-text-on-default-background);\n",
              "  flex-grow: 1;\n",
              "}\n",
              "\n",
              "#sk-container-id-1 div.sk-parallel {\n",
              "  display: flex;\n",
              "  align-items: stretch;\n",
              "  justify-content: center;\n",
              "  background-color: var(--sklearn-color-background);\n",
              "  position: relative;\n",
              "}\n",
              "\n",
              "#sk-container-id-1 div.sk-parallel-item {\n",
              "  display: flex;\n",
              "  flex-direction: column;\n",
              "}\n",
              "\n",
              "#sk-container-id-1 div.sk-parallel-item:first-child::after {\n",
              "  align-self: flex-end;\n",
              "  width: 50%;\n",
              "}\n",
              "\n",
              "#sk-container-id-1 div.sk-parallel-item:last-child::after {\n",
              "  align-self: flex-start;\n",
              "  width: 50%;\n",
              "}\n",
              "\n",
              "#sk-container-id-1 div.sk-parallel-item:only-child::after {\n",
              "  width: 0;\n",
              "}\n",
              "\n",
              "/* Serial-specific style estimator block */\n",
              "\n",
              "#sk-container-id-1 div.sk-serial {\n",
              "  display: flex;\n",
              "  flex-direction: column;\n",
              "  align-items: center;\n",
              "  background-color: var(--sklearn-color-background);\n",
              "  padding-right: 1em;\n",
              "  padding-left: 1em;\n",
              "}\n",
              "\n",
              "\n",
              "/* Toggleable style: style used for estimator/Pipeline/ColumnTransformer box that is\n",
              "clickable and can be expanded/collapsed.\n",
              "- Pipeline and ColumnTransformer use this feature and define the default style\n",
              "- Estimators will overwrite some part of the style using the `sk-estimator` class\n",
              "*/\n",
              "\n",
              "/* Pipeline and ColumnTransformer style (default) */\n",
              "\n",
              "#sk-container-id-1 div.sk-toggleable {\n",
              "  /* Default theme specific background. It is overwritten whether we have a\n",
              "  specific estimator or a Pipeline/ColumnTransformer */\n",
              "  background-color: var(--sklearn-color-background);\n",
              "}\n",
              "\n",
              "/* Toggleable label */\n",
              "#sk-container-id-1 label.sk-toggleable__label {\n",
              "  cursor: pointer;\n",
              "  display: flex;\n",
              "  width: 100%;\n",
              "  margin-bottom: 0;\n",
              "  padding: 0.5em;\n",
              "  box-sizing: border-box;\n",
              "  text-align: center;\n",
              "  align-items: start;\n",
              "  justify-content: space-between;\n",
              "  gap: 0.5em;\n",
              "}\n",
              "\n",
              "#sk-container-id-1 label.sk-toggleable__label .caption {\n",
              "  font-size: 0.6rem;\n",
              "  font-weight: lighter;\n",
              "  color: var(--sklearn-color-text-muted);\n",
              "}\n",
              "\n",
              "#sk-container-id-1 label.sk-toggleable__label-arrow:before {\n",
              "  /* Arrow on the left of the label */\n",
              "  content: \"▸\";\n",
              "  float: left;\n",
              "  margin-right: 0.25em;\n",
              "  color: var(--sklearn-color-icon);\n",
              "}\n",
              "\n",
              "#sk-container-id-1 label.sk-toggleable__label-arrow:hover:before {\n",
              "  color: var(--sklearn-color-text);\n",
              "}\n",
              "\n",
              "/* Toggleable content - dropdown */\n",
              "\n",
              "#sk-container-id-1 div.sk-toggleable__content {\n",
              "  max-height: 0;\n",
              "  max-width: 0;\n",
              "  overflow: hidden;\n",
              "  text-align: left;\n",
              "  /* unfitted */\n",
              "  background-color: var(--sklearn-color-unfitted-level-0);\n",
              "}\n",
              "\n",
              "#sk-container-id-1 div.sk-toggleable__content.fitted {\n",
              "  /* fitted */\n",
              "  background-color: var(--sklearn-color-fitted-level-0);\n",
              "}\n",
              "\n",
              "#sk-container-id-1 div.sk-toggleable__content pre {\n",
              "  margin: 0.2em;\n",
              "  border-radius: 0.25em;\n",
              "  color: var(--sklearn-color-text);\n",
              "  /* unfitted */\n",
              "  background-color: var(--sklearn-color-unfitted-level-0);\n",
              "}\n",
              "\n",
              "#sk-container-id-1 div.sk-toggleable__content.fitted pre {\n",
              "  /* unfitted */\n",
              "  background-color: var(--sklearn-color-fitted-level-0);\n",
              "}\n",
              "\n",
              "#sk-container-id-1 input.sk-toggleable__control:checked~div.sk-toggleable__content {\n",
              "  /* Expand drop-down */\n",
              "  max-height: 200px;\n",
              "  max-width: 100%;\n",
              "  overflow: auto;\n",
              "}\n",
              "\n",
              "#sk-container-id-1 input.sk-toggleable__control:checked~label.sk-toggleable__label-arrow:before {\n",
              "  content: \"▾\";\n",
              "}\n",
              "\n",
              "/* Pipeline/ColumnTransformer-specific style */\n",
              "\n",
              "#sk-container-id-1 div.sk-label input.sk-toggleable__control:checked~label.sk-toggleable__label {\n",
              "  color: var(--sklearn-color-text);\n",
              "  background-color: var(--sklearn-color-unfitted-level-2);\n",
              "}\n",
              "\n",
              "#sk-container-id-1 div.sk-label.fitted input.sk-toggleable__control:checked~label.sk-toggleable__label {\n",
              "  background-color: var(--sklearn-color-fitted-level-2);\n",
              "}\n",
              "\n",
              "/* Estimator-specific style */\n",
              "\n",
              "/* Colorize estimator box */\n",
              "#sk-container-id-1 div.sk-estimator input.sk-toggleable__control:checked~label.sk-toggleable__label {\n",
              "  /* unfitted */\n",
              "  background-color: var(--sklearn-color-unfitted-level-2);\n",
              "}\n",
              "\n",
              "#sk-container-id-1 div.sk-estimator.fitted input.sk-toggleable__control:checked~label.sk-toggleable__label {\n",
              "  /* fitted */\n",
              "  background-color: var(--sklearn-color-fitted-level-2);\n",
              "}\n",
              "\n",
              "#sk-container-id-1 div.sk-label label.sk-toggleable__label,\n",
              "#sk-container-id-1 div.sk-label label {\n",
              "  /* The background is the default theme color */\n",
              "  color: var(--sklearn-color-text-on-default-background);\n",
              "}\n",
              "\n",
              "/* On hover, darken the color of the background */\n",
              "#sk-container-id-1 div.sk-label:hover label.sk-toggleable__label {\n",
              "  color: var(--sklearn-color-text);\n",
              "  background-color: var(--sklearn-color-unfitted-level-2);\n",
              "}\n",
              "\n",
              "/* Label box, darken color on hover, fitted */\n",
              "#sk-container-id-1 div.sk-label.fitted:hover label.sk-toggleable__label.fitted {\n",
              "  color: var(--sklearn-color-text);\n",
              "  background-color: var(--sklearn-color-fitted-level-2);\n",
              "}\n",
              "\n",
              "/* Estimator label */\n",
              "\n",
              "#sk-container-id-1 div.sk-label label {\n",
              "  font-family: monospace;\n",
              "  font-weight: bold;\n",
              "  display: inline-block;\n",
              "  line-height: 1.2em;\n",
              "}\n",
              "\n",
              "#sk-container-id-1 div.sk-label-container {\n",
              "  text-align: center;\n",
              "}\n",
              "\n",
              "/* Estimator-specific */\n",
              "#sk-container-id-1 div.sk-estimator {\n",
              "  font-family: monospace;\n",
              "  border: 1px dotted var(--sklearn-color-border-box);\n",
              "  border-radius: 0.25em;\n",
              "  box-sizing: border-box;\n",
              "  margin-bottom: 0.5em;\n",
              "  /* unfitted */\n",
              "  background-color: var(--sklearn-color-unfitted-level-0);\n",
              "}\n",
              "\n",
              "#sk-container-id-1 div.sk-estimator.fitted {\n",
              "  /* fitted */\n",
              "  background-color: var(--sklearn-color-fitted-level-0);\n",
              "}\n",
              "\n",
              "/* on hover */\n",
              "#sk-container-id-1 div.sk-estimator:hover {\n",
              "  /* unfitted */\n",
              "  background-color: var(--sklearn-color-unfitted-level-2);\n",
              "}\n",
              "\n",
              "#sk-container-id-1 div.sk-estimator.fitted:hover {\n",
              "  /* fitted */\n",
              "  background-color: var(--sklearn-color-fitted-level-2);\n",
              "}\n",
              "\n",
              "/* Specification for estimator info (e.g. \"i\" and \"?\") */\n",
              "\n",
              "/* Common style for \"i\" and \"?\" */\n",
              "\n",
              ".sk-estimator-doc-link,\n",
              "a:link.sk-estimator-doc-link,\n",
              "a:visited.sk-estimator-doc-link {\n",
              "  float: right;\n",
              "  font-size: smaller;\n",
              "  line-height: 1em;\n",
              "  font-family: monospace;\n",
              "  background-color: var(--sklearn-color-background);\n",
              "  border-radius: 1em;\n",
              "  height: 1em;\n",
              "  width: 1em;\n",
              "  text-decoration: none !important;\n",
              "  margin-left: 0.5em;\n",
              "  text-align: center;\n",
              "  /* unfitted */\n",
              "  border: var(--sklearn-color-unfitted-level-1) 1pt solid;\n",
              "  color: var(--sklearn-color-unfitted-level-1);\n",
              "}\n",
              "\n",
              ".sk-estimator-doc-link.fitted,\n",
              "a:link.sk-estimator-doc-link.fitted,\n",
              "a:visited.sk-estimator-doc-link.fitted {\n",
              "  /* fitted */\n",
              "  border: var(--sklearn-color-fitted-level-1) 1pt solid;\n",
              "  color: var(--sklearn-color-fitted-level-1);\n",
              "}\n",
              "\n",
              "/* On hover */\n",
              "div.sk-estimator:hover .sk-estimator-doc-link:hover,\n",
              ".sk-estimator-doc-link:hover,\n",
              "div.sk-label-container:hover .sk-estimator-doc-link:hover,\n",
              ".sk-estimator-doc-link:hover {\n",
              "  /* unfitted */\n",
              "  background-color: var(--sklearn-color-unfitted-level-3);\n",
              "  color: var(--sklearn-color-background);\n",
              "  text-decoration: none;\n",
              "}\n",
              "\n",
              "div.sk-estimator.fitted:hover .sk-estimator-doc-link.fitted:hover,\n",
              ".sk-estimator-doc-link.fitted:hover,\n",
              "div.sk-label-container:hover .sk-estimator-doc-link.fitted:hover,\n",
              ".sk-estimator-doc-link.fitted:hover {\n",
              "  /* fitted */\n",
              "  background-color: var(--sklearn-color-fitted-level-3);\n",
              "  color: var(--sklearn-color-background);\n",
              "  text-decoration: none;\n",
              "}\n",
              "\n",
              "/* Span, style for the box shown on hovering the info icon */\n",
              ".sk-estimator-doc-link span {\n",
              "  display: none;\n",
              "  z-index: 9999;\n",
              "  position: relative;\n",
              "  font-weight: normal;\n",
              "  right: .2ex;\n",
              "  padding: .5ex;\n",
              "  margin: .5ex;\n",
              "  width: min-content;\n",
              "  min-width: 20ex;\n",
              "  max-width: 50ex;\n",
              "  color: var(--sklearn-color-text);\n",
              "  box-shadow: 2pt 2pt 4pt #999;\n",
              "  /* unfitted */\n",
              "  background: var(--sklearn-color-unfitted-level-0);\n",
              "  border: .5pt solid var(--sklearn-color-unfitted-level-3);\n",
              "}\n",
              "\n",
              ".sk-estimator-doc-link.fitted span {\n",
              "  /* fitted */\n",
              "  background: var(--sklearn-color-fitted-level-0);\n",
              "  border: var(--sklearn-color-fitted-level-3);\n",
              "}\n",
              "\n",
              ".sk-estimator-doc-link:hover span {\n",
              "  display: block;\n",
              "}\n",
              "\n",
              "/* \"?\"-specific style due to the `<a>` HTML tag */\n",
              "\n",
              "#sk-container-id-1 a.estimator_doc_link {\n",
              "  float: right;\n",
              "  font-size: 1rem;\n",
              "  line-height: 1em;\n",
              "  font-family: monospace;\n",
              "  background-color: var(--sklearn-color-background);\n",
              "  border-radius: 1rem;\n",
              "  height: 1rem;\n",
              "  width: 1rem;\n",
              "  text-decoration: none;\n",
              "  /* unfitted */\n",
              "  color: var(--sklearn-color-unfitted-level-1);\n",
              "  border: var(--sklearn-color-unfitted-level-1) 1pt solid;\n",
              "}\n",
              "\n",
              "#sk-container-id-1 a.estimator_doc_link.fitted {\n",
              "  /* fitted */\n",
              "  border: var(--sklearn-color-fitted-level-1) 1pt solid;\n",
              "  color: var(--sklearn-color-fitted-level-1);\n",
              "}\n",
              "\n",
              "/* On hover */\n",
              "#sk-container-id-1 a.estimator_doc_link:hover {\n",
              "  /* unfitted */\n",
              "  background-color: var(--sklearn-color-unfitted-level-3);\n",
              "  color: var(--sklearn-color-background);\n",
              "  text-decoration: none;\n",
              "}\n",
              "\n",
              "#sk-container-id-1 a.estimator_doc_link.fitted:hover {\n",
              "  /* fitted */\n",
              "  background-color: var(--sklearn-color-fitted-level-3);\n",
              "}\n",
              "</style><div id=\"sk-container-id-1\" class=\"sk-top-container\"><div class=\"sk-text-repr-fallback\"><pre>Pipeline(steps=[(&#x27;standardscaler&#x27;, StandardScaler()),\n",
              "                (&#x27;linearsvc&#x27;, LinearSVC(C=1, dual=True, random_state=42))])</pre><b>In a Jupyter environment, please rerun this cell to show the HTML representation or trust the notebook. <br />On GitHub, the HTML representation is unable to render, please try loading this page with nbviewer.org.</b></div><div class=\"sk-container\" hidden><div class=\"sk-item sk-dashed-wrapped\"><div class=\"sk-label-container\"><div class=\"sk-label fitted sk-toggleable\"><input class=\"sk-toggleable__control sk-hidden--visually\" id=\"sk-estimator-id-1\" type=\"checkbox\" ><label for=\"sk-estimator-id-1\" class=\"sk-toggleable__label fitted sk-toggleable__label-arrow\"><div><div>Pipeline</div></div><div><a class=\"sk-estimator-doc-link fitted\" rel=\"noreferrer\" target=\"_blank\" href=\"https://scikit-learn.org/1.6/modules/generated/sklearn.pipeline.Pipeline.html\">?<span>Documentation for Pipeline</span></a><span class=\"sk-estimator-doc-link fitted\">i<span>Fitted</span></span></div></label><div class=\"sk-toggleable__content fitted\"><pre>Pipeline(steps=[(&#x27;standardscaler&#x27;, StandardScaler()),\n",
              "                (&#x27;linearsvc&#x27;, LinearSVC(C=1, dual=True, random_state=42))])</pre></div> </div></div><div class=\"sk-serial\"><div class=\"sk-item\"><div class=\"sk-estimator fitted sk-toggleable\"><input class=\"sk-toggleable__control sk-hidden--visually\" id=\"sk-estimator-id-2\" type=\"checkbox\" ><label for=\"sk-estimator-id-2\" class=\"sk-toggleable__label fitted sk-toggleable__label-arrow\"><div><div>StandardScaler</div></div><div><a class=\"sk-estimator-doc-link fitted\" rel=\"noreferrer\" target=\"_blank\" href=\"https://scikit-learn.org/1.6/modules/generated/sklearn.preprocessing.StandardScaler.html\">?<span>Documentation for StandardScaler</span></a></div></label><div class=\"sk-toggleable__content fitted\"><pre>StandardScaler()</pre></div> </div></div><div class=\"sk-item\"><div class=\"sk-estimator fitted sk-toggleable\"><input class=\"sk-toggleable__control sk-hidden--visually\" id=\"sk-estimator-id-3\" type=\"checkbox\" ><label for=\"sk-estimator-id-3\" class=\"sk-toggleable__label fitted sk-toggleable__label-arrow\"><div><div>LinearSVC</div></div><div><a class=\"sk-estimator-doc-link fitted\" rel=\"noreferrer\" target=\"_blank\" href=\"https://scikit-learn.org/1.6/modules/generated/sklearn.svm.LinearSVC.html\">?<span>Documentation for LinearSVC</span></a></div></label><div class=\"sk-toggleable__content fitted\"><pre>LinearSVC(C=1, dual=True, random_state=42)</pre></div> </div></div></div></div></div></div>"
            ]
          },
          "metadata": {},
          "execution_count": 12
        }
      ]
    },
    {
      "cell_type": "code",
      "source": [
        "X_new = [[5.5, 1.7], [5.0, 1.5]]  # 예측에 사용할 새로운 꽃잎 길이/너비 샘플\n",
        "svm_clf.predict(X_new)           # 각 샘플이 Iris virginica인지 예측 (True/False)\n"
      ],
      "metadata": {
        "id": "LnDc1uTJUAfK",
        "outputId": "e4f9a2c3-5930-4bbe-f22a-c58725c86342",
        "colab": {
          "base_uri": "https://localhost:8080/"
        }
      },
      "id": "LnDc1uTJUAfK",
      "execution_count": 13,
      "outputs": [
        {
          "output_type": "execute_result",
          "data": {
            "text/plain": [
              "array([ True, False])"
            ]
          },
          "metadata": {},
          "execution_count": 13
        }
      ]
    },
    {
      "cell_type": "code",
      "source": [
        "svm_clf.decision_function(X_new)  # 각 샘플에 대한 결정 점수 출력 (양수면 클래스 1, 음수면 클래스 0)\n"
      ],
      "metadata": {
        "id": "TWn5QdUyUJL6",
        "outputId": "4c3cf1dd-6614-4d5e-b74a-d5089629b8fe",
        "colab": {
          "base_uri": "https://localhost:8080/"
        }
      },
      "id": "TWn5QdUyUJL6",
      "execution_count": 15,
      "outputs": [
        {
          "output_type": "execute_result",
          "data": {
            "text/plain": [
              "array([ 0.66163411, -0.22036063])"
            ]
          },
          "metadata": {},
          "execution_count": 15
        }
      ]
    },
    {
      "cell_type": "code",
      "source": [
        "# 표준화 + 서로 다른 C 값을 가진 SVM 모델 생성\n",
        "scaler = StandardScaler()\n",
        "svm_clf1 = LinearSVC(C=1, max_iter=10_000, dual=True, random_state=42)\n",
        "svm_clf2 = LinearSVC(C=100, max_iter=10_000, dual=True, random_state=42)\n",
        "\n",
        "# 파이프라인 구성\n",
        "scaled_svm_clf1 = make_pipeline(scaler, svm_clf1)\n",
        "scaled_svm_clf2 = make_pipeline(scaler, svm_clf2)\n",
        "\n",
        "# 모델 학습 (스케일링 포함)\n",
        "scaled_svm_clf1.fit(X, y)\n",
        "scaled_svm_clf2.fit(X, y)\n",
        "\n",
        "# 스케일링 되지 않은 공간에서 파라미터 계산 (해석용)\n",
        "b1 = svm_clf1.decision_function([-scaler.mean_ / scaler.scale_])\n",
        "b2 = svm_clf2.decision_function([-scaler.mean_ / scaler.scale_])\n",
        "w1 = svm_clf1.coef_[0] / scaler.scale_\n",
        "w2 = svm_clf2.coef_[0] / scaler.scale_\n",
        "svm_clf1.intercept_ = np.array([b1])\n",
        "svm_clf2.intercept_ = np.array([b2])\n",
        "svm_clf1.coef_ = np.array([w1])\n",
        "svm_clf2.coef_ = np.array([w2])\n",
        "\n",
        "# LinearSVC는 서포트 벡터 정보를 제공하지 않으므로 직접 계산\n",
        "t = y * 2 - 1  # 클래스: 0 → -1, 1 → +1\n",
        "support_vectors_idx1 = (t.to_numpy() * (X.dot(w1) + b1) < 1)\n",
        "support_vectors_idx2 = (t.to_numpy() * (X.dot(w2) + b2) < 1)\n",
        "svm_clf1.support_vectors_ = X[support_vectors_idx1]\n",
        "svm_clf2.support_vectors_ = X[support_vectors_idx2]\n",
        "\n",
        "# 결과 시각화\n",
        "fig, axes = plt.subplots(ncols=2, figsize=(10, 2.7), sharey=True)\n",
        "\n",
        "# C = 1 결과\n",
        "plt.sca(axes[0])\n",
        "plt.plot(X[:, 0][y==1], X[:, 1][y==1], \"g^\", label=\"Iris virginica\")\n",
        "plt.plot(X[:, 0][y==0], X[:, 1][y==0], \"bs\", label=\"Iris versicolor\")\n",
        "plot_svc_decision_boundary(svm_clf1, 4, 5.9)\n",
        "plt.xlabel(\"Petal length\")\n",
        "plt.ylabel(\"Petal width\")\n",
        "plt.legend(loc=\"upper left\")\n",
        "plt.title(f\"$C = {svm_clf1.C}$\")\n",
        "plt.axis([4, 5.9, 0.8, 2.8])\n",
        "plt.grid()\n",
        "\n",
        "# C = 100 결과\n",
        "plt.sca(axes[1])\n",
        "plt.plot(X[:, 0][y==1], X[:, 1][y==1], \"g^\")\n",
        "plt.plot(X[:, 0][y==0], X[:, 1][y==0], \"bs\")\n",
        "plot_svc_decision_boundary(svm_clf2, 4, 5.99)\n",
        "plt.xlabel(\"Petal length\")\n",
        "plt.title(f\"$C = {svm_clf2.C}$\")\n",
        "plt.axis([4, 5.9, 0.8, 2.8])\n",
        "plt.grid()\n",
        "\n",
        "save_fig(\"regularization_plot\")\n",
        "plt.show()\n"
      ],
      "metadata": {
        "id": "5gYUXAgLULAi",
        "outputId": "db53d9ae-2605-4f6d-9864-9036ea078232",
        "colab": {
          "base_uri": "https://localhost:8080/",
          "height": 264
        }
      },
      "id": "5gYUXAgLULAi",
      "execution_count": 18,
      "outputs": [
        {
          "output_type": "display_data",
          "data": {
            "text/plain": [
              "<Figure size 1000x270 with 2 Axes>"
            ],
            "image/png": "[encoded data removed]"
          },
          "metadata": {}
        }
      ]
    },
    {
      "cell_type": "markdown",
      "source": [
        "Scikit-Learn에서 SVM 모델을 만들 때는 여러 하이퍼파라미터를 설정할 수 있는데\n",
        "그중 하나가 C\n",
        "\n",
        "- C를 작게 설정하면 → 위 그래프의 왼쪽처럼 나옴\n",
        "- C를 크게 설정하면 → 오른쪽처럼 나옴\n",
        "\n",
        "마진 위반은 바람직하지 않으므로 적을수록 좋음  \n",
        "하지만 이 경우에는 왼쪽 모델이 마진 위반은 많지만, 일반화 성능은 더 좋을 가능성이 있음"
      ],
      "metadata": {
        "id": "iohdtXm3T3ay"
      },
      "id": "iohdtXm3T3ay"
    },
    {
      "cell_type": "markdown",
      "source": [
        "만약 SVM 모델이 과적합(overfitting) 되고 있다면, C 값을 낮춰서 정규화(regularization) 하는 것을 시도할 수 있음\n",
        "\n",
        "다음은 Scikit-Learn 코드로, 아이리스(iris) 데이터셋을 불러오고, 특성(feature)을 스케일링한 다음, 선형 SVM 모델(LinearSVC 클래스, C=1, hinge 손실 함수)을 사용해 Iris virginica 품종을 판별하는 훈련 수행\n",
        "\n",
        "\n",
        "\n",
        "```\n",
        "iris = datasets.load_iris()\n",
        "X = iris[\"data\"][:, (2, 3)]  # 꽃잎 길이와 너비\n",
        "y = (iris[\"target\"] == 2).astype(np.float64)  # Iris virginica인지 여부\n",
        "\n",
        "svm_clf = Pipeline([\n",
        "    (\"scaler\", StandardScaler()),\n",
        "    (\"linear_svc\", LinearSVC(C=1, loss=\"hinge\"))\n",
        "])\n",
        "\n",
        "svm_clf.fit(X, y)\n",
        "\n",
        "```\n",
        "\n",
        "이렇게 학습된 모델은 위 그래프 왼쪽에 시각화\n",
        "\n",
        "예측\n",
        "\n",
        "```\n",
        "svm_clf.predict([[5.5, 1.7]])\n",
        "# 결과: array([1.])\n",
        "\n",
        "```\n",
        "\n",
        "Logistic Regression과는 달리  \n",
        "**SVM 분류기(SVM classifier)**는 각 클래스에 대한 확률을 출력하지 않음\n",
        "\n"
      ],
      "metadata": {
        "id": "QKc79wPtVal7"
      },
      "id": "QKc79wPtVal7"
    },
    {
      "cell_type": "markdown",
      "source": [
        "- LinearSVC 대신 SVC 클래스 사용: SVC(kernel=\"linear\", C=1)\n",
        "\n",
        "- SGDClassifier 클래스 사용: SGDClassifier(loss=\"hinge\", alpha=1/(m*C))\n",
        "\n",
        "일반적인 확률적 경사 하강법(Stochastic Gradient Descent)을 사용하여 선형 SVM 분류기 학습\n",
        "\n",
        "LinearSVC만큼 빠르게 수렴하진 않지만, 다음과 같은 상황에서 유용\n",
        "- 온라인 분류(online classification)\n",
        "- 메모리에 올릴 수 없을 정도로 큰 데이터셋 (out-of-core training)\n",
        "\n",
        "LinearSVC 클래스는 **절편 항(bias term)**도 정규화(regulazation)함  \n",
        "따라서 훈련 세트를 평균 중심으로 이동(center)시켜야  \n",
        "→ StandardScaler를 사용하면 자동으로 처리됨\n",
        "\n",
        "loss 하이퍼파라미터는 기본값이 \"hinge\"가 아니기 때문에 명시적으로 지정해야 함\n",
        "\n",
        "그리고 더 나은 성능을 위해서는 dual=False로 설정하는 것이 좋음  \n",
        "특성 수가 훈련 샘플 수보다 많을 경우에는 예외(이건 뒤에서 다룸)"
      ],
      "metadata": {
        "id": "Lz3c93PBV8nL"
      },
      "id": "Lz3c93PBV8nL"
    },
    {
      "cell_type": "markdown",
      "source": [
        "## Nonlinear SVM Classification"
      ],
      "metadata": {
        "id": "H9mwfD_XHTPV"
      },
      "id": "H9mwfD_XHTPV"
    },
    {
      "cell_type": "markdown",
      "source": [
        "### Polynomial Kernel"
      ],
      "metadata": {
        "id": "5OqWTSA0HTcs"
      },
      "id": "5OqWTSA0HTcs"
    },
    {
      "cell_type": "markdown",
      "source": [
        "### Similarity Features"
      ],
      "metadata": {
        "id": "chE-1EyrHQF0"
      },
      "id": "chE-1EyrHQF0"
    },
    {
      "cell_type": "markdown",
      "source": [
        "### Gaussian RBF Kernel\n"
      ],
      "metadata": {
        "id": "v9P47rutHQi9"
      },
      "id": "v9P47rutHQi9"
    },
    {
      "cell_type": "markdown",
      "source": [
        "### Computational Complexity"
      ],
      "metadata": {
        "id": "GONhTYtSJ1KU"
      },
      "id": "GONhTYtSJ1KU"
    },
    {
      "cell_type": "markdown",
      "source": [
        "## SVM Regression"
      ],
      "metadata": {
        "id": "PuSMcIbzJ1Sc"
      },
      "id": "PuSMcIbzJ1Sc"
    },
    {
      "cell_type": "markdown",
      "source": [
        "## Under the Hood"
      ],
      "metadata": {
        "id": "_gpYn4JtJ1Z8"
      },
      "id": "_gpYn4JtJ1Z8"
    },
    {
      "cell_type": "markdown",
      "source": [
        "### Decision Function and Predictions"
      ],
      "metadata": {
        "id": "Ef3q1uKZJ1el"
      },
      "id": "Ef3q1uKZJ1el"
    },
    {
      "cell_type": "markdown",
      "source": [
        "### Training Objective"
      ],
      "metadata": {
        "id": "6OuXRz3UJ1h_"
      },
      "id": "6OuXRz3UJ1h_"
    },
    {
      "cell_type": "markdown",
      "source": [
        "### Quadratic Programming"
      ],
      "metadata": {
        "id": "wSKQHWF_J1k6"
      },
      "id": "wSKQHWF_J1k6"
    },
    {
      "cell_type": "markdown",
      "source": [
        "### The Dual Problem"
      ],
      "metadata": {
        "id": "qGkEsNHUJ1nO"
      },
      "id": "qGkEsNHUJ1nO"
    },
    {
      "cell_type": "markdown",
      "source": [
        "### Kernelized SVMs\n"
      ],
      "metadata": {
        "id": "d2NY5xfiJ1pb"
      },
      "id": "d2NY5xfiJ1pb"
    },
    {
      "cell_type": "markdown",
      "source": [
        "### Online SVMs"
      ],
      "metadata": {
        "id": "cwp3l1x0J1sI"
      },
      "id": "cwp3l1x0J1sI"
    }
  ],
  "metadata": {
    "kernelspec": {
      "display_name": "Python 3 (ipykernel)",
      "language": "python",
      "name": "python3"
    },
    "language_info": {
      "codemirror_mode": {
        "name": "ipython",
        "version": 3
      },
      "file_extension": ".py",
      "mimetype": "text/x-python",
      "name": "python",
      "nbconvert_exporter": "python",
      "pygments_lexer": "ipython3",
      "version": "3.13.5"
    },
    "colab": {
      "provenance": []
    }
  },
  "nbformat": 4,
  "nbformat_minor": 5
}