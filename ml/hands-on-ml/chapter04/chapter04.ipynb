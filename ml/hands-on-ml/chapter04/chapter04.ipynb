{
  "cells": [
    {
      "cell_type": "markdown",
      "id": "c63f1728-b6ea-489a-832f-cb85e99d9f48",
      "metadata": {
        "id": "c63f1728-b6ea-489a-832f-cb85e99d9f48"
      },
      "source": [
        "Google Colab\n",
        "\n",
        "[![Open In Colab](https://colab.research.google.com/assets/colab-badge.svg)](https://colab.research.google.com/github/0xInode/AI-study-notes/blob/main/ml/hands-on-ml/chapter04/chapter04.ipynb)\n",
        "\n"
      ]
    },
    {
      "cell_type": "markdown",
      "id": "e11a76d5-dca7-4dc4-b69a-b4871602475f",
      "metadata": {
        "id": "e11a76d5-dca7-4dc4-b69a-b4871602475f"
      },
      "source": [
        "# Setup"
      ]
    },
    {
      "cell_type": "markdown",
      "id": "f3d21202-5711-43e6-b022-8a8af4b505e6",
      "metadata": {
        "id": "f3d21202-5711-43e6-b022-8a8af4b505e6"
      },
      "source": [
        " - 모듈을 임포트하고, Matplotlib 그래프를 인라인으로 표시, 그래프를 저장하기 위한 함수 준비\n",
        " - Python 3.5 이상이 설치되어 있는지 확인\n",
        " - Scikit-Learn 0.20 이상이 설치되어 있는지도 함께 확인"
      ]
    },
    {
      "cell_type": "code",
      "execution_count": 5,
      "id": "e232295b-d223-4c4a-914e-f1783d0a15fe",
      "metadata": {
        "id": "e232295b-d223-4c4a-914e-f1783d0a15fe"
      },
      "outputs": [],
      "source": [
        "# Python 3.5 이상이 필요함\n",
        "import sys\n",
        "assert sys.version_info >= (3, 5)\n",
        "\n",
        "# Scikit-Learn 0.20 이상이 필요함\n",
        "import sklearn\n",
        "assert sklearn.__version__ >= \"0.20\"\n",
        "\n",
        "# 공통 모듈 임포트\n",
        "import numpy as np\n",
        "import os\n",
        "\n",
        "# 실행할 때마다 동일한 결과를 얻기 위해 난수 시드 고정\n",
        "np.random.seed(42)\n",
        "\n",
        "# 예쁜 그래프 출력을 위한 설정\n",
        "%matplotlib inline\n",
        "import matplotlib as mpl\n",
        "import matplotlib.pyplot as plt\n",
        "mpl.rc('axes', labelsize=14)     # 축 라벨 크기 설정\n",
        "mpl.rc('xtick', labelsize=12)    # x축 눈금 라벨 크기 설정\n",
        "mpl.rc('ytick', labelsize=12)    # y축 눈금 라벨 크기 설정\n",
        "\n",
        "# 그래프 파일을 저장할 위치 설정\n",
        "PROJECT_ROOT_DIR = \".\"\n",
        "CHAPTER_ID = \"training_linear_models\"\n",
        "IMAGES_PATH = os.path.join(PROJECT_ROOT_DIR, \"images\", CHAPTER_ID)\n",
        "os.makedirs(IMAGES_PATH, exist_ok=True)  # 디렉토리가 없으면 생성\n",
        "\n",
        "# 그래프를 저장하는 함수 정의\n",
        "def save_fig(fig_id, tight_layout=True, fig_extension=\"png\", resolution=300):\n",
        "    path = os.path.join(IMAGES_PATH, fig_id + \".\" + fig_extension)\n",
        "    print(\"Saving figure\", fig_id)\n",
        "    if tight_layout:\n",
        "        plt.tight_layout()\n",
        "    plt.savefig(path, format=fig_extension, dpi=resolution)\n"
      ]
    },
    {
      "cell_type": "markdown",
      "id": "8dc536af-6f67-47e7-9e34-91005bd92562",
      "metadata": {
        "id": "8dc536af-6f67-47e7-9e34-91005bd92562"
      },
      "source": [
        "# Linear Regression"
      ]
    },
    {
      "cell_type": "markdown",
      "id": "181bfd8d-98e6-4577-a53b-725b23b9b418",
      "metadata": {
        "id": "181bfd8d-98e6-4577-a53b-725b23b9b418"
      },
      "source": [
        "1장) 삶의 만족도에 대한 간단한 회귀 모델\n",
        "\n",
        "life_satisfaction = θ₀ + θ₁ × GDP_per_capita\n",
        "\n",
        "이 모델은 입력 특성인 GDP_per_capita에 대한 선형 함수일 뿐이며, θ₀와 θ₁은 모델의 파라미터  \n",
        "선형 모델은 입력 특성들의 가중합에 편향 항(상수)를 더해 예측을 수행함\n",
        "\n",
        "ŷ = θ₀ + θ₁x₁ + θ₂x₂ + ⋯ + θₙxₙ\n",
        "\n",
        " - ŷ: 예측된 값\n",
        " - n: 특성의 개수\n",
        " - xᵢ: i번째 특성 값\n",
        " - θⱼ: j번째 모델 파라미터(편향 항 θ₀와 특성 가중치 θ₁, θ₂, ⋯, θₙ 포함)"
      ]
    },
    {
      "cell_type": "markdown",
      "id": "41e29cb8-dc28-454c-9372-7ba774e82a7d",
      "metadata": {
        "id": "41e29cb8-dc28-454c-9372-7ba774e82a7d"
      },
      "source": [
        "벡터 형태로 훨씬 간결하게 표현\n",
        "\n",
        "$\\hat{y} = h_{\\theta}(\\mathbf{x}) = \\boldsymbol{\\theta} \\cdot \\mathbf{x}$\n",
        "\n",
        "\n",
        "- θ: 모델의 파라미터 벡터로, 편향 항 θ₀과 특성 가중치 θ₁부터 θₙ까지 포함\n",
        "- x: 하나의 샘플에 대한 특성 벡터로, x₀부터 xₙ까지를 포함하며, x₀는 항상 1\n",
        "- θ · x: 벡터 θ와 x의 내적(dot product)이며 θ₀x₀ + θ₁x₁ + θ₂x₂ + ... + θₙxₙ과 같음\n",
        "-  $h_{\\theta}$는 모델 파라미터 θ를 사용한 가설 함수(hypothesis function)\n",
        "\n",
        "벡터를 종종 열 벡터(column vector)로 표현: 하나의 열을 가진 2차원 배열\n",
        "θ와 x가 열 벡터라면 예측은 ŷ = θᵀx로 표현되며, θᵀ는 θ의 전치 행렬(행 벡터)\n",
        "이때 θᵀx는 θᵀ와 x의 행렬 곱이며, 결과는 스칼라 값이 아닌 단일 셀을 가진 행렬로 표현됨"
      ]
    },
    {
      "cell_type": "markdown",
      "id": "25b7a2c7-f11a-4fe0-b41a-20a22f9f9a22",
      "metadata": {
        "id": "25b7a2c7-f11a-4fe0-b41a-20a22f9f9a22"
      },
      "source": [
        "모델을 학습시킨다는 것 -> 모델이 훈련 세트에 가장 잘 맞도록 그 파라미터를 설정\n",
        "\n",
        "이를 위해서는 먼저 모델이 훈련 데이터에 얼마나 잘(혹은 못) 맞는지를 측정할 수 있는 척도가 필요\n",
        "\n",
        "2장에서 회귀 모델의 가장 일반적인 성능 측정 지표가 평균 제곱근 오차(RMSE)임을 확인함  \n",
        "따라서 **선형 회귀 모델을 학습시키기 위해서는 RMSE를 최소화하는 θ 값을 찾아야 함**\n",
        "\n",
        "실제로는 RMSE보다 MSE를 최소화하는 것이 더 간단하며 같은 결과임(어떤 함수를 최소화하는 값은 그 제곱근도 최소화하기 때문)"
      ]
    },
    {
      "cell_type": "markdown",
      "id": "4946fc44-fed6-4b6c-88d4-4a53817b43a0",
      "metadata": {
        "id": "4946fc44-fed6-4b6c-88d4-4a53817b43a0"
      },
      "source": [
        "선형 회귀 가설 ℎ𝜃의 훈련 세트 𝑋에 대한 평균 제곱 오차(MSE)"
      ]
    },
    {
      "cell_type": "markdown",
      "id": "14b07499-2b9b-4765-a916-e0b4b48778e2",
      "metadata": {
        "id": "14b07499-2b9b-4765-a916-e0b4b48778e2"
      },
      "source": [
        "$$\n",
        "\\mathrm{MSE}(\\mathbf{X}, h_{\\boldsymbol{\\theta}}) = \\frac{1}{m} \\sum_{i=1}^{m} \\left( \\boldsymbol{\\theta}^\\top \\mathbf{x}^{(i)} - y^{(i)} \\right)^2\n",
        "$$\n"
      ]
    },
    {
      "cell_type": "markdown",
      "id": "ae8abe88-3b64-41fd-919d-862d6e150f14",
      "metadata": {
        "id": "ae8abe88-3b64-41fd-919d-862d6e150f14"
      },
      "source": [
        "표기를 단순하게 하기 위해 MSE(𝑋,ℎ𝜃) 대신 MSE(𝜃)라고 씀"
      ]
    },
    {
      "cell_type": "markdown",
      "id": "e29c83b4-f4c8-439d-8045-c4d5d352542c",
      "metadata": {
        "id": "e29c83b4-f4c8-439d-8045-c4d5d352542c"
      },
      "source": [
        "## The Normal Equation"
      ]
    },
    {
      "cell_type": "markdown",
      "id": "144fe5a4-dddd-4149-abe9-623d00974d96",
      "metadata": {
        "id": "144fe5a4-dddd-4149-abe9-623d00974d96"
      },
      "source": [
        "정규 방정식(Normal Equation): 비용 함수를 최소화하는 θ 값을 찾기 위해 닫힌 해(closed-form solution), 즉 결과를 직접적으로 계산해 주는 수학적 공식"
      ]
    },
    {
      "cell_type": "markdown",
      "id": "79f7ede7-6795-4d50-aaf1-a92c1988fac5",
      "metadata": {
        "id": "79f7ede7-6795-4d50-aaf1-a92c1988fac5"
      },
      "source": [
        "$$\n",
        "\\hat{\\boldsymbol{\\theta}} = \\left( \\mathbf{X}^\\top \\mathbf{X} \\right)^{-1} \\mathbf{X}^\\top \\mathbf{y}\n",
        "$$\n"
      ]
    },
    {
      "cell_type": "markdown",
      "id": "e2445027-f8d7-4835-8487-45e322754252",
      "metadata": {
        "id": "e2445027-f8d7-4835-8487-45e322754252"
      },
      "source": [
        "- $\\hat{\\boldsymbol{\\theta}}$: 비용 함수를 최소화하는 θ 값\n",
        "- y: 𝑦(1)부터 𝑦(𝑚)까지의 값을 담고 있는 타깃 값 벡터"
      ]
    },
    {
      "cell_type": "code",
      "execution_count": 6,
      "id": "e5d98a48-7eb0-4118-9884-8e929b9dad41",
      "metadata": {
        "id": "e5d98a48-7eb0-4118-9884-8e929b9dad41"
      },
      "outputs": [],
      "source": [
        "import numpy as np\n",
        "\n",
        "X = 2 * np.random.rand(100, 1)\n",
        "y = 4 + 3 * X + np.random.randn(100, 1)"
      ]
    },
    {
      "cell_type": "markdown",
      "source": [
        " - np.random.rand(100, 1): 균등 분포에서 난수 생성, 0과 1 사이의 값, 균등 분포가 필요한 시뮬레이션이나 데이터 생성에 사용\n",
        "\n",
        " - np.random.randn(100, 1): 정규 분포에서 난수 생성, 평균 0, 표준편차 1인 분포를 따름, 양수와 음수 값이 모두 나옴, 정규 분포(가우시안 분포)가 필요한 모델 학습, 통계적 분석, 노이즈 추가 등에 사용"
      ],
      "metadata": {
        "id": "KSEOGd3MIz9Z"
      },
      "id": "KSEOGd3MIz9Z"
    },
    {
      "cell_type": "code",
      "execution_count": 7,
      "id": "c6ae77b6-c264-4421-830c-8c61540040ce",
      "metadata": {
        "colab": {
          "base_uri": "https://localhost:8080/",
          "height": 505
        },
        "id": "c6ae77b6-c264-4421-830c-8c61540040ce",
        "outputId": "3ac9e1a3-a24f-4669-ea11-7815c66e3acb"
      },
      "outputs": [
        {
          "output_type": "stream",
          "name": "stdout",
          "text": [
            "Saving figure generated_data_plot\n"
          ]
        },
        {
          "output_type": "display_data",
          "data": {
            "text/plain": [
              "<Figure size 640x480 with 1 Axes>"
            ],
            "image/png": "[encoded data removed]"
          },
          "metadata": {}
        }
      ],
      "source": [
        "plt.plot(X, y, \"b.\") # blue(파란색), .(점)으로 표시\n",
        "plt.xlabel(\"$x_1$\", fontsize=18) # x축과 y축에 라벨 추가\n",
        "plt.ylabel(\"$y$\", rotation=0, fontsize=18)\n",
        "plt.axis([0, 2, 0, 15]) # x축은 0에서 2까지, y축은 0에서 15까지 표시하도록 설정\n",
        "save_fig(\"generated_data_plot\") # 시각화된 이미지 저장\n",
        "plt.show()"
      ]
    },
    {
      "cell_type": "markdown",
      "id": "81300513-5caa-48c7-8656-93e88334ab4f",
      "metadata": {
        "id": "81300513-5caa-48c7-8656-93e88334ab4f"
      },
      "source": [
        "정규 방정식을 사용하여 $\\hat{\\theta}$ 계산  \n",
        "산행렬의 역행렬을 계산하기 위해 NumPy의 선형 대수 모듈(np.linalg)의 `inv()` 함수 사용, 행렬 곱셈에는 `dot()` 메서드 사용"
      ]
    },
    {
      "cell_type": "code",
      "execution_count": 8,
      "id": "a24c4877-5505-433e-80e5-56ddf8f9998e",
      "metadata": {
        "id": "a24c4877-5505-433e-80e5-56ddf8f9998e"
      },
      "outputs": [],
      "source": [
        "X_b = np.c_[np.ones((100, 1)), X] # 행렬 확장, 기존의 X 배열에 𝑥0=1을 추가하여 절편을 고려할 수 있게 함, np.c_는 두 배열을 수평으로 결합하는 함수\n",
        "theta_best = np.linalg.inv(X_b.T.dot(X_b)).dot(X_b.T).dot(y) # 정규방정식"
      ]
    },
    {
      "cell_type": "markdown",
      "source": [
        " <정규방정식>\n",
        " - X_b: 원래의 특성 행렬 X에 1을 추가하여 절편 항(θ0​)을 포함\n",
        " - X_b.T: 𝑋𝑏의 전치 행렬\n",
        " - X_b.T.dot(X_b): 특성 행렬의 전치와 특성 행렬 내적\n",
        " - np.linalg.inv(X_b.T.dot(X_b)): 역행렬\n",
        " - X_b.T.dot(y): 입력 데이터의 전치 행렬과 실제 값 𝑦를 내적\n",
        " - dot(X_b.T).dot(y): 회귀 계수 벡터 𝜃를 구함"
      ],
      "metadata": {
        "id": "9HYDhoMWKLKU"
      },
      "id": "9HYDhoMWKLKU"
    },
    {
      "cell_type": "markdown",
      "id": "584fc9a0-acd7-4482-a85f-17166346112e",
      "metadata": {
        "id": "584fc9a0-acd7-4482-a85f-17166346112e"
      },
      "source": [
        "데이터를 생성할 때 사용한 함수는 𝑦=4+3𝑥+가우시안 노이즈"
      ]
    },
    {
      "cell_type": "code",
      "execution_count": 9,
      "id": "15a1c36b-8f16-4da5-8935-2193e21a516f",
      "metadata": {
        "colab": {
          "base_uri": "https://localhost:8080/"
        },
        "id": "15a1c36b-8f16-4da5-8935-2193e21a516f",
        "outputId": "33de3385-b80d-4533-b0ff-5d1a963c936f"
      },
      "outputs": [
        {
          "output_type": "execute_result",
          "data": {
            "text/plain": [
              "array([[4.21509616],\n",
              "       [2.77011339]])"
            ]
          },
          "metadata": {},
          "execution_count": 9
        }
      ],
      "source": [
        "theta_best"
      ]
    },
    {
      "cell_type": "markdown",
      "id": "e39735e9-4c9c-4156-adef-1426116b6af4",
      "metadata": {
        "id": "e39735e9-4c9c-4156-adef-1426116b6af4"
      },
      "source": [
        "원래 함수의 파라미터 $\\theta_0 = 4$, $\\theta_1 = 3$을 기대했지만, 노이즈 때문에 정확한 파라미터를 복원하는 것은 불가(결과는 근사)\n",
        "\n",
        "이제 구한 $\\hat{\\theta}$를 이용해 예측을 수행"
      ]
    },
    {
      "cell_type": "code",
      "execution_count": 10,
      "id": "2f8f6a9d-81f4-4533-930b-e79f9676e20c",
      "metadata": {
        "colab": {
          "base_uri": "https://localhost:8080/"
        },
        "id": "2f8f6a9d-81f4-4533-930b-e79f9676e20c",
        "outputId": "99bfbd06-72ad-45ca-be36-6e76aa04b21c"
      },
      "outputs": [
        {
          "output_type": "execute_result",
          "data": {
            "text/plain": [
              "array([[4.21509616],\n",
              "       [9.75532293]])"
            ]
          },
          "metadata": {},
          "execution_count": 10
        }
      ],
      "source": [
        "X_new = np.array([[0], [2]]) # X 값의 범위\n",
        "X_new_b = np.c_[np.ones((2, 1)), X_new]  # np.ones는 모든 값이 1인 배열을 생성함, 절편을 고려할 수 있게 행렬 확장\n",
        "y_predict = X_new_b.dot(theta_best) # 정규 방정식에서 구한 회귀 계수 theta_best를 사용해 X_new_b의 예측값을 구함\n",
        "y_predict"
      ]
    },
    {
      "cell_type": "code",
      "execution_count": 11,
      "id": "5b154ff9-b650-4d6e-b5dd-ef4e344e60dd",
      "metadata": {
        "colab": {
          "base_uri": "https://localhost:8080/",
          "height": 505
        },
        "id": "5b154ff9-b650-4d6e-b5dd-ef4e344e60dd",
        "outputId": "e2860580-278b-4166-c64e-2e3574f05994"
      },
      "outputs": [
        {
          "output_type": "stream",
          "name": "stdout",
          "text": [
            "Saving figure linear_model_predictions_plot\n"
          ]
        },
        {
          "output_type": "display_data",
          "data": {
            "text/plain": [
              "<Figure size 640x480 with 1 Axes>"
            ],
            "image/png": "[encoded data removed]"
          },
          "metadata": {}
        }
      ],
      "source": [
        "plt.plot(X_new, y_predict, \"r-\", linewidth=2, label=\"Predictions\") # 빨간색 선(\"r-\")으로 예측값 시각화\n",
        "plt.plot(X, y, \"b.\") # 원래의 데이터 점들을 파란색 점(\"b.\")으로 시각화\n",
        "plt.xlabel(\"$x_1$\", fontsize=18)\n",
        "plt.ylabel(\"$y$\", rotation=0, fontsize=18)\n",
        "plt.legend(loc=\"upper left\", fontsize=14) # 범례 추가\n",
        "plt.axis([0, 2, 0, 15])\n",
        "save_fig(\"linear_model_predictions_plot\")\n",
        "plt.show()"
      ]
    },
    {
      "cell_type": "markdown",
      "id": "0411e5bf-0caa-4552-9b66-054b0b1389cf",
      "metadata": {
        "id": "0411e5bf-0caa-4552-9b66-054b0b1389cf"
      },
      "source": [
        "Scikit-Learn을 사용한 선형 회귀 수행"
      ]
    },
    {
      "cell_type": "code",
      "execution_count": 12,
      "id": "fad65587-59a5-46ed-8a9c-fd7997171de1",
      "metadata": {
        "colab": {
          "base_uri": "https://localhost:8080/"
        },
        "id": "fad65587-59a5-46ed-8a9c-fd7997171de1",
        "outputId": "54534a47-cef1-43f1-b495-b49d38187cb7"
      },
      "outputs": [
        {
          "output_type": "execute_result",
          "data": {
            "text/plain": [
              "(array([4.21509616]), array([[2.77011339]]))"
            ]
          },
          "metadata": {},
          "execution_count": 12
        }
      ],
      "source": [
        "from sklearn.linear_model import LinearRegression\n",
        "\n",
        "lin_reg = LinearRegression()\n",
        "lin_reg.fit(X, y)\n",
        "lin_reg.intercept_, lin_reg.coef_"
      ]
    },
    {
      "cell_type": "code",
      "execution_count": 13,
      "id": "f5cec17a-e9a6-45c8-b40e-f3c5b7d76b5a",
      "metadata": {
        "colab": {
          "base_uri": "https://localhost:8080/"
        },
        "id": "f5cec17a-e9a6-45c8-b40e-f3c5b7d76b5a",
        "outputId": "685e0841-e4b3-4177-e37c-fb0d6dea59b8"
      },
      "outputs": [
        {
          "output_type": "execute_result",
          "data": {
            "text/plain": [
              "array([[4.21509616],\n",
              "       [9.75532293]])"
            ]
          },
          "metadata": {},
          "execution_count": 13
        }
      ],
      "source": [
        "lin_reg.predict(X_new)"
      ]
    },
    {
      "cell_type": "markdown",
      "id": "bb8892ec-afcb-492d-8862-0d397ed4f2fe",
      "metadata": {
        "id": "bb8892ec-afcb-492d-8862-0d397ed4f2fe"
      },
      "source": [
        "LinearRegression 클래스는 `scipy.linalg.lstsq()` 함수(최소 제곱)를 기반으로 하며, 이 함수를 직접 호출할 수도 있음"
      ]
    },
    {
      "cell_type": "code",
      "execution_count": 14,
      "id": "c9febedc-e6a5-4d8c-9387-b928c907c510",
      "metadata": {
        "colab": {
          "base_uri": "https://localhost:8080/"
        },
        "id": "c9febedc-e6a5-4d8c-9387-b928c907c510",
        "outputId": "992857fb-2843-4e61-b0f9-cb74324f5024"
      },
      "outputs": [
        {
          "output_type": "execute_result",
          "data": {
            "text/plain": [
              "array([[4.21509616],\n",
              "       [2.77011339]])"
            ]
          },
          "metadata": {},
          "execution_count": 14
        }
      ],
      "source": [
        "theta_best_svd, residuals, rank, s = np.linalg.lstsq(X_b, y, rcond=1e-6)\n",
        "theta_best_svd"
      ]
    },
    {
      "cell_type": "markdown",
      "id": "4f65b391-258c-4527-89d7-04960f37ef37",
      "metadata": {
        "id": "4f65b391-258c-4527-89d7-04960f37ef37"
      },
      "source": [
        "함수는 $\\hat{\\theta}$=$\\mathbf{X}^+$y를 계산하며, 여기서 $\\mathbf{X}^+$는 𝑋의 의사역행렬(무어-펜로즈 역행렬)  \n",
        "의사역행렬을 직접 계산하려면 `np.linalg.pinv()`"
      ]
    },
    {
      "cell_type": "code",
      "execution_count": 15,
      "id": "b4b80bb5-576b-42e1-a68a-a5bdc54153a3",
      "metadata": {
        "colab": {
          "base_uri": "https://localhost:8080/"
        },
        "id": "b4b80bb5-576b-42e1-a68a-a5bdc54153a3",
        "outputId": "01e2a1e3-780c-4cd9-eec8-31e448c484a8"
      },
      "outputs": [
        {
          "output_type": "execute_result",
          "data": {
            "text/plain": [
              "array([[4.21509616],\n",
              "       [2.77011339]])"
            ]
          },
          "metadata": {},
          "execution_count": 15
        }
      ],
      "source": [
        "np.linalg.pinv(X_b).dot(y)"
      ]
    },
    {
      "cell_type": "markdown",
      "id": "91548108-4f41-4839-9c37-9197879ef247",
      "metadata": {
        "id": "91548108-4f41-4839-9c37-9197879ef247"
      },
      "source": [
        "의사역행렬은 SVD(Singular Value Decomposition)라고 불리는 표준 행렬 분해 기법을 사용해 계산  \n",
        "이 기법은 훈련 세트 행렬 𝑋를 세 개의 행렬 $\\mathbf{U} \\, \\mathbf{\\Sigma} \\, \\mathbf{V}^\\top$의 곱으로 분해(`numpy.linalg.svd()` 참조)\n",
        "\n",
        "의사역행렬은 $\\mathbf{X}^+ = \\mathbf{V} \\mathbf{\\Sigma}^+ \\mathbf{U}^\\top$로 계산  \n",
        "행렬 Σ+를 계산할 때 알고리즘은 먼저 Σ에서 아주 작은 임계값보다 작은 값들을 0으로 설정한 다음   \n",
        "0이 아닌 값들은 모두 그 역수로 대체하고 마지막으로 이 결과 행렬을 전치\n",
        "\n",
        "정규 방정식 계산보다 효율적, 예외적인 상황도 잘 처리  \n",
        "정규 방정식은 $\\mathbf{X}^\\top \\mathbf{X}$가 가역(invertible)하지 않을 경우 작동하지 않는데  \n",
        "(예를 들어 𝑚<𝑛이거나 일부 특성들이 중복될 경우)\n",
        "\n",
        "의사역행렬은 항상 정의되어 있음!"
      ]
    },
    {
      "cell_type": "markdown",
      "id": "a3d38474-4b9c-4b78-b764-15648f0f02de",
      "metadata": {
        "id": "a3d38474-4b9c-4b78-b764-15648f0f02de"
      },
      "source": [
        "## Computational Complexity"
      ]
    },
    {
      "cell_type": "markdown",
      "id": "80c45c41-bc05-4b64-846a-61a01c13ca01",
      "metadata": {
        "id": "80c45c41-bc05-4b64-846a-61a01c13ca01"
      },
      "source": [
        "정규 방정식은 $\\mathbf{X}^\\top \\mathbf{X}$의 역행렬을 계산하는데,  \n",
        "이 행렬은 (𝑛+1)×(𝑛+1) 크기이며 여기서 𝑛은 특성(feature)의 개수\n",
        "\n",
        "이러한 행렬의 역을 구하는 계산 복잡도는 구현 방식에 따라 일반적으로 $\\mathcal{O}(n^{2.4})$ 에서 $\\mathcal{O}(n^3)$\n",
        "\n",
        "특성 수를 두 배로 늘리면 계산 시간은 대략 $2^{2.4} = 5.3$에서 $2^3 = 8$배 증가\n",
        "\n",
        "Scikit-Learn의 LinearRegression 클래스에서 사용하는 SVD 기반 방식은 약 $\\mathcal{O}(n^2)$  \n",
        "-> 특성 수를 두 배로 늘리면 계산 시간은 약 4배\n",
        "\n",
        "정규 방정식과 SVD 방식 모두 특성 수가 매우 많아질 경우(예: 100,000개) 매우 느려짐  \n",
        ">하지만 이 두 방식 모두 훈련 샘플 수 𝑚에 대해서는 선형 복잡도 O(m)를 가지므로,  \n",
        "데이터가 메모리에만 들어갈 수 있다면 훈련 샘플 수가 많은 경우도 효율적으로 처리할 수 있음\n",
        "\n",
        "정규 방정식이든 다른 알고리즘이든 모델 훈련이 끝난 뒤 예측 수행은 매우 빠름  \n",
        "예측의 계산 복잡도는 예측하려는 샘플 수와 특성 수에 대해 모두 선형  \n",
        "-> 예측하려는 샘플 수나 특성 수가 두 배로 늘어나면 예측 시간도 대략 두 배로 늘어남\n",
        "\n",
        "특성 수가 매우 많거나 훈련 샘플이 너무 많아 메모리에 적재할 수 없는 경우에 더 적합한 선형 회귀 모델 훈련 방법은?\n"
      ]
    },
    {
      "cell_type": "markdown",
      "id": "b7ff29c9-d342-4180-9434-784b46bd5a59",
      "metadata": {
        "id": "b7ff29c9-d342-4180-9434-784b46bd5a59"
      },
      "source": [
        "# Gradient Descent"
      ]
    },
    {
      "cell_type": "markdown",
      "id": "fdec41c7-2269-4c1e-af64-1aa7a81745bc",
      "metadata": {
        "id": "fdec41c7-2269-4c1e-af64-1aa7a81745bc"
      },
      "source": [
        "경사 하강법(Gradient Descent): 매우 다양한 문제에 대해 최적의 해를 찾을 수 있는 일반적인 최적화 알고리즘  \n",
        "경사 하강법의 기본 아이디어는 비용 함수를 최소화하기 위해 파라미터를 반복적으로 조정하는 것\n",
        "\n",
        "짙은 안개 속 산속에서 길을 잃었다고 가정)   \n",
        "발 아래 땅의 기울기만 느낄 수 있을 때,   \n",
        "계곡의 바닥으로 빠르게 내려가는 좋은 전략은 가장 가파른 경사의 방향으로 내려가는 것\n",
        "\n",
        "비용 함수의 현재 위치에서 파라미터 벡터 𝜃에 대한 국소 기울기(gradient)를 측정하고, 하강 방향으로 이동  \n",
        "기울기가 0이 되는 지점에 도달하면, 그곳이 최소점\n",
        "\n",
        "구체적으로는, 먼저 𝜃를 무작위 값으로 초기화(랜덤 초기화)  \n",
        "이후 비용 함수(예: MSE)를 줄이기 위한 아주 작은 단계들을 반복적으로 수행하면서 θ를 점점 더 개선  \n",
        "이러한 과정은 알고리즘이 최소값에 수렴할 때까지 계속\n"
      ]
    },
    {
      "cell_type": "markdown",
      "id": "d52b9bb5-9650-4dfc-aec1-7c0d6ff86ca8",
      "metadata": {
        "id": "d52b9bb5-9650-4dfc-aec1-7c0d6ff86ca8"
      },
      "source": [
        "![4-3](https://github.com/0xInode/AI-study-notes/blob/main/ml/hands-on-ml/chapter04/images/4-3.jpg?raw=1)"
      ]
    },
    {
      "cell_type": "markdown",
      "id": "c8608123-cf4f-423f-a644-0c25ffc3bf26",
      "metadata": {
        "id": "c8608123-cf4f-423f-a644-0c25ffc3bf26"
      },
      "source": [
        "모델 파라미터는 무작위로 초기화되며,  \n",
        "비용 함수를 최소화하기 위해 반복적으로 조정  \n",
        "학습 단계의 크기는 비용 함수의 기울기에 비례하므로, 파라미터가 최소점에 가까워질수록 단계는 점점 작아짐\n",
        "\n",
        "경사 하강법에서 중요한 하이퍼파라미터는 **학습률(learning rate)**  \n",
        "-> 이는 각 단계의 크기를 결정  \n",
        "학습률이 너무 작으면 알고리즘이 수렴하는 데 많은 반복을 거쳐야 하므로, 학습에 오랜 시간이 걸릴 수 있음"
      ]
    },
    {
      "cell_type": "markdown",
      "id": "1dfbd557-f7fc-434a-8bb3-589e2cc5ac96",
      "metadata": {
        "id": "1dfbd557-f7fc-434a-8bb3-589e2cc5ac96"
      },
      "source": [
        "![4-4](https://github.com/0xInode/AI-study-notes/blob/main/ml/hands-on-ml/chapter04/images/4-4.jpg?raw=1)"
      ]
    },
    {
      "cell_type": "markdown",
      "id": "26e89a48-3ec4-49e5-831b-1f2d366dbdd1",
      "metadata": {
        "id": "26e89a48-3ec4-49e5-831b-1f2d366dbdd1"
      },
      "source": [
        "반면, 학습률이 너무 크면 계곡을 가로질러 반대편으로 튀어 올라가 버릴 수 있으며,  \n",
        " 심지어 시작한 지점보다 더 높은 곳에 도달할 수도 있음  \n",
        " (기울기의 방향을 따라 파라미터를 너무 크게 업데이트하게 되어, 최소값을 지나칠 수 있음)  \n",
        "이로 인해 알고리즘이 발산하게 되어 값이 점점 더 커지고, 결국 좋은 해를 찾지 못할 수 있음"
      ]
    },
    {
      "cell_type": "markdown",
      "id": "1609ce6b-fb45-48ef-9a84-2516c2811621",
      "metadata": {
        "id": "1609ce6b-fb45-48ef-9a84-2516c2811621"
      },
      "source": [
        "![4-5](https://github.com/0xInode/AI-study-notes/blob/main/ml/hands-on-ml/chapter04/images/4-5.jpg?raw=1)"
      ]
    },
    {
      "cell_type": "markdown",
      "id": "f85f6fd1-df9c-473c-916e-c88ea52534dc",
      "metadata": {
        "id": "f85f6fd1-df9c-473c-916e-c88ea52534dc"
      },
      "source": [
        "모든 비용 함수가 매끄럽고 규칙적인 그릇 모양을 갖는 것은 X  \n",
        "어떤 비용 함수는 구멍, 능선, 평지 등 다양한 불규칙한 지형을 가지고 있어 최소값에 수렴하기 어렵게 만듦\n",
        "\n",
        "다음 그림은 경사 하강법이 직면하는 주요 문제를 보여 줌\n",
        " - 만약 무작위 초기화가 왼쪽 지점에서 시작된다면, 알고리즘은 전역 최소값보다 덜 좋은 지역 최소값에 수렴\n",
        " - 반대로 오른쪽에서 시작된다면, 평지를 가로지르는 데 매우 오랜 시간이 걸릴 수 있음\n",
        " - 너무 일찍 중단하면, 전역 최소값에 도달하지 못하게 됨"
      ]
    },
    {
      "cell_type": "markdown",
      "id": "39195e38-b4ed-4b31-9af5-87a91c23394e",
      "metadata": {
        "id": "39195e38-b4ed-4b31-9af5-87a91c23394e"
      },
      "source": [
        "![4-6](https://github.com/0xInode/AI-study-notes/blob/main/ml/hands-on-ml/chapter04/images/4-6.jpg?raw=1)"
      ]
    },
    {
      "cell_type": "markdown",
      "id": "25152c2c-d9ed-498a-8378-0f9766d6f76b",
      "metadata": {
        "id": "25152c2c-d9ed-498a-8378-0f9766d6f76b"
      },
      "source": [
        "선형 회귀 모델의 MSE 비용 함수는 **볼록 함수(convex function)**  \n",
        ">이는 곡선 위의 임의의 두 점을 이었을 때, 그 선분이 곡선을 가로지르지 않는다는 뜻   \n",
        "즉, 지역 최소값은 존재하지 않고, 전역 최소값만 존재한다는 의미   \n",
        ">또한 이 함수는 기울기가 갑자기 변하지 않는 연속적인 함수\n",
        "\n",
        "-> 학습률이 너무 크지 않고 충분히 오래 반복하면, 경사 하강법은 전역 최소값에 임의로 가까이 수렴하는 것이 보장\n",
        "\n",
        "실제로 이 비용 함수는 그릇 모양을 하고 있지만, 특성들의 스케일이 매우 다르면 길쭉한 그릇 모양이 될 수 있다.\n",
        "\n",
        "다음 그림 중 왼쪽은 특성 1과 2가 동일한 스케일을 가질 때의 경사 하강법 모습이고,   \n",
        "오른쪽은 특성 1의 값이 특성 2보다 훨씬 작을 때의 모습"
      ]
    },
    {
      "cell_type": "markdown",
      "id": "14d9be2e-7141-417d-b7ea-8006b48a1d48",
      "metadata": {
        "id": "14d9be2e-7141-417d-b7ea-8006b48a1d48"
      },
      "source": [
        "![4-7](https://github.com/0xInode/AI-study-notes/blob/main/ml/hands-on-ml/chapter04/images/4-7.jpg?raw=1)"
      ]
    },
    {
      "cell_type": "markdown",
      "id": "31f9820d-0392-4a06-ab0b-ed0cbec21492",
      "metadata": {
        "id": "31f9820d-0392-4a06-ab0b-ed0cbec21492"
      },
      "source": [
        "왼쪽에서는 경사 하강법 알고리즘이 최소값을 향해 곧장 이동하므로 빠르게 수렴하지만,  \n",
        "오른쪽에서는 처음에 전역 최소값의 방향과 거의 직각인 방향으로 움직인 후, 거의 평평한 계곡을 따라 오랫동안 이동  \n",
        "결국에는 최소값에 도달하지만, 그만큼 시간이 많이 걸림\n",
        "\n",
        "따라서 경사 하강법을 사용할 때는 모든 특성들이 비슷한 스케일을 갖도록 해야 함(예: Scikit-Learn의 `StandardScaler` 클래스 사용)  \n",
        "그렇지 않으면 수렴까지 훨씬 더 많은 시간이 걸릴 수 있음\n",
        "\n",
        "모델 학습이란 훈련 세트에 대한 비용 함수를 최소화하는 파라미터 조합을 찾는 것  \n",
        "이는 모델의 **파라미터 공간(parameter space, 모델의 모든 가능한 파라미터 조합을 나타내는 공간)** 에서의 탐색 과정  \n",
        "모델이 갖는 파라미터가 많을수록 이 공간의 차원도 높아지고, 탐색이 그만큼 어려워짐\n",
        "\n",
        "탐색이 어려워지는 이유\n",
        "- 고차원 공간에서는 **지역 최솟값(local minima)**이나 평평한 구간이 많아 경사 하강법이 빠르게 수렴하지 못하거나 잘못된 지점으로 빠질 가능성이 커짐\n",
        "- 차원이 높을수록 경사 하강법이 수렴하기 위해 더 많은 계산을 해야 해서 최적화가 더 어려워짐"
      ]
    },
    {
      "cell_type": "markdown",
      "id": "b7a72609-2690-4b4d-8b7e-f5191826bd86",
      "metadata": {
        "id": "b7a72609-2690-4b4d-8b7e-f5191826bd86"
      },
      "source": [
        "## Batch Gradient Descent"
      ]
    },
    {
      "cell_type": "markdown",
      "id": "ba51e5ed-9bbd-4556-9ade-cd4e16526c59",
      "metadata": {
        "id": "ba51e5ed-9bbd-4556-9ade-cd4e16526c59"
      },
      "source": [
        "경사 하강법을 구현하려면, 비용 함수에 대한 각 모델 파라미터 𝜃𝑗에 대한 **기울기(gradient)** 계산해야 함  \n",
        "다시 말해, 𝜃𝑗 를 아주 조금 바꿨을 때 비용 함수가 얼마나 변하는지를 계산해야 -> **편도함수(partial derivative)**"
      ]
    },
    {
      "cell_type": "markdown",
      "id": "6a99dd04-0d2c-4309-93c7-c2f6fe201042",
      "metadata": {
        "id": "6a99dd04-0d2c-4309-93c7-c2f6fe201042"
      },
      "source": [
        "𝜃𝑗에 대한 비용 함수의 편도함수를 계산하는 식: $\\frac{\\partial\\, \\mathrm{MSE}(\\boldsymbol{\\theta})}{\\partial \\theta_j}$\n"
      ]
    },
    {
      "cell_type": "markdown",
      "id": "6b81b973-d7e3-417d-ba1f-920acc3fb347",
      "metadata": {
        "id": "6b81b973-d7e3-417d-ba1f-920acc3fb347"
      },
      "source": [
        "$$\n",
        "\\frac{\\partial}{\\partial \\theta_j} \\mathrm{MSE}(\\boldsymbol{\\theta}) = \\frac{2}{m} \\sum_{i=1}^{m} \\left( \\boldsymbol{\\theta}^\\top \\mathbf{x}^{(i)} - y^{(i)} \\right) x_j^{(i)}\n",
        "$$\n"
      ]
    },
    {
      "cell_type": "markdown",
      "id": "f3c5ad8c-29a1-4f23-ae67-d5fccd8dc93b",
      "metadata": {
        "id": "f3c5ad8c-29a1-4f23-ae67-d5fccd8dc93b"
      },
      "source": [
        "이러한 편도함수들을 각각 따로 계산하는 대신, 다음 식을 사용하면 한 번에 계산할 수 있음"
      ]
    },
    {
      "cell_type": "markdown",
      "id": "517d1eb1-0e98-4c8c-a75d-db861d94ca70",
      "metadata": {
        "id": "517d1eb1-0e98-4c8c-a75d-db861d94ca70"
      },
      "source": [
        "$$\n",
        "\\nabla_{\\boldsymbol{\\theta}} \\mathrm{MSE}(\\boldsymbol{\\theta}) =\n",
        "\\begin{pmatrix}\n",
        "\\frac{\\partial}{\\partial \\theta_0} \\mathrm{MSE}(\\boldsymbol{\\theta}) \\\\\n",
        "\\frac{\\partial}{\\partial \\theta_1} \\mathrm{MSE}(\\boldsymbol{\\theta}) \\\\\n",
        "\\vdots \\\\\n",
        "\\frac{\\partial}{\\partial \\theta_n} \\mathrm{MSE}(\\boldsymbol{\\theta})\n",
        "\\end{pmatrix}\n",
        "=\n",
        "\\frac{2}{m} \\mathbf{X}^\\top (\\mathbf{X} \\boldsymbol{\\theta} - \\mathbf{y})\n",
        "$$\n"
      ]
    },
    {
      "cell_type": "markdown",
      "id": "c2df6fd6-f975-4dc4-9813-c2fb0fabff8c",
      "metadata": {
        "id": "c2df6fd6-f975-4dc4-9813-c2fb0fabff8c"
      },
      "source": [
        "$\\nabla_{\\boldsymbol{\\theta}} \\mathrm{MSE}(\\boldsymbol{\\theta})$ : 기울기 벡터\n",
        "> 비용 함수에 대한 모든 편도함수를 담고 있으며, 각각의 모델 파라미터에 대응"
      ]
    },
    {
      "cell_type": "markdown",
      "id": "94f55b0b-e5a3-4aed-a0f7-e58655c3ec1c",
      "metadata": {
        "id": "94f55b0b-e5a3-4aed-a0f7-e58655c3ec1c"
      },
      "source": [
        "이 식은 각 경사 하강법 단계에서 전체 훈련 세트 𝑋에 대한 계산을 포함하고 있음  \n",
        "-> **배치 경사 하강법(Batch Gradient Descent)**  \n",
        "\n",
        "매 단계마다 훈련 데이터 전체 배치를 사용하기 때문  \n",
        "그 결과, 이 방식은 훈련 세트가 매우 클 경우 엄청나게 느림\n",
        "\n",
        "경사 하강법은 특성 수가 많을수록 상대적으로 잘 확장됨  \n",
        "수십만 개의 특성이 있을 경우, 선형 회귀 모델을 학습하는 데 정규 방정식이나 SVD 분해를 사용하는 것보다 경사 하강법이 훨씬 빠름\n",
        "\n",
        "기울기 벡터는 오르막 방향을 가리키므로, 우리는 그 반대 방향으로 내려가야 함  \n",
        "이는 곧 $\\boldsymbol{\\theta}$에서 $\\nabla_{\\boldsymbol{\\theta}} \\mathrm{MSE}(\\boldsymbol{\\theta})$을 빼는 것을 의미  \n",
        "이때 학습률 𝜂가 사용  \n",
        "기울기 벡터에 𝜂를 곱하여 한 단계에서 얼마나 이동할지를 결정"
      ]
    },
    {
      "cell_type": "markdown",
      "id": "21e72baf-08ab-4e7b-8892-2c59b324ac60",
      "metadata": {
        "id": "21e72baf-08ab-4e7b-8892-2c59b324ac60"
      },
      "source": [
        "$$\n",
        "\\boldsymbol{\\theta}^{(\\text{next step})} = \\boldsymbol{\\theta} - \\eta \\nabla_{\\boldsymbol{\\theta}} \\mathrm{MSE}(\\boldsymbol{\\theta})\n",
        "$$\n"
      ]
    },
    {
      "cell_type": "code",
      "execution_count": 16,
      "id": "5a637154-3797-481c-ba4c-e3caf5807a04",
      "metadata": {
        "id": "5a637154-3797-481c-ba4c-e3caf5807a04"
      },
      "outputs": [],
      "source": [
        "eta = 0.1  # 학습률\n",
        "n_iterations = 1000 # 경사하강법 1000 번 반복\n",
        "m = 100 # 훈련 데이터셋 크기\n",
        "\n",
        "theta = np.random.randn(2,1)  # 파라미터 변수 theta를 무작위 초기화, 2x1 벡터 형태\n",
        "\n",
        "for iteration in range(n_iterations):\n",
        "    gradients = 2/m * X_b.T.dot(X_b.dot(theta) - y) # 기울기 계산\n",
        "    theta = theta - eta * gradients # theta를 기울기 방향으로 업데이트"
      ]
    },
    {
      "cell_type": "code",
      "execution_count": 17,
      "id": "df335baa-6f45-4a27-b633-49d98014c305",
      "metadata": {
        "colab": {
          "base_uri": "https://localhost:8080/"
        },
        "id": "df335baa-6f45-4a27-b633-49d98014c305",
        "outputId": "f4d40653-63da-42dc-fb25-43e07e52eed4"
      },
      "outputs": [
        {
          "output_type": "execute_result",
          "data": {
            "text/plain": [
              "array([[4.21509616],\n",
              "       [2.77011339]])"
            ]
          },
          "metadata": {},
          "execution_count": 17
        }
      ],
      "source": [
        "theta"
      ]
    },
    {
      "cell_type": "markdown",
      "source": [
        "적절한 학습률을 찾으려면 그리드 탐색 사용  \n",
        " -> 반복 횟수 제한: 그리드 탐색이 수렴하는 데 너무 오래 걸리는 모델 제외\n",
        "\n",
        "반복 횟수 설정 방법: 너무 적으면 알고리즘이 멈출 때 최적 해에서 멀리 떨어져 있고,   \n",
        "너무 많으면 모델 매개변수가 더 이상 변하지 않는 동안 시간 ​​낭비\n",
        "\n",
        "-> 반복 횟수를 매우 크게 설정, 그래디언트 벡터가 아주 작아지면(노름이 작은 숫자 ϵ(허용 오차)보다 작아지면) 알고리즘 중단    \n",
        "=> 이 상황은 경사 하강법이 (거의) 최소값에 도달했을 때 발생하기 때문"
      ],
      "metadata": {
        "id": "9yhD5YwwKTF_"
      },
      "id": "9yhD5YwwKTF_"
    },
    {
      "cell_type": "markdown",
      "source": [
        "**수렴 속도(Convergence Rate)**  \n",
        "비용 함수가 볼록(convex)하고 기울기가 갑자기 변하지 않는 경우(예: MSE 비용 함수), 고정된 학습률을 사용하는 배치 경사 하강법은 결국 최적의 해에 수렴하지만\n",
        "시간이 좀 걸릴 수 있음  \n",
        "최적의 해에 ϵ 범위 내로 도달하는 데는 O(1/ϵ) 만큼의 반복이 필요할 수 있음  \n",
        "이 값은 비용 함수의 형태에 따라 달라짐  \n",
        "더 정밀한 해를 위해 허용 오차를 10배 줄이면, 알고리즘은 약 10배 더 오래 실행될 수 있음"
      ],
      "metadata": {
        "id": "NnPNuFv_MAAj"
      },
      "id": "NnPNuFv_MAAj"
    },
    {
      "cell_type": "code",
      "source": [
        "import matplotlib as mpl\n",
        "\n",
        "# 경사 하강법을 실행하고, 그 진행 과정을 시각화하는 함수\n",
        "def plot_gradient_descent(theta, eta):\n",
        "    m = len(X_b)  # 데이터의 크기 (샘플 수)\n",
        "    plt.plot(X, y, \"b.\")  # 훈련 데이터(X, y)를 파란색 점으로 플로팅\n",
        "    n_epochs = 1000  # 경사 하강법의 반복 횟수\n",
        "    n_shown = 20  # 몇 번의 반복마다 그래프에 결과를 표시할지\n",
        "    theta_path = []  # 각 반복마다의 theta 값을 저장할 리스트\n",
        "\n",
        "    # 경사 하강법을 n_epochs만큼 반복\n",
        "    for epoch in range(n_epochs):\n",
        "        if epoch < n_shown:  # 처음 20번의 반복에 대해 그래프에 예측 값을 표시\n",
        "            y_predict = X_new_b @ theta  # 예측 값 계산\n",
        "            color = mpl.colors.rgb2hex(plt.cm.OrRd(epoch / n_shown + 0.15))  # 색상 계산 (그라디언트 색상)\n",
        "            plt.plot(X_new, y_predict, linestyle=\"solid\", color=color)  # 예측 값 플로팅\n",
        "        gradients = 2 / m * X_b.T @ (X_b @ theta - y)  # 기울기 계산 (MSE 비용 함수의 기울기)\n",
        "        theta = theta - eta * gradients  # 파라미터 업데이트\n",
        "        theta_path.append(theta)  # 업데이트된 theta 값을 저장\n",
        "\n",
        "    plt.xlabel(\"$x_1$\")  # x축 레이블\n",
        "    plt.axis([0, 2, 0, 15])  # x축과 y축의 범위 설정\n",
        "    plt.grid()  # 그리드 표시\n",
        "    plt.title(fr\"$\\eta = {eta}$\")  # 그래프 제목 (학습률을 포함)\n",
        "    return theta_path  # 업데이트된 theta 값을 반환\n",
        "\n",
        "# 랜덤 초기화된 theta 값 설정\n",
        "np.random.seed(42)\n",
        "theta = np.random.randn(2, 1)  # 랜덤 초기화\n",
        "\n",
        "# 그래프의 크기 설정\n",
        "plt.figure(figsize=(10, 4))\n",
        "\n",
        "# 첫 번째 서브플롯: 학습률 0.02\n",
        "plt.subplot(131)\n",
        "plot_gradient_descent(theta, eta=0.02)\n",
        "plt.ylabel(\"$y$\", rotation=0)  # y축 레이블 설정\n",
        "\n",
        "# 두 번째 서브플롯: 학습률 0.1\n",
        "plt.subplot(132)\n",
        "theta_path_bgd = plot_gradient_descent(theta, eta=0.1)\n",
        "plt.gca().axes.yaxis.set_ticklabels([])  # y축의 눈금 레이블 숨기기\n",
        "\n",
        "# 세 번째 서브플롯: 학습률 0.5\n",
        "plt.subplot(133)\n",
        "plt.gca().axes.yaxis.set_ticklabels([])  # y축의 눈금 레이블 숨기기\n",
        "plot_gradient_descent(theta, eta=0.5)\n",
        "\n",
        "# 그래프를 파일로 저장\n",
        "save_fig(\"gradient_descent_plot\")\n",
        "\n",
        "# 그래프 화면에 표시\n",
        "plt.show()\n"
      ],
      "metadata": {
        "colab": {
          "base_uri": "https://localhost:8080/",
          "height": 425
        },
        "id": "cGHua9hzPGfO",
        "outputId": "69d72b2e-93e2-4930-d702-1ca8b76ac8f6"
      },
      "id": "cGHua9hzPGfO",
      "execution_count": 18,
      "outputs": [
        {
          "output_type": "stream",
          "name": "stdout",
          "text": [
            "Saving figure gradient_descent_plot\n"
          ]
        },
        {
          "output_type": "display_data",
          "data": {
            "text/plain": [
              "<Figure size 1000x400 with 3 Axes>"
            ],
            "image/png": "[encoded data removed]"
          },
          "metadata": {}
        }
      ]
    },
    {
      "cell_type": "markdown",
      "source": [
        "## Stochastic Gradient Descent"
      ],
      "metadata": {
        "id": "oxyEXOjuTDf0"
      },
      "id": "oxyEXOjuTDf0"
    },
    {
      "cell_type": "markdown",
      "source": [
        "**확률적 경사 하강법 (Stochastic Gradient Descent)**\n",
        "\n",
        "- 배치 경사 하강법의 주요 문제: 전체 훈련 세트를 사용해 매번 기울기를 계산하는 데 시간이 많이 걸림(훈련 세트가 크면 그만큼 속도가 느려짐)\n",
        "- 확률적 경사 하강법(Stochastic Gradient Descent, SGD): 훈련 세트에서 무작위로 하나의 샘플 선택, 그 샘플에 대해서만 기울기 계산\n",
        "- 장점\n",
        " - 한 번에 하나의 샘플만 처리하기 때문에 알고리즘이 훨씬 빠르게 동작\n",
        " - 매번 처리하는 데이터가 적기 때문에 반복마다 계산이 빠르고, 훈련 세트가 매우 커도 한 번에 하나의 샘플만 메모리에 로드하면 되므로 메모리 효율적(아웃-오브-코어 알고리즘으로 구현, 1장 참조)\n",
        "- 단점\n",
        " - 무작위성(stochastic) 때문에 배치 경사 하강법보다 훨씬 덜 규칙적\n",
        " - 비용 함수가 최소값에 도달하기 전에 위아래로 튕기듯이 변하며, 평균적으로는 감소하지만, 한 번 최소값에 근접하더라도 계속해서 튕기기만 하고 안정 X\n",
        " - 알고리즘이 종료되면 최종 파라미터 값은 좋지만 최적은 아님"
      ],
      "metadata": {
        "id": "1kv36pslNVmq"
      },
      "id": "1kv36pslNVmq"
    },
    {
      "cell_type": "code",
      "source": [
        "theta_path_sgd = []  # 추가 코드: SGD에서 각 반복마다의 theta 값을 저장할 리스트\n",
        "                     # 파라미터 공간(parameter space)에서의 변화 시각화를 위해 사용됨\n"
      ],
      "metadata": {
        "id": "QsS3346iJSj9"
      },
      "id": "QsS3346iJSj9",
      "execution_count": 19,
      "outputs": []
    },
    {
      "cell_type": "code",
      "source": [
        "n_epochs = 50\n",
        "t0, t1 = 5, 50 # 학습률 파라미터 (t0은 학습률이 시작되는 초기 시점 설정, t1은 학습률이 완전히 감소할 때 설정)\n",
        "\n",
        "def learning_schedule(t):\n",
        "    return t0 / (t + t1)\n",
        "\n",
        "for epoch in range(n_epochs):\n",
        "    for iteration in range(m):\n",
        "       random_index = np.random.randint(m)\n",
        "       xi = X_b[random_index : random_index + 1]\n",
        "       yi = y[random_index : random_index + 1]\n",
        "       gradients = 2 * xi.T @ (xi @ theta - yi)  # for SGD, do not divide by m\n",
        "       eta = learning_schedule(epoch * m + iteration)\n",
        "       theta = theta - eta * gradients\n"
      ],
      "metadata": {
        "id": "j4X4seJeJSPl"
      },
      "id": "j4X4seJeJSPl",
      "execution_count": 24,
      "outputs": []
    },
    {
      "cell_type": "markdown",
      "id": "86a9e502-bf7d-44e9-a06e-16373237dac3",
      "metadata": {
        "id": "86a9e502-bf7d-44e9-a06e-16373237dac3"
      },
      "source": [
        "## Mini-batch Gradient Descent"
      ]
    },
    {
      "cell_type": "markdown",
      "id": "2aa11217-e835-4f6e-a5f2-dad0b9b553cb",
      "metadata": {
        "jp-MarkdownHeadingCollapsed": true,
        "id": "2aa11217-e835-4f6e-a5f2-dad0b9b553cb"
      },
      "source": [
        "# Polynomial Regression"
      ]
    },
    {
      "cell_type": "markdown",
      "id": "70f8df45-5832-4274-970a-0a7c5c775981",
      "metadata": {
        "id": "70f8df45-5832-4274-970a-0a7c5c775981"
      },
      "source": [
        "# Learning Curves"
      ]
    },
    {
      "cell_type": "markdown",
      "id": "d0c22476-9128-4cb5-92ca-282096746393",
      "metadata": {
        "id": "d0c22476-9128-4cb5-92ca-282096746393"
      },
      "source": [
        "# Regularized Linear Models"
      ]
    },
    {
      "cell_type": "markdown",
      "id": "aa87e971-3d55-4a56-a3e5-8d470015539b",
      "metadata": {
        "id": "aa87e971-3d55-4a56-a3e5-8d470015539b"
      },
      "source": [
        "## Ridge Regression"
      ]
    },
    {
      "cell_type": "markdown",
      "id": "1214ef3c-ea30-4598-9884-91973f42e6f9",
      "metadata": {
        "id": "1214ef3c-ea30-4598-9884-91973f42e6f9"
      },
      "source": [
        "## Lasso Regression"
      ]
    },
    {
      "cell_type": "markdown",
      "id": "e608bd16-9db5-4542-aab7-f4fdccaf5872",
      "metadata": {
        "id": "e608bd16-9db5-4542-aab7-f4fdccaf5872"
      },
      "source": [
        "## Elastic Net"
      ]
    },
    {
      "cell_type": "markdown",
      "id": "45dadb40-ee03-4a61-8946-dea99ac66e58",
      "metadata": {
        "id": "45dadb40-ee03-4a61-8946-dea99ac66e58"
      },
      "source": [
        "## Early Stopping"
      ]
    },
    {
      "cell_type": "markdown",
      "id": "37b80fdf-b248-4df2-a9a2-010680aa98fa",
      "metadata": {
        "id": "37b80fdf-b248-4df2-a9a2-010680aa98fa"
      },
      "source": [
        "# Logistic Regression"
      ]
    },
    {
      "cell_type": "markdown",
      "id": "59ed4c0b-dee5-429a-9d35-5040bdae8875",
      "metadata": {
        "id": "59ed4c0b-dee5-429a-9d35-5040bdae8875"
      },
      "source": [
        "## Estimating Probabilities"
      ]
    },
    {
      "cell_type": "markdown",
      "id": "ff6d0296-805b-4c7c-8218-98661b5757a9",
      "metadata": {
        "id": "ff6d0296-805b-4c7c-8218-98661b5757a9"
      },
      "source": [
        "## Training and Cost Function"
      ]
    },
    {
      "cell_type": "markdown",
      "id": "90b9306f-4059-47d7-8b56-0c9be279cde5",
      "metadata": {
        "id": "90b9306f-4059-47d7-8b56-0c9be279cde5"
      },
      "source": [
        "## Decision Boundaries"
      ]
    },
    {
      "cell_type": "markdown",
      "id": "52778142-8cfd-47ae-a84b-0bc2bacac277",
      "metadata": {
        "id": "52778142-8cfd-47ae-a84b-0bc2bacac277"
      },
      "source": [
        "## Softmax Regression"
      ]
    }
  ],
  "metadata": {
    "kernelspec": {
      "display_name": "Python 3 (ipykernel)",
      "language": "python",
      "name": "python3"
    },
    "language_info": {
      "codemirror_mode": {
        "name": "ipython",
        "version": 3
      },
      "file_extension": ".py",
      "mimetype": "text/x-python",
      "name": "python",
      "nbconvert_exporter": "python",
      "pygments_lexer": "ipython3",
      "version": "3.13.5"
    },
    "colab": {
      "provenance": []
    }
  },
  "nbformat": 4,
  "nbformat_minor": 5
}