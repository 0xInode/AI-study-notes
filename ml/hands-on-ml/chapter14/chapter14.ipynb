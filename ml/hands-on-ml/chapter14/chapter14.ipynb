{
 "cells": [
  {
   "cell_type": "markdown",
   "id": "51c62a77-92dd-4a04-8ea7-a8c537b434dc",
   "metadata": {},
   "source": [
    "[![Open In Colab](https://colab.research.google.com/assets/colab-badge.svg)](https://github.com/0xInode/AI-study-notes/blob/main/ml/hands-on-ml/chapter14/chapter14.ipynb)"
   ]
  },
  {
   "cell_type": "code",
   "execution_count": null,
   "id": "24d128da-d1a2-41e4-8daf-4efe3368a0d9",
   "metadata": {},
   "outputs": [],
   "source": []
  }
 ],
 "metadata": {
  "kernelspec": {
   "display_name": "Python 3 (ipykernel)",
   "language": "python",
   "name": "python3"
  },
  "language_info": {
   "codemirror_mode": {
    "name": "ipython",
    "version": 3
   },
   "file_extension": ".py",
   "mimetype": "text/x-python",
   "name": "python",
   "nbconvert_exporter": "python",
   "pygments_lexer": "ipython3",
   "version": "3.13.5"
  }
 },
 "nbformat": 4,
 "nbformat_minor": 5
}
