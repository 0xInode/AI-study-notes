{
 "cells": [
  {
   "cell_type": "markdown",
   "id": "ac0871bb-f66a-4f82-80d4-38b9d13a4524",
   "metadata": {},
   "source": [
    "[![Open In Colab](https://colab.research.google.com/assets/colab-badge.svg)](https://github.com/0xInode/AI-study-notes/blob/main/ml/hands-on-ml/chapter11/chapter11.ipynb)"
   ]
  },
  {
   "cell_type": "code",
   "execution_count": null,
   "id": "adfdc21f-1cb4-4bee-bdf4-ae0721217b38",
   "metadata": {},
   "outputs": [],
   "source": []
  }
 ],
 "metadata": {
  "kernelspec": {
   "display_name": "Python 3 (ipykernel)",
   "language": "python",
   "name": "python3"
  },
  "language_info": {
   "codemirror_mode": {
    "name": "ipython",
    "version": 3
   },
   "file_extension": ".py",
   "mimetype": "text/x-python",
   "name": "python",
   "nbconvert_exporter": "python",
   "pygments_lexer": "ipython3",
   "version": "3.13.5"
  }
 },
 "nbformat": 4,
 "nbformat_minor": 5
}
