{
  "cells": [
    {
      "cell_type": "markdown",
      "source": [
        "# 9. Unsupervised Learning Techniques"
      ],
      "metadata": {
        "id": "W3fNh3lPhwat"
      },
      "id": "W3fNh3lPhwat"
    },
    {
      "cell_type": "markdown",
      "id": "e7005e73-c748-44bb-bc5f-dd92b47007e0",
      "metadata": {
        "id": "e7005e73-c748-44bb-bc5f-dd92b47007e0"
      },
      "source": [
        "[![Open In Colab](https://colab.research.google.com/assets/colab-badge.svg)](https://colab.research.google.com/github/0xInode/AI-study-notes/blob/main/ml/hands-on-ml/chapter09/chapter09.ipynb)\n"
      ]
    },
    {
      "cell_type": "markdown",
      "source": [
        "오늘날 머신러닝의 대부분 응용은 지도학습 기반이며 대부분의 투자 집중  \n",
        "하지만 사용 가능한 데이터의 절대 다수는 레이블이 없음  \n",
        "(입력 특성 X는 있지만 레이블 y는 없음)  \n",
        "Yann LeCun은 “지능이 케이크라면 비지도 학습은 케이크 본체, 감독 학습은 케이크 위 아이싱, 강화 학습은 체리”라고 말함  \n",
        "-> 비지도 학습에는 아직 제대로 활용되지 않은 막대한 가능성이 존재\n",
        "\n",
        "예를 들어 제조 라인의 각 품목 사진을 몇 장 찍고 결함 여부를 판단하는 시스템을 만들고 싶다고 가정  \n",
        "자동으로 사진을 찍는 시스템은 쉽게 만들 수 있으며, 하루에 수천 장의 사진이 생성될 수 있음  \n",
        "몇 주 만에 상당한 양의 데이터셋 구축 가능하나 문제는 레이블이 없다는 점  \n",
        "결함 여부를 예측하는 일반적인 이진 분류기를 학습하려면 모든 사진에 ‘결함’, ‘정상’ 레이블을 붙여야 함  \n",
        "이 작업은 보통 사람이 직접 사진을 보고 수작업으로 수행해야 하며, 이는 오래 걸리고 비용이 많이 드는 지루한 작업  \n",
        "결국 전체 사진 중 일부만 라벨링되며, 결과적으로 라벨링된 데이터셋은 작고 분류기의 성능은 실망스러움  \n",
        "게다가 제품에 조금이라도 변화가 생기면 전체 과정을 처음부터 다시 시작해야 함  \n",
        "사람이 모든 사진에 라벨을 붙이지 않아도 알고리즘이 비라벨 데이터를 활용할 수 있다면 얼마나 좋을까? -> 비지도 학습\n",
        "\n",
        "- 클러스터링\n",
        "유사한 샘플을 하나의 군집으로 묶는 것이 목표\n",
        "데이터 분석, 고객 세분화, 추천 시스템, 검색 엔진, 이미지 분할, 준지도 학습, 차원 축소 등 다양한 분야에 유용\n",
        "\n",
        "- 이상치 탐지\n",
        "정상 데이터가 어떤 모습인지를 학습한 뒤, 이를 바탕으로 이상 사례를 탐지하는 것이 목표\n",
        "예: 제조 라인에서 결함 제품 탐지, 시계열에서 새로운 트렌드 감지\n",
        "\n",
        "- 밀도 추정\n",
        "데이터셋을 생성한 확률 과정의 확률 밀도 함수(PDF)를 추정하는 과제\n",
        "밀도 추정은 이상치 탐지에 자주 사용됨\n",
        "매우 낮은 밀도 영역에 위치한 샘플은 이상치일 가능성 높음\n",
        "또한 데이터 분석과 시각화에도 유용\n"
      ],
      "metadata": {
        "id": "mM2C5K4tj_9K"
      },
      "id": "mM2C5K4tj_9K"
    },
    {
      "cell_type": "markdown",
      "source": [
        "## Clustering"
      ],
      "metadata": {
        "id": "rrnr10u6hyYo"
      },
      "id": "rrnr10u6hyYo"
    },
    {
      "cell_type": "markdown",
      "source": [
        "### K-Means"
      ],
      "metadata": {
        "id": "wtPPBugehyV7"
      },
      "id": "wtPPBugehyV7"
    },
    {
      "cell_type": "markdown",
      "source": [
        "### Limits of K-Means"
      ],
      "metadata": {
        "id": "jm9_xSIrhyTC"
      },
      "id": "jm9_xSIrhyTC"
    },
    {
      "cell_type": "markdown",
      "source": [
        "### Using Clustering for Image Segmentation"
      ],
      "metadata": {
        "id": "JHb24Qrzh13m"
      },
      "id": "JHb24Qrzh13m"
    },
    {
      "cell_type": "markdown",
      "source": [
        "### Using Clustering for Preprocessing"
      ],
      "metadata": {
        "id": "RsmxpYZJh2VB"
      },
      "id": "RsmxpYZJh2VB"
    },
    {
      "cell_type": "markdown",
      "source": [
        "### Using Clustering for Semi-Supervised Learning"
      ],
      "metadata": {
        "id": "hhqiNqjvh2Xh"
      },
      "id": "hhqiNqjvh2Xh"
    },
    {
      "cell_type": "markdown",
      "source": [
        "### DBSCAN"
      ],
      "metadata": {
        "id": "TARiaIJVh2Z6"
      },
      "id": "TARiaIJVh2Z6"
    },
    {
      "cell_type": "markdown",
      "source": [
        "### Other Clustering Algorithms"
      ],
      "metadata": {
        "id": "H2F6MtWGh1wf"
      },
      "id": "H2F6MtWGh1wf"
    },
    {
      "cell_type": "markdown",
      "source": [
        "## Gaussian Mixtures"
      ],
      "metadata": {
        "id": "ejiFpAv1h9WV"
      },
      "id": "ejiFpAv1h9WV"
    },
    {
      "cell_type": "markdown",
      "source": [
        "### Anomaly Detection Using Gaussian Mixtures"
      ],
      "metadata": {
        "id": "3QvJTzOFh9bs"
      },
      "id": "3QvJTzOFh9bs"
    },
    {
      "cell_type": "markdown",
      "source": [
        "### Selecting the Number of Clusters"
      ],
      "metadata": {
        "id": "vt0y0vHoiBeX"
      },
      "id": "vt0y0vHoiBeX"
    },
    {
      "cell_type": "markdown",
      "source": [
        "### Bayesian Gaussian Mixture Models"
      ],
      "metadata": {
        "id": "kmujENIiiBgj"
      },
      "id": "kmujENIiiBgj"
    },
    {
      "cell_type": "markdown",
      "source": [
        "### Other Algorithms for Anomaly and Novelty Detection"
      ],
      "metadata": {
        "id": "9h4VMxoliBi4"
      },
      "id": "9h4VMxoliBi4"
    }
  ],
  "metadata": {
    "kernelspec": {
      "display_name": "Python 3 (ipykernel)",
      "language": "python",
      "name": "python3"
    },
    "language_info": {
      "codemirror_mode": {
        "name": "ipython",
        "version": 3
      },
      "file_extension": ".py",
      "mimetype": "text/x-python",
      "name": "python",
      "nbconvert_exporter": "python",
      "pygments_lexer": "ipython3",
      "version": "3.13.5"
    },
    "colab": {
      "provenance": []
    }
  },
  "nbformat": 4,
  "nbformat_minor": 5
}