{
  "cells": [
    {
      "cell_type": "markdown",
      "id": "e7005e73-c748-44bb-bc5f-dd92b47007e0",
      "metadata": {
        "id": "e7005e73-c748-44bb-bc5f-dd92b47007e0"
      },
      "source": [
        "[![Open In Colab](https://colab.research.google.com/assets/colab-badge.svg)](https://colab.research.google.com/github/0xInode/AI-study-notes/blob/main/ml/hands-on-ml/chapter09/chapter09.ipynb)\n"
      ]
    },
    {
      "cell_type": "markdown",
      "source": [
        "# 9. Unsupervised Learning Techniques"
      ],
      "metadata": {
        "id": "W3fNh3lPhwat"
      },
      "id": "W3fNh3lPhwat"
    },
    {
      "cell_type": "markdown",
      "source": [
        "## Clustering"
      ],
      "metadata": {
        "id": "rrnr10u6hyYo"
      },
      "id": "rrnr10u6hyYo"
    },
    {
      "cell_type": "markdown",
      "source": [
        "### K-Means"
      ],
      "metadata": {
        "id": "wtPPBugehyV7"
      },
      "id": "wtPPBugehyV7"
    },
    {
      "cell_type": "markdown",
      "source": [
        "### Limits of K-Means"
      ],
      "metadata": {
        "id": "jm9_xSIrhyTC"
      },
      "id": "jm9_xSIrhyTC"
    },
    {
      "cell_type": "markdown",
      "source": [
        "### Using Clustering for Image Segmentation"
      ],
      "metadata": {
        "id": "JHb24Qrzh13m"
      },
      "id": "JHb24Qrzh13m"
    },
    {
      "cell_type": "markdown",
      "source": [
        "### Using Clustering for Preprocessing"
      ],
      "metadata": {
        "id": "RsmxpYZJh2VB"
      },
      "id": "RsmxpYZJh2VB"
    },
    {
      "cell_type": "markdown",
      "source": [
        "### Using Clustering for Semi-Supervised Learning"
      ],
      "metadata": {
        "id": "hhqiNqjvh2Xh"
      },
      "id": "hhqiNqjvh2Xh"
    },
    {
      "cell_type": "markdown",
      "source": [
        "### DBSCAN"
      ],
      "metadata": {
        "id": "TARiaIJVh2Z6"
      },
      "id": "TARiaIJVh2Z6"
    },
    {
      "cell_type": "markdown",
      "source": [
        "### Other Clustering Algorithms"
      ],
      "metadata": {
        "id": "H2F6MtWGh1wf"
      },
      "id": "H2F6MtWGh1wf"
    },
    {
      "cell_type": "markdown",
      "source": [
        "## Gaussian Mixtures"
      ],
      "metadata": {
        "id": "ejiFpAv1h9WV"
      },
      "id": "ejiFpAv1h9WV"
    },
    {
      "cell_type": "markdown",
      "source": [
        "### Anomaly Detection Using Gaussian Mixtures"
      ],
      "metadata": {
        "id": "3QvJTzOFh9bs"
      },
      "id": "3QvJTzOFh9bs"
    },
    {
      "cell_type": "markdown",
      "source": [
        "### Selecting the Number of Clusters"
      ],
      "metadata": {
        "id": "vt0y0vHoiBeX"
      },
      "id": "vt0y0vHoiBeX"
    },
    {
      "cell_type": "markdown",
      "source": [
        "### Bayesian Gaussian Mixture Models"
      ],
      "metadata": {
        "id": "kmujENIiiBgj"
      },
      "id": "kmujENIiiBgj"
    },
    {
      "cell_type": "markdown",
      "source": [
        "### Other Algorithms for Anomaly and Novelty Detection"
      ],
      "metadata": {
        "id": "9h4VMxoliBi4"
      },
      "id": "9h4VMxoliBi4"
    }
  ],
  "metadata": {
    "kernelspec": {
      "display_name": "Python 3 (ipykernel)",
      "language": "python",
      "name": "python3"
    },
    "language_info": {
      "codemirror_mode": {
        "name": "ipython",
        "version": 3
      },
      "file_extension": ".py",
      "mimetype": "text/x-python",
      "name": "python",
      "nbconvert_exporter": "python",
      "pygments_lexer": "ipython3",
      "version": "3.13.5"
    },
    "colab": {
      "provenance": []
    }
  },
  "nbformat": 4,
  "nbformat_minor": 5
}