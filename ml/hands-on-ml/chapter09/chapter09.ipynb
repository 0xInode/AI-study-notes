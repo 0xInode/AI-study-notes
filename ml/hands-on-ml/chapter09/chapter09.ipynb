{
 "cells": [
  {
   "cell_type": "markdown",
   "id": "e7005e73-c748-44bb-bc5f-dd92b47007e0",
   "metadata": {},
   "source": [
    "[![Open In Colab](https://colab.research.google.com/assets/colab-badge.svg)](https://github.com/0xInode/AI-study-notes/blob/main/ml/hands-on-ml/chapter09/chapter09.ipynb)"
   ]
  },
  {
   "cell_type": "code",
   "execution_count": null,
   "id": "6cca27a1-edde-4c47-b11f-32ea0dbe3f9c",
   "metadata": {},
   "outputs": [],
   "source": []
  }
 ],
 "metadata": {
  "kernelspec": {
   "display_name": "Python 3 (ipykernel)",
   "language": "python",
   "name": "python3"
  },
  "language_info": {
   "codemirror_mode": {
    "name": "ipython",
    "version": 3
   },
   "file_extension": ".py",
   "mimetype": "text/x-python",
   "name": "python",
   "nbconvert_exporter": "python",
   "pygments_lexer": "ipython3",
   "version": "3.13.5"
  }
 },
 "nbformat": 4,
 "nbformat_minor": 5
}
